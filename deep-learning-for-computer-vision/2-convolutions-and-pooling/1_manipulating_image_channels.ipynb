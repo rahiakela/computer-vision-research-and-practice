{
  "nbformat": 4,
  "nbformat_minor": 0,
  "metadata": {
    "colab": {
      "name": "1-manipulating-image-channels.ipynb",
      "provenance": [],
      "toc_visible": true,
      "authorship_tag": "ABX9TyPu4vPc1xZBjp7Rba1XRX4Q",
      "include_colab_link": true
    },
    "kernelspec": {
      "name": "python3",
      "display_name": "Python 3"
    },
    "language_info": {
      "name": "python"
    }
  },
  "cells": [
    {
      "cell_type": "markdown",
      "metadata": {
        "id": "view-in-github",
        "colab_type": "text"
      },
      "source": [
        "<a href=\"https://colab.research.google.com/github/rahiakela/deep-learning-for-computer-vision/blob/main/2-convolutions-and-pooling/1_manipulating_image_channels.ipynb\" target=\"_parent\"><img src=\"https://colab.research.google.com/assets/colab-badge.svg\" alt=\"Open In Colab\"/></a>"
      ]
    },
    {
      "cell_type": "markdown",
      "metadata": {
        "id": "eNeCmmbVmp4w"
      },
      "source": [
        "##Manipulating Image Channels"
      ]
    },
    {
      "cell_type": "markdown",
      "metadata": {
        "id": "2sFSIOECmrnf"
      },
      "source": [
        "Color images have height, width, and color channel dimensions. When represented as three-\n",
        "dimensional arrays, the channel dimension for the image data is last by default, but may be\n",
        "moved to be the first dimension, often for performance-tuning reasons.\n",
        "\n",
        "An image can be stored as a three-dimensional array in memory. Typically, the image format\n",
        "has one dimension for rows (height), one for columns (width) and one for channels. If the image is black and white (grayscale), the channels dimension may not be explicitly present, e.g. there\n",
        "is one unsigned integer pixel value for each (row, column) coordinate in the image. Colored\n",
        "images typically have three channels. A given pixel value at the (row, column) coordinate will\n",
        "have red, green, and blue components. Deep learning neural networks require that image data\n",
        "be provided as three-dimensional arrays.\n",
        "\n",
        "There are two ways to represent the image data as a three\n",
        "dimensional array. The first involves having the channels as the last or third dimension in\n",
        "the array. This is called channels last. The second involves having the channels as the first\n",
        "dimension in the array, called channels first.\n",
        "\n",
        "- Channels Last. Image data is represented in a three-dimensional array where the last channel represents the color channels, e.g. [rows][cols][channels].\n",
        "- Channels First. Image data is represented in a three-dimensional array where the first channel represents the color channels, e.g. [channels][rows][cols].\n",
        "\n",
        "\n",
        "\n"
      ]
    }
  ]
}