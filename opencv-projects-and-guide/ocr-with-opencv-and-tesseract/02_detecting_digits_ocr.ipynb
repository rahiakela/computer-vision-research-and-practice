{
  "nbformat": 4,
  "nbformat_minor": 0,
  "metadata": {
    "colab": {
      "name": "02-detecting-digits-ocr.ipynb",
      "provenance": [],
      "authorship_tag": "ABX9TyONa5727l6PypeZ8GlZxd+k",
      "include_colab_link": true
    },
    "kernelspec": {
      "name": "python3",
      "display_name": "Python 3"
    },
    "language_info": {
      "name": "python"
    }
  },
  "cells": [
    {
      "cell_type": "markdown",
      "metadata": {
        "id": "view-in-github",
        "colab_type": "text"
      },
      "source": [
        "<a href=\"https://colab.research.google.com/github/rahiakela/computer-vision-research-and-practice/blob/main/opencv-projects-and-guide/ocr-with-opencv-and-tesseract/02_detecting_digits_ocr.ipynb\" target=\"_parent\"><img src=\"https://colab.research.google.com/assets/colab-badge.svg\" alt=\"Open In Colab\"/></a>"
      ]
    },
    {
      "cell_type": "markdown",
      "source": [
        "##Detecting Digits with Tesseract"
      ],
      "metadata": {
        "id": "Si_AnbHH8t4G"
      }
    },
    {
      "cell_type": "code",
      "source": [
        "%%shell\n",
        "\n",
        "sudo apt install tesseract-ocr\n",
        "pip install tesseract\n",
        "pip install pytesseract\n",
        "pip install Pillow==9.0.0"
      ],
      "metadata": {
        "id": "CTdT0BiA8mNh"
      },
      "execution_count": null,
      "outputs": []
    },
    {
      "cell_type": "markdown",
      "source": [
        "Just restart the colab environment."
      ],
      "metadata": {
        "id": "Dy5I4iPZASXI"
      }
    },
    {
      "cell_type": "code",
      "source": [
        "import cv2\n",
        "import pytesseract\n",
        "import csv\n",
        "\n",
        "from matplotlib import pyplot as plt\n",
        "from google.colab.patches import cv2_imshow\n",
        "\n",
        "%matplotlib inline"
      ],
      "metadata": {
        "id": "4T18ensl8pDG"
      },
      "execution_count": 1,
      "outputs": []
    },
    {
      "cell_type": "code",
      "source": [
        "pytesseract.pytesseract.tesseract_cmd = (r'/usr/bin/tesseract')"
      ],
      "metadata": {
        "id": "6QMeK_4a-J6b"
      },
      "execution_count": 2,
      "outputs": []
    },
    {
      "cell_type": "markdown",
      "source": [
        "Let's download images."
      ],
      "metadata": {
        "id": "UR6-6OuaE9pV"
      }
    },
    {
      "cell_type": "code",
      "source": [
        "%%shell\n",
        "\n",
        "wget https://github.com/rahiakela/computer-vision-research-and-practice/raw/main/opencv-projects-and-guide/ocr-with-opencv-and-tesseract/images/apple_cards.png"
      ],
      "metadata": {
        "id": "86MrGO6AFCFZ"
      },
      "execution_count": null,
      "outputs": []
    },
    {
      "cell_type": "markdown",
      "source": [
        "Let's define some function."
      ],
      "metadata": {
        "id": "WEqc2xwTFWjN"
      }
    },
    {
      "cell_type": "code",
      "source": [
        "def show_image(img_path):\n",
        "  # load the input image and convert it from BGR to RGB channel ordering\n",
        "  image = cv2.imread(img_path)\n",
        "  plt.imshow(image)\n",
        "\n",
        "def extract_text(img_path, digits=1):\n",
        "  image = cv2.imread(img_path)\n",
        "\n",
        "  image = cv2.cvtColor(image, cv2.COLOR_BGR2RGB)\n",
        "\n",
        "  # check to see if *digit only* OCR should be performed, and if so, update Tesseract OCR options\n",
        "  options = \"\"\n",
        "  if digits > 0:\n",
        "    options = \"output base digits\"\n",
        "\n",
        "  # use Tesseract to OCR the image\n",
        "  text = pytesseract.image_to_string(image, config=options)\n",
        "  return text"
      ],
      "metadata": {
        "id": "XvLFbbPwBHb8"
      },
      "execution_count": 24,
      "outputs": []
    },
    {
      "cell_type": "code",
      "source": [
        "show_image(\"apple_cards.png\")"
      ],
      "metadata": {
        "colab": {
          "base_uri": "https://localhost:8080/",
          "height": 151
        },
        "id": "6WfLOFed9NIV",
        "outputId": "851e6801-7cc0-432f-8c31-1ed989387e03"
      },
      "execution_count": 4,
      "outputs": [
        {
          "output_type": "display_data",
          "data": {
            "text/plain": [
              "<Figure size 432x288 with 1 Axes>"
            ],
            "image/png": "[encoded data removed]"
          },
          "metadata": {
            "needs_background": "light"
          }
        }
      ]
    },
    {
      "cell_type": "code",
      "source": [
        "print(extract_text(\"apple_cards.png\", digits=5))"
      ],
      "metadata": {
        "colab": {
          "base_uri": "https://localhost:8080/"
        },
        "id": "_t-m5UZh_GaH",
        "outputId": "4e10dacb-dffa-420d-96b6-e599da4108a0"
      },
      "execution_count": 25,
      "outputs": [
        {
          "output_type": "stream",
          "name": "stdout",
          "text": [
            "4\n",
            "Apple Support\n",
            "1-800-275-2273\n",
            "\f\n"
          ]
        }
      ]
    },
    {
      "cell_type": "code",
      "source": [
        "show_image(\"apple_cards.png\")"
      ],
      "metadata": {
        "colab": {
          "base_uri": "https://localhost:8080/",
          "height": 151
        },
        "id": "iNP_YDBuAxiX",
        "outputId": "766913f2-6e4f-46ae-af0b-09328f6c8ed0"
      },
      "execution_count": 26,
      "outputs": [
        {
          "output_type": "display_data",
          "data": {
            "text/plain": [
              "<Figure size 432x288 with 1 Axes>"
            ],
            "image/png": "[encoded data removed]"
          },
          "metadata": {
            "needs_background": "light"
          }
        }
      ]
    },
    {
      "cell_type": "code",
      "source": [
        "print(extract_text(\"apple_cards.png\", digits=0))"
      ],
      "metadata": {
        "colab": {
          "base_uri": "https://localhost:8080/"
        },
        "id": "3mlWQsuyA2fj",
        "outputId": "e125bd2e-15bd-40c5-be01-f677cf200364"
      },
      "execution_count": 27,
      "outputs": [
        {
          "output_type": "stream",
          "name": "stdout",
          "text": [
            "4\n",
            "Apple Support\n",
            "1-800-275-2273\n",
            "\f\n"
          ]
        }
      ]
    }
  ]
}