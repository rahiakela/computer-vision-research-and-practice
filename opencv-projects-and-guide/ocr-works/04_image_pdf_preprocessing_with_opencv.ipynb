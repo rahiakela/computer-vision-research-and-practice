{
  "cells": [
    {
      "cell_type": "markdown",
      "metadata": {
        "id": "view-in-github",
        "colab_type": "text"
      },
      "source": [
        "<a href=\"https://colab.research.google.com/github/rahiakela/computer-vision-research-and-practice/blob/main/opencv-projects-and-guide/ocr-works/04_image_pdf_preprocessing_with_opencv.ipynb\" target=\"_parent\"><img src=\"https://colab.research.google.com/assets/colab-badge.svg\" alt=\"Open In Colab\"/></a>"
      ]
    },
    {
      "cell_type": "markdown",
      "source": [
        "##Image PDF preprocessing with OpenCV"
      ],
      "metadata": {
        "id": "KHoLRRKOiWWM"
      }
    },
    {
      "cell_type": "markdown",
      "source": [
        "##Setup"
      ],
      "metadata": {
        "id": "B8fQKNxRijRg"
      }
    },
    {
      "cell_type": "code",
      "source": [
        "%%shell\n",
        "\n",
        "sudo apt install tesseract-ocr\n",
        "pip install tesseract\n",
        "pip install pytesseract\n",
        "pip install Pillow==9.0.0"
      ],
      "metadata": {
        "id": "uUhPpLiTib0g"
      },
      "execution_count": null,
      "outputs": []
    },
    {
      "cell_type": "markdown",
      "source": [
        "Just restart the colab environment."
      ],
      "metadata": {
        "id": "ja7TI64piqEs"
      }
    },
    {
      "cell_type": "code",
      "source": [
        "import re\n",
        "import cv2 \n",
        "import numpy as np\n",
        "import pytesseract\n",
        "from pytesseract import Output\n",
        "from matplotlib import pyplot as plt"
      ],
      "metadata": {
        "id": "CoT9UI_8icGl"
      },
      "execution_count": null,
      "outputs": []
    },
    {
      "cell_type": "code",
      "source": [
        "!tesseract --version"
      ],
      "metadata": {
        "id": "uZ8YweBBZZw6"
      },
      "execution_count": null,
      "outputs": []
    },
    {
      "cell_type": "code",
      "source": [
        "pytesseract.pytesseract.tesseract_cmd = (r'/usr/bin/tesseract')"
      ],
      "metadata": {
        "id": "R65u6P7wiwSL"
      },
      "execution_count": null,
      "outputs": []
    },
    {
      "cell_type": "code",
      "execution_count": null,
      "metadata": {
        "id": "_J2b7fUPO2As"
      },
      "outputs": [],
      "source": [
        "image_name = 'sample1.png'"
      ]
    },
    {
      "cell_type": "markdown",
      "metadata": {
        "id": "ZYdxd6hIO2As"
      },
      "source": [
        "## Preprocessing using OpenCV"
      ]
    },
    {
      "cell_type": "markdown",
      "source": [
        "We will write basic functions for different preprocessing methods \n",
        "- grayscaling\n",
        "- thresholding\n",
        "- dilating\n",
        "- eroding\n",
        "- opening\n",
        "- canny edge detection\n",
        "- noise removal\n",
        "- deskwing\n",
        "- template matching. \n",
        "\n",
        "Different methods can come in handy with different kinds of images. "
      ],
      "metadata": {
        "id": "mtgH6plnjHnw"
      }
    },
    {
      "cell_type": "code",
      "execution_count": null,
      "metadata": {
        "id": "FtyOP5VIO2Au"
      },
      "outputs": [],
      "source": [
        "# get grayscale image\n",
        "def get_grayscale(image):\n",
        "    return cv2.cvtColor(image, cv2.COLOR_BGR2GRAY)\n",
        "\n",
        "# noise removal\n",
        "def remove_noise(image):\n",
        "    return cv2.medianBlur(image,5)\n",
        " \n",
        "#thresholding\n",
        "def thresholding(image):\n",
        "    return cv2.threshold(image, 0, 255, cv2.THRESH_BINARY + cv2.THRESH_OTSU)[1]\n",
        "\n",
        "#dilation\n",
        "def dilate(image):\n",
        "    kernel = np.ones((5,5),np.uint8)\n",
        "    return cv2.dilate(image, kernel, iterations = 1)\n",
        "    \n",
        "#erosion\n",
        "def erode(image):\n",
        "    kernel = np.ones((5,5),np.uint8)\n",
        "    return cv2.erode(image, kernel, iterations = 1)\n",
        "\n",
        "#opening - erosion followed by dilation\n",
        "def opening(image):\n",
        "    kernel = np.ones((5,5),np.uint8)\n",
        "    return cv2.morphologyEx(image, cv2.MORPH_OPEN, kernel)\n",
        "\n",
        "#canny edge detection\n",
        "def canny(image):\n",
        "    return cv2.Canny(image, 100, 200)\n",
        "\n",
        "#skew correction\n",
        "def deskew(image):\n",
        "    coords = np.column_stack(np.where(image > 0))\n",
        "    angle = cv2.minAreaRect(coords)[-1]\n",
        "    if angle < -45:\n",
        "        angle = -(90 + angle)\n",
        "    else:\n",
        "        angle = -angle\n",
        "    (h, w) = image.shape[:2]\n",
        "    center = (w // 2, h // 2)\n",
        "    M = cv2.getRotationMatrix2D(center, angle, 1.0)\n",
        "    rotated = cv2.warpAffine(image, M, (w, h), flags=cv2.INTER_CUBIC, borderMode=cv2.BORDER_REPLICATE)\n",
        "    return rotated\n",
        "\n",
        "#template matching\n",
        "def match_template(image, template):\n",
        "    return cv2.matchTemplate(image, template, cv2.TM_CCOEFF_NORMED) "
      ]
    },
    {
      "cell_type": "code",
      "execution_count": null,
      "metadata": {
        "id": "kfklmki9O2Aw"
      },
      "outputs": [],
      "source": [
        "# Plot original image\n",
        "image = cv2.imread('sample1.png')\n",
        "b,g,r = cv2.split(image)\n",
        "rgb_img = cv2.merge([r,g,b])\n",
        "\n",
        "plt.figure(figsize=(30,15))\n",
        "plt.imshow(image)\n",
        "plt.title('SAMPLE 1 ORIGINAL IMAGE')\n",
        "plt.show()"
      ]
    },
    {
      "cell_type": "code",
      "execution_count": null,
      "metadata": {
        "id": "x--aJImmO2Ay"
      },
      "outputs": [],
      "source": [
        "# Preprocess image \n",
        "gray = get_grayscale(image)\n",
        "thresh = thresholding(gray)\n",
        "opening = opening(gray)\n",
        "canny = canny(gray)\n",
        "noise = remove_noise(gray)\n",
        "dilated = dilate(gray)\n",
        "\n",
        "images = {'gray': gray, \n",
        "          'thresh': thresh, \n",
        "          'opening': opening, \n",
        "          'canny': canny}"
      ]
    },
    {
      "cell_type": "code",
      "execution_count": null,
      "metadata": {
        "id": "euDuWAdGO2Ay"
      },
      "outputs": [],
      "source": [
        "# Plot images after preprocessing\n",
        "fig = plt.figure(figsize=(16,16))\n",
        "ax = []\n",
        "\n",
        "rows = 2\n",
        "columns = 2\n",
        "keys = list(images.keys())\n",
        "for i in range(rows*columns):\n",
        "    ax.append( fig.add_subplot(rows, columns, i+1) )\n",
        "    ax[-1].set_title('INVOICE - ' + keys[i]) \n",
        "    plt.imshow(images[keys[i]], cmap='gray')    "
      ]
    },
    {
      "cell_type": "code",
      "execution_count": null,
      "metadata": {
        "id": "1fWfdpzmO2Az"
      },
      "outputs": [],
      "source": [
        "# Get OCR output using Pytesseract\n",
        "custom_config = r'--oem 3 --psm 6'\n",
        "print('-----------------------------------------')\n",
        "print('TESSERACT OUTPUT --> ORIGINAL IMAGE')\n",
        "print('-----------------------------------------')\n",
        "print(pytesseract.image_to_string(image, config=custom_config))"
      ]
    },
    {
      "cell_type": "code",
      "source": [
        "print('\\n-----------------------------------------')\n",
        "print('TESSERACT OUTPUT --> GRAY IMAGE')\n",
        "print('-----------------------------------------')\n",
        "print(pytesseract.image_to_string(images[\"gray\"], config=custom_config))"
      ],
      "metadata": {
        "id": "rDbh5zRtUJ4g"
      },
      "execution_count": null,
      "outputs": []
    },
    {
      "cell_type": "code",
      "source": [
        "print('\\n-----------------------------------------')\n",
        "print('TESSERACT OUTPUT --> THRESHOLDED IMAGE')\n",
        "print('-----------------------------------------')\n",
        "print(pytesseract.image_to_string(images[\"thresh\"], config=custom_config))"
      ],
      "metadata": {
        "id": "Mh8BmZ6rUNjd"
      },
      "execution_count": null,
      "outputs": []
    },
    {
      "cell_type": "code",
      "source": [
        "print('\\n-----------------------------------------')\n",
        "print('TESSERACT OUTPUT --> OPENED IMAGE')\n",
        "print('-----------------------------------------')\n",
        "print(pytesseract.image_to_string(images[\"opening\"], config=custom_config))"
      ],
      "metadata": {
        "id": "d2IXgca8USS0"
      },
      "execution_count": null,
      "outputs": []
    },
    {
      "cell_type": "code",
      "source": [
        "print('TESSERACT OUTPUT --> CANNY IMAGE')\n",
        "print('-----------------------------------------')\n",
        "print(pytesseract.image_to_string(images[\"canny\"], config=custom_config))"
      ],
      "metadata": {
        "id": "Ei7P0Xc2UU7L"
      },
      "execution_count": null,
      "outputs": []
    },
    {
      "cell_type": "code",
      "source": [
        "print('TESSERACT OUTPUT --> NOISY IMAGE')\n",
        "print('-----------------------------------------')\n",
        "print(pytesseract.image_to_string(noise, config=custom_config))"
      ],
      "metadata": {
        "id": "ksyGzHYlW2c8"
      },
      "execution_count": null,
      "outputs": []
    },
    {
      "cell_type": "code",
      "source": [
        "print('TESSERACT OUTPUT --> DILATED IMAGE')\n",
        "print('-----------------------------------------')\n",
        "print(pytesseract.image_to_string(dilated, config=custom_config))"
      ],
      "metadata": {
        "id": "Z_EOcS8uXJLZ"
      },
      "execution_count": null,
      "outputs": []
    },
    {
      "cell_type": "markdown",
      "source": [
        "##Removing noise using `fastNlMeansDenoising`"
      ],
      "metadata": {
        "id": "7bf7VNK_Zx8G"
      }
    },
    {
      "cell_type": "code",
      "source": [
        "# Plot original image\n",
        "image = cv2.imread(image_name)\n",
        "b,g,r = cv2.split(image)\n",
        "rgb_img = cv2.merge([r,g,b])\n",
        "\n",
        "plt.figure(figsize=(30,15))\n",
        "plt.imshow(image)\n",
        "plt.title('SAMPLE 1 ORIGINAL IMAGE')\n",
        "plt.show()"
      ],
      "metadata": {
        "id": "6JPV-GaqcSKv"
      },
      "execution_count": null,
      "outputs": []
    },
    {
      "cell_type": "markdown",
      "source": [
        "###Step 1"
      ],
      "metadata": {
        "id": "wBH9p__gdNHQ"
      }
    },
    {
      "cell_type": "code",
      "source": [
        "# Plot original image\n",
        "image = cv2.imread(image_name)\n",
        "gray = cv2.cvtColor(image, cv2.COLOR_BGR2GRAY)\n",
        "\n",
        "noise_removed = cv2.fastNlMeansDenoising(gray, 31, 7, 21)\n",
        "plt.figure(figsize=(30, 15))\n",
        "plt.imshow(noise_removed)\n",
        "plt.title('SAMPLE DENOISY IMAGE')\n",
        "plt.show()"
      ],
      "metadata": {
        "id": "iOijO9izZ0WE"
      },
      "execution_count": null,
      "outputs": []
    },
    {
      "cell_type": "code",
      "source": [
        "print('TESSERACT OUTPUT --> DENOISE IMAGE')\n",
        "print('-----------------------------------------')\n",
        "print(pytesseract.image_to_string(noise_removed, config=custom_config))"
      ],
      "metadata": {
        "id": "6e43vzSfcwTJ"
      },
      "execution_count": null,
      "outputs": []
    },
    {
      "cell_type": "markdown",
      "source": [
        "###Step 2"
      ],
      "metadata": {
        "id": "2YxCv7YfdQYf"
      }
    },
    {
      "cell_type": "code",
      "source": [
        "# Plot original image\n",
        "image = cv2.imread(image_name)\n",
        "gray = cv2.cvtColor(image, cv2.COLOR_BGR2GRAY)\n",
        "\n",
        "noise_removed = cv2.fastNlMeansDenoising(gray, None, 31, 7, 21)\n",
        "plt.figure(figsize=(30, 15))\n",
        "plt.imshow(noise_removed)\n",
        "plt.title('SAMPLE DENOISY IMAGE')\n",
        "plt.show()"
      ],
      "metadata": {
        "id": "dnq8fkVodSjR"
      },
      "execution_count": null,
      "outputs": []
    },
    {
      "cell_type": "code",
      "source": [
        "print('TESSERACT OUTPUT --> DENOISE IMAGE')\n",
        "print('-----------------------------------------')\n",
        "print(pytesseract.image_to_string(noise_removed, config=custom_config))"
      ],
      "metadata": {
        "id": "RCUzSI-gdWOY"
      },
      "execution_count": null,
      "outputs": []
    },
    {
      "cell_type": "markdown",
      "source": [
        "###Step 3"
      ],
      "metadata": {
        "id": "G9AdFTBCdio_"
      }
    },
    {
      "cell_type": "code",
      "source": [
        "# Plot original image\n",
        "image = cv2.imread(image_name)\n",
        "gray = cv2.cvtColor(image, cv2.COLOR_BGR2GRAY)\n",
        "\n",
        "empty_gray = np.empty(gray.shape, np.uint8)\n",
        "noise_removed = cv2.fastNlMeansDenoising(gray, empty_gray, 31, 7, 21)\n",
        "plt.figure(figsize=(30, 15))\n",
        "plt.imshow(noise_removed)\n",
        "plt.title('SAMPLE DENOISY IMAGE')\n",
        "plt.show()"
      ],
      "metadata": {
        "id": "fnZBgFdodoBw"
      },
      "execution_count": null,
      "outputs": []
    },
    {
      "cell_type": "code",
      "source": [
        "print('TESSERACT OUTPUT --> DENOISE IMAGE')\n",
        "print('-----------------------------------------')\n",
        "print(pytesseract.image_to_string(noise_removed, config=custom_config))"
      ],
      "metadata": {
        "id": "8xluFa8nduJ0"
      },
      "execution_count": null,
      "outputs": []
    },
    {
      "cell_type": "markdown",
      "source": [
        "###Step 4"
      ],
      "metadata": {
        "id": "H0xA3TtPd9bH"
      }
    },
    {
      "cell_type": "code",
      "source": [
        "# Plot original image\n",
        "image = cv2.imread(image_name)\n",
        "gray = cv2.cvtColor(image, cv2.COLOR_BGR2GRAY)\n",
        "\n",
        "noise_removed = cv2.fastNlMeansDenoising(gray, h=31, templateWindowSize=7, searchWindowSize=21)\n",
        "plt.figure(figsize=(30, 15))\n",
        "plt.imshow(noise_removed)\n",
        "plt.title('SAMPLE DENOISY IMAGE')\n",
        "plt.show()"
      ],
      "metadata": {
        "id": "rPtKXfwPd_PB"
      },
      "execution_count": null,
      "outputs": []
    },
    {
      "cell_type": "code",
      "source": [
        "print('TESSERACT OUTPUT --> DENOISE IMAGE')\n",
        "print('-----------------------------------------')\n",
        "print(pytesseract.image_to_string(noise_removed, config=custom_config))"
      ],
      "metadata": {
        "id": "J9jCTl5kd_uV"
      },
      "execution_count": null,
      "outputs": []
    },
    {
      "cell_type": "markdown",
      "source": [
        "##Removing blur using `bilateralFilter`"
      ],
      "metadata": {
        "id": "M4QJFP0pelYd"
      }
    },
    {
      "cell_type": "markdown",
      "source": [
        "###Step 1"
      ],
      "metadata": {
        "id": "YTe3qQfoe6iG"
      }
    },
    {
      "cell_type": "code",
      "source": [
        "# Plot original image\n",
        "image = cv2.imread(image_name)\n",
        "gray = cv2.cvtColor(image, cv2.COLOR_BGR2GRAY)\n",
        "\n",
        "blurred = blur = cv2.bilateralFilter(gray, 31, 7, 21)\n",
        "plt.figure(figsize=(30, 15))\n",
        "plt.imshow(blurred)\n",
        "plt.title('SAMPLE BLURRED IMAGE')\n",
        "plt.show()"
      ],
      "metadata": {
        "id": "_CkCcLz6e26u"
      },
      "execution_count": null,
      "outputs": []
    },
    {
      "cell_type": "code",
      "source": [
        "print('TESSERACT OUTPUT --> BLURRED IMAGE')\n",
        "print('-----------------------------------------')\n",
        "print(pytesseract.image_to_string(blurred, config=custom_config))"
      ],
      "metadata": {
        "id": "3ap414uVe5nF"
      },
      "execution_count": null,
      "outputs": []
    },
    {
      "cell_type": "markdown",
      "source": [
        "###Step 2"
      ],
      "metadata": {
        "id": "fUWgUX43fCUq"
      }
    },
    {
      "cell_type": "code",
      "source": [
        "# Plot original image\n",
        "image = cv2.imread(image_name)\n",
        "gray = cv2.cvtColor(image, cv2.COLOR_BGR2GRAY)\n",
        "\n",
        "blurred = cv2.bilateralFilter(gray, 31, 7, 21, None)\n",
        "plt.figure(figsize=(30, 15))\n",
        "plt.imshow(blurred)\n",
        "plt.title('SAMPLE BLURRED IMAGE')\n",
        "plt.show()"
      ],
      "metadata": {
        "id": "plSv23IffEWO"
      },
      "execution_count": null,
      "outputs": []
    },
    {
      "cell_type": "code",
      "source": [
        "print('TESSERACT OUTPUT --> BLURRED IMAGE')\n",
        "print('-----------------------------------------')\n",
        "print(pytesseract.image_to_string(blurred, config=custom_config))"
      ],
      "metadata": {
        "id": "hS8d1PA1fGsh"
      },
      "execution_count": null,
      "outputs": []
    },
    {
      "cell_type": "markdown",
      "source": [
        "###Step 3"
      ],
      "metadata": {
        "id": "GCAyC0iEfHNT"
      }
    },
    {
      "cell_type": "code",
      "source": [
        "# Plot original image\n",
        "image = cv2.imread(image_name)\n",
        "gray = cv2.cvtColor(image, cv2.COLOR_BGR2GRAY)\n",
        "\n",
        "blur_ = np.empty(gray.shape, np.uint8)\n",
        "blurred = cv2.bilateralFilter(gray, 31, 7, 21, blur_)\n",
        "plt.figure(figsize=(30, 15))\n",
        "plt.imshow(blurred)\n",
        "plt.title('SAMPLE BLURRED IMAGE')\n",
        "plt.show()"
      ],
      "metadata": {
        "id": "m85NtVZbfIvB"
      },
      "execution_count": null,
      "outputs": []
    },
    {
      "cell_type": "code",
      "source": [
        "print('TESSERACT OUTPUT --> BLURRED IMAGE')\n",
        "print('-----------------------------------------')\n",
        "print(pytesseract.image_to_string(blurred, config=custom_config))"
      ],
      "metadata": {
        "id": "pTAhGmbyfKE4"
      },
      "execution_count": null,
      "outputs": []
    }
  ],
  "metadata": {
    "kernelspec": {
      "display_name": "Python 3",
      "language": "python",
      "name": "python3"
    },
    "language_info": {
      "codemirror_mode": {
        "name": "ipython",
        "version": 3
      },
      "file_extension": ".py",
      "mimetype": "text/x-python",
      "name": "python",
      "nbconvert_exporter": "python",
      "pygments_lexer": "ipython3",
      "version": "3.7.5"
    },
    "colab": {
      "name": "04-image-pdf-preprocessing-with-opencv.ipynb",
      "provenance": [],
      "toc_visible": true,
      "include_colab_link": true
    }
  },
  "nbformat": 4,
  "nbformat_minor": 0
}