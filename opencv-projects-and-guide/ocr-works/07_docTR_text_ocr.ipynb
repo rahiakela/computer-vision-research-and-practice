{
  "nbformat": 4,
  "nbformat_minor": 0,
  "metadata": {
    "colab": {
      "name": "07-docTR-text-ocr.ipynb",
      "provenance": [],
      "collapsed_sections": [],
      "toc_visible": true,
      "include_colab_link": true
    },
    "kernelspec": {
      "name": "python3",
      "display_name": "Python 3"
    },
    "language_info": {
      "name": "python"
    }
  },
  "cells": [
    {
      "cell_type": "markdown",
      "metadata": {
        "id": "view-in-github",
        "colab_type": "text"
      },
      "source": [
        "<a href=\"https://colab.research.google.com/github/rahiakela/computer-vision-research-and-practice/blob/main/opencv-projects-and-guide/ocr-works/07_docTR_text_ocr.ipynb\" target=\"_parent\"><img src=\"https://colab.research.google.com/assets/colab-badge.svg\" alt=\"Open In Colab\"/></a>"
      ]
    },
    {
      "cell_type": "markdown",
      "metadata": {
        "id": "0eiwDT8qIh4X"
      },
      "source": [
        "## docTR for text OCR"
      ]
    },
    {
      "cell_type": "markdown",
      "source": [
        "**Reference**\n",
        "\n",
        "https://mindee.github.io/doctr/\n",
        "\n",
        "https://github.com/mindee/doctr"
      ],
      "metadata": {
        "id": "X9WBDuP4LhkS"
      }
    },
    {
      "cell_type": "markdown",
      "metadata": {
        "id": "Bh8uHvOVIvFW"
      },
      "source": [
        "##Setup"
      ]
    },
    {
      "cell_type": "code",
      "metadata": {
        "id": "43tpfKq1IxQg"
      },
      "source": [
        "# TensorFlow\n",
        "# !pip install python-doctr[tf]\n",
        "# PyTorch\n",
        "!pip install python-doctr[torch]"
      ],
      "execution_count": null,
      "outputs": []
    },
    {
      "cell_type": "markdown",
      "metadata": {
        "id": "RvJ3PzAQI0zK"
      },
      "source": [
        "Now go to  `Runtime/Restart runtime` for your changes to take effect!"
      ]
    },
    {
      "cell_type": "markdown",
      "metadata": {
        "id": "r2mgRuCaJY4F"
      },
      "source": [
        "We're going to review the main features of docTR 🎁\n",
        "And for you to have a proper overview of its capabilities, we will need some free fonts for a proper output visualization:"
      ]
    },
    {
      "cell_type": "code",
      "metadata": {
        "id": "2Qhrp88TPDZi"
      },
      "source": [
        "# Install some free fonts for result rendering\n",
        "!sudo apt-get install fonts-freefont-ttf -y"
      ],
      "execution_count": null,
      "outputs": []
    },
    {
      "cell_type": "markdown",
      "metadata": {
        "id": "Fe7KuocKSWX9"
      },
      "source": [
        "Let's take care of all the imports directly"
      ]
    },
    {
      "cell_type": "code",
      "metadata": {
        "id": "xSoeo0hRJbnU"
      },
      "source": [
        "%matplotlib inline\n",
        "import os\n",
        "\n",
        "import json\n",
        "import ast\n",
        "\n",
        "import cv2\n",
        "\n",
        "# Let's pick the desired backend\n",
        "# os.environ['USE_TF'] = '1'\n",
        "os.environ['USE_TORCH'] = '1'\n",
        "\n",
        "import matplotlib.pyplot as plt\n",
        "\n",
        "from doctr.io import DocumentFile\n",
        "from doctr.models import ocr_predictor"
      ],
      "execution_count": null,
      "outputs": []
    },
    {
      "cell_type": "markdown",
      "metadata": {
        "id": "7wwEmHqZSaLF"
      },
      "source": [
        "For the next steps, we will need a proper PDF document that will be used to showcase the library features"
      ]
    },
    {
      "cell_type": "code",
      "metadata": {
        "id": "WAoUcVQbKIfT"
      },
      "source": [
        "# Instantiate a pretrained model\n",
        "predictor = ocr_predictor(pretrained=True)"
      ],
      "execution_count": null,
      "outputs": []
    },
    {
      "cell_type": "markdown",
      "source": [
        "##Synodex Image OCR"
      ],
      "metadata": {
        "id": "3zG5p-W_GAqR"
      }
    },
    {
      "cell_type": "code",
      "source": [
        "image = cv2.imread(\"sample2.png\")\n",
        "print(image.shape)\n",
        "\n",
        "# Cropping an image\n",
        "cropped_image = image[100:2300, 50:1615]  # slicing image[rows, columns]\n",
        "cv2.imwrite(\"sample_cropped.png\", cropped_image)"
      ],
      "metadata": {
        "id": "nSXW3WP3GEEv"
      },
      "execution_count": null,
      "outputs": []
    },
    {
      "cell_type": "code",
      "source": [
        "# Read the file\n",
        "doc = DocumentFile.from_images(\"sample_cropped.png\")\n",
        "print(f\"Number of pages: {len(doc)}\")"
      ],
      "metadata": {
        "id": "zRe3OBa_EQVW"
      },
      "execution_count": null,
      "outputs": []
    },
    {
      "cell_type": "code",
      "source": [
        "result = predictor(doc)\n",
        "json_output = result.export()\n",
        "json_output"
      ],
      "metadata": {
        "id": "u7N8embtEh8A"
      },
      "execution_count": null,
      "outputs": []
    },
    {
      "cell_type": "code",
      "source": [
        "result.show(doc)"
      ],
      "metadata": {
        "id": "KftJS0KdcoN7"
      },
      "execution_count": null,
      "outputs": []
    },
    {
      "cell_type": "markdown",
      "source": [
        "##JSON Parsing"
      ],
      "metadata": {
        "id": "TzKXj78WdBMr"
      }
    },
    {
      "cell_type": "code",
      "source": [
        "json_data = ast.literal_eval(json.dumps(str(json_output)))"
      ],
      "metadata": {
        "id": "hvdyLfxddESR"
      },
      "execution_count": null,
      "outputs": []
    },
    {
      "cell_type": "code",
      "source": [
        "# Pretty Printing JSON string back\n",
        "print(json.dumps(json_data, indent = 4, sort_keys=True))"
      ],
      "metadata": {
        "id": "WeivWF2GeMaA"
      },
      "execution_count": null,
      "outputs": []
    },
    {
      "cell_type": "markdown",
      "source": [
        "##Text rendering"
      ],
      "metadata": {
        "id": "_K9InUh7ceWy"
      }
    },
    {
      "cell_type": "code",
      "source": [
        "json_output[\"pages\"][0][\"blocks\"][0][\"lines\"][0]"
      ],
      "metadata": {
        "id": "sPUSxrD5W_xh"
      },
      "execution_count": null,
      "outputs": []
    },
    {
      "cell_type": "code",
      "source": [
        "json_output[\"pages\"][0][\"blocks\"][0][\"lines\"][:][0][\"words\"][:][0][\"confidence\"]"
      ],
      "metadata": {
        "id": "8-GQbeomUjsB"
      },
      "execution_count": null,
      "outputs": []
    },
    {
      "cell_type": "code",
      "source": [
        "json_output[\"pages\"][0][\"blocks\"][0][\"lines\"][:][0][\"words\"][:][0][\"value\"]"
      ],
      "metadata": {
        "id": "Z5xOXE5VX4Um"
      },
      "execution_count": null,
      "outputs": []
    },
    {
      "cell_type": "code",
      "source": [
        "len(json_output[\"pages\"][0][\"blocks\"])"
      ],
      "metadata": {
        "id": "u2rzXJz6bW_J"
      },
      "execution_count": null,
      "outputs": []
    },
    {
      "cell_type": "code",
      "source": [
        "len(json_output[\"pages\"][0][\"blocks\"])"
      ],
      "metadata": {
        "id": "U8fideUNYr_K"
      },
      "execution_count": null,
      "outputs": []
    },
    {
      "cell_type": "code",
      "source": [
        "for artifact in json_output[\"pages\"][0][\"blocks\"]:\n",
        "  #print(artifact)\n",
        "  print(f' Value: {artifact[\"lines\"][:][0][\"words\"][:][0][\"value\"]} \\t Confidence: {artifact[\"lines\"][:][0][\"words\"][:][0][\"confidence\"]}')"
      ],
      "metadata": {
        "id": "ZqFBZhruUUPZ"
      },
      "execution_count": null,
      "outputs": []
    },
    {
      "cell_type": "code",
      "source": [
        "i = 0\n",
        "for artifact in json_output[\"pages\"][0][\"blocks\"]:\n",
        "  print(f' Value: {artifact[\"lines\"][:][i][\"words\"][:][0][\"value\"]} \\t Confidence: {artifact[\"lines\"][:][i][\"words\"][:][0][\"confidence\"]}')\n",
        "  i = i + 1"
      ],
      "metadata": {
        "id": "cvX1RV6jbr8b"
      },
      "execution_count": null,
      "outputs": []
    }
  ]
}