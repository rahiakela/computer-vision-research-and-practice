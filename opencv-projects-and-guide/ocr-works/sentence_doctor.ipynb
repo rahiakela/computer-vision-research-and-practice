{
  "nbformat": 4,
  "nbformat_minor": 0,
  "metadata": {
    "colab": {
      "name": "sentence-doctor.ipynb",
      "provenance": [],
      "toc_visible": true,
      "authorship_tag": "ABX9TyM5+ozeHeEQJJq/Rht0gLLY",
      "include_colab_link": true
    },
    "kernelspec": {
      "name": "python3",
      "display_name": "Python 3"
    },
    "language_info": {
      "name": "python"
    }
  },
  "cells": [
    {
      "cell_type": "markdown",
      "metadata": {
        "id": "view-in-github",
        "colab_type": "text"
      },
      "source": [
        "<a href=\"https://colab.research.google.com/github/rahiakela/computer-vision-research-and-practice/blob/main/opencv-projects-and-guide/ocr-works/sentence_doctor.ipynb\" target=\"_parent\"><img src=\"https://colab.research.google.com/assets/colab-badge.svg\" alt=\"Open In Colab\"/></a>"
      ]
    },
    {
      "cell_type": "markdown",
      "source": [
        "##Sentence-Doctor"
      ],
      "metadata": {
        "id": "Oz36lgQp5rft"
      }
    },
    {
      "cell_type": "markdown",
      "source": [
        "Sentence doctor is a T5 model that attempts to correct the errors or mistakes found in sentences.\n",
        "\n",
        "**Problem**\n",
        "\n",
        "Many NLP models depend on tasks like Text Extraction Libraries, OCR, Speech to Text libraries and Sentence Boundary Detection.\n",
        "\n",
        "As a consequence errors caused by these tasks in your NLP pipeline can affect the quality of models in applications. Especially since models are often trained on clean input.\n",
        "\n",
        "**Solution**\n",
        "\n",
        "Here we provide a model that attempts to reconstruct sentences based on the its context (sourrounding text). \n",
        "\n",
        "The task is pretty straightforward:\n",
        "\n",
        "Given an \"erroneous\" sentence, and its context, reconstruct the \"intended\" sentence.\n",
        "\n",
        "\n",
        "\n",
        "**Reference**\n",
        "\n",
        "https://huggingface.co/flexudy/t5-base-multi-sentence-doctor\n",
        "\n"
      ],
      "metadata": {
        "id": "wWl4M4sf5sFa"
      }
    },
    {
      "cell_type": "markdown",
      "source": [
        "##Setup"
      ],
      "metadata": {
        "id": "Zf8nuq9S51eK"
      }
    },
    {
      "cell_type": "code",
      "source": [
        "!pip -q install transformers[sentencepiece]"
      ],
      "metadata": {
        "id": "xseP9N4n5z9O"
      },
      "execution_count": null,
      "outputs": []
    },
    {
      "cell_type": "code",
      "source": [
        "from transformers import AutoTokenizer, AutoModelWithLMHead"
      ],
      "metadata": {
        "id": "CcHTg6hL7eGk"
      },
      "execution_count": 1,
      "outputs": []
    },
    {
      "cell_type": "markdown",
      "source": [
        "##Loading model"
      ],
      "metadata": {
        "id": "TtXyAoNt63OT"
      }
    },
    {
      "cell_type": "code",
      "source": [
        "tokenizer = AutoTokenizer.from_pretrained(\"flexudy/t5-base-multi-sentence-doctor\")\n",
        "model = AutoModelWithLMHead.from_pretrained(\"flexudy/t5-base-multi-sentence-doctor\")"
      ],
      "metadata": {
        "id": "lttBaa6V62oJ"
      },
      "execution_count": null,
      "outputs": []
    },
    {
      "cell_type": "markdown",
      "source": [
        "##Inference"
      ],
      "metadata": {
        "id": "GA3FRabL-uT2"
      }
    },
    {
      "cell_type": "code",
      "source": [
        "input_text = \"repair_sentence: m a medical doct context: {That is my job I a}{or I save lives} </s>\"\n",
        "\n",
        "input_ids = tokenizer.encode(input_text, return_tensors=\"pt\")\n",
        "outputs = model.generate(input_ids, max_length=32, num_beams=1)\n",
        "\n",
        "sentence = tokenizer.decode(outputs[0], skip_special_tokens=True, clean_up_tokenization_spaces=True)\n",
        "sentence"
      ],
      "metadata": {
        "colab": {
          "base_uri": "https://localhost:8080/",
          "height": 35
        },
        "id": "EgrRQjza-vPL",
        "outputId": "4cf50700-068e-469a-81cc-6e053a77d5a5"
      },
      "execution_count": 3,
      "outputs": [
        {
          "output_type": "execute_result",
          "data": {
            "text/plain": [
              "'I am a medical doctor.'"
            ],
            "application/vnd.google.colaboratory.intrinsic+json": {
              "type": "string"
            }
          },
          "metadata": {},
          "execution_count": 3
        }
      ]
    },
    {
      "cell_type": "code",
      "source": [
        "input_text = \"repair_sentence: m a medical doct context: {}{} </s>\"\n",
        "\n",
        "input_ids = tokenizer.encode(input_text, return_tensors=\"pt\")\n",
        "outputs = model.generate(input_ids, max_length=32, num_beams=1)\n",
        "\n",
        "sentence = tokenizer.decode(outputs[0], skip_special_tokens=True, clean_up_tokenization_spaces=True)\n",
        "sentence"
      ],
      "metadata": {
        "colab": {
          "base_uri": "https://localhost:8080/",
          "height": 35
        },
        "id": "LQ6454m9AYZH",
        "outputId": "22c06314-68c9-431c-acf5-323df4dd3e42"
      },
      "execution_count": 7,
      "outputs": [
        {
          "output_type": "execute_result",
          "data": {
            "text/plain": [
              "'a me a medical doctor.'"
            ],
            "application/vnd.google.colaboratory.intrinsic+json": {
              "type": "string"
            }
          },
          "metadata": {},
          "execution_count": 7
        }
      ]
    },
    {
      "cell_type": "code",
      "source": [
        "ocr_text = \"\"\"repair_sentence:\n",
        "~ MAYO Visit date: 7/19/2018 Tv\n",
        "7 CLINIC 7\n",
        "aa 07/19/2018 - Diagnostic in Department of Otorhinolaryngology in Rochester, Minnesota (continued) a\n",
        "7, Documents (continued) —\n",
        "1 (Fg) Mavo clinic ae a a\n",
        "13 . i) . Audiologist’ Raya Gomsor. Au i a3\n",
        "— -” mudiological Evaluation ‘{cense No.: —\n",
        "14 14\n",
        "Te Olossopy: Right Ear. bar cane oe poping. merietane woe ite: Left Ear. bat ceed siren ymiganec ee Thtary appear ~~\n",
        "46 th otrenernge.tgs f° ARSEASmant Ah sepals 416\n",
        "16 immittance Oetad Acoustc Reflex Summary 16\n",
        "_—_ Acousne Reflex Data Right tet —\n",
        "17 Sound mught lon AL calor Cuetec: ONT Cr ONT 17\n",
        "i. e exo i HK 4K Sper aks oy —\n",
        "is £ Refiec ihe: Refea Decay 5) 18\n",
        "_ 8 Gecar.sec- Refea Cacay: * —\n",
        "90 & Decay ste Can ed Right Lett 20\n",
        "— Soved Let fone Acesale rte Terme am _\n",
        "24 & 01K oy ak (arm Vesna +e: 173 m”\n",
        "__ ® Refer hi Gamperate: Anpulvce —_—\n",
        "\n",
        "£ aS\n",
        "22 ah Recay sec + Peas ‘cao: 2\n",
        "— H ftokoc-be . Cease te 2208) —\n",
        "2s B Deter om. Use Voce tar Nasonarce 23\n",
        "24 Auymmaty Probability a\n",
        "— Esbralee ccopabel, that opsered bews3 yee: 53 aut —_—\n",
        "76 at aye oe Kens erated eaeng tag 2 ary Deter (000 2\n",
        "— nates ize\n",
        "28 Speech Recopnition mn Quiet 2\n",
        "oo ‘Speech enatertal Ute Ear Level(dB} «Word = Phoneme Contralateral «= Masking Type = ! test z=\n",
        "7 SL He scorn(*s) Score 1%} Maxkng i428) gems q@\n",
        "— faopaurenws Gthi x oD e 15 we 0 Speocn weigwed rune 20 —_—\n",
        "28 hropnaaens Wit ot te fy Speecu weghiaw myse 20 a\n",
        "23 a 2\n",
        "—_ Commvnicatron Assossment. Right Ginavral Lest SSO Listenmg Scote —\n",
        "30 AAO’ Heating Loss Speech in Notse 0\n",
        "— Loudness Perception gm ten eh a om es _—\n",
        "+ TY ae ane Social Hearing incex cuanty au\n",
        "Moat Combstome vase. Chi\n",
        "\n",
        "* ne om ee Etfoctive Qismancesaw Ettorniny — \\rsten'ng Effort =\n",
        "— sreanMattagio Leven it —\n",
        "33 Grae arama Participation Resticnon 3\n",
        "— ve Drstence = * Personal Cotactors _\n",
        "a4 Environmentat Cofactors “\n",
        "— Audiometer / Transducer: aad -\n",
        "— Printed on 11/12/21 6:53 AM Page 4\n",
        "a “&\n",
        "\n",
        "context: {}{}\n",
        "\"\"\"\n",
        "#input_text = \"repair_sentence: \"+ocr_text+\" context: {}{} </s>\"\n",
        "\n",
        "input_ids = tokenizer.encode(ocr_text, return_tensors=\"pt\")\n",
        "outputs = model.generate(input_ids, max_length=32, num_beams=1)\n",
        "\n",
        "sentence = tokenizer.decode(outputs[0], skip_special_tokens=True, clean_up_tokenization_spaces=True)\n",
        "sentence"
      ],
      "metadata": {
        "colab": {
          "base_uri": "https://localhost:8080/",
          "height": 35
        },
        "id": "Xi8dKDdtAz6u",
        "outputId": "b8428b6d-1bb5-4272-f5f8-e091b5869dab"
      },
      "execution_count": 10,
      "outputs": [
        {
          "output_type": "execute_result",
          "data": {
            "text/plain": [
              "'— — — — — — — — — — — — — — — '"
            ],
            "application/vnd.google.colaboratory.intrinsic+json": {
              "type": "string"
            }
          },
          "metadata": {},
          "execution_count": 10
        }
      ]
    },
    {
      "cell_type": "code",
      "source": [
        "ocr_text = \"\"\"repair_sentence: mudiological Evaluation context: {audio}{}\n",
        "\"\"\"\n",
        "#input_text = \"repair_sentence: \"+ocr_text+\" context: {}{} </s>\"\n",
        "\n",
        "input_ids = tokenizer.encode(ocr_text, return_tensors=\"pt\")\n",
        "outputs = model.generate(input_ids, max_length=32, num_beams=1)\n",
        "\n",
        "sentence = tokenizer.decode(outputs[0], skip_special_tokens=True, clean_up_tokenization_spaces=True)\n",
        "sentence"
      ],
      "metadata": {
        "colab": {
          "base_uri": "https://localhost:8080/",
          "height": 35
        },
        "id": "UAP-IFJdB05M",
        "outputId": "3d851bbf-3a7d-48c4-f61d-fd51dc4754c5"
      },
      "execution_count": 20,
      "outputs": [
        {
          "output_type": "execute_result",
          "data": {
            "text/plain": [
              "'ааааааааааааааа'"
            ],
            "application/vnd.google.colaboratory.intrinsic+json": {
              "type": "string"
            }
          },
          "metadata": {},
          "execution_count": 20
        }
      ]
    }
  ]
}