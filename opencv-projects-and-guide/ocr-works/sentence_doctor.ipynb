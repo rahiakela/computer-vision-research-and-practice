{
  "nbformat": 4,
  "nbformat_minor": 0,
  "metadata": {
    "colab": {
      "name": "sentence-doctor.ipynb",
      "provenance": [],
      "toc_visible": true,
      "authorship_tag": "ABX9TyMMnqfzwdhkYNWzWs33vT0s",
      "include_colab_link": true
    },
    "kernelspec": {
      "name": "python3",
      "display_name": "Python 3"
    },
    "language_info": {
      "name": "python"
    }
  },
  "cells": [
    {
      "cell_type": "markdown",
      "metadata": {
        "id": "view-in-github",
        "colab_type": "text"
      },
      "source": [
        "<a href=\"https://colab.research.google.com/github/rahiakela/computer-vision-research-and-practice/blob/main/opencv-projects-and-guide/ocr-works/sentence_doctor.ipynb\" target=\"_parent\"><img src=\"https://colab.research.google.com/assets/colab-badge.svg\" alt=\"Open In Colab\"/></a>"
      ]
    },
    {
      "cell_type": "markdown",
      "source": [
        "##Sentence-Doctor"
      ],
      "metadata": {
        "id": "Oz36lgQp5rft"
      }
    },
    {
      "cell_type": "markdown",
      "source": [
        "Sentence doctor is a T5 model that attempts to correct the errors or mistakes found in sentences.\n",
        "\n",
        "**Problem**\n",
        "\n",
        "Many NLP models depend on tasks like Text Extraction Libraries, OCR, Speech to Text libraries and Sentence Boundary Detection.\n",
        "\n",
        "As a consequence errors caused by these tasks in your NLP pipeline can affect the quality of models in applications. Especially since models are often trained on clean input.\n",
        "\n",
        "**Solution**\n",
        "\n",
        "Here we provide a model that attempts to reconstruct sentences based on the its context (sourrounding text). \n",
        "\n",
        "The task is pretty straightforward:\n",
        "\n",
        "Given an \"erroneous\" sentence, and its context, reconstruct the \"intended\" sentence.\n",
        "\n",
        "\n",
        "\n",
        "**Reference**\n",
        "\n",
        "https://huggingface.co/flexudy/t5-base-multi-sentence-doctor\n",
        "\n"
      ],
      "metadata": {
        "id": "wWl4M4sf5sFa"
      }
    },
    {
      "cell_type": "markdown",
      "source": [
        "##Setup"
      ],
      "metadata": {
        "id": "Zf8nuq9S51eK"
      }
    },
    {
      "cell_type": "code",
      "source": [
        "!pip -q install transformers[sentencepiece]"
      ],
      "metadata": {
        "id": "xseP9N4n5z9O"
      },
      "execution_count": null,
      "outputs": []
    },
    {
      "cell_type": "code",
      "source": [
        "from transformers import AutoTokenizer, AutoModelWithLMHead"
      ],
      "metadata": {
        "id": "CcHTg6hL7eGk"
      },
      "execution_count": null,
      "outputs": []
    },
    {
      "cell_type": "markdown",
      "source": [
        "##Loading model"
      ],
      "metadata": {
        "id": "TtXyAoNt63OT"
      }
    },
    {
      "cell_type": "code",
      "source": [
        "tokenizer = AutoTokenizer.from_pretrained(\"flexudy/t5-base-multi-sentence-doctor\")\n",
        "model = AutoModelWithLMHead.from_pretrained(\"flexudy/t5-base-multi-sentence-doctor\")"
      ],
      "metadata": {
        "id": "lttBaa6V62oJ"
      },
      "execution_count": null,
      "outputs": []
    },
    {
      "cell_type": "markdown",
      "source": [
        "##Inference"
      ],
      "metadata": {
        "id": "GA3FRabL-uT2"
      }
    },
    {
      "cell_type": "code",
      "source": [
        "input_text = \"repair_sentence: m a medical doct context: {That is my job I a}{or I save lives} </s>\"\n",
        "\n",
        "input_ids = tokenizer.encode(input_text, return_tensors=\"pt\")\n",
        "outputs = model.generate(input_ids, max_length=32, num_beams=1)\n",
        "\n",
        "sentence = tokenizer.decode(outputs[0], skip_special_tokens=True, clean_up_tokenization_spaces=True)\n",
        "sentence"
      ],
      "metadata": {
        "id": "EgrRQjza-vPL"
      },
      "execution_count": null,
      "outputs": []
    },
    {
      "cell_type": "code",
      "source": [
        "input_text = \"repair_sentence: m a medical doct context: {}{} </s>\"\n",
        "\n",
        "input_ids = tokenizer.encode(input_text, return_tensors=\"pt\")\n",
        "outputs = model.generate(input_ids, max_length=32, num_beams=1)\n",
        "\n",
        "sentence = tokenizer.decode(outputs[0], skip_special_tokens=True, clean_up_tokenization_spaces=True)\n",
        "sentence"
      ],
      "metadata": {
        "id": "LQ6454m9AYZH"
      },
      "execution_count": null,
      "outputs": []
    },
    {
      "cell_type": "code",
      "source": [
        "ocr_text = \"\"\"\n",
        "\n",
        "context: {}{}\n",
        "\"\"\"\n",
        "#input_text = \"repair_sentence: \"+ocr_text+\" context: {}{} </s>\"\n",
        "\n",
        "input_ids = tokenizer.encode(ocr_text, return_tensors=\"pt\")\n",
        "outputs = model.generate(input_ids, max_length=32, num_beams=1)\n",
        "\n",
        "sentence = tokenizer.decode(outputs[0], skip_special_tokens=True, clean_up_tokenization_spaces=True)\n",
        "sentence"
      ],
      "metadata": {
        "id": "Xi8dKDdtAz6u"
      },
      "execution_count": null,
      "outputs": []
    },
    {
      "cell_type": "code",
      "source": [
        "ocr_text = \"\"\"repair_sentence: mudiological Evaluation context: {audio}{}\n",
        "\"\"\"\n",
        "#input_text = \"repair_sentence: \"+ocr_text+\" context: {}{} </s>\"\n",
        "\n",
        "input_ids = tokenizer.encode(ocr_text, return_tensors=\"pt\")\n",
        "outputs = model.generate(input_ids, max_length=32, num_beams=1)\n",
        "\n",
        "sentence = tokenizer.decode(outputs[0], skip_special_tokens=True, clean_up_tokenization_spaces=True)\n",
        "sentence"
      ],
      "metadata": {
        "id": "UAP-IFJdB05M"
      },
      "execution_count": null,
      "outputs": []
    }
  ]
}