{
  "nbformat": 4,
  "nbformat_minor": 0,
  "metadata": {
    "colab": {
      "name": "08-ocr-image-preprocessing-and-text-extraction.ipynb",
      "provenance": [],
      "toc_visible": true,
      "authorship_tag": "ABX9TyNCY2cJeeBCVSxqfo4sRG4+",
      "include_colab_link": true
    },
    "kernelspec": {
      "name": "python3",
      "display_name": "Python 3"
    },
    "language_info": {
      "name": "python"
    }
  },
  "cells": [
    {
      "cell_type": "markdown",
      "metadata": {
        "id": "view-in-github",
        "colab_type": "text"
      },
      "source": [
        "<a href=\"https://colab.research.google.com/github/rahiakela/computer-vision-research-and-practice/blob/main/opencv-projects-and-guide/ocr-works/08_ocr_image_preprocessing_and_text_extraction.ipynb\" target=\"_parent\"><img src=\"https://colab.research.google.com/assets/colab-badge.svg\" alt=\"Open In Colab\"/></a>"
      ]
    },
    {
      "cell_type": "markdown",
      "source": [
        "##Setup"
      ],
      "metadata": {
        "id": "VfcIHijDCepB"
      }
    },
    {
      "cell_type": "markdown",
      "source": [
        "**Reference**\n",
        "\n",
        "https://stackoverflow.com/questions/62042172/how-to-remove-noise-in-image-opencv-python\n",
        "\n",
        "https://medium.com/@sandun.amarathunga/extract-text-from-files-and-images-using-pytessaract-and-opencv-aa26b615a7fb\n",
        "\n"
      ],
      "metadata": {
        "id": "NVpPsPi_WsRr"
      }
    },
    {
      "cell_type": "code",
      "source": [
        "%%shell\n",
        "\n",
        "sudo apt install tesseract-ocr\n",
        "sudo apt-get install poppler-utils\n",
        "pip install tesseract\n",
        "pip install pytesseract\n",
        "pip install Pillow==9.0.0\n",
        "pip install pdf2image"
      ],
      "metadata": {
        "id": "H78FIHwTCf8T"
      },
      "execution_count": null,
      "outputs": []
    },
    {
      "cell_type": "markdown",
      "source": [
        "Just restart the colab environment."
      ],
      "metadata": {
        "id": "7Cw-us-f2M2e"
      }
    },
    {
      "cell_type": "code",
      "source": [
        "import os\n",
        "import re\n",
        "import cv2 \n",
        "import numpy as np\n",
        "import pytesseract\n",
        "from pytesseract import Output\n",
        "\n",
        "from pdf2image import convert_from_path\n",
        "from PyPDF2 import PdfFileReader, PdfFileWriter\n",
        "from io import BytesIO\n",
        "from PIL import Image\n",
        "from matplotlib import pyplot as plt"
      ],
      "metadata": {
        "id": "kZ1qTshNjKhY"
      },
      "execution_count": null,
      "outputs": []
    },
    {
      "cell_type": "code",
      "source": [
        "pytesseract.pytesseract.tesseract_cmd = (r'/usr/bin/tesseract')"
      ],
      "metadata": {
        "id": "B-AxdbsJjp4Q"
      },
      "execution_count": null,
      "outputs": []
    },
    {
      "cell_type": "markdown",
      "source": [
        "##Define some functions"
      ],
      "metadata": {
        "id": "sfWwA3qjCpZO"
      }
    },
    {
      "cell_type": "code",
      "source": [
        "def pdf_splitter(path):\n",
        "  pdf_in_file = open(path, \"rb\")\n",
        "  pdf = PdfFileReader(pdf_in_file)\n",
        "  pdf_list = []\n",
        "  for page in range(pdf.numPages):\n",
        "      inputpdf = PdfFileReader(pdf_in_file)\n",
        "      output = PdfFileWriter()\n",
        "      output.addPage(inputpdf.getPage(page))\n",
        "      with open(f\"doc-page-{page}.pdf\", \"wb\") as outputStream:\n",
        "          output.write(outputStream)\n",
        "          pdf_list.append(f\"doc-page-{page}.pdf\")\n",
        "  return pdf_list"
      ],
      "metadata": {
        "id": "36rzIbjo6TUG"
      },
      "execution_count": null,
      "outputs": []
    },
    {
      "cell_type": "code",
      "source": [
        "def pdf_to_image(pdf_list):\n",
        "  img_list = []\n",
        "  i = 0\n",
        "  for pdf_file in pdf_list:\n",
        "    pages = convert_from_path(pdf_file)\n",
        "    for page in pages:\n",
        "      page.save(f\"doc-page-{str(i)}.jpg\", \"JPEG\")\n",
        "      img_list.append(f\"doc-page-{str(i)}.jpg\")\n",
        "      i = i + 1\n",
        "  return img_list"
      ],
      "metadata": {
        "id": "ShUFIDgr8d7C"
      },
      "execution_count": null,
      "outputs": []
    },
    {
      "cell_type": "code",
      "source": [
        "def img_display(im_data):\n",
        "    dpi = 80\n",
        "    #im_data = plt.imread(im_path)\n",
        "\n",
        "    height, width  = im_data.shape[:2]\n",
        "    \n",
        "    # What size does the figure need to be in inches to fit the image?\n",
        "    figsize = width / float(dpi), height / float(dpi)\n",
        "\n",
        "    # Create a figure of the right size with one axes that takes up the full figure\n",
        "    fig = plt.figure(figsize=figsize)\n",
        "    ax = fig.add_axes([0, 0, 1, 1])\n",
        "\n",
        "    # Hide spines, ticks, etc.\n",
        "    ax.axis('off')\n",
        "\n",
        "    # Display the image.\n",
        "    ax.imshow(im_data, cmap='gray')\n",
        "\n",
        "    plt.show()"
      ],
      "metadata": {
        "id": "sB-Q9SaEjsXG"
      },
      "execution_count": null,
      "outputs": []
    },
    {
      "cell_type": "code",
      "source": [
        "def thick_font(image):\n",
        "  image = cv2.bitwise_not(image)\n",
        "  kernel = np.ones((2, 2), np.uint8)\n",
        "  image = cv2.dilate(image, kernel, iterations=1)\n",
        "  image = cv2.bitwise_not(image)\n",
        "  \n",
        "  return image"
      ],
      "metadata": {
        "id": "gYpe4tCN2lNo"
      },
      "execution_count": null,
      "outputs": []
    },
    {
      "cell_type": "markdown",
      "source": [
        "##PDF to Image conversion"
      ],
      "metadata": {
        "id": "tdoem65A6I2h"
      }
    },
    {
      "cell_type": "code",
      "source": [
        "pdf_list = pdf_splitter(\"large2_orig.pdf\")"
      ],
      "metadata": {
        "id": "-88Ho4Ql6MAa"
      },
      "execution_count": null,
      "outputs": []
    },
    {
      "cell_type": "code",
      "source": [
        "len(pdf_list)"
      ],
      "metadata": {
        "colab": {
          "base_uri": "https://localhost:8080/"
        },
        "id": "GDITJXqj9yzB",
        "outputId": "9f776ea2-0bcd-4aa4-a993-de3eb135895f"
      },
      "execution_count": null,
      "outputs": [
        {
          "output_type": "execute_result",
          "data": {
            "text/plain": [
              "529"
            ]
          },
          "metadata": {},
          "execution_count": 10
        }
      ]
    },
    {
      "cell_type": "code",
      "source": [
        "pdf_list[18:19]"
      ],
      "metadata": {
        "colab": {
          "base_uri": "https://localhost:8080/"
        },
        "id": "4Fw9tFBS93_f",
        "outputId": "b22330e9-3a58-4ba0-83bd-cc5daeaace3f"
      },
      "execution_count": null,
      "outputs": [
        {
          "output_type": "execute_result",
          "data": {
            "text/plain": [
              "['doc-page-18.pdf']"
            ]
          },
          "metadata": {},
          "execution_count": 13
        }
      ]
    },
    {
      "cell_type": "code",
      "source": [
        "img_list = pdf_to_image(pdf_list)"
      ],
      "metadata": {
        "id": "ph_bUyD_9NDE"
      },
      "execution_count": null,
      "outputs": []
    },
    {
      "cell_type": "code",
      "source": [
        "len(img_list)"
      ],
      "metadata": {
        "colab": {
          "base_uri": "https://localhost:8080/"
        },
        "id": "5E3_GpJY_Wii",
        "outputId": "844a8212-cde2-4eb3-ab82-6b0784a73679"
      },
      "execution_count": null,
      "outputs": [
        {
          "output_type": "execute_result",
          "data": {
            "text/plain": [
              "529"
            ]
          },
          "metadata": {},
          "execution_count": 21
        }
      ]
    },
    {
      "cell_type": "code",
      "source": [
        "img_list[18:19]"
      ],
      "metadata": {
        "colab": {
          "base_uri": "https://localhost:8080/"
        },
        "id": "dL68Zab7_SPr",
        "outputId": "3c92e9fa-4b91-4b7b-bc30-bfd83f859e55"
      },
      "execution_count": null,
      "outputs": [
        {
          "output_type": "execute_result",
          "data": {
            "text/plain": [
              "['doc-page-18.jpg']"
            ]
          },
          "metadata": {},
          "execution_count": 22
        }
      ]
    },
    {
      "cell_type": "code",
      "source": [
        "!rm -rf *.pdf"
      ],
      "metadata": {
        "id": "kNEBXYN5CHc-"
      },
      "execution_count": null,
      "outputs": []
    },
    {
      "cell_type": "markdown",
      "source": [
        "##Image text extraction"
      ],
      "metadata": {
        "id": "8ZIbgxZV2qtG"
      }
    },
    {
      "cell_type": "code",
      "source": [
        "custom_config = r'--oem 3 --psm 12'\n",
        "\n",
        "\n",
        "# iterate from 18 to end \n",
        "for index, image_file in enumerate(img_list[18:]):\n",
        "  print(f\"Extracting text from {image_file}\")\n",
        "  image = cv2.imread(image_file)\n",
        "\n",
        "  # removing noise\n",
        "  noiseless_image_bw = cv2.fastNlMeansDenoising(image, None, 40, 7, 21)\n",
        "  # font thickness\n",
        "  image_smoothed = thick_font(noiseless_image_bw) \n",
        "  # extract text from image\n",
        "  txt_data = pytesseract.image_to_string(image_smoothed, config=custom_config)\n",
        "\n",
        "  with open(\"ocr-extracted.txt\", \"a\") as f:\n",
        "    f.write(f\"############################## Page-{index} #################\\n\\n\\n {txt_data}\")\n",
        "\n",
        "print(\"File is written\")"
      ],
      "metadata": {
        "id": "yOpQClIw2r3w"
      },
      "execution_count": null,
      "outputs": []
    },
    {
      "cell_type": "code",
      "source": [
        "!rm -rf *.jpg"
      ],
      "metadata": {
        "id": "AW-xKbrEC4yY"
      },
      "execution_count": 26,
      "outputs": []
    }
  ]
}