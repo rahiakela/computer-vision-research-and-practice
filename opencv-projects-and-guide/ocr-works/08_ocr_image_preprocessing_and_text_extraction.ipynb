{
  "nbformat": 4,
  "nbformat_minor": 0,
  "metadata": {
    "colab": {
      "name": "08-ocr-image-preprocessing-and-text-extraction.ipynb",
      "provenance": [],
      "authorship_tag": "ABX9TyNTXpIrGIkKvl8vv5fRWpGV",
      "include_colab_link": true
    },
    "kernelspec": {
      "name": "python3",
      "display_name": "Python 3"
    },
    "language_info": {
      "name": "python"
    }
  },
  "cells": [
    {
      "cell_type": "markdown",
      "metadata": {
        "id": "view-in-github",
        "colab_type": "text"
      },
      "source": [
        "<a href=\"https://colab.research.google.com/github/rahiakela/computer-vision-research-and-practice/blob/main/opencv-projects-and-guide/ocr-works/08_ocr_image_preprocessing_and_text_extraction.ipynb\" target=\"_parent\"><img src=\"https://colab.research.google.com/assets/colab-badge.svg\" alt=\"Open In Colab\"/></a>"
      ]
    },
    {
      "cell_type": "markdown",
      "source": [
        "##Setup"
      ],
      "metadata": {
        "id": "VfcIHijDCepB"
      }
    },
    {
      "cell_type": "markdown",
      "source": [
        "**Reference**\n",
        "\n",
        "https://stackoverflow.com/questions/62042172/how-to-remove-noise-in-image-opencv-python\n",
        "\n",
        "https://medium.com/@sandun.amarathunga/extract-text-from-files-and-images-using-pytessaract-and-opencv-aa26b615a7fb\n",
        "\n"
      ],
      "metadata": {
        "id": "NVpPsPi_WsRr"
      }
    },
    {
      "cell_type": "code",
      "source": [
        "%%shell\n",
        "\n",
        "sudo apt install tesseract-ocr\n",
        "sudo apt-get install poppler-utils\n",
        "pip install tesseract\n",
        "pip install pytesseract\n",
        "#pip install Pillow==9.0.0\n",
        "pip install pdf2image\n",
        "pip install PyPDF2"
      ],
      "metadata": {
        "id": "H78FIHwTCf8T"
      },
      "execution_count": null,
      "outputs": []
    },
    {
      "cell_type": "code",
      "source": [
        "!pip install pillow\n",
        "\n",
        "!sudo apt install build-essential libpoppler-cpp-dev pkg-config python3-dev\n",
        "!pip install -U pdftotext"
      ],
      "metadata": {
        "id": "4J-RccxclQqA"
      },
      "execution_count": null,
      "outputs": []
    },
    {
      "cell_type": "markdown",
      "source": [
        "Just restart the colab environment."
      ],
      "metadata": {
        "id": "7Cw-us-f2M2e"
      }
    },
    {
      "cell_type": "code",
      "source": [
        "import os\n",
        "import re\n",
        "import cv2 \n",
        "import numpy as np\n",
        "import pytesseract\n",
        "from pytesseract import Output\n",
        "\n",
        "import pdftotext\n",
        "\n",
        "from pdf2image import convert_from_path\n",
        "from PyPDF2 import PdfFileReader, PdfFileWriter\n",
        "from io import BytesIO\n",
        "from PIL import Image\n",
        "from matplotlib import pyplot as plt"
      ],
      "metadata": {
        "id": "kZ1qTshNjKhY"
      },
      "execution_count": 2,
      "outputs": []
    },
    {
      "cell_type": "code",
      "source": [
        "pytesseract.pytesseract.tesseract_cmd = (r'/usr/bin/tesseract')"
      ],
      "metadata": {
        "id": "B-AxdbsJjp4Q"
      },
      "execution_count": 3,
      "outputs": []
    },
    {
      "cell_type": "markdown",
      "source": [
        "##Define some functions"
      ],
      "metadata": {
        "id": "sfWwA3qjCpZO"
      }
    },
    {
      "cell_type": "code",
      "source": [
        "!mkdir pdf-files\n",
        "!mkdir jpg-files"
      ],
      "metadata": {
        "id": "_DWl-aVix93V"
      },
      "execution_count": 4,
      "outputs": []
    },
    {
      "cell_type": "code",
      "source": [
        "pdf_files_path = \"pdf-files\"\n",
        "jpg_files_path = \"jpg-files\""
      ],
      "metadata": {
        "id": "Pj09Vs8k00zq"
      },
      "execution_count": 5,
      "outputs": []
    },
    {
      "cell_type": "code",
      "source": [
        "def pdf_splitter(path):\n",
        "  pdf_in_file = open(path, \"rb\")\n",
        "  pdf = PdfFileReader(pdf_in_file)\n",
        "  pdf_list = []\n",
        "  for page in range(pdf.numPages):\n",
        "      inputpdf = PdfFileReader(pdf_in_file)\n",
        "      output = PdfFileWriter()\n",
        "      output.addPage(inputpdf.getPage(page))\n",
        "      with open(f\"{pdf_files_path}/pdf-page-{page}.pdf\", \"wb\") as outputStream:\n",
        "          output.write(outputStream)\n",
        "          pdf_list.append(f\"pdf-page-{page}.pdf\")\n",
        "  return pdf_list"
      ],
      "metadata": {
        "id": "36rzIbjo6TUG"
      },
      "execution_count": 6,
      "outputs": []
    },
    {
      "cell_type": "code",
      "source": [
        "def pdf_to_image(pdf_list):\n",
        "  img_list = []\n",
        "  i = 0\n",
        "  for pdf_file in pdf_list:\n",
        "    pages = convert_from_path(os.path.join(pdf_files_path, pdf_file))\n",
        "    for page in pages:\n",
        "      page.save(f\"{jpg_files_path}/pdf-page-{str(i)}.jpg\", \"JPEG\")\n",
        "      img_list.append(f\"{jpg_files_path}/pdf-page-{str(i)}.jpg\")\n",
        "      i = i + 1\n",
        "  return img_list"
      ],
      "metadata": {
        "id": "ShUFIDgr8d7C"
      },
      "execution_count": 7,
      "outputs": []
    },
    {
      "cell_type": "code",
      "source": [
        "def img_display(im_data):\n",
        "    dpi = 80\n",
        "    #im_data = plt.imread(im_path)\n",
        "\n",
        "    height, width  = im_data.shape[:2]\n",
        "    \n",
        "    # What size does the figure need to be in inches to fit the image?\n",
        "    figsize = width / float(dpi), height / float(dpi)\n",
        "\n",
        "    # Create a figure of the right size with one axes that takes up the full figure\n",
        "    fig = plt.figure(figsize=figsize)\n",
        "    ax = fig.add_axes([0, 0, 1, 1])\n",
        "\n",
        "    # Hide spines, ticks, etc.\n",
        "    ax.axis('off')\n",
        "\n",
        "    # Display the image.\n",
        "    ax.imshow(im_data, cmap='gray')\n",
        "\n",
        "    plt.show()"
      ],
      "metadata": {
        "id": "sB-Q9SaEjsXG"
      },
      "execution_count": 8,
      "outputs": []
    },
    {
      "cell_type": "code",
      "source": [
        "def thick_font(image):\n",
        "  image = cv2.bitwise_not(image)\n",
        "  kernel = np.ones((2, 2), np.uint8)\n",
        "  image = cv2.dilate(image, kernel, iterations=1)\n",
        "  image = cv2.bitwise_not(image)\n",
        "  \n",
        "  return image"
      ],
      "metadata": {
        "id": "gYpe4tCN2lNo"
      },
      "execution_count": 9,
      "outputs": []
    },
    {
      "cell_type": "markdown",
      "source": [
        "##PDF to Image conversion"
      ],
      "metadata": {
        "id": "tdoem65A6I2h"
      }
    },
    {
      "cell_type": "code",
      "source": [
        "pdf_list = pdf_splitter(\"file_large.pdf\")"
      ],
      "metadata": {
        "id": "-88Ho4Ql6MAa"
      },
      "execution_count": 18,
      "outputs": []
    },
    {
      "cell_type": "code",
      "source": [
        "len(pdf_list)"
      ],
      "metadata": {
        "colab": {
          "base_uri": "https://localhost:8080/"
        },
        "id": "GDITJXqj9yzB",
        "outputId": "e129e3ce-d952-4d58-f97d-1d6c76e5e5b3"
      },
      "execution_count": 20,
      "outputs": [
        {
          "output_type": "execute_result",
          "data": {
            "text/plain": [
              "144"
            ]
          },
          "metadata": {},
          "execution_count": 20
        }
      ]
    },
    {
      "cell_type": "code",
      "source": [
        "pdf_list[0]"
      ],
      "metadata": {
        "colab": {
          "base_uri": "https://localhost:8080/",
          "height": 35
        },
        "id": "4Fw9tFBS93_f",
        "outputId": "899a74bf-403b-4500-8962-328560b9324c"
      },
      "execution_count": 20,
      "outputs": [
        {
          "output_type": "execute_result",
          "data": {
            "text/plain": [
              "'pdf-page-0.pdf'"
            ],
            "application/vnd.google.colaboratory.intrinsic+json": {
              "type": "string"
            }
          },
          "metadata": {},
          "execution_count": 20
        }
      ]
    },
    {
      "cell_type": "code",
      "source": [
        "img_list = pdf_to_image(pdf_list)"
      ],
      "metadata": {
        "id": "ph_bUyD_9NDE"
      },
      "execution_count": 28,
      "outputs": []
    },
    {
      "cell_type": "code",
      "source": [
        "len(img_list)"
      ],
      "metadata": {
        "colab": {
          "base_uri": "https://localhost:8080/"
        },
        "id": "5E3_GpJY_Wii",
        "outputId": "5e0e3325-a169-4c79-dfe1-5556895fe747"
      },
      "execution_count": 29,
      "outputs": [
        {
          "output_type": "execute_result",
          "data": {
            "text/plain": [
              "144"
            ]
          },
          "metadata": {},
          "execution_count": 29
        }
      ]
    },
    {
      "cell_type": "code",
      "source": [
        "img_list[18:19]"
      ],
      "metadata": {
        "colab": {
          "base_uri": "https://localhost:8080/"
        },
        "id": "dL68Zab7_SPr",
        "outputId": "44d89d65-7ca8-4315-c7d8-6b8d78f7cbad"
      },
      "execution_count": 30,
      "outputs": [
        {
          "output_type": "execute_result",
          "data": {
            "text/plain": [
              "['jpg-files/pdf-page-18.jpg']"
            ]
          },
          "metadata": {},
          "execution_count": 30
        }
      ]
    },
    {
      "cell_type": "code",
      "source": [
        "!rm -rf jpg-files/*.jpg"
      ],
      "metadata": {
        "id": "kNEBXYN5CHc-"
      },
      "execution_count": 26,
      "outputs": []
    },
    {
      "cell_type": "markdown",
      "source": [
        "##Image text extraction"
      ],
      "metadata": {
        "id": "8ZIbgxZV2qtG"
      }
    },
    {
      "cell_type": "code",
      "source": [
        "%%time\n",
        "\n",
        "custom_config = r'--oem 3 --psm 12'\n",
        "\n",
        "# iterate from 18 to end \n",
        "for index, image_file in enumerate(img_list):\n",
        "  # print(f\"Extracting text from {image_file}\")\n",
        "  image = cv2.imread(image_file)\n",
        "\n",
        "  # removing noise\n",
        "  noiseless_image_bw = cv2.fastNlMeansDenoising(image, None, 40, 7, 21)\n",
        "  # font thickness\n",
        "  image_smoothed = thick_font(noiseless_image_bw) \n",
        "  # extract text from image\n",
        "  txt_data = pytesseract.image_to_string(image_smoothed, config=custom_config)\n",
        "\n",
        "  with open(\"ocr-extracted.txt\", \"a\") as f:\n",
        "    f.write(txt_data)\n",
        "\n",
        "print(\"File is written\")"
      ],
      "metadata": {
        "id": "yOpQClIw2r3w",
        "outputId": "7e28bb7e-d908-4bb3-f5a2-465aee45e9b6",
        "colab": {
          "base_uri": "https://localhost:8080/"
        }
      },
      "execution_count": 31,
      "outputs": [
        {
          "output_type": "stream",
          "name": "stdout",
          "text": [
            "File is written\n",
            "CPU times: user 54min, sys: 5.95 s, total: 54min 6s\n",
            "Wall time: 39min 10s\n"
          ]
        }
      ]
    },
    {
      "cell_type": "code",
      "source": [
        "!rm -rf *.jpg"
      ],
      "metadata": {
        "id": "AW-xKbrEC4yY"
      },
      "execution_count": null,
      "outputs": []
    },
    {
      "cell_type": "markdown",
      "source": [
        "##Large PDF text extraction"
      ],
      "metadata": {
        "id": "0WX3Itt8gaIs"
      }
    },
    {
      "cell_type": "code",
      "source": [
        "%%time\n",
        "\n",
        "# Load your PDF\n",
        "with open(\"file_large.pdf\", \"rb\") as f:\n",
        "  pdf = pdftotext.PDF(f)\n",
        "\n",
        "# How many pages?\n",
        "print(len(pdf))\n",
        "\n",
        "pdf_text = \"\\n\\n\".join(pdf)\n",
        "\n",
        "# Iterate over all the pages\n",
        "#for page in pdf:\n",
        "  #print(page)\n",
        "  #pdf_text = \"\\n\\n\".join(pdf)\n",
        "\n",
        "# write text into file\n",
        "with open(\"ocr-extracted3.txt\", \"a\") as f:\n",
        "  f.write(pdf_text)\n",
        "\n",
        "print(\"File is written\")\n",
        "# Read all the text into one string\n",
        "#print(\"\\n\\n\".join(pdf))"
      ],
      "metadata": {
        "id": "rh4GrOR1ht6w",
        "outputId": "b290795f-fb59-4300-e3ff-2b1cda1ebceb",
        "colab": {
          "base_uri": "https://localhost:8080/"
        }
      },
      "execution_count": 11,
      "outputs": [
        {
          "output_type": "stream",
          "name": "stdout",
          "text": [
            "144\n",
            "File is written\n",
            "CPU times: user 633 ms, sys: 9.18 ms, total: 642 ms\n",
            "Wall time: 643 ms\n"
          ]
        }
      ]
    },
    {
      "cell_type": "code",
      "source": [
        "keywords_list = [\n",
        "  \"Consolidated\", \"Cigarettes\", \"Tobacco\", \"Ketoacidosis\", \"Diagnosis\", \"Medical\", \"Night Sweats\", \"Symptom Status\",\n",
        "  \"Diagnosis Status\", \"Diabetes is under\", \"Proteinuria diagnosed\", \"Ketone levels\", \"Random Blood Sugar\", \"Serum Creatinine\",\n",
        "  \"Albumin-Creatinine Ratio\", \"Elaborate abnormal findings\", \"Urine Creatinine\", \"Urine Albumin\"\n",
        "]"
      ],
      "metadata": {
        "id": "bsLIEq6Rm-cc"
      },
      "execution_count": 12,
      "outputs": []
    },
    {
      "cell_type": "code",
      "source": [],
      "metadata": {
        "id": "NUTCGbQIoTM8"
      },
      "execution_count": null,
      "outputs": []
    },
    {
      "cell_type": "code",
      "source": [
        "%%time\n",
        "\n",
        "# Load your PDF\n",
        "with open(\"file_large.pdf\", \"rb\") as f:\n",
        "  pdf = pdftotext.PDF(f)\n",
        "\n",
        "# How many pages?\n",
        "print(len(pdf))\n",
        "\n",
        "pdf_text = \"\\n\\n\".join(pdf)\n",
        "\n",
        "# Iterate over all the pages\n",
        "for page in pdf:\n",
        "  print(page)\n",
        "  pdf_text = \"\\n\\n\".join(pdf)\n"
      ],
      "metadata": {
        "id": "0R1A_jrtoTg1"
      },
      "execution_count": null,
      "outputs": []
    }
  ]
}