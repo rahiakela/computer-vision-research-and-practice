{
  "nbformat": 4,
  "nbformat_minor": 0,
  "metadata": {
    "colab": {
      "name": "08-ocr-image-preprocessing-and-text-extraction.ipynb",
      "provenance": [],
      "authorship_tag": "ABX9TyNWA4fVymPOhSSXz/hRk99a",
      "include_colab_link": true
    },
    "kernelspec": {
      "name": "python3",
      "display_name": "Python 3"
    },
    "language_info": {
      "name": "python"
    }
  },
  "cells": [
    {
      "cell_type": "markdown",
      "metadata": {
        "id": "view-in-github",
        "colab_type": "text"
      },
      "source": [
        "<a href=\"https://colab.research.google.com/github/rahiakela/computer-vision-research-and-practice/blob/main/opencv-projects-and-guide/ocr-works/08_ocr_image_preprocessing_and_text_extraction.ipynb\" target=\"_parent\"><img src=\"https://colab.research.google.com/assets/colab-badge.svg\" alt=\"Open In Colab\"/></a>"
      ]
    },
    {
      "cell_type": "markdown",
      "source": [
        "##Setup"
      ],
      "metadata": {
        "id": "VfcIHijDCepB"
      }
    },
    {
      "cell_type": "markdown",
      "source": [
        "**Reference**\n",
        "\n",
        "https://stackoverflow.com/questions/62042172/how-to-remove-noise-in-image-opencv-python\n",
        "\n",
        "https://medium.com/@sandun.amarathunga/extract-text-from-files-and-images-using-pytessaract-and-opencv-aa26b615a7fb\n",
        "\n"
      ],
      "metadata": {
        "id": "NVpPsPi_WsRr"
      }
    },
    {
      "cell_type": "code",
      "source": [
        "!sudo apt install build-essential libpoppler-cpp-dev pkg-config python3-dev\n",
        "!sudo apt install tesseract-ocr\n",
        "!sudo apt-get install poppler-utils"
      ],
      "metadata": {
        "id": "4J-RccxclQqA"
      },
      "execution_count": null,
      "outputs": []
    },
    {
      "cell_type": "code",
      "source": [
        "%%shell\n",
        "\n",
        "\n",
        "pip install -U pdftotext\n",
        "pip install pillow\n",
        "pip install tesseract\n",
        "pip install pytesseract\n",
        "pip install pdf2image\n",
        "pip install PyPDF2\n",
        "pip install img2pdf==0.5.0"
      ],
      "metadata": {
        "id": "IhDWd_XKatR3"
      },
      "execution_count": null,
      "outputs": []
    },
    {
      "cell_type": "code",
      "source": [
        "!pip install img2pdf==0.5.0"
      ],
      "metadata": {
        "id": "drqJQHbLJUp3"
      },
      "execution_count": null,
      "outputs": []
    },
    {
      "cell_type": "markdown",
      "source": [
        "Just restart the colab environment."
      ],
      "metadata": {
        "id": "7Cw-us-f2M2e"
      }
    },
    {
      "cell_type": "code",
      "source": [
        "import os\n",
        "import re\n",
        "import cv2\n",
        "import numpy as np\n",
        "import pytesseract\n",
        "from pytesseract import Output\n",
        "\n",
        "import pdftotext\n",
        "\n",
        "from pdf2image import convert_from_path\n",
        "from PyPDF2 import PdfFileReader, PdfFileWriter\n",
        "from io import BytesIO\n",
        "from PIL import Image\n",
        "from matplotlib import pyplot as plt"
      ],
      "metadata": {
        "id": "kZ1qTshNjKhY"
      },
      "execution_count": 1,
      "outputs": []
    },
    {
      "cell_type": "code",
      "source": [
        "pytesseract.pytesseract.tesseract_cmd = (r'/usr/bin/tesseract')"
      ],
      "metadata": {
        "id": "B-AxdbsJjp4Q"
      },
      "execution_count": null,
      "outputs": []
    },
    {
      "cell_type": "markdown",
      "source": [
        "##Image Process Utils"
      ],
      "metadata": {
        "id": "OhU-b_tQJlsW"
      }
    },
    {
      "cell_type": "code",
      "source": [
        "!pip install PyPDF2\n",
        "!pip install pymupdf==1.22.0"
      ],
      "metadata": {
        "id": "L06Zw1D2LUIj"
      },
      "execution_count": null,
      "outputs": []
    },
    {
      "cell_type": "code",
      "source": [
        "%%shell\n",
        "\n",
        "mkdir ocr_test_samples\n",
        "mkdir ocr_test_samples/input_path\n",
        "mkdir ocr_test_samples/out_path\n",
        "mkdir ocr_test_samples/temp_path\n",
        "mkdir ocr_test_samples/processed_path"
      ],
      "metadata": {
        "id": "wsGUWsgHJmo7",
        "outputId": "b96f28e7-5b52-4b07-91a1-737a8d614b6e",
        "colab": {
          "base_uri": "https://localhost:8080/"
        }
      },
      "execution_count": 1,
      "outputs": [
        {
          "output_type": "execute_result",
          "data": {
            "text/plain": []
          },
          "metadata": {},
          "execution_count": 1
        }
      ]
    },
    {
      "cell_type": "code",
      "source": [
        "!cp *.pdf ocr_test_samples/input_path"
      ],
      "metadata": {
        "id": "ULPoYxHCKhUc"
      },
      "execution_count": 2,
      "outputs": []
    },
    {
      "cell_type": "code",
      "source": [
        "from image_processor import process_image_main"
      ],
      "metadata": {
        "id": "RmyxwbyOKv3M"
      },
      "execution_count": 2,
      "outputs": []
    },
    {
      "cell_type": "code",
      "source": [
        "process_image_main()"
      ],
      "metadata": {
        "id": "KXxacbTdK1IS"
      },
      "execution_count": 3,
      "outputs": []
    },
    {
      "cell_type": "code",
      "source": [
        "!zip output.zip ocr_test_samples/out_path/*.*"
      ],
      "metadata": {
        "id": "jkbXOBxdL3MH",
        "outputId": "25dc314d-d14c-40e6-c752-6777deff64ed",
        "colab": {
          "base_uri": "https://localhost:8080/"
        }
      },
      "execution_count": 4,
      "outputs": [
        {
          "output_type": "stream",
          "name": "stdout",
          "text": [
            "  adding: ocr_test_samples/out_path/TESTING_OCI_5381240.pdf (deflated 26%)\n",
            "  adding: ocr_test_samples/out_path/TESTING_OCI_5381286.pdf (deflated 21%)\n"
          ]
        }
      ]
    },
    {
      "cell_type": "markdown",
      "source": [
        "##Define some functions"
      ],
      "metadata": {
        "id": "sfWwA3qjCpZO"
      }
    },
    {
      "cell_type": "code",
      "source": [],
      "metadata": {
        "id": "iyY4b7LjKgjk"
      },
      "execution_count": null,
      "outputs": []
    },
    {
      "cell_type": "code",
      "source": [
        "!mkdir pdf-files\n",
        "!mkdir jpg-files"
      ],
      "metadata": {
        "id": "_DWl-aVix93V"
      },
      "execution_count": null,
      "outputs": []
    },
    {
      "cell_type": "code",
      "source": [
        "pdf_files_path = \"pdf-files\"\n",
        "jpg_files_path = \"jpg-files\""
      ],
      "metadata": {
        "id": "Pj09Vs8k00zq"
      },
      "execution_count": null,
      "outputs": []
    },
    {
      "cell_type": "code",
      "source": [
        "def pdf_splitter(path):\n",
        "  pdf_in_file = open(path, \"rb\")\n",
        "  pdf = PdfFileReader(pdf_in_file)\n",
        "  pdf_list = []\n",
        "  for page in range(pdf.numPages):\n",
        "      inputpdf = PdfFileReader(pdf_in_file)\n",
        "      output = PdfFileWriter()\n",
        "      output.addPage(inputpdf.getPage(page))\n",
        "      with open(f\"{pdf_files_path}/pdf-page-{page}.pdf\", \"wb\") as outputStream:\n",
        "          output.write(outputStream)\n",
        "          pdf_list.append(f\"pdf-page-{page}.pdf\")\n",
        "  return pdf_list"
      ],
      "metadata": {
        "id": "36rzIbjo6TUG"
      },
      "execution_count": null,
      "outputs": []
    },
    {
      "cell_type": "code",
      "source": [
        "def pdf_to_image(pdf_list):\n",
        "  img_list = []\n",
        "  i = 0\n",
        "  for pdf_file in pdf_list:\n",
        "    pages = convert_from_path(os.path.join(pdf_files_path, pdf_file))\n",
        "    for page in pages:\n",
        "      page.save(f\"{jpg_files_path}/pdf-page-{str(i)}.jpg\", \"JPEG\")\n",
        "      img_list.append(f\"{jpg_files_path}/pdf-page-{str(i)}.jpg\")\n",
        "      i = i + 1\n",
        "  return img_list"
      ],
      "metadata": {
        "id": "ShUFIDgr8d7C"
      },
      "execution_count": null,
      "outputs": []
    },
    {
      "cell_type": "code",
      "source": [
        "def img_display(im_path=None, im_data=None):\n",
        "    dpi = 80\n",
        "    if im_path is not None:\n",
        "      im_data = plt.imread(im_path)\n",
        "\n",
        "    height, width  = im_data.shape[:2]\n",
        "\n",
        "    # What size does the figure need to be in inches to fit the image?\n",
        "    figsize = width / float(dpi), height / float(dpi)\n",
        "\n",
        "    # Create a figure of the right size with one axes that takes up the full figure\n",
        "    fig = plt.figure(figsize=figsize)\n",
        "    ax = fig.add_axes([0, 0, 1, 1])\n",
        "\n",
        "    # Hide spines, ticks, etc.\n",
        "    ax.axis('off')\n",
        "\n",
        "    # Display the image.\n",
        "    ax.imshow(im_data, cmap='gray')\n",
        "\n",
        "    plt.show()"
      ],
      "metadata": {
        "id": "sB-Q9SaEjsXG"
      },
      "execution_count": null,
      "outputs": []
    },
    {
      "cell_type": "code",
      "source": [
        "def thick_font(image):\n",
        "  image = cv2.bitwise_not(image)\n",
        "  kernel = np.ones((2, 2), np.uint8)\n",
        "  image = cv2.dilate(image, kernel, iterations=1)\n",
        "  image = cv2.bitwise_not(image)\n",
        "\n",
        "  return image"
      ],
      "metadata": {
        "id": "gYpe4tCN2lNo"
      },
      "execution_count": null,
      "outputs": []
    },
    {
      "cell_type": "markdown",
      "source": [
        "##PDF to Image conversion"
      ],
      "metadata": {
        "id": "tdoem65A6I2h"
      }
    },
    {
      "cell_type": "code",
      "source": [
        "pdf_list = pdf_splitter(\"-248363259958132913_CLD_Redacted.pdf\")"
      ],
      "metadata": {
        "id": "-88Ho4Ql6MAa"
      },
      "execution_count": null,
      "outputs": []
    },
    {
      "cell_type": "code",
      "source": [
        "len(pdf_list)"
      ],
      "metadata": {
        "colab": {
          "base_uri": "https://localhost:8080/"
        },
        "id": "GDITJXqj9yzB",
        "outputId": "f12d17d7-d258-44d9-f1a7-39dd3a31dd04"
      },
      "execution_count": null,
      "outputs": [
        {
          "output_type": "execute_result",
          "data": {
            "text/plain": [
              "37"
            ]
          },
          "metadata": {},
          "execution_count": 17
        }
      ]
    },
    {
      "cell_type": "code",
      "source": [
        "pdf_list[118]"
      ],
      "metadata": {
        "colab": {
          "base_uri": "https://localhost:8080/",
          "height": 35
        },
        "id": "4Fw9tFBS93_f",
        "outputId": "e2977570-6e38-400e-8969-a1bd13594d23"
      },
      "execution_count": null,
      "outputs": [
        {
          "output_type": "execute_result",
          "data": {
            "text/plain": [
              "'pdf-page-118.pdf'"
            ],
            "application/vnd.google.colaboratory.intrinsic+json": {
              "type": "string"
            }
          },
          "metadata": {},
          "execution_count": 12
        }
      ]
    },
    {
      "cell_type": "code",
      "source": [
        "img_list = pdf_to_image(pdf_list)"
      ],
      "metadata": {
        "id": "ph_bUyD_9NDE"
      },
      "execution_count": null,
      "outputs": []
    },
    {
      "cell_type": "code",
      "source": [
        "len(img_list)"
      ],
      "metadata": {
        "colab": {
          "base_uri": "https://localhost:8080/"
        },
        "id": "5E3_GpJY_Wii",
        "outputId": "3da13147-ad44-4cac-b3cd-f53c228542cd"
      },
      "execution_count": null,
      "outputs": [
        {
          "output_type": "execute_result",
          "data": {
            "text/plain": [
              "14"
            ]
          },
          "metadata": {},
          "execution_count": 12
        }
      ]
    },
    {
      "cell_type": "code",
      "source": [
        "img_list[118]"
      ],
      "metadata": {
        "colab": {
          "base_uri": "https://localhost:8080/",
          "height": 35
        },
        "id": "dL68Zab7_SPr",
        "outputId": "8fde1c36-1409-491e-b2b8-b2674208e033"
      },
      "execution_count": null,
      "outputs": [
        {
          "output_type": "execute_result",
          "data": {
            "text/plain": [
              "'jpg-files/pdf-page-118.jpg'"
            ],
            "application/vnd.google.colaboratory.intrinsic+json": {
              "type": "string"
            }
          },
          "metadata": {},
          "execution_count": 16
        }
      ]
    },
    {
      "cell_type": "code",
      "source": [
        "!rm -rf jpg-files/*.jpg"
      ],
      "metadata": {
        "id": "kNEBXYN5CHc-"
      },
      "execution_count": null,
      "outputs": []
    },
    {
      "cell_type": "code",
      "source": [
        "!rm -rf pdf-files/*.pdf"
      ],
      "metadata": {
        "id": "c9PLzLZ2zcfO"
      },
      "execution_count": null,
      "outputs": []
    },
    {
      "cell_type": "markdown",
      "source": [
        "##Image preprocessing"
      ],
      "metadata": {
        "id": "-QHMc5Jot_HB"
      }
    },
    {
      "cell_type": "code",
      "source": [
        "img_display(im_path=img_list[118])"
      ],
      "metadata": {
        "id": "Kfam1RnSuBic"
      },
      "execution_count": null,
      "outputs": []
    },
    {
      "cell_type": "code",
      "source": [
        "image = cv2.imread(img_list[118])\n",
        "result = image.copy()\n",
        "gray = cv2.cvtColor(image,cv2.COLOR_BGR2GRAY)\n",
        "thresh = cv2.threshold(gray, 0, 255, cv2.THRESH_BINARY_INV + cv2.THRESH_OTSU)[1]\n",
        "\n",
        "# Remove horizontal lines\n",
        "horizontal_kernel = cv2.getStructuringElement(cv2.MORPH_RECT, (80, 1))\n",
        "remove_horizontal = cv2.morphologyEx(thresh, cv2.MORPH_OPEN, horizontal_kernel, iterations=4)\n",
        "cnts = cv2.findContours(remove_horizontal, cv2.RETR_EXTERNAL, cv2.CHAIN_APPROX_SIMPLE)\n",
        "cnts = cnts[0] if len(cnts) == 2 else cnts[1]\n",
        "for c in cnts:\n",
        "  cv2.drawContours(result, [c], -1, (255,255,255), 5)\n",
        "\n",
        "# Remove vertical lines\n",
        "vertical_kernel = cv2.getStructuringElement(cv2.MORPH_RECT, (1, 40))\n",
        "remove_vertical = cv2.morphologyEx(thresh, cv2.MORPH_OPEN, vertical_kernel, iterations=4)\n",
        "cnts = cv2.findContours(remove_vertical, cv2.RETR_EXTERNAL, cv2.CHAIN_APPROX_SIMPLE)\n",
        "cnts = cnts[0] if len(cnts) == 2 else cnts[1]\n",
        "for c in cnts:\n",
        "  cv2.drawContours(result, [c], -1, (255,255,255), 5)\n",
        "\n",
        "#img_display(im_data=thresh)\n",
        "img_display(im_data=result)\n",
        "cv2.imwrite('result.png', result)"
      ],
      "metadata": {
        "id": "3wGtzh9avFpF"
      },
      "execution_count": null,
      "outputs": []
    },
    {
      "cell_type": "code",
      "source": [
        "image = cv2.imread(img_list[118])\n",
        "result = image.copy()\n",
        "gray = cv2.cvtColor(image,cv2.COLOR_BGR2GRAY)\n",
        "thresh = cv2.threshold(gray, 0, 255, cv2.THRESH_BINARY_INV | cv2.THRESH_OTSU)[1]\n",
        "\n",
        "# Remove horizontal lines\n",
        "horizontal_kernel = cv2.getStructuringElement(cv2.MORPH_RECT, (80, 1))\n",
        "remove_horizontal = cv2.morphologyEx(thresh, cv2.MORPH_OPEN, horizontal_kernel, iterations=1)\n",
        "cnts = cv2.findContours(remove_horizontal, cv2.RETR_EXTERNAL, cv2.CHAIN_APPROX_SIMPLE)\n",
        "cnts = cnts[0] if len(cnts) == 2 else cnts[1]\n",
        "for c in cnts:\n",
        "  cv2.drawContours(result, [c], -1, (255,255,255), 5)\n",
        "\n",
        "# Remove vertical lines\n",
        "vertical_kernel = cv2.getStructuringElement(cv2.MORPH_RECT, (1, 80))\n",
        "remove_vertical = cv2.morphologyEx(thresh, cv2.MORPH_OPEN, vertical_kernel, iterations=1)\n",
        "cnts = cv2.findContours(remove_vertical, cv2.RETR_EXTERNAL, cv2.CHAIN_APPROX_SIMPLE)\n",
        "cnts = cnts[0] if len(cnts) == 2 else cnts[1]\n",
        "for c in cnts:\n",
        "  cv2.drawContours(result, [c], -1, (255,255,255), 5)\n",
        "\n",
        "#img_display(im_data=thresh)\n",
        "img_display(im_data=result)\n",
        "cv2.imwrite('result2.png', result)"
      ],
      "metadata": {
        "id": "2wbKUbt-4a_z"
      },
      "execution_count": null,
      "outputs": []
    },
    {
      "cell_type": "code",
      "source": [
        "custom_config = r'--oem 3 --psm 12'\n",
        "\n",
        "txt_data = pytesseract.image_to_string(\"result2.png\", config=custom_config)\n",
        "\n",
        "with open(\"ocr-extracted2.txt\", \"a\") as f:\n",
        "  f.write(txt_data)\n",
        "\n",
        "print(\"File is written\")"
      ],
      "metadata": {
        "id": "13Wgb9PS0D3_",
        "outputId": "fbcde883-99f1-4048-993f-b90c80e844df",
        "colab": {
          "base_uri": "https://localhost:8080/"
        }
      },
      "execution_count": null,
      "outputs": [
        {
          "output_type": "stream",
          "name": "stdout",
          "text": [
            "File is written\n"
          ]
        }
      ]
    },
    {
      "cell_type": "markdown",
      "source": [
        "##Image text extraction"
      ],
      "metadata": {
        "id": "8ZIbgxZV2qtG"
      }
    },
    {
      "cell_type": "code",
      "source": [
        "%%time\n",
        "\n",
        "custom_config = r'--oem 3 --psm 12'\n",
        "\n",
        "# iterate from 18 to end\n",
        "for index, image_file in enumerate(img_list):\n",
        "  # print(f\"Extracting text from {image_file}\")\n",
        "  image = cv2.imread(image_file)\n",
        "\n",
        "  # removing noise\n",
        "  noiseless_image_bw = cv2.fastNlMeansDenoising(image, None, 40, 7, 21)\n",
        "  # font thickness\n",
        "  image_smoothed = thick_font(noiseless_image_bw)\n",
        "  # extract text from image\n",
        "  txt_data = pytesseract.image_to_string(image_smoothed, config=custom_config)\n",
        "\n",
        "  with open(\"-248363259958132913_CLD_Redacted.txt\", \"a\") as f:\n",
        "    f.write(txt_data)\n",
        "\n",
        "print(\"File is written\")"
      ],
      "metadata": {
        "id": "yOpQClIw2r3w",
        "outputId": "c32ee5e2-2666-426e-c49f-a4c59c8950c2",
        "colab": {
          "base_uri": "https://localhost:8080/"
        }
      },
      "execution_count": null,
      "outputs": [
        {
          "output_type": "stream",
          "name": "stdout",
          "text": [
            "File is written\n",
            "CPU times: user 13min 32s, sys: 1.65 s, total: 13min 34s\n",
            "Wall time: 11min 18s\n"
          ]
        }
      ]
    },
    {
      "cell_type": "code",
      "source": [
        "!rm -rf *.jpg"
      ],
      "metadata": {
        "id": "AW-xKbrEC4yY"
      },
      "execution_count": null,
      "outputs": []
    },
    {
      "cell_type": "markdown",
      "source": [
        "##Large PDF text extraction"
      ],
      "metadata": {
        "id": "0WX3Itt8gaIs"
      }
    },
    {
      "cell_type": "code",
      "source": [
        "%%time\n",
        "\n",
        "# Load your PDF\n",
        "with open(\"Synodex_Sample_APS_Report.pdf\", \"rb\") as f:\n",
        "  pdf = pdftotext.PDF(f)\n",
        "\n",
        "# How many pages?\n",
        "print(len(pdf))\n",
        "\n",
        "pdf_text = \"\\n\\n\".join(pdf)\n",
        "\n",
        "# Iterate over all the pages\n",
        "#for page in pdf:\n",
        "  #print(page)\n",
        "  #pdf_text = \"\\n\\n\".join(pdf)\n",
        "\n",
        "# write text into file\n",
        "with open(\"ocr-extracted.txt\", \"a\") as f:\n",
        "  f.write(pdf_text)\n",
        "\n",
        "print(\"File is written\")\n",
        "# Read all the text into one string\n",
        "#print(\"\\n\\n\".join(pdf))"
      ],
      "metadata": {
        "id": "rh4GrOR1ht6w",
        "outputId": "52fc95f0-9ab5-47a1-ee90-4c0a58dbb020",
        "colab": {
          "base_uri": "https://localhost:8080/"
        }
      },
      "execution_count": null,
      "outputs": [
        {
          "output_type": "stream",
          "name": "stdout",
          "text": [
            "132\n",
            "File is written\n",
            "CPU times: user 136 ms, sys: 7.98 ms, total: 144 ms\n",
            "Wall time: 150 ms\n"
          ]
        }
      ]
    },
    {
      "cell_type": "code",
      "source": [
        "keywords_list = [\n",
        "  \"Consolidated\", \"Cigarettes\", \"Tobacco\", \"Ketoacidosis\", \"Diagnosis\", \"Medical\", \"Night Sweats\", \"Symptom Status\",\n",
        "  \"Diagnosis Status\", \"Diabetes is under\", \"Proteinuria diagnosed\", \"Ketone levels\", \"Random Blood Sugar\", \"Serum Creatinine\",\n",
        "  \"Albumin-Creatinine Ratio\", \"Elaborate abnormal findings\", \"Urine Creatinine\", \"Urine Albumin\"\n",
        "]"
      ],
      "metadata": {
        "id": "bsLIEq6Rm-cc"
      },
      "execution_count": null,
      "outputs": []
    },
    {
      "cell_type": "code",
      "source": [
        "%%time\n",
        "\n",
        "# Load your PDF\n",
        "with open(\"file_large.pdf\", \"rb\") as f:\n",
        "  pdf = pdftotext.PDF(f)\n",
        "\n",
        "# How many pages?\n",
        "print(len(pdf))\n",
        "\n",
        "keyword_found_list = []\n",
        "#keyword_found_dict = {}\n",
        "\n",
        "# Iterate over all the keywords\n",
        "for keyword in keywords_list:\n",
        "  # Iterate over all the pages\n",
        "  for page in pdf:\n",
        "    if re.search(keyword, page) and keyword not in keyword_found_list:\n",
        "      keyword_found_list.append(keyword)\n",
        "      #keyword_found_dict[keyword] = True\n",
        "      break\n",
        "\n",
        "      #pdf_text = \"\\n\\n\".join(pdf)\n"
      ],
      "metadata": {
        "id": "0R1A_jrtoTg1",
        "outputId": "acb18688-d5b1-42a9-a269-43524613a9bc",
        "colab": {
          "base_uri": "https://localhost:8080/"
        }
      },
      "execution_count": null,
      "outputs": [
        {
          "output_type": "stream",
          "name": "stdout",
          "text": [
            "144\n",
            "CPU times: user 459 ms, sys: 448 µs, total: 460 ms\n",
            "Wall time: 459 ms\n"
          ]
        }
      ]
    },
    {
      "cell_type": "code",
      "source": [
        "keyword_found_list"
      ],
      "metadata": {
        "id": "5CD1Og-ZktRy",
        "outputId": "2e69c4dc-cba1-4c88-a69e-f6e260336fa6",
        "colab": {
          "base_uri": "https://localhost:8080/"
        }
      },
      "execution_count": null,
      "outputs": [
        {
          "output_type": "execute_result",
          "data": {
            "text/plain": [
              "['Consolidated',\n",
              " 'Cigarettes',\n",
              " 'Tobacco',\n",
              " 'Ketoacidosis',\n",
              " 'Diagnosis',\n",
              " 'Medical',\n",
              " 'Night Sweats',\n",
              " 'Symptom Status',\n",
              " 'Diagnosis Status',\n",
              " 'Diabetes is under',\n",
              " 'Proteinuria diagnosed',\n",
              " 'Ketone levels',\n",
              " 'Random Blood Sugar',\n",
              " 'Serum Creatinine',\n",
              " 'Albumin-Creatinine Ratio',\n",
              " 'Elaborate abnormal findings',\n",
              " 'Urine Creatinine',\n",
              " 'Urine Albumin']"
            ]
          },
          "metadata": {},
          "execution_count": 18
        }
      ]
    }
  ]
}