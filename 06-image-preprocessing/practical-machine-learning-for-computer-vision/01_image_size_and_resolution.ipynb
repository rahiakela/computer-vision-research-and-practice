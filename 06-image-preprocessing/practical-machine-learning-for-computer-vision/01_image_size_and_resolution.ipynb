{
  "nbformat": 4,
  "nbformat_minor": 0,
  "metadata": {
    "colab": {
      "provenance": [],
      "toc_visible": true,
      "authorship_tag": "ABX9TyPK5aPtcvBPCwsyFcUF8QxC",
      "include_colab_link": true
    },
    "kernelspec": {
      "name": "python3",
      "display_name": "Python 3"
    },
    "language_info": {
      "name": "python"
    }
  },
  "cells": [
    {
      "cell_type": "markdown",
      "metadata": {
        "id": "view-in-github",
        "colab_type": "text"
      },
      "source": [
        "<a href=\"https://colab.research.google.com/github/rahiakela/computer-vision-research-and-practice/blob/main/06-image-preprocessing/practical-machine-learning-for-computer-vision/01_image_size_and_resolution.ipynb\" target=\"_parent\"><img src=\"https://colab.research.google.com/assets/colab-badge.svg\" alt=\"Open In Colab\"/></a>"
      ]
    },
    {
      "cell_type": "markdown",
      "source": [
        "##Image Size and Resolution"
      ],
      "metadata": {
        "id": "LKAIXZtixHpg"
      }
    },
    {
      "cell_type": "markdown",
      "source": [
        "In the standard image processing pipeline, The next\n",
        "stage is preprocessing the raw images in order to feed them into the model for training or inference.\n",
        "\n",
        "![](https://github.com/rahiakela/computer-vision-research-and-practice/blob/main/06-image-preprocessing/practical-machine-learning-for-computer-vision/images/training_pipeline.png?raw=1)\n",
        "\n",
        "Before raw images can be fed into an image model, they usually have to be preprocessed.\n",
        "\n",
        "Such preprocessing has several overlapping goals: shape transformation, data\n",
        "quality, and model quality.\n",
        "\n",
        "1. The input images typically have to be transformed into a consistent size.\n",
        "2. Another reason to do preprocessing is to enforce data quality.\n",
        "3. A third goal of preprocessing is to carry out transformations that help improve the accuracy of models trained on the data."
      ],
      "metadata": {
        "id": "y8wjhx8lx06i"
      }
    },
    {
      "cell_type": "markdown",
      "source": [
        "##Setup"
      ],
      "metadata": {
        "id": "xyXWMkPxzxjJ"
      }
    },
    {
      "cell_type": "code",
      "source": [
        "import tensorflow as tf\n",
        "\n",
        "import matplotlib.pylab as plt\n",
        "import numpy as np"
      ],
      "metadata": {
        "id": "yAHlU4bLzynE"
      },
      "execution_count": null,
      "outputs": []
    },
    {
      "cell_type": "code",
      "source": [
        "# Helper functions\n",
        "def training_plot(metrics, history):\n",
        "  f, ax = plt.subplots(1, len(metrics), figsize=(5*len(metrics), 5))\n",
        "  for idx, metric in enumerate(metrics):\n",
        "    ax[idx].plot(history.history[metric], ls='dashed')\n",
        "    ax[idx].set_xlabel(\"Epochs\")\n",
        "    ax[idx].set_ylabel(metric)\n",
        "    ax[idx].plot(history.history['val_' + metric]);\n",
        "    ax[idx].legend([metric, 'val_' + metric])"
      ],
      "metadata": {
        "id": "U7AvIXjz0AM0"
      },
      "execution_count": null,
      "outputs": []
    },
    {
      "cell_type": "code",
      "source": [
        "def parse_tfr(proto):\n",
        "  feature_description = {\n",
        "      'image': tf.io.VarLenFeature(tf.float32),\n",
        "      'shape': tf.io.VarLenFeature(tf.int64),\n",
        "      'label': tf.io.FixedLenFeature([], tf.string, default_value=''),\n",
        "      'label_int': tf.io.FixedLenFeature([], tf.int64, default_value=0),\n",
        "  }\n",
        "  rec = tf.io.parse_single_example(\n",
        "      proto, feature_description\n",
        "  )\n",
        "  shape = tf.sparse.to_dense(rec['shape'])\n",
        "  img = tf.reshape(tf.sparse.to_dense(rec['image']), shape)\n",
        "  label_int = rec['label_int']\n",
        "  return img, label_int"
      ],
      "metadata": {
        "id": "6lCyXwwM0Dyc"
      },
      "execution_count": null,
      "outputs": []
    },
    {
      "cell_type": "code",
      "source": [
        "IMG_HEIGHT = 224\n",
        "IMG_WIDTH = 224\n",
        "IMG_CHANNELS = 3\n",
        "CLASS_NAMES = 'daisy dandelion roses sunflowers tulips'.split()"
      ],
      "metadata": {
        "id": "f7KM67e0z7un"
      },
      "execution_count": null,
      "outputs": []
    },
    {
      "cell_type": "markdown",
      "source": [
        "##Loading Images"
      ],
      "metadata": {
        "id": "hX8yZTXL0L3h"
      }
    },
    {
      "cell_type": "code",
      "source": [],
      "metadata": {
        "id": "aupvYAKu0Nnn"
      },
      "execution_count": null,
      "outputs": []
    }
  ]
}