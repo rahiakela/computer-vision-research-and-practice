{
  "nbformat": 4,
  "nbformat_minor": 0,
  "metadata": {
    "colab": {
      "provenance": [],
      "toc_visible": true,
      "authorship_tag": "ABX9TyMecvtFc5Q/TD+v3vqNuJb1",
      "include_colab_link": true
    },
    "kernelspec": {
      "name": "python3",
      "display_name": "Python 3"
    },
    "language_info": {
      "name": "python"
    }
  },
  "cells": [
    {
      "cell_type": "markdown",
      "metadata": {
        "id": "view-in-github",
        "colab_type": "text"
      },
      "source": [
        "<a href=\"https://colab.research.google.com/github/rahiakela/computer-vision-research-and-practice/blob/main/06-image-preprocessing/practical-machine-learning-for-computer-vision/01_image_size_and_resolution.ipynb\" target=\"_parent\"><img src=\"https://colab.research.google.com/assets/colab-badge.svg\" alt=\"Open In Colab\"/></a>"
      ]
    },
    {
      "cell_type": "markdown",
      "source": [
        "##Image Size and Resolution"
      ],
      "metadata": {
        "id": "LKAIXZtixHpg"
      }
    },
    {
      "cell_type": "markdown",
      "source": [
        "In the standard image processing pipeline, The next\n",
        "stage is preprocessing the raw images in order to feed them into the model for training or inference."
      ],
      "metadata": {
        "id": "y8wjhx8lx06i"
      }
    }
  ]
}