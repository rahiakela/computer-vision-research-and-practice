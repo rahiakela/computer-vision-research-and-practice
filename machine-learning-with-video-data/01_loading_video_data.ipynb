{
  "nbformat": 4,
  "nbformat_minor": 0,
  "metadata": {
    "colab": {
      "provenance": [],
      "toc_visible": true,
      "authorship_tag": "ABX9TyM4i2Djsmm4GkOh5lCYlzEp",
      "include_colab_link": true
    },
    "kernelspec": {
      "name": "python3",
      "display_name": "Python 3"
    },
    "language_info": {
      "name": "python"
    }
  },
  "cells": [
    {
      "cell_type": "markdown",
      "metadata": {
        "id": "view-in-github",
        "colab_type": "text"
      },
      "source": [
        "<a href=\"https://colab.research.google.com/github/rahiakela/computer-vision-research-and-practice/blob/main/machine-learning-with-video-data/01_loading_video_data.ipynb\" target=\"_parent\"><img src=\"https://colab.research.google.com/assets/colab-badge.svg\" alt=\"Open In Colab\"/></a>"
      ]
    },
    {
      "cell_type": "markdown",
      "source": [
        "##Loading video data"
      ],
      "metadata": {
        "id": "em-YYR9X6NLD"
      }
    },
    {
      "cell_type": "markdown",
      "source": [
        "This tutorial demonstrates how to load and preprocess [AVI](https://en.wikipedia.org/wiki/Audio_Video_Interleave) video data using the [UCF101 human action dataset](https://www.tensorflow.org/datasets/catalog/ucf101). Once you have preprocessed the data, it can be used for such tasks as video classification/recognition, captioning or clustering. The original dataset contains realistic action videos collected from YouTube with 101 categories, including playing cello, brushing teeth, and applying eye makeup. You will learn how to:\n",
        "\n",
        "* Load the data from a zip file.\n",
        "\n",
        "* Read sequences of frames out of the video files.\n",
        "\n",
        "* Visualize the video data.\n",
        "\n",
        "* Wrap the frame-generator [`tf.data.Dataset`](https://www.tensorflow.org/guide/data).\n",
        "\n",
        "This video loading and preprocessing tutorial is the first part in a series of TensorFlow video tutorials. Here are the other three tutorials:\n",
        "\n",
        "- [Build a 3D CNN model for video classification](https://www.tensorflow.org/tutorials/video/video_classification): Note that this tutorial uses a (2+1)D CNN that decomposes the spatial and temporal aspects of 3D data; if you are using volumetric data such as an MRI scan, consider using a 3D CNN instead of a (2+1)D CNN.\n",
        "- [MoViNet for streaming action recognition](https://www.tensorflow.org/hub/tutorials/movinet): Get familiar with the MoViNet models that are available on TF Hub.\n",
        "- [Transfer learning for video classification with MoViNet](https://www.tensorflow.org/tutorials/video/transfer_learning_with_movinet): This tutorial explains how to use a pre-trained video classification model trained on a different dataset with the UCF-101 dataset."
      ],
      "metadata": {
        "id": "e1-vCFFy8DP5"
      }
    },
    {
      "cell_type": "markdown",
      "source": [
        "## Setup"
      ],
      "metadata": {
        "id": "Hg3Bp7QO8FtT"
      }
    },
    {
      "cell_type": "markdown",
      "source": [
        "Begin by installing and importing some necessary libraries, including:\n",
        "[remotezip](https://github.com/gtsystem/python-remotezip) to inspect the contents of a ZIP file, [tqdm](https://github.com/tqdm/tqdm) to use a progress bar, [OpenCV](https://opencv.org/) to process video files, and [`tensorflow_docs`](https://github.com/tensorflow/docs/tree/master/tools/tensorflow_docs) for embedding data in a Jupyter notebook."
      ],
      "metadata": {
        "id": "34v2eppI8GGI"
      }
    },
    {
      "cell_type": "code",
      "source": [
        "# The way this tutorial uses the `TimeDistributed` layer requires TF>=2.10\n",
        "!pip install -U \"tensorflow>=2.10.0\""
      ],
      "metadata": {
        "id": "UfGAizX28IJl"
      },
      "execution_count": null,
      "outputs": []
    },
    {
      "cell_type": "code",
      "source": [
        "!pip install remotezip tqdm opencv-python\n",
        "!pip install -q git+https://github.com/tensorflow/docs"
      ],
      "metadata": {
        "id": "K9OQqHoc8M7b"
      },
      "execution_count": null,
      "outputs": []
    },
    {
      "cell_type": "code",
      "source": [
        "import tqdm\n",
        "import random\n",
        "import pathlib\n",
        "import itertools\n",
        "import collections\n",
        "\n",
        "import os\n",
        "import cv2\n",
        "import numpy as np\n",
        "import remotezip as rz\n",
        "\n",
        "import tensorflow as tf\n",
        "\n",
        "# Some modules to display an animation using imageio.\n",
        "import imageio\n",
        "from IPython import display\n",
        "from urllib import request\n",
        "from tensorflow_docs.vis import embed"
      ],
      "metadata": {
        "id": "qwNRGRB38NRC"
      },
      "execution_count": 1,
      "outputs": []
    },
    {
      "cell_type": "markdown",
      "source": [
        "##UCF101 dataset"
      ],
      "metadata": {
        "id": "XY8loA7r8P18"
      }
    },
    {
      "cell_type": "markdown",
      "source": [
        "The [UCF101 dataset](https://www.tensorflow.org/datasets/catalog/ucf101) contains 101 categories of different actions in video, primarily used in action recognition. You will use a subset of these categories in this demo."
      ],
      "metadata": {
        "id": "qFNiCaLp8ZFX"
      }
    },
    {
      "cell_type": "code",
      "source": [
        "URL = \"https://storage.googleapis.com/thumos14_files/UCF101_videos.zip\""
      ],
      "metadata": {
        "id": "H9nx_IOK8bbY"
      },
      "execution_count": 2,
      "outputs": []
    },
    {
      "cell_type": "markdown",
      "source": [
        "The above URL contains a zip file with the UCF 101 dataset. \n",
        "\n",
        "Let's create a function that uses the `remotezip` library to examine the contents of the zip file in that URL:"
      ],
      "metadata": {
        "id": "N3V-ogrq8o0n"
      }
    },
    {
      "cell_type": "code",
      "source": [
        "def list_files_from_zip_url(zip_url):\n",
        "  \"\"\"\n",
        "  List the files in each class of the dataset given a URL with the zip file.\n",
        "  Args:\n",
        "    zip_url: A URL from which the files can be extracted from.\n",
        "  Returns:\n",
        "    List of files in each of the classes.\n",
        "  \"\"\"\n",
        "  files = []\n",
        "  with rz.RemoteZip(zip_url) as zip:\n",
        "    for zip_info in zip.infolist():\n",
        "      files.append(zip_info.filename)\n",
        "  return files"
      ],
      "metadata": {
        "id": "s5vHRciT8q2E"
      },
      "execution_count": 3,
      "outputs": []
    },
    {
      "cell_type": "code",
      "source": [
        "files = list_files_from_zip_url(URL)\n",
        "files = [f for f in files if f.endswith(\".avi\")]\n",
        "files[:10]"
      ],
      "metadata": {
        "id": "ATiKEzHQ9LSE",
        "outputId": "93e0fc26-f5cb-4696-bfcf-e41f7729faa8",
        "colab": {
          "base_uri": "https://localhost:8080/"
        }
      },
      "execution_count": 4,
      "outputs": [
        {
          "output_type": "execute_result",
          "data": {
            "text/plain": [
              "['UCF101/v_ApplyEyeMakeup_g01_c01.avi',\n",
              " 'UCF101/v_ApplyEyeMakeup_g01_c02.avi',\n",
              " 'UCF101/v_ApplyEyeMakeup_g01_c03.avi',\n",
              " 'UCF101/v_ApplyEyeMakeup_g01_c04.avi',\n",
              " 'UCF101/v_ApplyEyeMakeup_g01_c05.avi',\n",
              " 'UCF101/v_ApplyEyeMakeup_g01_c06.avi',\n",
              " 'UCF101/v_ApplyEyeMakeup_g02_c01.avi',\n",
              " 'UCF101/v_ApplyEyeMakeup_g02_c02.avi',\n",
              " 'UCF101/v_ApplyEyeMakeup_g02_c03.avi',\n",
              " 'UCF101/v_ApplyEyeMakeup_g02_c04.avi']"
            ]
          },
          "metadata": {},
          "execution_count": 4
        }
      ]
    },
    {
      "cell_type": "markdown",
      "source": [
        "Begin with a few videos and a limited number of classes for training. After running the above code block, notice that the class name is included in the filename of each video.\n",
        "\n",
        "Let's define the `get_class` function that retrieves the class name from a filename. Then, create a function called `get_files_per_class` which converts the list of all files (`files` above) into a dictionary listing the files for each class:"
      ],
      "metadata": {
        "id": "bxQgahXQ-bn9"
      }
    },
    {
      "cell_type": "code",
      "source": [
        "def get_class(fname):\n",
        "  \"\"\"Retrieve the name of the class given a filename\"\"\"\n",
        "  return fname.split(\"_\")[-3]"
      ],
      "metadata": {
        "id": "UTXvtlQA-djc"
      },
      "execution_count": 5,
      "outputs": []
    },
    {
      "cell_type": "code",
      "source": [
        "def get_files_per_class(files):\n",
        "  \"\"\"Retrieve the files that belong to each class.\"\"\"\n",
        "  files_for_class = collections.defaultdict(list)\n",
        "  for fname in files:\n",
        "    class_name = get_class(fname)\n",
        "    files_for_class[class_name].append(fname)\n",
        "  return files_for_class"
      ],
      "metadata": {
        "id": "0o5iffTB-pSB"
      },
      "execution_count": 6,
      "outputs": []
    },
    {
      "cell_type": "markdown",
      "source": [
        "Once you have the list of files per class, you can choose how many classes you would like to use and how many videos you would like per class in order to create your dataset. "
      ],
      "metadata": {
        "id": "-ERRrAtH_GmO"
      }
    },
    {
      "cell_type": "code",
      "source": [
        "NUM_CLASSES = 10\n",
        "FILES_PER_CLASS = 50"
      ],
      "metadata": {
        "id": "3whzjcnv_HCU"
      },
      "execution_count": 7,
      "outputs": []
    },
    {
      "cell_type": "code",
      "source": [
        "files_for_class = get_files_per_class(files)\n",
        "classes = list(files_for_class.keys())\n",
        "\n",
        "print(f\"Num classes: {classes}\")\n",
        "print(f\"Num videos for class[0]: {len(files_for_class[classes[0]])}\")\n",
        "print(f\"Few videos for classes: {files_for_class}\")"
      ],
      "metadata": {
        "id": "KVxcROTW_JH4",
        "outputId": "3430a9e3-0d2a-4703-c4f6-7c4e37e50eb8",
        "colab": {
          "base_uri": "https://localhost:8080/"
        }
      },
      "execution_count": 10,
      "outputs": [
        {
          "output_type": "stream",
          "name": "stdout",
          "text": [
            "Num classes: ['ApplyEyeMakeup', 'ApplyLipstick', 'Archery', 'BabyCrawling', 'BalanceBeam', 'BandMarching', 'BaseballPitch', 'BasketballDunk', 'Basketball', 'BenchPress', 'Biking', 'Billiards', 'BlowDryHair', 'BlowingCandles', 'BodyWeightSquats', 'Bowling', 'BoxingPunchingBag', 'BoxingSpeedBag', 'BreastStroke', 'BrushingTeeth', 'CleanAndJerk', 'CliffDiving', 'CricketBowling', 'CricketShot', 'CuttingInKitchen', 'Diving', 'Drumming', 'Fencing', 'FieldHockeyPenalty', 'FloorGymnastics', 'FrisbeeCatch', 'FrontCrawl', 'GolfSwing', 'Haircut', 'Hammering', 'HammerThrow', 'HandstandPushups', 'HandstandWalking', 'HeadMassage', 'HighJump', 'HorseRace', 'HorseRiding', 'HulaHoop', 'IceDancing', 'JavelinThrow', 'JugglingBalls', 'JumpingJack', 'JumpRope', 'Kayaking', 'Knitting', 'LongJump', 'Lunges', 'MilitaryParade', 'Mixing', 'MoppingFloor', 'Nunchucks', 'ParallelBars', 'PizzaTossing', 'PlayingCello', 'PlayingDaf', 'PlayingDhol', 'PlayingFlute', 'PlayingGuitar', 'PlayingPiano', 'PlayingSitar', 'PlayingTabla', 'PlayingViolin', 'PoleVault', 'PommelHorse', 'PullUps', 'Punch', 'PushUps', 'Rafting', 'RockClimbingIndoor', 'RopeClimbing', 'Rowing', 'SalsaSpin', 'ShavingBeard', 'Shotput', 'SkateBoarding', 'Skiing', 'Skijet', 'SkyDiving', 'SoccerJuggling', 'SoccerPenalty', 'StillRings', 'SumoWrestling', 'Surfing', 'Swing', 'TableTennisShot', 'TaiChi', 'TennisSwing', 'ThrowDiscus', 'TrampolineJumping', 'Typing', 'UnevenBars', 'VolleyballSpiking', 'WalkingWithDog', 'WallPushups', 'WritingOnBoard', 'YoYo']\n",
            "Num videos for class[0]: 145\n"
          ]
        }
      ]
    },
    {
      "cell_type": "code",
      "source": [
        "videos = list(files_for_class.values())\n",
        "print(f\"Few videos: {videos[:10]}\")"
      ],
      "metadata": {
        "id": "0eq5MmFUBHSL",
        "outputId": "0c101c86-fedd-46b4-99e9-86bba73da6be",
        "colab": {
          "base_uri": "https://localhost:8080/"
        }
      },
      "execution_count": 14,
      "outputs": [
        {
          "output_type": "stream",
          "name": "stdout",
          "text": [
            "Few videos for classes: [['UCF101/v_ApplyEyeMakeup_g01_c01.avi', 'UCF101/v_ApplyEyeMakeup_g01_c02.avi', 'UCF101/v_ApplyEyeMakeup_g01_c03.avi', 'UCF101/v_ApplyEyeMakeup_g01_c04.avi', 'UCF101/v_ApplyEyeMakeup_g01_c05.avi', 'UCF101/v_ApplyEyeMakeup_g01_c06.avi', 'UCF101/v_ApplyEyeMakeup_g02_c01.avi', 'UCF101/v_ApplyEyeMakeup_g02_c02.avi', 'UCF101/v_ApplyEyeMakeup_g02_c03.avi', 'UCF101/v_ApplyEyeMakeup_g02_c04.avi', 'UCF101/v_ApplyEyeMakeup_g03_c01.avi', 'UCF101/v_ApplyEyeMakeup_g03_c02.avi', 'UCF101/v_ApplyEyeMakeup_g03_c03.avi', 'UCF101/v_ApplyEyeMakeup_g03_c04.avi', 'UCF101/v_ApplyEyeMakeup_g03_c05.avi', 'UCF101/v_ApplyEyeMakeup_g03_c06.avi', 'UCF101/v_ApplyEyeMakeup_g04_c01.avi', 'UCF101/v_ApplyEyeMakeup_g04_c02.avi', 'UCF101/v_ApplyEyeMakeup_g04_c03.avi', 'UCF101/v_ApplyEyeMakeup_g04_c04.avi', 'UCF101/v_ApplyEyeMakeup_g04_c05.avi', 'UCF101/v_ApplyEyeMakeup_g04_c06.avi', 'UCF101/v_ApplyEyeMakeup_g04_c07.avi', 'UCF101/v_ApplyEyeMakeup_g05_c01.avi', 'UCF101/v_ApplyEyeMakeup_g05_c02.avi', 'UCF101/v_ApplyEyeMakeup_g05_c03.avi', 'UCF101/v_ApplyEyeMakeup_g05_c04.avi', 'UCF101/v_ApplyEyeMakeup_g05_c05.avi', 'UCF101/v_ApplyEyeMakeup_g05_c06.avi', 'UCF101/v_ApplyEyeMakeup_g05_c07.avi', 'UCF101/v_ApplyEyeMakeup_g06_c01.avi', 'UCF101/v_ApplyEyeMakeup_g06_c02.avi', 'UCF101/v_ApplyEyeMakeup_g06_c03.avi', 'UCF101/v_ApplyEyeMakeup_g06_c04.avi', 'UCF101/v_ApplyEyeMakeup_g06_c05.avi', 'UCF101/v_ApplyEyeMakeup_g06_c06.avi', 'UCF101/v_ApplyEyeMakeup_g06_c07.avi', 'UCF101/v_ApplyEyeMakeup_g07_c01.avi', 'UCF101/v_ApplyEyeMakeup_g07_c02.avi', 'UCF101/v_ApplyEyeMakeup_g07_c03.avi', 'UCF101/v_ApplyEyeMakeup_g07_c04.avi', 'UCF101/v_ApplyEyeMakeup_g07_c05.avi', 'UCF101/v_ApplyEyeMakeup_g07_c06.avi', 'UCF101/v_ApplyEyeMakeup_g07_c07.avi', 'UCF101/v_ApplyEyeMakeup_g08_c01.avi', 'UCF101/v_ApplyEyeMakeup_g08_c02.avi', 'UCF101/v_ApplyEyeMakeup_g08_c03.avi', 'UCF101/v_ApplyEyeMakeup_g08_c04.avi', 'UCF101/v_ApplyEyeMakeup_g08_c05.avi', 'UCF101/v_ApplyEyeMakeup_g09_c01.avi', 'UCF101/v_ApplyEyeMakeup_g09_c02.avi', 'UCF101/v_ApplyEyeMakeup_g09_c03.avi', 'UCF101/v_ApplyEyeMakeup_g09_c04.avi', 'UCF101/v_ApplyEyeMakeup_g09_c05.avi', 'UCF101/v_ApplyEyeMakeup_g09_c06.avi', 'UCF101/v_ApplyEyeMakeup_g09_c07.avi', 'UCF101/v_ApplyEyeMakeup_g10_c01.avi', 'UCF101/v_ApplyEyeMakeup_g10_c02.avi', 'UCF101/v_ApplyEyeMakeup_g10_c03.avi', 'UCF101/v_ApplyEyeMakeup_g10_c04.avi', 'UCF101/v_ApplyEyeMakeup_g10_c05.avi', 'UCF101/v_ApplyEyeMakeup_g11_c01.avi', 'UCF101/v_ApplyEyeMakeup_g11_c02.avi', 'UCF101/v_ApplyEyeMakeup_g11_c03.avi', 'UCF101/v_ApplyEyeMakeup_g11_c04.avi', 'UCF101/v_ApplyEyeMakeup_g11_c05.avi', 'UCF101/v_ApplyEyeMakeup_g12_c01.avi', 'UCF101/v_ApplyEyeMakeup_g12_c02.avi', 'UCF101/v_ApplyEyeMakeup_g12_c03.avi', 'UCF101/v_ApplyEyeMakeup_g12_c04.avi', 'UCF101/v_ApplyEyeMakeup_g12_c05.avi', 'UCF101/v_ApplyEyeMakeup_g12_c06.avi', 'UCF101/v_ApplyEyeMakeup_g13_c01.avi', 'UCF101/v_ApplyEyeMakeup_g13_c02.avi', 'UCF101/v_ApplyEyeMakeup_g13_c03.avi', 'UCF101/v_ApplyEyeMakeup_g13_c04.avi', 'UCF101/v_ApplyEyeMakeup_g13_c05.avi', 'UCF101/v_ApplyEyeMakeup_g13_c06.avi', 'UCF101/v_ApplyEyeMakeup_g14_c01.avi', 'UCF101/v_ApplyEyeMakeup_g14_c02.avi', 'UCF101/v_ApplyEyeMakeup_g14_c03.avi', 'UCF101/v_ApplyEyeMakeup_g14_c04.avi', 'UCF101/v_ApplyEyeMakeup_g14_c05.avi', 'UCF101/v_ApplyEyeMakeup_g15_c01.avi', 'UCF101/v_ApplyEyeMakeup_g15_c02.avi', 'UCF101/v_ApplyEyeMakeup_g15_c03.avi', 'UCF101/v_ApplyEyeMakeup_g15_c04.avi', 'UCF101/v_ApplyEyeMakeup_g15_c05.avi', 'UCF101/v_ApplyEyeMakeup_g15_c06.avi', 'UCF101/v_ApplyEyeMakeup_g15_c07.avi', 'UCF101/v_ApplyEyeMakeup_g16_c01.avi', 'UCF101/v_ApplyEyeMakeup_g16_c02.avi', 'UCF101/v_ApplyEyeMakeup_g16_c03.avi', 'UCF101/v_ApplyEyeMakeup_g16_c04.avi', 'UCF101/v_ApplyEyeMakeup_g16_c05.avi', 'UCF101/v_ApplyEyeMakeup_g17_c01.avi', 'UCF101/v_ApplyEyeMakeup_g17_c02.avi', 'UCF101/v_ApplyEyeMakeup_g17_c03.avi', 'UCF101/v_ApplyEyeMakeup_g17_c04.avi', 'UCF101/v_ApplyEyeMakeup_g17_c05.avi', 'UCF101/v_ApplyEyeMakeup_g18_c01.avi', 'UCF101/v_ApplyEyeMakeup_g18_c02.avi', 'UCF101/v_ApplyEyeMakeup_g18_c03.avi', 'UCF101/v_ApplyEyeMakeup_g18_c04.avi', 'UCF101/v_ApplyEyeMakeup_g18_c05.avi', 'UCF101/v_ApplyEyeMakeup_g19_c01.avi', 'UCF101/v_ApplyEyeMakeup_g19_c02.avi', 'UCF101/v_ApplyEyeMakeup_g19_c03.avi', 'UCF101/v_ApplyEyeMakeup_g19_c04.avi', 'UCF101/v_ApplyEyeMakeup_g20_c01.avi', 'UCF101/v_ApplyEyeMakeup_g20_c02.avi', 'UCF101/v_ApplyEyeMakeup_g20_c03.avi', 'UCF101/v_ApplyEyeMakeup_g20_c04.avi', 'UCF101/v_ApplyEyeMakeup_g20_c05.avi', 'UCF101/v_ApplyEyeMakeup_g20_c06.avi', 'UCF101/v_ApplyEyeMakeup_g21_c01.avi', 'UCF101/v_ApplyEyeMakeup_g21_c02.avi', 'UCF101/v_ApplyEyeMakeup_g21_c03.avi', 'UCF101/v_ApplyEyeMakeup_g21_c04.avi', 'UCF101/v_ApplyEyeMakeup_g21_c05.avi', 'UCF101/v_ApplyEyeMakeup_g22_c01.avi', 'UCF101/v_ApplyEyeMakeup_g22_c02.avi', 'UCF101/v_ApplyEyeMakeup_g22_c03.avi', 'UCF101/v_ApplyEyeMakeup_g22_c04.avi', 'UCF101/v_ApplyEyeMakeup_g22_c05.avi', 'UCF101/v_ApplyEyeMakeup_g23_c01.avi', 'UCF101/v_ApplyEyeMakeup_g23_c02.avi', 'UCF101/v_ApplyEyeMakeup_g23_c03.avi', 'UCF101/v_ApplyEyeMakeup_g23_c04.avi', 'UCF101/v_ApplyEyeMakeup_g23_c05.avi', 'UCF101/v_ApplyEyeMakeup_g23_c06.avi', 'UCF101/v_ApplyEyeMakeup_g24_c01.avi', 'UCF101/v_ApplyEyeMakeup_g24_c02.avi', 'UCF101/v_ApplyEyeMakeup_g24_c03.avi', 'UCF101/v_ApplyEyeMakeup_g24_c04.avi', 'UCF101/v_ApplyEyeMakeup_g24_c05.avi', 'UCF101/v_ApplyEyeMakeup_g24_c06.avi', 'UCF101/v_ApplyEyeMakeup_g24_c07.avi', 'UCF101/v_ApplyEyeMakeup_g25_c01.avi', 'UCF101/v_ApplyEyeMakeup_g25_c02.avi', 'UCF101/v_ApplyEyeMakeup_g25_c03.avi', 'UCF101/v_ApplyEyeMakeup_g25_c04.avi', 'UCF101/v_ApplyEyeMakeup_g25_c05.avi', 'UCF101/v_ApplyEyeMakeup_g25_c06.avi', 'UCF101/v_ApplyEyeMakeup_g25_c07.avi'], ['UCF101/v_ApplyLipstick_g01_c01.avi', 'UCF101/v_ApplyLipstick_g01_c02.avi', 'UCF101/v_ApplyLipstick_g01_c03.avi', 'UCF101/v_ApplyLipstick_g01_c04.avi', 'UCF101/v_ApplyLipstick_g01_c05.avi', 'UCF101/v_ApplyLipstick_g02_c01.avi', 'UCF101/v_ApplyLipstick_g02_c02.avi', 'UCF101/v_ApplyLipstick_g02_c03.avi', 'UCF101/v_ApplyLipstick_g02_c04.avi', 'UCF101/v_ApplyLipstick_g03_c01.avi', 'UCF101/v_ApplyLipstick_g03_c02.avi', 'UCF101/v_ApplyLipstick_g03_c03.avi', 'UCF101/v_ApplyLipstick_g03_c04.avi', 'UCF101/v_ApplyLipstick_g04_c01.avi', 'UCF101/v_ApplyLipstick_g04_c02.avi', 'UCF101/v_ApplyLipstick_g04_c03.avi', 'UCF101/v_ApplyLipstick_g04_c04.avi', 'UCF101/v_ApplyLipstick_g04_c05.avi', 'UCF101/v_ApplyLipstick_g05_c01.avi', 'UCF101/v_ApplyLipstick_g05_c02.avi', 'UCF101/v_ApplyLipstick_g05_c03.avi', 'UCF101/v_ApplyLipstick_g05_c04.avi', 'UCF101/v_ApplyLipstick_g05_c05.avi', 'UCF101/v_ApplyLipstick_g06_c01.avi', 'UCF101/v_ApplyLipstick_g06_c02.avi', 'UCF101/v_ApplyLipstick_g06_c03.avi', 'UCF101/v_ApplyLipstick_g06_c04.avi', 'UCF101/v_ApplyLipstick_g06_c05.avi', 'UCF101/v_ApplyLipstick_g07_c01.avi', 'UCF101/v_ApplyLipstick_g07_c02.avi', 'UCF101/v_ApplyLipstick_g07_c03.avi', 'UCF101/v_ApplyLipstick_g07_c04.avi', 'UCF101/v_ApplyLipstick_g08_c01.avi', 'UCF101/v_ApplyLipstick_g08_c02.avi', 'UCF101/v_ApplyLipstick_g08_c03.avi', 'UCF101/v_ApplyLipstick_g08_c04.avi', 'UCF101/v_ApplyLipstick_g09_c01.avi', 'UCF101/v_ApplyLipstick_g09_c02.avi', 'UCF101/v_ApplyLipstick_g09_c03.avi', 'UCF101/v_ApplyLipstick_g09_c04.avi', 'UCF101/v_ApplyLipstick_g10_c01.avi', 'UCF101/v_ApplyLipstick_g10_c02.avi', 'UCF101/v_ApplyLipstick_g10_c03.avi', 'UCF101/v_ApplyLipstick_g10_c04.avi', 'UCF101/v_ApplyLipstick_g11_c01.avi', 'UCF101/v_ApplyLipstick_g11_c02.avi', 'UCF101/v_ApplyLipstick_g11_c03.avi', 'UCF101/v_ApplyLipstick_g11_c04.avi', 'UCF101/v_ApplyLipstick_g12_c01.avi', 'UCF101/v_ApplyLipstick_g12_c02.avi', 'UCF101/v_ApplyLipstick_g12_c03.avi', 'UCF101/v_ApplyLipstick_g12_c04.avi', 'UCF101/v_ApplyLipstick_g12_c05.avi', 'UCF101/v_ApplyLipstick_g13_c01.avi', 'UCF101/v_ApplyLipstick_g13_c02.avi', 'UCF101/v_ApplyLipstick_g13_c03.avi', 'UCF101/v_ApplyLipstick_g13_c04.avi', 'UCF101/v_ApplyLipstick_g14_c01.avi', 'UCF101/v_ApplyLipstick_g14_c02.avi', 'UCF101/v_ApplyLipstick_g14_c03.avi', 'UCF101/v_ApplyLipstick_g14_c04.avi', 'UCF101/v_ApplyLipstick_g15_c01.avi', 'UCF101/v_ApplyLipstick_g15_c02.avi', 'UCF101/v_ApplyLipstick_g15_c03.avi', 'UCF101/v_ApplyLipstick_g15_c04.avi', 'UCF101/v_ApplyLipstick_g15_c05.avi', 'UCF101/v_ApplyLipstick_g16_c01.avi', 'UCF101/v_ApplyLipstick_g16_c02.avi', 'UCF101/v_ApplyLipstick_g16_c03.avi', 'UCF101/v_ApplyLipstick_g16_c04.avi', 'UCF101/v_ApplyLipstick_g16_c05.avi', 'UCF101/v_ApplyLipstick_g17_c01.avi', 'UCF101/v_ApplyLipstick_g17_c02.avi', 'UCF101/v_ApplyLipstick_g17_c03.avi', 'UCF101/v_ApplyLipstick_g17_c04.avi', 'UCF101/v_ApplyLipstick_g17_c05.avi', 'UCF101/v_ApplyLipstick_g18_c01.avi', 'UCF101/v_ApplyLipstick_g18_c02.avi', 'UCF101/v_ApplyLipstick_g18_c03.avi', 'UCF101/v_ApplyLipstick_g18_c04.avi', 'UCF101/v_ApplyLipstick_g19_c01.avi', 'UCF101/v_ApplyLipstick_g19_c02.avi', 'UCF101/v_ApplyLipstick_g19_c03.avi', 'UCF101/v_ApplyLipstick_g19_c04.avi', 'UCF101/v_ApplyLipstick_g20_c01.avi', 'UCF101/v_ApplyLipstick_g20_c02.avi', 'UCF101/v_ApplyLipstick_g20_c03.avi', 'UCF101/v_ApplyLipstick_g20_c04.avi', 'UCF101/v_ApplyLipstick_g20_c05.avi', 'UCF101/v_ApplyLipstick_g21_c01.avi', 'UCF101/v_ApplyLipstick_g21_c02.avi', 'UCF101/v_ApplyLipstick_g21_c03.avi', 'UCF101/v_ApplyLipstick_g21_c04.avi', 'UCF101/v_ApplyLipstick_g21_c05.avi', 'UCF101/v_ApplyLipstick_g22_c01.avi', 'UCF101/v_ApplyLipstick_g22_c02.avi', 'UCF101/v_ApplyLipstick_g22_c03.avi', 'UCF101/v_ApplyLipstick_g22_c04.avi', 'UCF101/v_ApplyLipstick_g22_c05.avi', 'UCF101/v_ApplyLipstick_g22_c06.avi', 'UCF101/v_ApplyLipstick_g22_c07.avi', 'UCF101/v_ApplyLipstick_g23_c01.avi', 'UCF101/v_ApplyLipstick_g23_c02.avi', 'UCF101/v_ApplyLipstick_g23_c03.avi', 'UCF101/v_ApplyLipstick_g23_c04.avi', 'UCF101/v_ApplyLipstick_g24_c01.avi', 'UCF101/v_ApplyLipstick_g24_c02.avi', 'UCF101/v_ApplyLipstick_g24_c03.avi', 'UCF101/v_ApplyLipstick_g24_c04.avi', 'UCF101/v_ApplyLipstick_g24_c05.avi', 'UCF101/v_ApplyLipstick_g25_c01.avi', 'UCF101/v_ApplyLipstick_g25_c02.avi', 'UCF101/v_ApplyLipstick_g25_c03.avi', 'UCF101/v_ApplyLipstick_g25_c04.avi'], ['UCF101/v_Archery_g01_c01.avi', 'UCF101/v_Archery_g01_c02.avi', 'UCF101/v_Archery_g01_c03.avi', 'UCF101/v_Archery_g01_c04.avi', 'UCF101/v_Archery_g01_c05.avi', 'UCF101/v_Archery_g01_c06.avi', 'UCF101/v_Archery_g01_c07.avi', 'UCF101/v_Archery_g02_c01.avi', 'UCF101/v_Archery_g02_c02.avi', 'UCF101/v_Archery_g02_c03.avi', 'UCF101/v_Archery_g02_c04.avi', 'UCF101/v_Archery_g02_c05.avi', 'UCF101/v_Archery_g02_c06.avi', 'UCF101/v_Archery_g02_c07.avi', 'UCF101/v_Archery_g03_c01.avi', 'UCF101/v_Archery_g03_c02.avi', 'UCF101/v_Archery_g03_c03.avi', 'UCF101/v_Archery_g03_c04.avi', 'UCF101/v_Archery_g03_c05.avi', 'UCF101/v_Archery_g04_c01.avi', 'UCF101/v_Archery_g04_c02.avi', 'UCF101/v_Archery_g04_c03.avi', 'UCF101/v_Archery_g04_c04.avi', 'UCF101/v_Archery_g04_c05.avi', 'UCF101/v_Archery_g05_c01.avi', 'UCF101/v_Archery_g05_c02.avi', 'UCF101/v_Archery_g05_c03.avi', 'UCF101/v_Archery_g05_c04.avi', 'UCF101/v_Archery_g05_c05.avi', 'UCF101/v_Archery_g06_c01.avi', 'UCF101/v_Archery_g06_c02.avi', 'UCF101/v_Archery_g06_c03.avi', 'UCF101/v_Archery_g06_c04.avi', 'UCF101/v_Archery_g06_c05.avi', 'UCF101/v_Archery_g06_c06.avi', 'UCF101/v_Archery_g07_c01.avi', 'UCF101/v_Archery_g07_c02.avi', 'UCF101/v_Archery_g07_c03.avi', 'UCF101/v_Archery_g07_c04.avi', 'UCF101/v_Archery_g07_c05.avi', 'UCF101/v_Archery_g07_c06.avi', 'UCF101/v_Archery_g08_c01.avi', 'UCF101/v_Archery_g08_c02.avi', 'UCF101/v_Archery_g08_c03.avi', 'UCF101/v_Archery_g08_c04.avi', 'UCF101/v_Archery_g08_c05.avi', 'UCF101/v_Archery_g09_c01.avi', 'UCF101/v_Archery_g09_c02.avi', 'UCF101/v_Archery_g09_c03.avi', 'UCF101/v_Archery_g09_c04.avi', 'UCF101/v_Archery_g09_c05.avi', 'UCF101/v_Archery_g09_c06.avi', 'UCF101/v_Archery_g09_c07.avi', 'UCF101/v_Archery_g10_c01.avi', 'UCF101/v_Archery_g10_c02.avi', 'UCF101/v_Archery_g10_c03.avi', 'UCF101/v_Archery_g10_c04.avi', 'UCF101/v_Archery_g10_c05.avi', 'UCF101/v_Archery_g10_c06.avi', 'UCF101/v_Archery_g10_c07.avi', 'UCF101/v_Archery_g11_c01.avi', 'UCF101/v_Archery_g11_c02.avi', 'UCF101/v_Archery_g11_c03.avi', 'UCF101/v_Archery_g11_c04.avi', 'UCF101/v_Archery_g11_c05.avi', 'UCF101/v_Archery_g11_c06.avi', 'UCF101/v_Archery_g11_c07.avi', 'UCF101/v_Archery_g12_c01.avi', 'UCF101/v_Archery_g12_c02.avi', 'UCF101/v_Archery_g12_c03.avi', 'UCF101/v_Archery_g12_c04.avi', 'UCF101/v_Archery_g13_c01.avi', 'UCF101/v_Archery_g13_c02.avi', 'UCF101/v_Archery_g13_c03.avi', 'UCF101/v_Archery_g13_c04.avi', 'UCF101/v_Archery_g13_c05.avi', 'UCF101/v_Archery_g13_c06.avi', 'UCF101/v_Archery_g13_c07.avi', 'UCF101/v_Archery_g14_c01.avi', 'UCF101/v_Archery_g14_c02.avi', 'UCF101/v_Archery_g14_c03.avi', 'UCF101/v_Archery_g14_c04.avi', 'UCF101/v_Archery_g15_c01.avi', 'UCF101/v_Archery_g15_c02.avi', 'UCF101/v_Archery_g15_c03.avi', 'UCF101/v_Archery_g15_c04.avi', 'UCF101/v_Archery_g15_c05.avi', 'UCF101/v_Archery_g15_c06.avi', 'UCF101/v_Archery_g15_c07.avi', 'UCF101/v_Archery_g16_c01.avi', 'UCF101/v_Archery_g16_c02.avi', 'UCF101/v_Archery_g16_c03.avi', 'UCF101/v_Archery_g16_c04.avi', 'UCF101/v_Archery_g16_c05.avi', 'UCF101/v_Archery_g17_c01.avi', 'UCF101/v_Archery_g17_c02.avi', 'UCF101/v_Archery_g17_c03.avi', 'UCF101/v_Archery_g17_c04.avi', 'UCF101/v_Archery_g18_c01.avi', 'UCF101/v_Archery_g18_c02.avi', 'UCF101/v_Archery_g18_c03.avi', 'UCF101/v_Archery_g18_c04.avi', 'UCF101/v_Archery_g18_c05.avi', 'UCF101/v_Archery_g18_c06.avi', 'UCF101/v_Archery_g18_c07.avi', 'UCF101/v_Archery_g19_c01.avi', 'UCF101/v_Archery_g19_c02.avi', 'UCF101/v_Archery_g19_c03.avi', 'UCF101/v_Archery_g19_c04.avi', 'UCF101/v_Archery_g20_c01.avi', 'UCF101/v_Archery_g20_c02.avi', 'UCF101/v_Archery_g20_c03.avi', 'UCF101/v_Archery_g20_c04.avi', 'UCF101/v_Archery_g20_c05.avi', 'UCF101/v_Archery_g20_c06.avi', 'UCF101/v_Archery_g20_c07.avi', 'UCF101/v_Archery_g21_c01.avi', 'UCF101/v_Archery_g21_c02.avi', 'UCF101/v_Archery_g21_c03.avi', 'UCF101/v_Archery_g21_c04.avi', 'UCF101/v_Archery_g22_c01.avi', 'UCF101/v_Archery_g22_c02.avi', 'UCF101/v_Archery_g22_c03.avi', 'UCF101/v_Archery_g22_c04.avi', 'UCF101/v_Archery_g22_c05.avi', 'UCF101/v_Archery_g23_c01.avi', 'UCF101/v_Archery_g23_c02.avi', 'UCF101/v_Archery_g23_c03.avi', 'UCF101/v_Archery_g23_c04.avi', 'UCF101/v_Archery_g23_c05.avi', 'UCF101/v_Archery_g23_c06.avi', 'UCF101/v_Archery_g23_c07.avi', 'UCF101/v_Archery_g24_c01.avi', 'UCF101/v_Archery_g24_c02.avi', 'UCF101/v_Archery_g24_c03.avi', 'UCF101/v_Archery_g24_c04.avi', 'UCF101/v_Archery_g24_c05.avi', 'UCF101/v_Archery_g24_c06.avi', 'UCF101/v_Archery_g25_c01.avi', 'UCF101/v_Archery_g25_c02.avi', 'UCF101/v_Archery_g25_c03.avi', 'UCF101/v_Archery_g25_c04.avi', 'UCF101/v_Archery_g25_c05.avi', 'UCF101/v_Archery_g25_c06.avi', 'UCF101/v_Archery_g25_c07.avi'], ['UCF101/v_BabyCrawling_g01_c01.avi', 'UCF101/v_BabyCrawling_g01_c02.avi', 'UCF101/v_BabyCrawling_g01_c03.avi', 'UCF101/v_BabyCrawling_g01_c04.avi', 'UCF101/v_BabyCrawling_g02_c01.avi', 'UCF101/v_BabyCrawling_g02_c02.avi', 'UCF101/v_BabyCrawling_g02_c03.avi', 'UCF101/v_BabyCrawling_g02_c04.avi', 'UCF101/v_BabyCrawling_g02_c05.avi', 'UCF101/v_BabyCrawling_g02_c06.avi', 'UCF101/v_BabyCrawling_g03_c01.avi', 'UCF101/v_BabyCrawling_g03_c02.avi', 'UCF101/v_BabyCrawling_g03_c03.avi', 'UCF101/v_BabyCrawling_g03_c04.avi', 'UCF101/v_BabyCrawling_g04_c01.avi', 'UCF101/v_BabyCrawling_g04_c02.avi', 'UCF101/v_BabyCrawling_g04_c03.avi', 'UCF101/v_BabyCrawling_g04_c04.avi', 'UCF101/v_BabyCrawling_g05_c01.avi', 'UCF101/v_BabyCrawling_g05_c02.avi', 'UCF101/v_BabyCrawling_g05_c03.avi', 'UCF101/v_BabyCrawling_g05_c04.avi', 'UCF101/v_BabyCrawling_g05_c05.avi', 'UCF101/v_BabyCrawling_g06_c01.avi', 'UCF101/v_BabyCrawling_g06_c02.avi', 'UCF101/v_BabyCrawling_g06_c03.avi', 'UCF101/v_BabyCrawling_g06_c04.avi', 'UCF101/v_BabyCrawling_g06_c05.avi', 'UCF101/v_BabyCrawling_g06_c06.avi', 'UCF101/v_BabyCrawling_g07_c01.avi', 'UCF101/v_BabyCrawling_g07_c02.avi', 'UCF101/v_BabyCrawling_g07_c03.avi', 'UCF101/v_BabyCrawling_g07_c04.avi', 'UCF101/v_BabyCrawling_g07_c05.avi', 'UCF101/v_BabyCrawling_g07_c06.avi', 'UCF101/v_BabyCrawling_g08_c01.avi', 'UCF101/v_BabyCrawling_g08_c02.avi', 'UCF101/v_BabyCrawling_g08_c03.avi', 'UCF101/v_BabyCrawling_g08_c04.avi', 'UCF101/v_BabyCrawling_g09_c01.avi', 'UCF101/v_BabyCrawling_g09_c02.avi', 'UCF101/v_BabyCrawling_g09_c03.avi', 'UCF101/v_BabyCrawling_g09_c04.avi', 'UCF101/v_BabyCrawling_g09_c05.avi', 'UCF101/v_BabyCrawling_g09_c06.avi', 'UCF101/v_BabyCrawling_g10_c01.avi', 'UCF101/v_BabyCrawling_g10_c02.avi', 'UCF101/v_BabyCrawling_g10_c03.avi', 'UCF101/v_BabyCrawling_g10_c04.avi', 'UCF101/v_BabyCrawling_g10_c05.avi', 'UCF101/v_BabyCrawling_g11_c01.avi', 'UCF101/v_BabyCrawling_g11_c02.avi', 'UCF101/v_BabyCrawling_g11_c03.avi', 'UCF101/v_BabyCrawling_g11_c04.avi', 'UCF101/v_BabyCrawling_g12_c01.avi', 'UCF101/v_BabyCrawling_g12_c02.avi', 'UCF101/v_BabyCrawling_g12_c03.avi', 'UCF101/v_BabyCrawling_g12_c04.avi', 'UCF101/v_BabyCrawling_g12_c05.avi', 'UCF101/v_BabyCrawling_g12_c06.avi', 'UCF101/v_BabyCrawling_g13_c01.avi', 'UCF101/v_BabyCrawling_g13_c02.avi', 'UCF101/v_BabyCrawling_g13_c03.avi', 'UCF101/v_BabyCrawling_g13_c04.avi', 'UCF101/v_BabyCrawling_g13_c05.avi', 'UCF101/v_BabyCrawling_g13_c06.avi', 'UCF101/v_BabyCrawling_g14_c01.avi', 'UCF101/v_BabyCrawling_g14_c02.avi', 'UCF101/v_BabyCrawling_g14_c03.avi', 'UCF101/v_BabyCrawling_g14_c04.avi', 'UCF101/v_BabyCrawling_g15_c01.avi', 'UCF101/v_BabyCrawling_g15_c02.avi', 'UCF101/v_BabyCrawling_g15_c03.avi', 'UCF101/v_BabyCrawling_g15_c04.avi', 'UCF101/v_BabyCrawling_g15_c05.avi', 'UCF101/v_BabyCrawling_g15_c06.avi', 'UCF101/v_BabyCrawling_g16_c01.avi', 'UCF101/v_BabyCrawling_g16_c02.avi', 'UCF101/v_BabyCrawling_g16_c03.avi', 'UCF101/v_BabyCrawling_g16_c04.avi', 'UCF101/v_BabyCrawling_g16_c05.avi', 'UCF101/v_BabyCrawling_g16_c06.avi', 'UCF101/v_BabyCrawling_g17_c01.avi', 'UCF101/v_BabyCrawling_g17_c02.avi', 'UCF101/v_BabyCrawling_g17_c03.avi', 'UCF101/v_BabyCrawling_g17_c04.avi', 'UCF101/v_BabyCrawling_g17_c05.avi', 'UCF101/v_BabyCrawling_g18_c01.avi', 'UCF101/v_BabyCrawling_g18_c02.avi', 'UCF101/v_BabyCrawling_g18_c03.avi', 'UCF101/v_BabyCrawling_g18_c04.avi', 'UCF101/v_BabyCrawling_g18_c05.avi', 'UCF101/v_BabyCrawling_g18_c06.avi', 'UCF101/v_BabyCrawling_g19_c01.avi', 'UCF101/v_BabyCrawling_g19_c02.avi', 'UCF101/v_BabyCrawling_g19_c03.avi', 'UCF101/v_BabyCrawling_g19_c04.avi', 'UCF101/v_BabyCrawling_g19_c05.avi', 'UCF101/v_BabyCrawling_g20_c01.avi', 'UCF101/v_BabyCrawling_g20_c02.avi', 'UCF101/v_BabyCrawling_g20_c03.avi', 'UCF101/v_BabyCrawling_g20_c04.avi', 'UCF101/v_BabyCrawling_g20_c05.avi', 'UCF101/v_BabyCrawling_g20_c06.avi', 'UCF101/v_BabyCrawling_g20_c07.avi', 'UCF101/v_BabyCrawling_g21_c01.avi', 'UCF101/v_BabyCrawling_g21_c02.avi', 'UCF101/v_BabyCrawling_g21_c03.avi', 'UCF101/v_BabyCrawling_g21_c04.avi', 'UCF101/v_BabyCrawling_g22_c01.avi', 'UCF101/v_BabyCrawling_g22_c02.avi', 'UCF101/v_BabyCrawling_g22_c03.avi', 'UCF101/v_BabyCrawling_g22_c04.avi', 'UCF101/v_BabyCrawling_g22_c05.avi', 'UCF101/v_BabyCrawling_g22_c06.avi', 'UCF101/v_BabyCrawling_g22_c07.avi', 'UCF101/v_BabyCrawling_g23_c01.avi', 'UCF101/v_BabyCrawling_g23_c02.avi', 'UCF101/v_BabyCrawling_g23_c03.avi', 'UCF101/v_BabyCrawling_g23_c04.avi', 'UCF101/v_BabyCrawling_g24_c01.avi', 'UCF101/v_BabyCrawling_g24_c02.avi', 'UCF101/v_BabyCrawling_g24_c03.avi', 'UCF101/v_BabyCrawling_g24_c04.avi', 'UCF101/v_BabyCrawling_g24_c05.avi', 'UCF101/v_BabyCrawling_g24_c06.avi', 'UCF101/v_BabyCrawling_g25_c01.avi', 'UCF101/v_BabyCrawling_g25_c02.avi', 'UCF101/v_BabyCrawling_g25_c03.avi', 'UCF101/v_BabyCrawling_g25_c04.avi', 'UCF101/v_BabyCrawling_g25_c05.avi', 'UCF101/v_BabyCrawling_g25_c06.avi'], ['UCF101/v_BalanceBeam_g01_c01.avi', 'UCF101/v_BalanceBeam_g01_c02.avi', 'UCF101/v_BalanceBeam_g01_c03.avi', 'UCF101/v_BalanceBeam_g01_c04.avi', 'UCF101/v_BalanceBeam_g02_c01.avi', 'UCF101/v_BalanceBeam_g02_c02.avi', 'UCF101/v_BalanceBeam_g02_c03.avi', 'UCF101/v_BalanceBeam_g02_c04.avi', 'UCF101/v_BalanceBeam_g03_c01.avi', 'UCF101/v_BalanceBeam_g03_c02.avi', 'UCF101/v_BalanceBeam_g03_c03.avi', 'UCF101/v_BalanceBeam_g03_c04.avi', 'UCF101/v_BalanceBeam_g04_c01.avi', 'UCF101/v_BalanceBeam_g04_c02.avi', 'UCF101/v_BalanceBeam_g04_c03.avi', 'UCF101/v_BalanceBeam_g04_c04.avi', 'UCF101/v_BalanceBeam_g05_c01.avi', 'UCF101/v_BalanceBeam_g05_c02.avi', 'UCF101/v_BalanceBeam_g05_c03.avi', 'UCF101/v_BalanceBeam_g05_c04.avi', 'UCF101/v_BalanceBeam_g06_c01.avi', 'UCF101/v_BalanceBeam_g06_c02.avi', 'UCF101/v_BalanceBeam_g06_c03.avi', 'UCF101/v_BalanceBeam_g06_c04.avi', 'UCF101/v_BalanceBeam_g06_c05.avi', 'UCF101/v_BalanceBeam_g06_c06.avi', 'UCF101/v_BalanceBeam_g06_c07.avi', 'UCF101/v_BalanceBeam_g07_c01.avi', 'UCF101/v_BalanceBeam_g07_c02.avi', 'UCF101/v_BalanceBeam_g07_c03.avi', 'UCF101/v_BalanceBeam_g07_c04.avi', 'UCF101/v_BalanceBeam_g08_c01.avi', 'UCF101/v_BalanceBeam_g08_c02.avi', 'UCF101/v_BalanceBeam_g08_c03.avi', 'UCF101/v_BalanceBeam_g08_c04.avi', 'UCF101/v_BalanceBeam_g09_c01.avi', 'UCF101/v_BalanceBeam_g09_c02.avi', 'UCF101/v_BalanceBeam_g09_c03.avi', 'UCF101/v_BalanceBeam_g09_c04.avi', 'UCF101/v_BalanceBeam_g10_c01.avi', 'UCF101/v_BalanceBeam_g10_c02.avi', 'UCF101/v_BalanceBeam_g10_c03.avi', 'UCF101/v_BalanceBeam_g10_c04.avi', 'UCF101/v_BalanceBeam_g11_c01.avi', 'UCF101/v_BalanceBeam_g11_c02.avi', 'UCF101/v_BalanceBeam_g11_c03.avi', 'UCF101/v_BalanceBeam_g11_c04.avi', 'UCF101/v_BalanceBeam_g12_c01.avi', 'UCF101/v_BalanceBeam_g12_c02.avi', 'UCF101/v_BalanceBeam_g12_c03.avi', 'UCF101/v_BalanceBeam_g12_c04.avi', 'UCF101/v_BalanceBeam_g13_c01.avi', 'UCF101/v_BalanceBeam_g13_c02.avi', 'UCF101/v_BalanceBeam_g13_c03.avi', 'UCF101/v_BalanceBeam_g13_c04.avi', 'UCF101/v_BalanceBeam_g13_c05.avi', 'UCF101/v_BalanceBeam_g14_c01.avi', 'UCF101/v_BalanceBeam_g14_c02.avi', 'UCF101/v_BalanceBeam_g14_c03.avi', 'UCF101/v_BalanceBeam_g14_c04.avi', 'UCF101/v_BalanceBeam_g15_c01.avi', 'UCF101/v_BalanceBeam_g15_c02.avi', 'UCF101/v_BalanceBeam_g15_c03.avi', 'UCF101/v_BalanceBeam_g15_c04.avi', 'UCF101/v_BalanceBeam_g16_c01.avi', 'UCF101/v_BalanceBeam_g16_c02.avi', 'UCF101/v_BalanceBeam_g16_c03.avi', 'UCF101/v_BalanceBeam_g16_c04.avi', 'UCF101/v_BalanceBeam_g17_c01.avi', 'UCF101/v_BalanceBeam_g17_c02.avi', 'UCF101/v_BalanceBeam_g17_c03.avi', 'UCF101/v_BalanceBeam_g17_c04.avi', 'UCF101/v_BalanceBeam_g17_c05.avi', 'UCF101/v_BalanceBeam_g17_c06.avi', 'UCF101/v_BalanceBeam_g18_c01.avi', 'UCF101/v_BalanceBeam_g18_c02.avi', 'UCF101/v_BalanceBeam_g18_c03.avi', 'UCF101/v_BalanceBeam_g18_c04.avi', 'UCF101/v_BalanceBeam_g19_c01.avi', 'UCF101/v_BalanceBeam_g19_c02.avi', 'UCF101/v_BalanceBeam_g19_c03.avi', 'UCF101/v_BalanceBeam_g19_c04.avi', 'UCF101/v_BalanceBeam_g20_c01.avi', 'UCF101/v_BalanceBeam_g20_c02.avi', 'UCF101/v_BalanceBeam_g20_c03.avi', 'UCF101/v_BalanceBeam_g20_c04.avi', 'UCF101/v_BalanceBeam_g21_c01.avi', 'UCF101/v_BalanceBeam_g21_c02.avi', 'UCF101/v_BalanceBeam_g21_c03.avi', 'UCF101/v_BalanceBeam_g21_c04.avi', 'UCF101/v_BalanceBeam_g21_c05.avi', 'UCF101/v_BalanceBeam_g22_c01.avi', 'UCF101/v_BalanceBeam_g22_c02.avi', 'UCF101/v_BalanceBeam_g22_c03.avi', 'UCF101/v_BalanceBeam_g22_c04.avi', 'UCF101/v_BalanceBeam_g23_c01.avi', 'UCF101/v_BalanceBeam_g23_c02.avi', 'UCF101/v_BalanceBeam_g23_c03.avi', 'UCF101/v_BalanceBeam_g23_c04.avi', 'UCF101/v_BalanceBeam_g23_c05.avi', 'UCF101/v_BalanceBeam_g24_c01.avi', 'UCF101/v_BalanceBeam_g24_c02.avi', 'UCF101/v_BalanceBeam_g24_c03.avi', 'UCF101/v_BalanceBeam_g24_c04.avi', 'UCF101/v_BalanceBeam_g25_c01.avi', 'UCF101/v_BalanceBeam_g25_c02.avi', 'UCF101/v_BalanceBeam_g25_c03.avi', 'UCF101/v_BalanceBeam_g25_c04.avi'], ['UCF101/v_BandMarching_g01_c01.avi', 'UCF101/v_BandMarching_g01_c02.avi', 'UCF101/v_BandMarching_g01_c03.avi', 'UCF101/v_BandMarching_g01_c04.avi', 'UCF101/v_BandMarching_g01_c05.avi', 'UCF101/v_BandMarching_g01_c06.avi', 'UCF101/v_BandMarching_g01_c07.avi', 'UCF101/v_BandMarching_g02_c01.avi', 'UCF101/v_BandMarching_g02_c02.avi', 'UCF101/v_BandMarching_g02_c03.avi', 'UCF101/v_BandMarching_g02_c04.avi', 'UCF101/v_BandMarching_g02_c05.avi', 'UCF101/v_BandMarching_g02_c06.avi', 'UCF101/v_BandMarching_g02_c07.avi', 'UCF101/v_BandMarching_g03_c01.avi', 'UCF101/v_BandMarching_g03_c02.avi', 'UCF101/v_BandMarching_g03_c03.avi', 'UCF101/v_BandMarching_g03_c04.avi', 'UCF101/v_BandMarching_g03_c05.avi', 'UCF101/v_BandMarching_g03_c06.avi', 'UCF101/v_BandMarching_g03_c07.avi', 'UCF101/v_BandMarching_g04_c01.avi', 'UCF101/v_BandMarching_g04_c02.avi', 'UCF101/v_BandMarching_g04_c03.avi', 'UCF101/v_BandMarching_g04_c04.avi', 'UCF101/v_BandMarching_g05_c01.avi', 'UCF101/v_BandMarching_g05_c02.avi', 'UCF101/v_BandMarching_g05_c03.avi', 'UCF101/v_BandMarching_g05_c04.avi', 'UCF101/v_BandMarching_g05_c05.avi', 'UCF101/v_BandMarching_g05_c06.avi', 'UCF101/v_BandMarching_g05_c07.avi', 'UCF101/v_BandMarching_g06_c01.avi', 'UCF101/v_BandMarching_g06_c02.avi', 'UCF101/v_BandMarching_g06_c03.avi', 'UCF101/v_BandMarching_g06_c04.avi', 'UCF101/v_BandMarching_g07_c01.avi', 'UCF101/v_BandMarching_g07_c02.avi', 'UCF101/v_BandMarching_g07_c03.avi', 'UCF101/v_BandMarching_g07_c04.avi', 'UCF101/v_BandMarching_g07_c05.avi', 'UCF101/v_BandMarching_g07_c06.avi', 'UCF101/v_BandMarching_g07_c07.avi', 'UCF101/v_BandMarching_g08_c01.avi', 'UCF101/v_BandMarching_g08_c02.avi', 'UCF101/v_BandMarching_g08_c03.avi', 'UCF101/v_BandMarching_g08_c04.avi', 'UCF101/v_BandMarching_g08_c05.avi', 'UCF101/v_BandMarching_g08_c06.avi', 'UCF101/v_BandMarching_g08_c07.avi', 'UCF101/v_BandMarching_g09_c01.avi', 'UCF101/v_BandMarching_g09_c02.avi', 'UCF101/v_BandMarching_g09_c03.avi', 'UCF101/v_BandMarching_g09_c04.avi', 'UCF101/v_BandMarching_g09_c05.avi', 'UCF101/v_BandMarching_g09_c06.avi', 'UCF101/v_BandMarching_g09_c07.avi', 'UCF101/v_BandMarching_g10_c01.avi', 'UCF101/v_BandMarching_g10_c02.avi', 'UCF101/v_BandMarching_g10_c03.avi', 'UCF101/v_BandMarching_g10_c04.avi', 'UCF101/v_BandMarching_g10_c05.avi', 'UCF101/v_BandMarching_g10_c06.avi', 'UCF101/v_BandMarching_g10_c07.avi', 'UCF101/v_BandMarching_g11_c01.avi', 'UCF101/v_BandMarching_g11_c02.avi', 'UCF101/v_BandMarching_g11_c03.avi', 'UCF101/v_BandMarching_g11_c04.avi', 'UCF101/v_BandMarching_g11_c05.avi', 'UCF101/v_BandMarching_g11_c06.avi', 'UCF101/v_BandMarching_g11_c07.avi', 'UCF101/v_BandMarching_g12_c01.avi', 'UCF101/v_BandMarching_g12_c02.avi', 'UCF101/v_BandMarching_g12_c03.avi', 'UCF101/v_BandMarching_g12_c04.avi', 'UCF101/v_BandMarching_g12_c05.avi', 'UCF101/v_BandMarching_g12_c06.avi', 'UCF101/v_BandMarching_g13_c01.avi', 'UCF101/v_BandMarching_g13_c02.avi', 'UCF101/v_BandMarching_g13_c03.avi', 'UCF101/v_BandMarching_g13_c04.avi', 'UCF101/v_BandMarching_g13_c05.avi', 'UCF101/v_BandMarching_g14_c01.avi', 'UCF101/v_BandMarching_g14_c02.avi', 'UCF101/v_BandMarching_g14_c03.avi', 'UCF101/v_BandMarching_g14_c04.avi', 'UCF101/v_BandMarching_g14_c05.avi', 'UCF101/v_BandMarching_g14_c06.avi', 'UCF101/v_BandMarching_g15_c01.avi', 'UCF101/v_BandMarching_g15_c02.avi', 'UCF101/v_BandMarching_g15_c03.avi', 'UCF101/v_BandMarching_g15_c04.avi', 'UCF101/v_BandMarching_g15_c05.avi', 'UCF101/v_BandMarching_g15_c06.avi', 'UCF101/v_BandMarching_g15_c07.avi', 'UCF101/v_BandMarching_g16_c01.avi', 'UCF101/v_BandMarching_g16_c02.avi', 'UCF101/v_BandMarching_g16_c03.avi', 'UCF101/v_BandMarching_g16_c04.avi', 'UCF101/v_BandMarching_g16_c05.avi', 'UCF101/v_BandMarching_g16_c06.avi', 'UCF101/v_BandMarching_g16_c07.avi', 'UCF101/v_BandMarching_g17_c01.avi', 'UCF101/v_BandMarching_g17_c02.avi', 'UCF101/v_BandMarching_g17_c03.avi', 'UCF101/v_BandMarching_g17_c04.avi', 'UCF101/v_BandMarching_g18_c01.avi', 'UCF101/v_BandMarching_g18_c02.avi', 'UCF101/v_BandMarching_g18_c03.avi', 'UCF101/v_BandMarching_g18_c04.avi', 'UCF101/v_BandMarching_g18_c05.avi', 'UCF101/v_BandMarching_g18_c06.avi', 'UCF101/v_BandMarching_g19_c01.avi', 'UCF101/v_BandMarching_g19_c02.avi', 'UCF101/v_BandMarching_g19_c03.avi', 'UCF101/v_BandMarching_g19_c04.avi', 'UCF101/v_BandMarching_g19_c05.avi', 'UCF101/v_BandMarching_g19_c06.avi', 'UCF101/v_BandMarching_g19_c07.avi', 'UCF101/v_BandMarching_g20_c01.avi', 'UCF101/v_BandMarching_g20_c02.avi', 'UCF101/v_BandMarching_g20_c03.avi', 'UCF101/v_BandMarching_g20_c04.avi', 'UCF101/v_BandMarching_g20_c05.avi', 'UCF101/v_BandMarching_g20_c06.avi', 'UCF101/v_BandMarching_g21_c01.avi', 'UCF101/v_BandMarching_g21_c02.avi', 'UCF101/v_BandMarching_g21_c03.avi', 'UCF101/v_BandMarching_g21_c04.avi', 'UCF101/v_BandMarching_g21_c05.avi', 'UCF101/v_BandMarching_g21_c06.avi', 'UCF101/v_BandMarching_g22_c01.avi', 'UCF101/v_BandMarching_g22_c02.avi', 'UCF101/v_BandMarching_g22_c03.avi', 'UCF101/v_BandMarching_g22_c04.avi', 'UCF101/v_BandMarching_g22_c05.avi', 'UCF101/v_BandMarching_g23_c01.avi', 'UCF101/v_BandMarching_g23_c02.avi', 'UCF101/v_BandMarching_g23_c03.avi', 'UCF101/v_BandMarching_g23_c04.avi', 'UCF101/v_BandMarching_g23_c05.avi', 'UCF101/v_BandMarching_g23_c06.avi', 'UCF101/v_BandMarching_g24_c01.avi', 'UCF101/v_BandMarching_g24_c02.avi', 'UCF101/v_BandMarching_g24_c03.avi', 'UCF101/v_BandMarching_g24_c04.avi', 'UCF101/v_BandMarching_g24_c05.avi', 'UCF101/v_BandMarching_g24_c06.avi', 'UCF101/v_BandMarching_g25_c01.avi', 'UCF101/v_BandMarching_g25_c02.avi', 'UCF101/v_BandMarching_g25_c03.avi', 'UCF101/v_BandMarching_g25_c04.avi', 'UCF101/v_BandMarching_g25_c05.avi', 'UCF101/v_BandMarching_g25_c06.avi', 'UCF101/v_BandMarching_g25_c07.avi'], ['UCF101/v_BaseballPitch_g01_c01.avi', 'UCF101/v_BaseballPitch_g01_c02.avi', 'UCF101/v_BaseballPitch_g01_c03.avi', 'UCF101/v_BaseballPitch_g01_c04.avi', 'UCF101/v_BaseballPitch_g01_c05.avi', 'UCF101/v_BaseballPitch_g01_c06.avi', 'UCF101/v_BaseballPitch_g02_c01.avi', 'UCF101/v_BaseballPitch_g02_c02.avi', 'UCF101/v_BaseballPitch_g02_c03.avi', 'UCF101/v_BaseballPitch_g02_c04.avi', 'UCF101/v_BaseballPitch_g03_c01.avi', 'UCF101/v_BaseballPitch_g03_c02.avi', 'UCF101/v_BaseballPitch_g03_c03.avi', 'UCF101/v_BaseballPitch_g03_c04.avi', 'UCF101/v_BaseballPitch_g03_c05.avi', 'UCF101/v_BaseballPitch_g03_c06.avi', 'UCF101/v_BaseballPitch_g03_c07.avi', 'UCF101/v_BaseballPitch_g04_c01.avi', 'UCF101/v_BaseballPitch_g04_c02.avi', 'UCF101/v_BaseballPitch_g04_c03.avi', 'UCF101/v_BaseballPitch_g04_c04.avi', 'UCF101/v_BaseballPitch_g04_c05.avi', 'UCF101/v_BaseballPitch_g05_c01.avi', 'UCF101/v_BaseballPitch_g05_c02.avi', 'UCF101/v_BaseballPitch_g05_c03.avi', 'UCF101/v_BaseballPitch_g05_c04.avi', 'UCF101/v_BaseballPitch_g05_c05.avi', 'UCF101/v_BaseballPitch_g05_c06.avi', 'UCF101/v_BaseballPitch_g05_c07.avi', 'UCF101/v_BaseballPitch_g06_c01.avi', 'UCF101/v_BaseballPitch_g06_c02.avi', 'UCF101/v_BaseballPitch_g06_c03.avi', 'UCF101/v_BaseballPitch_g06_c04.avi', 'UCF101/v_BaseballPitch_g06_c05.avi', 'UCF101/v_BaseballPitch_g06_c06.avi', 'UCF101/v_BaseballPitch_g06_c07.avi', 'UCF101/v_BaseballPitch_g07_c01.avi', 'UCF101/v_BaseballPitch_g07_c02.avi', 'UCF101/v_BaseballPitch_g07_c03.avi', 'UCF101/v_BaseballPitch_g07_c04.avi', 'UCF101/v_BaseballPitch_g07_c05.avi', 'UCF101/v_BaseballPitch_g07_c06.avi', 'UCF101/v_BaseballPitch_g07_c07.avi', 'UCF101/v_BaseballPitch_g08_c01.avi', 'UCF101/v_BaseballPitch_g08_c02.avi', 'UCF101/v_BaseballPitch_g08_c03.avi', 'UCF101/v_BaseballPitch_g08_c04.avi', 'UCF101/v_BaseballPitch_g08_c05.avi', 'UCF101/v_BaseballPitch_g08_c06.avi', 'UCF101/v_BaseballPitch_g08_c07.avi', 'UCF101/v_BaseballPitch_g09_c01.avi', 'UCF101/v_BaseballPitch_g09_c02.avi', 'UCF101/v_BaseballPitch_g09_c03.avi', 'UCF101/v_BaseballPitch_g09_c04.avi', 'UCF101/v_BaseballPitch_g09_c05.avi', 'UCF101/v_BaseballPitch_g09_c06.avi', 'UCF101/v_BaseballPitch_g09_c07.avi', 'UCF101/v_BaseballPitch_g10_c01.avi', 'UCF101/v_BaseballPitch_g10_c02.avi', 'UCF101/v_BaseballPitch_g10_c03.avi', 'UCF101/v_BaseballPitch_g10_c04.avi', 'UCF101/v_BaseballPitch_g10_c05.avi', 'UCF101/v_BaseballPitch_g11_c01.avi', 'UCF101/v_BaseballPitch_g11_c02.avi', 'UCF101/v_BaseballPitch_g11_c03.avi', 'UCF101/v_BaseballPitch_g11_c04.avi', 'UCF101/v_BaseballPitch_g11_c05.avi', 'UCF101/v_BaseballPitch_g12_c01.avi', 'UCF101/v_BaseballPitch_g12_c02.avi', 'UCF101/v_BaseballPitch_g12_c03.avi', 'UCF101/v_BaseballPitch_g12_c04.avi', 'UCF101/v_BaseballPitch_g13_c01.avi', 'UCF101/v_BaseballPitch_g13_c02.avi', 'UCF101/v_BaseballPitch_g13_c03.avi', 'UCF101/v_BaseballPitch_g13_c04.avi', 'UCF101/v_BaseballPitch_g13_c05.avi', 'UCF101/v_BaseballPitch_g13_c06.avi', 'UCF101/v_BaseballPitch_g13_c07.avi', 'UCF101/v_BaseballPitch_g14_c01.avi', 'UCF101/v_BaseballPitch_g14_c02.avi', 'UCF101/v_BaseballPitch_g14_c03.avi', 'UCF101/v_BaseballPitch_g14_c04.avi', 'UCF101/v_BaseballPitch_g15_c01.avi', 'UCF101/v_BaseballPitch_g15_c02.avi', 'UCF101/v_BaseballPitch_g15_c03.avi', 'UCF101/v_BaseballPitch_g15_c04.avi', 'UCF101/v_BaseballPitch_g15_c05.avi', 'UCF101/v_BaseballPitch_g15_c06.avi', 'UCF101/v_BaseballPitch_g15_c07.avi', 'UCF101/v_BaseballPitch_g16_c01.avi', 'UCF101/v_BaseballPitch_g16_c02.avi', 'UCF101/v_BaseballPitch_g16_c03.avi', 'UCF101/v_BaseballPitch_g16_c04.avi', 'UCF101/v_BaseballPitch_g16_c05.avi', 'UCF101/v_BaseballPitch_g16_c06.avi', 'UCF101/v_BaseballPitch_g17_c01.avi', 'UCF101/v_BaseballPitch_g17_c02.avi', 'UCF101/v_BaseballPitch_g17_c03.avi', 'UCF101/v_BaseballPitch_g17_c04.avi', 'UCF101/v_BaseballPitch_g17_c05.avi', 'UCF101/v_BaseballPitch_g17_c06.avi', 'UCF101/v_BaseballPitch_g17_c07.avi', 'UCF101/v_BaseballPitch_g18_c01.avi', 'UCF101/v_BaseballPitch_g18_c02.avi', 'UCF101/v_BaseballPitch_g18_c03.avi', 'UCF101/v_BaseballPitch_g18_c04.avi', 'UCF101/v_BaseballPitch_g18_c05.avi', 'UCF101/v_BaseballPitch_g18_c06.avi', 'UCF101/v_BaseballPitch_g18_c07.avi', 'UCF101/v_BaseballPitch_g19_c01.avi', 'UCF101/v_BaseballPitch_g19_c02.avi', 'UCF101/v_BaseballPitch_g19_c03.avi', 'UCF101/v_BaseballPitch_g19_c04.avi', 'UCF101/v_BaseballPitch_g19_c05.avi', 'UCF101/v_BaseballPitch_g20_c01.avi', 'UCF101/v_BaseballPitch_g20_c02.avi', 'UCF101/v_BaseballPitch_g20_c03.avi', 'UCF101/v_BaseballPitch_g20_c04.avi', 'UCF101/v_BaseballPitch_g21_c01.avi', 'UCF101/v_BaseballPitch_g21_c02.avi', 'UCF101/v_BaseballPitch_g21_c03.avi', 'UCF101/v_BaseballPitch_g21_c04.avi', 'UCF101/v_BaseballPitch_g22_c01.avi', 'UCF101/v_BaseballPitch_g22_c02.avi', 'UCF101/v_BaseballPitch_g22_c03.avi', 'UCF101/v_BaseballPitch_g22_c04.avi', 'UCF101/v_BaseballPitch_g22_c05.avi', 'UCF101/v_BaseballPitch_g22_c06.avi', 'UCF101/v_BaseballPitch_g22_c07.avi', 'UCF101/v_BaseballPitch_g23_c01.avi', 'UCF101/v_BaseballPitch_g23_c02.avi', 'UCF101/v_BaseballPitch_g23_c03.avi', 'UCF101/v_BaseballPitch_g23_c04.avi', 'UCF101/v_BaseballPitch_g23_c05.avi', 'UCF101/v_BaseballPitch_g23_c06.avi', 'UCF101/v_BaseballPitch_g23_c07.avi', 'UCF101/v_BaseballPitch_g24_c01.avi', 'UCF101/v_BaseballPitch_g24_c02.avi', 'UCF101/v_BaseballPitch_g24_c03.avi', 'UCF101/v_BaseballPitch_g24_c04.avi', 'UCF101/v_BaseballPitch_g24_c05.avi', 'UCF101/v_BaseballPitch_g24_c06.avi', 'UCF101/v_BaseballPitch_g24_c07.avi', 'UCF101/v_BaseballPitch_g25_c01.avi', 'UCF101/v_BaseballPitch_g25_c02.avi', 'UCF101/v_BaseballPitch_g25_c03.avi', 'UCF101/v_BaseballPitch_g25_c04.avi', 'UCF101/v_BaseballPitch_g25_c05.avi', 'UCF101/v_BaseballPitch_g25_c06.avi', 'UCF101/v_BaseballPitch_g25_c07.avi'], ['UCF101/v_BasketballDunk_g01_c01.avi', 'UCF101/v_BasketballDunk_g01_c02.avi', 'UCF101/v_BasketballDunk_g01_c03.avi', 'UCF101/v_BasketballDunk_g01_c04.avi', 'UCF101/v_BasketballDunk_g01_c05.avi', 'UCF101/v_BasketballDunk_g01_c06.avi', 'UCF101/v_BasketballDunk_g01_c07.avi', 'UCF101/v_BasketballDunk_g02_c01.avi', 'UCF101/v_BasketballDunk_g02_c02.avi', 'UCF101/v_BasketballDunk_g02_c03.avi', 'UCF101/v_BasketballDunk_g02_c04.avi', 'UCF101/v_BasketballDunk_g03_c01.avi', 'UCF101/v_BasketballDunk_g03_c02.avi', 'UCF101/v_BasketballDunk_g03_c03.avi', 'UCF101/v_BasketballDunk_g03_c04.avi', 'UCF101/v_BasketballDunk_g03_c05.avi', 'UCF101/v_BasketballDunk_g03_c06.avi', 'UCF101/v_BasketballDunk_g04_c01.avi', 'UCF101/v_BasketballDunk_g04_c02.avi', 'UCF101/v_BasketballDunk_g04_c03.avi', 'UCF101/v_BasketballDunk_g04_c04.avi', 'UCF101/v_BasketballDunk_g05_c01.avi', 'UCF101/v_BasketballDunk_g05_c02.avi', 'UCF101/v_BasketballDunk_g05_c03.avi', 'UCF101/v_BasketballDunk_g05_c04.avi', 'UCF101/v_BasketballDunk_g05_c05.avi', 'UCF101/v_BasketballDunk_g05_c06.avi', 'UCF101/v_BasketballDunk_g06_c01.avi', 'UCF101/v_BasketballDunk_g06_c02.avi', 'UCF101/v_BasketballDunk_g06_c03.avi', 'UCF101/v_BasketballDunk_g06_c04.avi', 'UCF101/v_BasketballDunk_g07_c01.avi', 'UCF101/v_BasketballDunk_g07_c02.avi', 'UCF101/v_BasketballDunk_g07_c03.avi', 'UCF101/v_BasketballDunk_g07_c04.avi', 'UCF101/v_BasketballDunk_g07_c05.avi', 'UCF101/v_BasketballDunk_g07_c06.avi', 'UCF101/v_BasketballDunk_g08_c01.avi', 'UCF101/v_BasketballDunk_g08_c02.avi', 'UCF101/v_BasketballDunk_g08_c03.avi', 'UCF101/v_BasketballDunk_g08_c04.avi', 'UCF101/v_BasketballDunk_g08_c05.avi', 'UCF101/v_BasketballDunk_g09_c01.avi', 'UCF101/v_BasketballDunk_g09_c02.avi', 'UCF101/v_BasketballDunk_g09_c03.avi', 'UCF101/v_BasketballDunk_g09_c04.avi', 'UCF101/v_BasketballDunk_g09_c05.avi', 'UCF101/v_BasketballDunk_g10_c01.avi', 'UCF101/v_BasketballDunk_g10_c02.avi', 'UCF101/v_BasketballDunk_g10_c03.avi', 'UCF101/v_BasketballDunk_g10_c04.avi', 'UCF101/v_BasketballDunk_g10_c05.avi', 'UCF101/v_BasketballDunk_g11_c01.avi', 'UCF101/v_BasketballDunk_g11_c02.avi', 'UCF101/v_BasketballDunk_g11_c03.avi', 'UCF101/v_BasketballDunk_g11_c04.avi', 'UCF101/v_BasketballDunk_g11_c05.avi', 'UCF101/v_BasketballDunk_g12_c01.avi', 'UCF101/v_BasketballDunk_g12_c02.avi', 'UCF101/v_BasketballDunk_g12_c03.avi', 'UCF101/v_BasketballDunk_g12_c04.avi', 'UCF101/v_BasketballDunk_g12_c05.avi', 'UCF101/v_BasketballDunk_g13_c01.avi', 'UCF101/v_BasketballDunk_g13_c02.avi', 'UCF101/v_BasketballDunk_g13_c03.avi', 'UCF101/v_BasketballDunk_g13_c04.avi', 'UCF101/v_BasketballDunk_g14_c01.avi', 'UCF101/v_BasketballDunk_g14_c02.avi', 'UCF101/v_BasketballDunk_g14_c03.avi', 'UCF101/v_BasketballDunk_g14_c04.avi', 'UCF101/v_BasketballDunk_g14_c05.avi', 'UCF101/v_BasketballDunk_g14_c06.avi', 'UCF101/v_BasketballDunk_g14_c07.avi', 'UCF101/v_BasketballDunk_g15_c01.avi', 'UCF101/v_BasketballDunk_g15_c02.avi', 'UCF101/v_BasketballDunk_g15_c03.avi', 'UCF101/v_BasketballDunk_g15_c04.avi', 'UCF101/v_BasketballDunk_g15_c05.avi', 'UCF101/v_BasketballDunk_g15_c06.avi', 'UCF101/v_BasketballDunk_g15_c07.avi', 'UCF101/v_BasketballDunk_g16_c01.avi', 'UCF101/v_BasketballDunk_g16_c02.avi', 'UCF101/v_BasketballDunk_g16_c03.avi', 'UCF101/v_BasketballDunk_g16_c04.avi', 'UCF101/v_BasketballDunk_g16_c05.avi', 'UCF101/v_BasketballDunk_g16_c06.avi', 'UCF101/v_BasketballDunk_g17_c01.avi', 'UCF101/v_BasketballDunk_g17_c02.avi', 'UCF101/v_BasketballDunk_g17_c03.avi', 'UCF101/v_BasketballDunk_g17_c04.avi', 'UCF101/v_BasketballDunk_g17_c05.avi', 'UCF101/v_BasketballDunk_g17_c06.avi', 'UCF101/v_BasketballDunk_g17_c07.avi', 'UCF101/v_BasketballDunk_g18_c01.avi', 'UCF101/v_BasketballDunk_g18_c02.avi', 'UCF101/v_BasketballDunk_g18_c03.avi', 'UCF101/v_BasketballDunk_g18_c04.avi', 'UCF101/v_BasketballDunk_g18_c05.avi', 'UCF101/v_BasketballDunk_g18_c06.avi', 'UCF101/v_BasketballDunk_g19_c01.avi', 'UCF101/v_BasketballDunk_g19_c02.avi', 'UCF101/v_BasketballDunk_g19_c03.avi', 'UCF101/v_BasketballDunk_g19_c04.avi', 'UCF101/v_BasketballDunk_g20_c01.avi', 'UCF101/v_BasketballDunk_g20_c02.avi', 'UCF101/v_BasketballDunk_g20_c03.avi', 'UCF101/v_BasketballDunk_g20_c04.avi', 'UCF101/v_BasketballDunk_g20_c05.avi', 'UCF101/v_BasketballDunk_g20_c06.avi', 'UCF101/v_BasketballDunk_g21_c01.avi', 'UCF101/v_BasketballDunk_g21_c02.avi', 'UCF101/v_BasketballDunk_g21_c03.avi', 'UCF101/v_BasketballDunk_g21_c04.avi', 'UCF101/v_BasketballDunk_g22_c01.avi', 'UCF101/v_BasketballDunk_g22_c02.avi', 'UCF101/v_BasketballDunk_g22_c03.avi', 'UCF101/v_BasketballDunk_g22_c04.avi', 'UCF101/v_BasketballDunk_g23_c01.avi', 'UCF101/v_BasketballDunk_g23_c02.avi', 'UCF101/v_BasketballDunk_g23_c03.avi', 'UCF101/v_BasketballDunk_g23_c04.avi', 'UCF101/v_BasketballDunk_g23_c05.avi', 'UCF101/v_BasketballDunk_g24_c01.avi', 'UCF101/v_BasketballDunk_g24_c02.avi', 'UCF101/v_BasketballDunk_g24_c03.avi', 'UCF101/v_BasketballDunk_g24_c04.avi', 'UCF101/v_BasketballDunk_g24_c05.avi', 'UCF101/v_BasketballDunk_g25_c01.avi', 'UCF101/v_BasketballDunk_g25_c02.avi', 'UCF101/v_BasketballDunk_g25_c03.avi', 'UCF101/v_BasketballDunk_g25_c04.avi'], ['UCF101/v_Basketball_g01_c01.avi', 'UCF101/v_Basketball_g01_c02.avi', 'UCF101/v_Basketball_g01_c03.avi', 'UCF101/v_Basketball_g01_c04.avi', 'UCF101/v_Basketball_g01_c05.avi', 'UCF101/v_Basketball_g01_c06.avi', 'UCF101/v_Basketball_g01_c07.avi', 'UCF101/v_Basketball_g02_c01.avi', 'UCF101/v_Basketball_g02_c02.avi', 'UCF101/v_Basketball_g02_c03.avi', 'UCF101/v_Basketball_g02_c04.avi', 'UCF101/v_Basketball_g02_c05.avi', 'UCF101/v_Basketball_g02_c06.avi', 'UCF101/v_Basketball_g03_c01.avi', 'UCF101/v_Basketball_g03_c02.avi', 'UCF101/v_Basketball_g03_c03.avi', 'UCF101/v_Basketball_g03_c04.avi', 'UCF101/v_Basketball_g03_c05.avi', 'UCF101/v_Basketball_g03_c06.avi', 'UCF101/v_Basketball_g04_c01.avi', 'UCF101/v_Basketball_g04_c02.avi', 'UCF101/v_Basketball_g04_c03.avi', 'UCF101/v_Basketball_g04_c04.avi', 'UCF101/v_Basketball_g05_c01.avi', 'UCF101/v_Basketball_g05_c02.avi', 'UCF101/v_Basketball_g05_c03.avi', 'UCF101/v_Basketball_g05_c04.avi', 'UCF101/v_Basketball_g06_c01.avi', 'UCF101/v_Basketball_g06_c02.avi', 'UCF101/v_Basketball_g06_c03.avi', 'UCF101/v_Basketball_g06_c04.avi', 'UCF101/v_Basketball_g07_c01.avi', 'UCF101/v_Basketball_g07_c02.avi', 'UCF101/v_Basketball_g07_c03.avi', 'UCF101/v_Basketball_g07_c04.avi', 'UCF101/v_Basketball_g08_c01.avi', 'UCF101/v_Basketball_g08_c02.avi', 'UCF101/v_Basketball_g08_c03.avi', 'UCF101/v_Basketball_g08_c04.avi', 'UCF101/v_Basketball_g09_c01.avi', 'UCF101/v_Basketball_g09_c02.avi', 'UCF101/v_Basketball_g09_c03.avi', 'UCF101/v_Basketball_g09_c04.avi', 'UCF101/v_Basketball_g09_c05.avi', 'UCF101/v_Basketball_g10_c01.avi', 'UCF101/v_Basketball_g10_c02.avi', 'UCF101/v_Basketball_g10_c03.avi', 'UCF101/v_Basketball_g10_c04.avi', 'UCF101/v_Basketball_g10_c05.avi', 'UCF101/v_Basketball_g11_c01.avi', 'UCF101/v_Basketball_g11_c02.avi', 'UCF101/v_Basketball_g11_c03.avi', 'UCF101/v_Basketball_g11_c04.avi', 'UCF101/v_Basketball_g11_c05.avi', 'UCF101/v_Basketball_g12_c01.avi', 'UCF101/v_Basketball_g12_c02.avi', 'UCF101/v_Basketball_g12_c03.avi', 'UCF101/v_Basketball_g12_c04.avi', 'UCF101/v_Basketball_g12_c05.avi', 'UCF101/v_Basketball_g13_c01.avi', 'UCF101/v_Basketball_g13_c02.avi', 'UCF101/v_Basketball_g13_c03.avi', 'UCF101/v_Basketball_g13_c04.avi', 'UCF101/v_Basketball_g14_c01.avi', 'UCF101/v_Basketball_g14_c02.avi', 'UCF101/v_Basketball_g14_c03.avi', 'UCF101/v_Basketball_g14_c04.avi', 'UCF101/v_Basketball_g14_c05.avi', 'UCF101/v_Basketball_g15_c01.avi', 'UCF101/v_Basketball_g15_c02.avi', 'UCF101/v_Basketball_g15_c03.avi', 'UCF101/v_Basketball_g15_c04.avi', 'UCF101/v_Basketball_g15_c05.avi', 'UCF101/v_Basketball_g15_c06.avi', 'UCF101/v_Basketball_g15_c07.avi', 'UCF101/v_Basketball_g16_c01.avi', 'UCF101/v_Basketball_g16_c02.avi', 'UCF101/v_Basketball_g16_c03.avi', 'UCF101/v_Basketball_g16_c04.avi', 'UCF101/v_Basketball_g16_c05.avi', 'UCF101/v_Basketball_g16_c06.avi', 'UCF101/v_Basketball_g17_c01.avi', 'UCF101/v_Basketball_g17_c02.avi', 'UCF101/v_Basketball_g17_c03.avi', 'UCF101/v_Basketball_g17_c04.avi', 'UCF101/v_Basketball_g18_c01.avi', 'UCF101/v_Basketball_g18_c02.avi', 'UCF101/v_Basketball_g18_c03.avi', 'UCF101/v_Basketball_g18_c04.avi', 'UCF101/v_Basketball_g18_c05.avi', 'UCF101/v_Basketball_g19_c01.avi', 'UCF101/v_Basketball_g19_c02.avi', 'UCF101/v_Basketball_g19_c03.avi', 'UCF101/v_Basketball_g19_c04.avi', 'UCF101/v_Basketball_g19_c05.avi', 'UCF101/v_Basketball_g19_c06.avi', 'UCF101/v_Basketball_g19_c07.avi', 'UCF101/v_Basketball_g20_c01.avi', 'UCF101/v_Basketball_g20_c02.avi', 'UCF101/v_Basketball_g20_c03.avi', 'UCF101/v_Basketball_g20_c04.avi', 'UCF101/v_Basketball_g20_c05.avi', 'UCF101/v_Basketball_g20_c06.avi', 'UCF101/v_Basketball_g20_c07.avi', 'UCF101/v_Basketball_g21_c01.avi', 'UCF101/v_Basketball_g21_c02.avi', 'UCF101/v_Basketball_g21_c03.avi', 'UCF101/v_Basketball_g21_c04.avi', 'UCF101/v_Basketball_g21_c05.avi', 'UCF101/v_Basketball_g21_c06.avi', 'UCF101/v_Basketball_g22_c01.avi', 'UCF101/v_Basketball_g22_c02.avi', 'UCF101/v_Basketball_g22_c03.avi', 'UCF101/v_Basketball_g22_c04.avi', 'UCF101/v_Basketball_g22_c05.avi', 'UCF101/v_Basketball_g22_c06.avi', 'UCF101/v_Basketball_g22_c07.avi', 'UCF101/v_Basketball_g23_c01.avi', 'UCF101/v_Basketball_g23_c02.avi', 'UCF101/v_Basketball_g23_c03.avi', 'UCF101/v_Basketball_g23_c04.avi', 'UCF101/v_Basketball_g23_c05.avi', 'UCF101/v_Basketball_g23_c06.avi', 'UCF101/v_Basketball_g24_c01.avi', 'UCF101/v_Basketball_g24_c02.avi', 'UCF101/v_Basketball_g24_c03.avi', 'UCF101/v_Basketball_g24_c04.avi', 'UCF101/v_Basketball_g25_c01.avi', 'UCF101/v_Basketball_g25_c02.avi', 'UCF101/v_Basketball_g25_c03.avi', 'UCF101/v_Basketball_g25_c04.avi', 'UCF101/v_Basketball_g25_c05.avi', 'UCF101/v_Basketball_g25_c06.avi', 'UCF101/v_Basketball_g25_c07.avi'], ['UCF101/v_BenchPress_g01_c01.avi', 'UCF101/v_BenchPress_g01_c02.avi', 'UCF101/v_BenchPress_g01_c03.avi', 'UCF101/v_BenchPress_g01_c04.avi', 'UCF101/v_BenchPress_g01_c05.avi', 'UCF101/v_BenchPress_g01_c06.avi', 'UCF101/v_BenchPress_g02_c01.avi', 'UCF101/v_BenchPress_g02_c02.avi', 'UCF101/v_BenchPress_g02_c03.avi', 'UCF101/v_BenchPress_g02_c04.avi', 'UCF101/v_BenchPress_g02_c05.avi', 'UCF101/v_BenchPress_g02_c06.avi', 'UCF101/v_BenchPress_g02_c07.avi', 'UCF101/v_BenchPress_g03_c01.avi', 'UCF101/v_BenchPress_g03_c02.avi', 'UCF101/v_BenchPress_g03_c03.avi', 'UCF101/v_BenchPress_g03_c04.avi', 'UCF101/v_BenchPress_g03_c05.avi', 'UCF101/v_BenchPress_g03_c06.avi', 'UCF101/v_BenchPress_g03_c07.avi', 'UCF101/v_BenchPress_g04_c01.avi', 'UCF101/v_BenchPress_g04_c02.avi', 'UCF101/v_BenchPress_g04_c03.avi', 'UCF101/v_BenchPress_g04_c04.avi', 'UCF101/v_BenchPress_g04_c05.avi', 'UCF101/v_BenchPress_g04_c06.avi', 'UCF101/v_BenchPress_g04_c07.avi', 'UCF101/v_BenchPress_g05_c01.avi', 'UCF101/v_BenchPress_g05_c02.avi', 'UCF101/v_BenchPress_g05_c03.avi', 'UCF101/v_BenchPress_g05_c04.avi', 'UCF101/v_BenchPress_g05_c05.avi', 'UCF101/v_BenchPress_g05_c06.avi', 'UCF101/v_BenchPress_g05_c07.avi', 'UCF101/v_BenchPress_g06_c01.avi', 'UCF101/v_BenchPress_g06_c02.avi', 'UCF101/v_BenchPress_g06_c03.avi', 'UCF101/v_BenchPress_g06_c04.avi', 'UCF101/v_BenchPress_g06_c05.avi', 'UCF101/v_BenchPress_g06_c06.avi', 'UCF101/v_BenchPress_g06_c07.avi', 'UCF101/v_BenchPress_g07_c01.avi', 'UCF101/v_BenchPress_g07_c02.avi', 'UCF101/v_BenchPress_g07_c03.avi', 'UCF101/v_BenchPress_g07_c04.avi', 'UCF101/v_BenchPress_g07_c05.avi', 'UCF101/v_BenchPress_g07_c06.avi', 'UCF101/v_BenchPress_g07_c07.avi', 'UCF101/v_BenchPress_g08_c01.avi', 'UCF101/v_BenchPress_g08_c02.avi', 'UCF101/v_BenchPress_g08_c03.avi', 'UCF101/v_BenchPress_g08_c04.avi', 'UCF101/v_BenchPress_g08_c05.avi', 'UCF101/v_BenchPress_g08_c06.avi', 'UCF101/v_BenchPress_g08_c07.avi', 'UCF101/v_BenchPress_g09_c01.avi', 'UCF101/v_BenchPress_g09_c02.avi', 'UCF101/v_BenchPress_g09_c03.avi', 'UCF101/v_BenchPress_g09_c04.avi', 'UCF101/v_BenchPress_g09_c05.avi', 'UCF101/v_BenchPress_g09_c06.avi', 'UCF101/v_BenchPress_g09_c07.avi', 'UCF101/v_BenchPress_g10_c01.avi', 'UCF101/v_BenchPress_g10_c02.avi', 'UCF101/v_BenchPress_g10_c03.avi', 'UCF101/v_BenchPress_g10_c04.avi', 'UCF101/v_BenchPress_g11_c01.avi', 'UCF101/v_BenchPress_g11_c02.avi', 'UCF101/v_BenchPress_g11_c03.avi', 'UCF101/v_BenchPress_g11_c04.avi', 'UCF101/v_BenchPress_g11_c05.avi', 'UCF101/v_BenchPress_g12_c01.avi', 'UCF101/v_BenchPress_g12_c02.avi', 'UCF101/v_BenchPress_g12_c03.avi', 'UCF101/v_BenchPress_g12_c04.avi', 'UCF101/v_BenchPress_g12_c05.avi', 'UCF101/v_BenchPress_g12_c06.avi', 'UCF101/v_BenchPress_g12_c07.avi', 'UCF101/v_BenchPress_g13_c01.avi', 'UCF101/v_BenchPress_g13_c02.avi', 'UCF101/v_BenchPress_g13_c03.avi', 'UCF101/v_BenchPress_g13_c04.avi', 'UCF101/v_BenchPress_g13_c05.avi', 'UCF101/v_BenchPress_g13_c06.avi', 'UCF101/v_BenchPress_g13_c07.avi', 'UCF101/v_BenchPress_g14_c01.avi', 'UCF101/v_BenchPress_g14_c02.avi', 'UCF101/v_BenchPress_g14_c03.avi', 'UCF101/v_BenchPress_g14_c04.avi', 'UCF101/v_BenchPress_g14_c05.avi', 'UCF101/v_BenchPress_g14_c06.avi', 'UCF101/v_BenchPress_g14_c07.avi', 'UCF101/v_BenchPress_g15_c01.avi', 'UCF101/v_BenchPress_g15_c02.avi', 'UCF101/v_BenchPress_g15_c03.avi', 'UCF101/v_BenchPress_g15_c04.avi', 'UCF101/v_BenchPress_g15_c05.avi', 'UCF101/v_BenchPress_g15_c06.avi', 'UCF101/v_BenchPress_g16_c01.avi', 'UCF101/v_BenchPress_g16_c02.avi', 'UCF101/v_BenchPress_g16_c03.avi', 'UCF101/v_BenchPress_g16_c04.avi', 'UCF101/v_BenchPress_g16_c05.avi', 'UCF101/v_BenchPress_g17_c01.avi', 'UCF101/v_BenchPress_g17_c02.avi', 'UCF101/v_BenchPress_g17_c03.avi', 'UCF101/v_BenchPress_g17_c04.avi', 'UCF101/v_BenchPress_g17_c05.avi', 'UCF101/v_BenchPress_g17_c06.avi', 'UCF101/v_BenchPress_g17_c07.avi', 'UCF101/v_BenchPress_g18_c01.avi', 'UCF101/v_BenchPress_g18_c02.avi', 'UCF101/v_BenchPress_g18_c03.avi', 'UCF101/v_BenchPress_g18_c04.avi', 'UCF101/v_BenchPress_g18_c05.avi', 'UCF101/v_BenchPress_g18_c06.avi', 'UCF101/v_BenchPress_g18_c07.avi', 'UCF101/v_BenchPress_g19_c01.avi', 'UCF101/v_BenchPress_g19_c02.avi', 'UCF101/v_BenchPress_g19_c03.avi', 'UCF101/v_BenchPress_g19_c04.avi', 'UCF101/v_BenchPress_g19_c05.avi', 'UCF101/v_BenchPress_g19_c06.avi', 'UCF101/v_BenchPress_g20_c01.avi', 'UCF101/v_BenchPress_g20_c02.avi', 'UCF101/v_BenchPress_g20_c03.avi', 'UCF101/v_BenchPress_g20_c04.avi', 'UCF101/v_BenchPress_g20_c05.avi', 'UCF101/v_BenchPress_g20_c06.avi', 'UCF101/v_BenchPress_g20_c07.avi', 'UCF101/v_BenchPress_g21_c01.avi', 'UCF101/v_BenchPress_g21_c02.avi', 'UCF101/v_BenchPress_g21_c03.avi', 'UCF101/v_BenchPress_g21_c04.avi', 'UCF101/v_BenchPress_g22_c01.avi', 'UCF101/v_BenchPress_g22_c02.avi', 'UCF101/v_BenchPress_g22_c03.avi', 'UCF101/v_BenchPress_g22_c04.avi', 'UCF101/v_BenchPress_g22_c05.avi', 'UCF101/v_BenchPress_g22_c06.avi', 'UCF101/v_BenchPress_g22_c07.avi', 'UCF101/v_BenchPress_g23_c01.avi', 'UCF101/v_BenchPress_g23_c02.avi', 'UCF101/v_BenchPress_g23_c03.avi', 'UCF101/v_BenchPress_g23_c04.avi', 'UCF101/v_BenchPress_g23_c05.avi', 'UCF101/v_BenchPress_g24_c01.avi', 'UCF101/v_BenchPress_g24_c02.avi', 'UCF101/v_BenchPress_g24_c03.avi', 'UCF101/v_BenchPress_g24_c04.avi', 'UCF101/v_BenchPress_g24_c05.avi', 'UCF101/v_BenchPress_g24_c06.avi', 'UCF101/v_BenchPress_g24_c07.avi', 'UCF101/v_BenchPress_g25_c01.avi', 'UCF101/v_BenchPress_g25_c02.avi', 'UCF101/v_BenchPress_g25_c03.avi', 'UCF101/v_BenchPress_g25_c04.avi', 'UCF101/v_BenchPress_g25_c05.avi', 'UCF101/v_BenchPress_g25_c06.avi', 'UCF101/v_BenchPress_g25_c07.avi']]\n"
          ]
        }
      ]
    },
    {
      "cell_type": "markdown",
      "source": [
        "Now, let's create a new function called `select_subset_of_classes` that selects a subset of the classes present within the dataset and a particular number of files per class:"
      ],
      "metadata": {
        "id": "lXRaB0_E_2yj"
      }
    },
    {
      "cell_type": "code",
      "source": [],
      "metadata": {
        "id": "FYG59WI8_5MI"
      },
      "execution_count": null,
      "outputs": []
    }
  ]
}