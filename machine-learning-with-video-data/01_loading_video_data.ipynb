{
  "nbformat": 4,
  "nbformat_minor": 0,
  "metadata": {
    "colab": {
      "provenance": [],
      "toc_visible": true,
      "authorship_tag": "ABX9TyPypJzE/VQA0EMJvvzCfgtl",
      "include_colab_link": true
    },
    "kernelspec": {
      "name": "python3",
      "display_name": "Python 3"
    },
    "language_info": {
      "name": "python"
    }
  },
  "cells": [
    {
      "cell_type": "markdown",
      "metadata": {
        "id": "view-in-github",
        "colab_type": "text"
      },
      "source": [
        "<a href=\"https://colab.research.google.com/github/rahiakela/computer-vision-research-and-practice/blob/main/machine-learning-with-video-data/01_loading_video_data.ipynb\" target=\"_parent\"><img src=\"https://colab.research.google.com/assets/colab-badge.svg\" alt=\"Open In Colab\"/></a>"
      ]
    },
    {
      "cell_type": "markdown",
      "source": [
        "##Loading video data"
      ],
      "metadata": {
        "id": "em-YYR9X6NLD"
      }
    },
    {
      "cell_type": "markdown",
      "source": [
        "This tutorial demonstrates how to load and preprocess [AVI](https://en.wikipedia.org/wiki/Audio_Video_Interleave) video data using the [UCF101 human action dataset](https://www.tensorflow.org/datasets/catalog/ucf101). Once you have preprocessed the data, it can be used for such tasks as video classification/recognition, captioning or clustering. The original dataset contains realistic action videos collected from YouTube with 101 categories, including playing cello, brushing teeth, and applying eye makeup. You will learn how to:\n",
        "\n",
        "* Load the data from a zip file.\n",
        "\n",
        "* Read sequences of frames out of the video files.\n",
        "\n",
        "* Visualize the video data.\n",
        "\n",
        "* Wrap the frame-generator [`tf.data.Dataset`](https://www.tensorflow.org/guide/data).\n",
        "\n",
        "This video loading and preprocessing tutorial is the first part in a series of TensorFlow video tutorials. Here are the other three tutorials:\n",
        "\n",
        "- [Build a 3D CNN model for video classification](https://www.tensorflow.org/tutorials/video/video_classification): Note that this tutorial uses a (2+1)D CNN that decomposes the spatial and temporal aspects of 3D data; if you are using volumetric data such as an MRI scan, consider using a 3D CNN instead of a (2+1)D CNN.\n",
        "- [MoViNet for streaming action recognition](https://www.tensorflow.org/hub/tutorials/movinet): Get familiar with the MoViNet models that are available on TF Hub.\n",
        "- [Transfer learning for video classification with MoViNet](https://www.tensorflow.org/tutorials/video/transfer_learning_with_movinet): This tutorial explains how to use a pre-trained video classification model trained on a different dataset with the UCF-101 dataset."
      ],
      "metadata": {
        "id": "e1-vCFFy8DP5"
      }
    },
    {
      "cell_type": "markdown",
      "source": [
        "## Setup"
      ],
      "metadata": {
        "id": "Hg3Bp7QO8FtT"
      }
    },
    {
      "cell_type": "markdown",
      "source": [
        "Begin by installing and importing some necessary libraries, including:\n",
        "[remotezip](https://github.com/gtsystem/python-remotezip) to inspect the contents of a ZIP file, [tqdm](https://github.com/tqdm/tqdm) to use a progress bar, [OpenCV](https://opencv.org/) to process video files, and [`tensorflow_docs`](https://github.com/tensorflow/docs/tree/master/tools/tensorflow_docs) for embedding data in a Jupyter notebook."
      ],
      "metadata": {
        "id": "34v2eppI8GGI"
      }
    },
    {
      "cell_type": "code",
      "source": [
        "# The way this tutorial uses the `TimeDistributed` layer requires TF>=2.10\n",
        "!pip install -U \"tensorflow>=2.10.0\""
      ],
      "metadata": {
        "id": "UfGAizX28IJl"
      },
      "execution_count": null,
      "outputs": []
    },
    {
      "cell_type": "code",
      "source": [
        "!pip install remotezip tqdm opencv-python\n",
        "!pip install -q git+https://github.com/tensorflow/docs"
      ],
      "metadata": {
        "id": "K9OQqHoc8M7b"
      },
      "execution_count": null,
      "outputs": []
    },
    {
      "cell_type": "code",
      "source": [
        "import tqdm\n",
        "import random\n",
        "import pathlib\n",
        "import itertools\n",
        "import collections\n",
        "\n",
        "import os\n",
        "import cv2\n",
        "import numpy as np\n",
        "import remotezip as rz\n",
        "\n",
        "import tensorflow as tf\n",
        "\n",
        "# Some modules to display an animation using imageio.\n",
        "import imageio\n",
        "from IPython import display\n",
        "from urllib import request\n",
        "from tensorflow_docs.vis import embed"
      ],
      "metadata": {
        "id": "qwNRGRB38NRC"
      },
      "execution_count": 3,
      "outputs": []
    },
    {
      "cell_type": "markdown",
      "source": [
        "##UCF101 dataset"
      ],
      "metadata": {
        "id": "XY8loA7r8P18"
      }
    },
    {
      "cell_type": "markdown",
      "source": [
        "The [UCF101 dataset](https://www.tensorflow.org/datasets/catalog/ucf101) contains 101 categories of different actions in video, primarily used in action recognition. You will use a subset of these categories in this demo."
      ],
      "metadata": {
        "id": "qFNiCaLp8ZFX"
      }
    },
    {
      "cell_type": "code",
      "source": [
        "URL = \"https://storage.googleapis.com/thumos14_files/UCF101_videos.zip\""
      ],
      "metadata": {
        "id": "H9nx_IOK8bbY"
      },
      "execution_count": 4,
      "outputs": []
    },
    {
      "cell_type": "markdown",
      "source": [
        "The above URL contains a zip file with the UCF 101 dataset. \n",
        "\n",
        "Let's create a function that uses the `remotezip` library to examine the contents of the zip file in that URL:"
      ],
      "metadata": {
        "id": "N3V-ogrq8o0n"
      }
    },
    {
      "cell_type": "code",
      "source": [
        "def list_files_from_zip_url(zip_url):\n",
        "  \"\"\"\n",
        "  List the files in each class of the dataset given a URL with the zip file.\n",
        "  Args:\n",
        "    zip_url: A URL from which the files can be extracted from.\n",
        "  Returns:\n",
        "    List of files in each of the classes.\n",
        "  \"\"\"\n",
        "  files = []\n",
        "  with rz.RemoteZip(zip_url) as zip:\n",
        "    for zip_info in zip.infolist():\n",
        "      files.append(zip_info.filename)\n",
        "  return files"
      ],
      "metadata": {
        "id": "s5vHRciT8q2E"
      },
      "execution_count": 5,
      "outputs": []
    },
    {
      "cell_type": "code",
      "source": [
        "files = list_files_from_zip_url(URL)\n",
        "files = [f for f in files if f.endswith(\".avi\")]\n",
        "files[:10]"
      ],
      "metadata": {
        "colab": {
          "base_uri": "https://localhost:8080/"
        },
        "id": "ATiKEzHQ9LSE",
        "outputId": "4a6d7a5b-c6dc-4536-c264-0077a0fe1c3e"
      },
      "execution_count": 6,
      "outputs": [
        {
          "output_type": "execute_result",
          "data": {
            "text/plain": [
              "['UCF101/v_ApplyEyeMakeup_g01_c01.avi',\n",
              " 'UCF101/v_ApplyEyeMakeup_g01_c02.avi',\n",
              " 'UCF101/v_ApplyEyeMakeup_g01_c03.avi',\n",
              " 'UCF101/v_ApplyEyeMakeup_g01_c04.avi',\n",
              " 'UCF101/v_ApplyEyeMakeup_g01_c05.avi',\n",
              " 'UCF101/v_ApplyEyeMakeup_g01_c06.avi',\n",
              " 'UCF101/v_ApplyEyeMakeup_g02_c01.avi',\n",
              " 'UCF101/v_ApplyEyeMakeup_g02_c02.avi',\n",
              " 'UCF101/v_ApplyEyeMakeup_g02_c03.avi',\n",
              " 'UCF101/v_ApplyEyeMakeup_g02_c04.avi']"
            ]
          },
          "metadata": {},
          "execution_count": 6
        }
      ]
    },
    {
      "cell_type": "markdown",
      "source": [
        "Begin with a few videos and a limited number of classes for training. After running the above code block, notice that the class name is included in the filename of each video.\n",
        "\n",
        "Let's define the `get_class` function that retrieves the class name from a filename. Then, create a function called `get_files_per_class` which converts the list of all files (`files` above) into a dictionary listing the files for each class:"
      ],
      "metadata": {
        "id": "bxQgahXQ-bn9"
      }
    },
    {
      "cell_type": "code",
      "source": [
        "def get_class(fname):\n",
        "  \"\"\"Retrieve the name of the class given a filename\"\"\"\n",
        "  return fname.split(\"_\")[-3]"
      ],
      "metadata": {
        "id": "UTXvtlQA-djc"
      },
      "execution_count": 7,
      "outputs": []
    },
    {
      "cell_type": "code",
      "source": [
        "def get_files_per_class(files):\n",
        "  \"\"\"Retrieve the files that belong to each class.\"\"\"\n",
        "  files_for_class = collections.defaultdict(list)\n",
        "  for fname in files:\n",
        "    class_name = get_class(fname)\n",
        "    files_for_class[class_name].append(fname)\n",
        "  return files_for_class"
      ],
      "metadata": {
        "id": "0o5iffTB-pSB"
      },
      "execution_count": 8,
      "outputs": []
    },
    {
      "cell_type": "markdown",
      "source": [
        "Once you have the list of files per class, you can choose how many classes you would like to use and how many videos you would like per class in order to create your dataset. "
      ],
      "metadata": {
        "id": "-ERRrAtH_GmO"
      }
    },
    {
      "cell_type": "code",
      "source": [
        "NUM_CLASSES = 10\n",
        "FILES_PER_CLASS = 50"
      ],
      "metadata": {
        "id": "3whzjcnv_HCU"
      },
      "execution_count": 9,
      "outputs": []
    },
    {
      "cell_type": "code",
      "source": [
        "files_for_class = get_files_per_class(files)\n",
        "classes = list(files_for_class.keys())\n",
        "\n",
        "print(f\"Num classes: {classes}\")\n",
        "print(f\"Num videos for class[0]: {len(files_for_class[classes[0]])}\")"
      ],
      "metadata": {
        "colab": {
          "base_uri": "https://localhost:8080/"
        },
        "id": "KVxcROTW_JH4",
        "outputId": "849e0a92-4d0b-4d77-eeec-eabbe91ae620"
      },
      "execution_count": 25,
      "outputs": [
        {
          "output_type": "stream",
          "name": "stdout",
          "text": [
            "Num classes: ['ApplyEyeMakeup', 'ApplyLipstick', 'Archery', 'BabyCrawling', 'BalanceBeam', 'BandMarching', 'BaseballPitch', 'BasketballDunk', 'Basketball', 'BenchPress', 'Biking', 'Billiards', 'BlowDryHair', 'BlowingCandles', 'BodyWeightSquats', 'Bowling', 'BoxingPunchingBag', 'BoxingSpeedBag', 'BreastStroke', 'BrushingTeeth', 'CleanAndJerk', 'CliffDiving', 'CricketBowling', 'CricketShot', 'CuttingInKitchen', 'Diving', 'Drumming', 'Fencing', 'FieldHockeyPenalty', 'FloorGymnastics', 'FrisbeeCatch', 'FrontCrawl', 'GolfSwing', 'Haircut', 'Hammering', 'HammerThrow', 'HandstandPushups', 'HandstandWalking', 'HeadMassage', 'HighJump', 'HorseRace', 'HorseRiding', 'HulaHoop', 'IceDancing', 'JavelinThrow', 'JugglingBalls', 'JumpingJack', 'JumpRope', 'Kayaking', 'Knitting', 'LongJump', 'Lunges', 'MilitaryParade', 'Mixing', 'MoppingFloor', 'Nunchucks', 'ParallelBars', 'PizzaTossing', 'PlayingCello', 'PlayingDaf', 'PlayingDhol', 'PlayingFlute', 'PlayingGuitar', 'PlayingPiano', 'PlayingSitar', 'PlayingTabla', 'PlayingViolin', 'PoleVault', 'PommelHorse', 'PullUps', 'Punch', 'PushUps', 'Rafting', 'RockClimbingIndoor', 'RopeClimbing', 'Rowing', 'SalsaSpin', 'ShavingBeard', 'Shotput', 'SkateBoarding', 'Skiing', 'Skijet', 'SkyDiving', 'SoccerJuggling', 'SoccerPenalty', 'StillRings', 'SumoWrestling', 'Surfing', 'Swing', 'TableTennisShot', 'TaiChi', 'TennisSwing', 'ThrowDiscus', 'TrampolineJumping', 'Typing', 'UnevenBars', 'VolleyballSpiking', 'WalkingWithDog', 'WallPushups', 'WritingOnBoard', 'YoYo']\n",
            "Num videos for class[0]: 145\n"
          ]
        }
      ]
    },
    {
      "cell_type": "code",
      "source": [
        "videos = list(files_for_class.values())\n",
        "print(f\"Few videos: {videos[0][:10]}\")"
      ],
      "metadata": {
        "colab": {
          "base_uri": "https://localhost:8080/"
        },
        "id": "0eq5MmFUBHSL",
        "outputId": "35c45571-12ef-409e-db05-079f75688be1"
      },
      "execution_count": 11,
      "outputs": [
        {
          "output_type": "stream",
          "name": "stdout",
          "text": [
            "Few videos: ['UCF101/v_ApplyEyeMakeup_g01_c01.avi', 'UCF101/v_ApplyEyeMakeup_g01_c02.avi', 'UCF101/v_ApplyEyeMakeup_g01_c03.avi', 'UCF101/v_ApplyEyeMakeup_g01_c04.avi', 'UCF101/v_ApplyEyeMakeup_g01_c05.avi', 'UCF101/v_ApplyEyeMakeup_g01_c06.avi', 'UCF101/v_ApplyEyeMakeup_g02_c01.avi', 'UCF101/v_ApplyEyeMakeup_g02_c02.avi', 'UCF101/v_ApplyEyeMakeup_g02_c03.avi', 'UCF101/v_ApplyEyeMakeup_g02_c04.avi']\n"
          ]
        }
      ]
    },
    {
      "cell_type": "markdown",
      "source": [
        "Now, let's create a new function called `select_subset_of_classes` that selects a subset of the classes present within the dataset and a particular number of files per class:"
      ],
      "metadata": {
        "id": "lXRaB0_E_2yj"
      }
    },
    {
      "cell_type": "code",
      "source": [
        "def select_subset_of_classes(files_for_class, classes, files_per_class):\n",
        "  \"\"\"Create a dictionary with the class name and a subset of the files in that class.\"\"\"\n",
        "  files_subset = dict()\n",
        "  for class_name in classes:\n",
        "    class_files = files_for_class[class_name]\n",
        "    files_subset[class_name] = class_files[:files_per_class]\n",
        "  return files_subset"
      ],
      "metadata": {
        "id": "FYG59WI8_5MI"
      },
      "execution_count": 12,
      "outputs": []
    },
    {
      "cell_type": "code",
      "source": [
        "files_subset = select_subset_of_classes(files_for_class, classes[:NUM_CLASSES], FILES_PER_CLASS)\n",
        "list(files_subset.keys())"
      ],
      "metadata": {
        "colab": {
          "base_uri": "https://localhost:8080/"
        },
        "id": "3_cs82i5iN8p",
        "outputId": "86e8b37b-4a26-4fb8-f88e-06bc0cfe0464"
      },
      "execution_count": 13,
      "outputs": [
        {
          "output_type": "execute_result",
          "data": {
            "text/plain": [
              "['ApplyEyeMakeup',\n",
              " 'ApplyLipstick',\n",
              " 'Archery',\n",
              " 'BabyCrawling',\n",
              " 'BalanceBeam',\n",
              " 'BandMarching',\n",
              " 'BaseballPitch',\n",
              " 'BasketballDunk',\n",
              " 'Basketball',\n",
              " 'BenchPress']"
            ]
          },
          "metadata": {},
          "execution_count": 13
        }
      ]
    },
    {
      "cell_type": "code",
      "source": [
        "list(files_subset.values())[0][:10]"
      ],
      "metadata": {
        "colab": {
          "base_uri": "https://localhost:8080/"
        },
        "id": "lGAwvJT9inrf",
        "outputId": "1c1c04f1-a0d8-4283-c5d5-926842e1e6bc"
      },
      "execution_count": 16,
      "outputs": [
        {
          "output_type": "execute_result",
          "data": {
            "text/plain": [
              "['UCF101/v_ApplyEyeMakeup_g01_c01.avi',\n",
              " 'UCF101/v_ApplyEyeMakeup_g01_c02.avi',\n",
              " 'UCF101/v_ApplyEyeMakeup_g01_c03.avi',\n",
              " 'UCF101/v_ApplyEyeMakeup_g01_c04.avi',\n",
              " 'UCF101/v_ApplyEyeMakeup_g01_c05.avi',\n",
              " 'UCF101/v_ApplyEyeMakeup_g01_c06.avi',\n",
              " 'UCF101/v_ApplyEyeMakeup_g02_c01.avi',\n",
              " 'UCF101/v_ApplyEyeMakeup_g02_c02.avi',\n",
              " 'UCF101/v_ApplyEyeMakeup_g02_c03.avi',\n",
              " 'UCF101/v_ApplyEyeMakeup_g02_c04.avi']"
            ]
          },
          "metadata": {},
          "execution_count": 16
        }
      ]
    },
    {
      "cell_type": "code",
      "source": [
        "list(files_subset.values())[2][:10]"
      ],
      "metadata": {
        "colab": {
          "base_uri": "https://localhost:8080/"
        },
        "id": "q5GV5TQ0iw67",
        "outputId": "f2be92da-69c8-46df-d45a-0a7089e649ee"
      },
      "execution_count": 18,
      "outputs": [
        {
          "output_type": "execute_result",
          "data": {
            "text/plain": [
              "['UCF101/v_Archery_g01_c01.avi',\n",
              " 'UCF101/v_Archery_g01_c02.avi',\n",
              " 'UCF101/v_Archery_g01_c03.avi',\n",
              " 'UCF101/v_Archery_g01_c04.avi',\n",
              " 'UCF101/v_Archery_g01_c05.avi',\n",
              " 'UCF101/v_Archery_g01_c06.avi',\n",
              " 'UCF101/v_Archery_g01_c07.avi',\n",
              " 'UCF101/v_Archery_g02_c01.avi',\n",
              " 'UCF101/v_Archery_g02_c02.avi',\n",
              " 'UCF101/v_Archery_g02_c03.avi']"
            ]
          },
          "metadata": {},
          "execution_count": 18
        }
      ]
    },
    {
      "cell_type": "markdown",
      "source": [
        "Let's define helper functions that split the videos into training, validation, and test sets. The videos are downloaded from a URL with the zip file, and placed into their respective subdirectiories."
      ],
      "metadata": {
        "id": "lLh4loEwi78J"
      }
    },
    {
      "cell_type": "code",
      "source": [
        "def download_from_zip(zip_url, to_dir, file_names):\n",
        "  \"\"\"Download the contents of the zip file from the zip URL.\"\"\"\n",
        "  with rz.RemoteZip(zip_url) as zip:\n",
        "    for fn in tqdm.tqdm(file_names):\n",
        "      class_name = get_class(fn)\n",
        "      zip.extract(fn, str(to_dir / class_name))\n",
        "      unzipped_file = to_dir / class_name / fn\n",
        "\n",
        "      fn = pathlib.Path(fn).parts[-1]\n",
        "      output_file = to_dir / class_name / fn\n",
        "      unzipped_file.rename(output_file)"
      ],
      "metadata": {
        "id": "1XKexNAPi99s"
      },
      "execution_count": 19,
      "outputs": []
    },
    {
      "cell_type": "markdown",
      "source": [
        "The following function returns the remaining data that hasn't already been placed into a subset of data. It allows you to place that remaining data in the next specified subset of data."
      ],
      "metadata": {
        "id": "2h8EwZ23kFxR"
      }
    },
    {
      "cell_type": "code",
      "source": [
        "def split_class_lists(files_for_class, count):\n",
        "  \"\"\"\n",
        "  Returns the list of files belonging to a subset of data as well as the remainder of files that need to be downloaded.\n",
        "  \"\"\"\n",
        "  split_files = []\n",
        "  remainder = {}\n",
        "  for cls in files_for_class:\n",
        "    split_files.extend(files_for_class[cls][:count])\n",
        "    remainder[cls] = files_for_class[cls][:count]\n",
        "  return split_files, remainder "
      ],
      "metadata": {
        "id": "-bNFI4O1kGRL"
      },
      "execution_count": 20,
      "outputs": []
    },
    {
      "cell_type": "markdown",
      "source": [
        "The following `download_ucf_101_subset` function allows you to download a subset of the UCF101 dataset and split it into the training, validation, and test sets. \n",
        "\n",
        "You can specify the number of classes that you would like to use. The `splits` argument allows you to pass in a dictionary in which the key values are the name of subset (example: \"train\") and the number of videos you would like to have per class."
      ],
      "metadata": {
        "id": "1jpYXNVEmMfc"
      }
    },
    {
      "cell_type": "code",
      "source": [
        "def download_ucf_101_subset(zip_url, num_classes, splits, download_dir):\n",
        "  \"\"\"Download a subset of the UCF101 dataset and split them into various parts, such as training, validation, and test.\"\"\"\n",
        "  files = list_files_from_zip_url(zip_url)\n",
        "  for f in files:\n",
        "    path = os.path.normpath(f)\n",
        "    tokens = path.split(os.sep)\n",
        "    if len(tokens) <= 2:\n",
        "      files.remove(f) # Remove that item from the list if it does not have a filename\n",
        "    \n",
        "  files_for_class = get_files_per_class(files)\n",
        "  classes = list(files_for_class.keys())[:num_classes]\n",
        "  for cls in classes:\n",
        "    random.shuffle(files_for_class[cls])\n",
        "  \n",
        "  # Only use the number of classes you want in the dictionary\n",
        "  files_for_class = {x: files_for_class[x] for x in classes}\n",
        "\n",
        "  dirs = {}\n",
        "  for split_name, split_count in splits.items():\n",
        "    print(split_name, \":\")\n",
        "    split_dir = download_dir / split_name\n",
        "    split_files, files_for_class = split_class_lists(files_for_class, split_count)\n",
        "    download_from_zip(zip_url, split_dir, split_files)\n",
        "    dirs[split_name] = split_dir\n",
        "  return dirs"
      ],
      "metadata": {
        "id": "UZ6bf1lAmOVH"
      },
      "execution_count": 21,
      "outputs": []
    },
    {
      "cell_type": "code",
      "source": [
        "download_dir = pathlib.Path(\"./UCF101_subset/\")\n",
        "subset_paths = download_ucf_101_subset(URL,\n",
        "                                       num_classes=NUM_CLASSES,\n",
        "                                       splits={\"train\": 30, \"val\": 10, \"test\": 10},\n",
        "                                       download_dir=download_dir)"
      ],
      "metadata": {
        "colab": {
          "base_uri": "https://localhost:8080/"
        },
        "id": "xKCtrnhxnzEd",
        "outputId": "02d98ca0-1b5c-48bb-ccef-d17702a234cf"
      },
      "execution_count": 22,
      "outputs": [
        {
          "output_type": "stream",
          "name": "stdout",
          "text": [
            "train :\n"
          ]
        },
        {
          "output_type": "stream",
          "name": "stderr",
          "text": [
            "100%|██████████| 300/300 [00:35<00:00,  8.48it/s]\n"
          ]
        },
        {
          "output_type": "stream",
          "name": "stdout",
          "text": [
            "val :\n"
          ]
        },
        {
          "output_type": "stream",
          "name": "stderr",
          "text": [
            "100%|██████████| 100/100 [00:08<00:00, 11.42it/s]\n"
          ]
        },
        {
          "output_type": "stream",
          "name": "stdout",
          "text": [
            "test :\n"
          ]
        },
        {
          "output_type": "stream",
          "name": "stderr",
          "text": [
            "100%|██████████| 100/100 [00:07<00:00, 14.22it/s]\n"
          ]
        }
      ]
    },
    {
      "cell_type": "markdown",
      "source": [
        "After downloading the data, you should now have a copy of a subset of the UCF101 dataset. \n",
        "\n",
        "Run the following code to print the total number of videos you have amongst all your subsets of data."
      ],
      "metadata": {
        "id": "r9O1fZo-oOv1"
      }
    },
    {
      "cell_type": "code",
      "source": [
        "video_count_train = len(list(download_dir.glob(\"train/*/*.avi\")))\n",
        "video_count_val = len(list(download_dir.glob(\"val/*/*.avi\")))\n",
        "video_count_test = len(list(download_dir.glob(\"test/*/*.avi\")))\n",
        "\n",
        "video_total = video_count_train + video_count_val + video_count_test\n",
        "print(f\"Total videos: {video_total}\")"
      ],
      "metadata": {
        "colab": {
          "base_uri": "https://localhost:8080/"
        },
        "id": "PQphwt1VoQ-u",
        "outputId": "647ad986-463d-4b57-b089-5e8a8e98d404"
      },
      "execution_count": 23,
      "outputs": [
        {
          "output_type": "stream",
          "name": "stdout",
          "text": [
            "Total videos: 500\n"
          ]
        }
      ]
    },
    {
      "cell_type": "markdown",
      "source": [
        "You can also preview the directory of data files now."
      ],
      "metadata": {
        "id": "gwiUwYdhoufK"
      }
    },
    {
      "cell_type": "code",
      "source": [
        "!find ./UCF101_subset"
      ],
      "metadata": {
        "colab": {
          "base_uri": "https://localhost:8080/"
        },
        "id": "AxWpehr7ou3A",
        "outputId": "d8b5c7af-1f4c-4bc6-9e11-22320148f61b"
      },
      "execution_count": 24,
      "outputs": [
        {
          "output_type": "stream",
          "name": "stdout",
          "text": [
            "./UCF101_subset\n",
            "./UCF101_subset/train\n",
            "./UCF101_subset/train/BasketballDunk\n",
            "./UCF101_subset/train/BasketballDunk/UCF101\n",
            "./UCF101_subset/train/BasketballDunk/v_BasketballDunk_g01_c04.avi\n",
            "./UCF101_subset/train/BasketballDunk/v_BasketballDunk_g07_c01.avi\n",
            "./UCF101_subset/train/BasketballDunk/v_BasketballDunk_g19_c01.avi\n",
            "./UCF101_subset/train/BasketballDunk/v_BasketballDunk_g24_c04.avi\n",
            "./UCF101_subset/train/BasketballDunk/v_BasketballDunk_g23_c05.avi\n",
            "./UCF101_subset/train/BasketballDunk/v_BasketballDunk_g05_c05.avi\n",
            "./UCF101_subset/train/BasketballDunk/v_BasketballDunk_g01_c06.avi\n",
            "./UCF101_subset/train/BasketballDunk/v_BasketballDunk_g18_c05.avi\n",
            "./UCF101_subset/train/BasketballDunk/v_BasketballDunk_g18_c03.avi\n",
            "./UCF101_subset/train/BasketballDunk/v_BasketballDunk_g15_c03.avi\n",
            "./UCF101_subset/train/BasketballDunk/v_BasketballDunk_g22_c01.avi\n",
            "./UCF101_subset/train/BasketballDunk/v_BasketballDunk_g13_c02.avi\n",
            "./UCF101_subset/train/BasketballDunk/v_BasketballDunk_g25_c01.avi\n",
            "./UCF101_subset/train/BasketballDunk/v_BasketballDunk_g12_c01.avi\n",
            "./UCF101_subset/train/BasketballDunk/v_BasketballDunk_g11_c04.avi\n",
            "./UCF101_subset/train/BasketballDunk/v_BasketballDunk_g16_c04.avi\n",
            "./UCF101_subset/train/BasketballDunk/v_BasketballDunk_g19_c03.avi\n",
            "./UCF101_subset/train/BasketballDunk/v_BasketballDunk_g09_c04.avi\n",
            "./UCF101_subset/train/BasketballDunk/v_BasketballDunk_g08_c01.avi\n",
            "./UCF101_subset/train/BasketballDunk/v_BasketballDunk_g01_c02.avi\n",
            "./UCF101_subset/train/BasketballDunk/v_BasketballDunk_g20_c03.avi\n",
            "./UCF101_subset/train/BasketballDunk/v_BasketballDunk_g05_c01.avi\n",
            "./UCF101_subset/train/BasketballDunk/v_BasketballDunk_g06_c01.avi\n",
            "./UCF101_subset/train/BasketballDunk/v_BasketballDunk_g12_c05.avi\n",
            "./UCF101_subset/train/BasketballDunk/v_BasketballDunk_g05_c03.avi\n",
            "./UCF101_subset/train/BasketballDunk/v_BasketballDunk_g15_c07.avi\n",
            "./UCF101_subset/train/BasketballDunk/v_BasketballDunk_g24_c02.avi\n",
            "./UCF101_subset/train/BasketballDunk/v_BasketballDunk_g16_c06.avi\n",
            "./UCF101_subset/train/BasketballDunk/v_BasketballDunk_g11_c02.avi\n",
            "./UCF101_subset/train/BasketballDunk/v_BasketballDunk_g08_c03.avi\n",
            "./UCF101_subset/train/BalanceBeam\n",
            "./UCF101_subset/train/BalanceBeam/v_BalanceBeam_g19_c01.avi\n",
            "./UCF101_subset/train/BalanceBeam/UCF101\n",
            "./UCF101_subset/train/BalanceBeam/v_BalanceBeam_g16_c01.avi\n",
            "./UCF101_subset/train/BalanceBeam/v_BalanceBeam_g12_c02.avi\n",
            "./UCF101_subset/train/BalanceBeam/v_BalanceBeam_g06_c07.avi\n",
            "./UCF101_subset/train/BalanceBeam/v_BalanceBeam_g03_c01.avi\n",
            "./UCF101_subset/train/BalanceBeam/v_BalanceBeam_g20_c01.avi\n",
            "./UCF101_subset/train/BalanceBeam/v_BalanceBeam_g12_c04.avi\n",
            "./UCF101_subset/train/BalanceBeam/v_BalanceBeam_g05_c01.avi\n",
            "./UCF101_subset/train/BalanceBeam/v_BalanceBeam_g01_c03.avi\n",
            "./UCF101_subset/train/BalanceBeam/v_BalanceBeam_g22_c02.avi\n",
            "./UCF101_subset/train/BalanceBeam/v_BalanceBeam_g19_c03.avi\n",
            "./UCF101_subset/train/BalanceBeam/v_BalanceBeam_g01_c01.avi\n",
            "./UCF101_subset/train/BalanceBeam/v_BalanceBeam_g23_c02.avi\n",
            "./UCF101_subset/train/BalanceBeam/v_BalanceBeam_g21_c03.avi\n",
            "./UCF101_subset/train/BalanceBeam/v_BalanceBeam_g17_c03.avi\n",
            "./UCF101_subset/train/BalanceBeam/v_BalanceBeam_g18_c03.avi\n",
            "./UCF101_subset/train/BalanceBeam/v_BalanceBeam_g17_c01.avi\n",
            "./UCF101_subset/train/BalanceBeam/v_BalanceBeam_g04_c03.avi\n",
            "./UCF101_subset/train/BalanceBeam/v_BalanceBeam_g13_c04.avi\n",
            "./UCF101_subset/train/BalanceBeam/v_BalanceBeam_g07_c02.avi\n",
            "./UCF101_subset/train/BalanceBeam/v_BalanceBeam_g21_c01.avi\n",
            "./UCF101_subset/train/BalanceBeam/v_BalanceBeam_g24_c01.avi\n",
            "./UCF101_subset/train/BalanceBeam/v_BalanceBeam_g05_c03.avi\n",
            "./UCF101_subset/train/BalanceBeam/v_BalanceBeam_g15_c03.avi\n",
            "./UCF101_subset/train/BalanceBeam/v_BalanceBeam_g06_c01.avi\n",
            "./UCF101_subset/train/BalanceBeam/v_BalanceBeam_g08_c04.avi\n",
            "./UCF101_subset/train/BalanceBeam/v_BalanceBeam_g25_c03.avi\n",
            "./UCF101_subset/train/BalanceBeam/v_BalanceBeam_g11_c04.avi\n",
            "./UCF101_subset/train/BalanceBeam/v_BalanceBeam_g03_c03.avi\n",
            "./UCF101_subset/train/BalanceBeam/v_BalanceBeam_g06_c03.avi\n",
            "./UCF101_subset/train/Archery\n",
            "./UCF101_subset/train/Archery/UCF101\n",
            "./UCF101_subset/train/Archery/v_Archery_g16_c01.avi\n",
            "./UCF101_subset/train/Archery/v_Archery_g02_c05.avi\n",
            "./UCF101_subset/train/Archery/v_Archery_g23_c07.avi\n",
            "./UCF101_subset/train/Archery/v_Archery_g10_c07.avi\n",
            "./UCF101_subset/train/Archery/v_Archery_g17_c02.avi\n",
            "./UCF101_subset/train/Archery/v_Archery_g15_c04.avi\n",
            "./UCF101_subset/train/Archery/v_Archery_g20_c07.avi\n",
            "./UCF101_subset/train/Archery/v_Archery_g03_c02.avi\n",
            "./UCF101_subset/train/Archery/v_Archery_g10_c05.avi\n",
            "./UCF101_subset/train/Archery/v_Archery_g08_c01.avi\n",
            "./UCF101_subset/train/Archery/v_Archery_g07_c03.avi\n",
            "./UCF101_subset/train/Archery/v_Archery_g19_c01.avi\n",
            "./UCF101_subset/train/Archery/v_Archery_g23_c05.avi\n",
            "./UCF101_subset/train/Archery/v_Archery_g11_c04.avi\n",
            "./UCF101_subset/train/Archery/v_Archery_g25_c06.avi\n",
            "./UCF101_subset/train/Archery/v_Archery_g25_c04.avi\n",
            "./UCF101_subset/train/Archery/v_Archery_g11_c06.avi\n",
            "./UCF101_subset/train/Archery/v_Archery_g18_c06.avi\n",
            "./UCF101_subset/train/Archery/v_Archery_g01_c04.avi\n",
            "./UCF101_subset/train/Archery/v_Archery_g09_c06.avi\n",
            "./UCF101_subset/train/Archery/v_Archery_g10_c01.avi\n",
            "./UCF101_subset/train/Archery/v_Archery_g15_c06.avi\n",
            "./UCF101_subset/train/Archery/v_Archery_g21_c04.avi\n",
            "./UCF101_subset/train/Archery/v_Archery_g04_c03.avi\n",
            "./UCF101_subset/train/Archery/v_Archery_g07_c01.avi\n",
            "./UCF101_subset/train/Archery/v_Archery_g19_c03.avi\n",
            "./UCF101_subset/train/Archery/v_Archery_g06_c03.avi\n",
            "./UCF101_subset/train/Archery/v_Archery_g25_c02.avi\n",
            "./UCF101_subset/train/Archery/v_Archery_g22_c04.avi\n",
            "./UCF101_subset/train/Archery/v_Archery_g09_c04.avi\n",
            "./UCF101_subset/train/BenchPress\n",
            "./UCF101_subset/train/BenchPress/v_BenchPress_g02_c01.avi\n",
            "./UCF101_subset/train/BenchPress/UCF101\n",
            "./UCF101_subset/train/BenchPress/v_BenchPress_g05_c04.avi\n",
            "./UCF101_subset/train/BenchPress/v_BenchPress_g25_c04.avi\n",
            "./UCF101_subset/train/BenchPress/v_BenchPress_g22_c07.avi\n",
            "./UCF101_subset/train/BenchPress/v_BenchPress_g19_c06.avi\n",
            "./UCF101_subset/train/BenchPress/v_BenchPress_g22_c01.avi\n",
            "./UCF101_subset/train/BenchPress/v_BenchPress_g02_c03.avi\n",
            "./UCF101_subset/train/BenchPress/v_BenchPress_g11_c05.avi\n",
            "./UCF101_subset/train/BenchPress/v_BenchPress_g22_c05.avi\n",
            "./UCF101_subset/train/BenchPress/v_BenchPress_g24_c07.avi\n",
            "./UCF101_subset/train/BenchPress/v_BenchPress_g03_c02.avi\n",
            "./UCF101_subset/train/BenchPress/v_BenchPress_g11_c03.avi\n",
            "./UCF101_subset/train/BenchPress/v_BenchPress_g09_c06.avi\n",
            "./UCF101_subset/train/BenchPress/v_BenchPress_g03_c06.avi\n",
            "./UCF101_subset/train/BenchPress/v_BenchPress_g02_c07.avi\n",
            "./UCF101_subset/train/BenchPress/v_BenchPress_g10_c01.avi\n",
            "./UCF101_subset/train/BenchPress/v_BenchPress_g06_c05.avi\n",
            "./UCF101_subset/train/BenchPress/v_BenchPress_g06_c07.avi\n",
            "./UCF101_subset/train/BenchPress/v_BenchPress_g16_c01.avi\n",
            "./UCF101_subset/train/BenchPress/v_BenchPress_g25_c02.avi\n",
            "./UCF101_subset/train/BenchPress/v_BenchPress_g18_c03.avi\n",
            "./UCF101_subset/train/BenchPress/v_BenchPress_g08_c01.avi\n",
            "./UCF101_subset/train/BenchPress/v_BenchPress_g08_c07.avi\n",
            "./UCF101_subset/train/BenchPress/v_BenchPress_g07_c02.avi\n",
            "./UCF101_subset/train/BenchPress/v_BenchPress_g13_c03.avi\n",
            "./UCF101_subset/train/BenchPress/v_BenchPress_g16_c03.avi\n",
            "./UCF101_subset/train/BenchPress/v_BenchPress_g17_c02.avi\n",
            "./UCF101_subset/train/BenchPress/v_BenchPress_g04_c01.avi\n",
            "./UCF101_subset/train/BenchPress/v_BenchPress_g06_c03.avi\n",
            "./UCF101_subset/train/BenchPress/v_BenchPress_g15_c03.avi\n",
            "./UCF101_subset/train/Basketball\n",
            "./UCF101_subset/train/Basketball/v_Basketball_g12_c03.avi\n",
            "./UCF101_subset/train/Basketball/UCF101\n",
            "./UCF101_subset/train/Basketball/v_Basketball_g08_c04.avi\n",
            "./UCF101_subset/train/Basketball/v_Basketball_g22_c05.avi\n",
            "./UCF101_subset/train/Basketball/v_Basketball_g20_c02.avi\n",
            "./UCF101_subset/train/Basketball/v_Basketball_g06_c02.avi\n",
            "./UCF101_subset/train/Basketball/v_Basketball_g18_c02.avi\n",
            "./UCF101_subset/train/Basketball/v_Basketball_g12_c01.avi\n",
            "./UCF101_subset/train/Basketball/v_Basketball_g05_c04.avi\n",
            "./UCF101_subset/train/Basketball/v_Basketball_g20_c04.avi\n",
            "./UCF101_subset/train/Basketball/v_Basketball_g21_c01.avi\n",
            "./UCF101_subset/train/Basketball/v_Basketball_g15_c07.avi\n",
            "./UCF101_subset/train/Basketball/v_Basketball_g12_c05.avi\n",
            "./UCF101_subset/train/Basketball/v_Basketball_g20_c06.avi\n",
            "./UCF101_subset/train/Basketball/v_Basketball_g08_c02.avi\n",
            "./UCF101_subset/train/Basketball/v_Basketball_g19_c07.avi\n",
            "./UCF101_subset/train/Basketball/v_Basketball_g06_c04.avi\n",
            "./UCF101_subset/train/Basketball/v_Basketball_g24_c04.avi\n",
            "./UCF101_subset/train/Basketball/v_Basketball_g01_c07.avi\n",
            "./UCF101_subset/train/Basketball/v_Basketball_g21_c05.avi\n",
            "./UCF101_subset/train/Basketball/v_Basketball_g07_c04.avi\n",
            "./UCF101_subset/train/Basketball/v_Basketball_g03_c02.avi\n",
            "./UCF101_subset/train/Basketball/v_Basketball_g25_c04.avi\n",
            "./UCF101_subset/train/Basketball/v_Basketball_g11_c02.avi\n",
            "./UCF101_subset/train/Basketball/v_Basketball_g19_c01.avi\n",
            "./UCF101_subset/train/Basketball/v_Basketball_g15_c03.avi\n",
            "./UCF101_subset/train/Basketball/v_Basketball_g16_c04.avi\n",
            "./UCF101_subset/train/Basketball/v_Basketball_g15_c05.avi\n",
            "./UCF101_subset/train/Basketball/v_Basketball_g16_c06.avi\n",
            "./UCF101_subset/train/Basketball/v_Basketball_g10_c03.avi\n",
            "./UCF101_subset/train/Basketball/v_Basketball_g23_c06.avi\n",
            "./UCF101_subset/train/BabyCrawling\n",
            "./UCF101_subset/train/BabyCrawling/v_BabyCrawling_g04_c03.avi\n",
            "./UCF101_subset/train/BabyCrawling/v_BabyCrawling_g14_c01.avi\n",
            "./UCF101_subset/train/BabyCrawling/UCF101\n",
            "./UCF101_subset/train/BabyCrawling/v_BabyCrawling_g07_c06.avi\n",
            "./UCF101_subset/train/BabyCrawling/v_BabyCrawling_g14_c03.avi\n",
            "./UCF101_subset/train/BabyCrawling/v_BabyCrawling_g17_c01.avi\n",
            "./UCF101_subset/train/BabyCrawling/v_BabyCrawling_g23_c03.avi\n",
            "./UCF101_subset/train/BabyCrawling/v_BabyCrawling_g12_c01.avi\n",
            "./UCF101_subset/train/BabyCrawling/v_BabyCrawling_g22_c02.avi\n",
            "./UCF101_subset/train/BabyCrawling/v_BabyCrawling_g11_c01.avi\n",
            "./UCF101_subset/train/BabyCrawling/v_BabyCrawling_g13_c03.avi\n",
            "./UCF101_subset/train/BabyCrawling/v_BabyCrawling_g15_c03.avi\n",
            "./UCF101_subset/train/BabyCrawling/v_BabyCrawling_g25_c05.avi\n",
            "./UCF101_subset/train/BabyCrawling/v_BabyCrawling_g02_c05.avi\n",
            "./UCF101_subset/train/BabyCrawling/v_BabyCrawling_g16_c03.avi\n",
            "./UCF101_subset/train/BabyCrawling/v_BabyCrawling_g25_c01.avi\n",
            "./UCF101_subset/train/BabyCrawling/v_BabyCrawling_g06_c04.avi\n",
            "./UCF101_subset/train/BabyCrawling/v_BabyCrawling_g12_c05.avi\n",
            "./UCF101_subset/train/BabyCrawling/v_BabyCrawling_g03_c03.avi\n",
            "./UCF101_subset/train/BabyCrawling/v_BabyCrawling_g06_c06.avi\n",
            "./UCF101_subset/train/BabyCrawling/v_BabyCrawling_g03_c01.avi\n",
            "./UCF101_subset/train/BabyCrawling/v_BabyCrawling_g09_c02.avi\n",
            "./UCF101_subset/train/BabyCrawling/v_BabyCrawling_g22_c04.avi\n",
            "./UCF101_subset/train/BabyCrawling/v_BabyCrawling_g23_c01.avi\n",
            "./UCF101_subset/train/BabyCrawling/v_BabyCrawling_g05_c01.avi\n",
            "./UCF101_subset/train/BabyCrawling/v_BabyCrawling_g08_c04.avi\n",
            "./UCF101_subset/train/BabyCrawling/v_BabyCrawling_g18_c06.avi\n",
            "./UCF101_subset/train/BabyCrawling/v_BabyCrawling_g09_c06.avi\n",
            "./UCF101_subset/train/BabyCrawling/v_BabyCrawling_g22_c06.avi\n",
            "./UCF101_subset/train/BabyCrawling/v_BabyCrawling_g11_c03.avi\n",
            "./UCF101_subset/train/BabyCrawling/v_BabyCrawling_g05_c05.avi\n",
            "./UCF101_subset/train/ApplyLipstick\n",
            "./UCF101_subset/train/ApplyLipstick/UCF101\n",
            "./UCF101_subset/train/ApplyLipstick/v_ApplyLipstick_g05_c04.avi\n",
            "./UCF101_subset/train/ApplyLipstick/v_ApplyLipstick_g24_c03.avi\n",
            "./UCF101_subset/train/ApplyLipstick/v_ApplyLipstick_g06_c03.avi\n",
            "./UCF101_subset/train/ApplyLipstick/v_ApplyLipstick_g17_c01.avi\n",
            "./UCF101_subset/train/ApplyLipstick/v_ApplyLipstick_g21_c01.avi\n",
            "./UCF101_subset/train/ApplyLipstick/v_ApplyLipstick_g05_c02.avi\n",
            "./UCF101_subset/train/ApplyLipstick/v_ApplyLipstick_g15_c05.avi\n",
            "./UCF101_subset/train/ApplyLipstick/v_ApplyLipstick_g22_c02.avi\n",
            "./UCF101_subset/train/ApplyLipstick/v_ApplyLipstick_g24_c05.avi\n",
            "./UCF101_subset/train/ApplyLipstick/v_ApplyLipstick_g06_c01.avi\n",
            "./UCF101_subset/train/ApplyLipstick/v_ApplyLipstick_g14_c03.avi\n",
            "./UCF101_subset/train/ApplyLipstick/v_ApplyLipstick_g07_c04.avi\n",
            "./UCF101_subset/train/ApplyLipstick/v_ApplyLipstick_g02_c03.avi\n",
            "./UCF101_subset/train/ApplyLipstick/v_ApplyLipstick_g03_c01.avi\n",
            "./UCF101_subset/train/ApplyLipstick/v_ApplyLipstick_g20_c04.avi\n",
            "./UCF101_subset/train/ApplyLipstick/v_ApplyLipstick_g25_c04.avi\n",
            "./UCF101_subset/train/ApplyLipstick/v_ApplyLipstick_g21_c05.avi\n",
            "./UCF101_subset/train/ApplyLipstick/v_ApplyLipstick_g19_c02.avi\n",
            "./UCF101_subset/train/ApplyLipstick/v_ApplyLipstick_g23_c01.avi\n",
            "./UCF101_subset/train/ApplyLipstick/v_ApplyLipstick_g14_c01.avi\n",
            "./UCF101_subset/train/ApplyLipstick/v_ApplyLipstick_g09_c04.avi\n",
            "./UCF101_subset/train/ApplyLipstick/v_ApplyLipstick_g04_c05.avi\n",
            "./UCF101_subset/train/ApplyLipstick/v_ApplyLipstick_g13_c01.avi\n",
            "./UCF101_subset/train/ApplyLipstick/v_ApplyLipstick_g10_c02.avi\n",
            "./UCF101_subset/train/ApplyLipstick/v_ApplyLipstick_g07_c02.avi\n",
            "./UCF101_subset/train/ApplyLipstick/v_ApplyLipstick_g13_c03.avi\n",
            "./UCF101_subset/train/ApplyLipstick/v_ApplyLipstick_g09_c02.avi\n",
            "./UCF101_subset/train/ApplyLipstick/v_ApplyLipstick_g17_c03.avi\n",
            "./UCF101_subset/train/ApplyLipstick/v_ApplyLipstick_g18_c02.avi\n",
            "./UCF101_subset/train/ApplyLipstick/v_ApplyLipstick_g15_c03.avi\n",
            "./UCF101_subset/train/BandMarching\n",
            "./UCF101_subset/train/BandMarching/v_BandMarching_g09_c05.avi\n",
            "./UCF101_subset/train/BandMarching/v_BandMarching_g08_c02.avi\n",
            "./UCF101_subset/train/BandMarching/UCF101\n",
            "./UCF101_subset/train/BandMarching/v_BandMarching_g25_c05.avi\n",
            "./UCF101_subset/train/BandMarching/v_BandMarching_g19_c03.avi\n",
            "./UCF101_subset/train/BandMarching/v_BandMarching_g17_c01.avi\n",
            "./UCF101_subset/train/BandMarching/v_BandMarching_g15_c03.avi\n",
            "./UCF101_subset/train/BandMarching/v_BandMarching_g21_c04.avi\n",
            "./UCF101_subset/train/BandMarching/v_BandMarching_g03_c03.avi\n",
            "./UCF101_subset/train/BandMarching/v_BandMarching_g22_c04.avi\n",
            "./UCF101_subset/train/BandMarching/v_BandMarching_g03_c05.avi\n",
            "./UCF101_subset/train/BandMarching/v_BandMarching_g23_c01.avi\n",
            "./UCF101_subset/train/BandMarching/v_BandMarching_g02_c06.avi\n",
            "./UCF101_subset/train/BandMarching/v_BandMarching_g18_c05.avi\n",
            "./UCF101_subset/train/BandMarching/v_BandMarching_g04_c02.avi\n",
            "./UCF101_subset/train/BandMarching/v_BandMarching_g09_c07.avi\n",
            "./UCF101_subset/train/BandMarching/v_BandMarching_g12_c02.avi\n",
            "./UCF101_subset/train/BandMarching/v_BandMarching_g01_c01.avi\n",
            "./UCF101_subset/train/BandMarching/v_BandMarching_g21_c06.avi\n",
            "./UCF101_subset/train/BandMarching/v_BandMarching_g11_c03.avi\n",
            "./UCF101_subset/train/BandMarching/v_BandMarching_g24_c05.avi\n",
            "./UCF101_subset/train/BandMarching/v_BandMarching_g01_c05.avi\n",
            "./UCF101_subset/train/BandMarching/v_BandMarching_g23_c05.avi\n",
            "./UCF101_subset/train/BandMarching/v_BandMarching_g19_c05.avi\n",
            "./UCF101_subset/train/BandMarching/v_BandMarching_g13_c02.avi\n",
            "./UCF101_subset/train/BandMarching/v_BandMarching_g06_c03.avi\n",
            "./UCF101_subset/train/BandMarching/v_BandMarching_g20_c02.avi\n",
            "./UCF101_subset/train/BandMarching/v_BandMarching_g10_c06.avi\n",
            "./UCF101_subset/train/BandMarching/v_BandMarching_g17_c03.avi\n",
            "./UCF101_subset/train/BandMarching/v_BandMarching_g15_c07.avi\n",
            "./UCF101_subset/train/BandMarching/v_BandMarching_g07_c01.avi\n",
            "./UCF101_subset/train/ApplyEyeMakeup\n",
            "./UCF101_subset/train/ApplyEyeMakeup/UCF101\n",
            "./UCF101_subset/train/ApplyEyeMakeup/v_ApplyEyeMakeup_g12_c03.avi\n",
            "./UCF101_subset/train/ApplyEyeMakeup/v_ApplyEyeMakeup_g22_c03.avi\n",
            "./UCF101_subset/train/ApplyEyeMakeup/v_ApplyEyeMakeup_g04_c03.avi\n",
            "./UCF101_subset/train/ApplyEyeMakeup/v_ApplyEyeMakeup_g09_c06.avi\n",
            "./UCF101_subset/train/ApplyEyeMakeup/v_ApplyEyeMakeup_g06_c07.avi\n",
            "./UCF101_subset/train/ApplyEyeMakeup/v_ApplyEyeMakeup_g20_c06.avi\n",
            "./UCF101_subset/train/ApplyEyeMakeup/v_ApplyEyeMakeup_g14_c01.avi\n",
            "./UCF101_subset/train/ApplyEyeMakeup/v_ApplyEyeMakeup_g20_c04.avi\n",
            "./UCF101_subset/train/ApplyEyeMakeup/v_ApplyEyeMakeup_g25_c01.avi\n",
            "./UCF101_subset/train/ApplyEyeMakeup/v_ApplyEyeMakeup_g21_c04.avi\n",
            "./UCF101_subset/train/ApplyEyeMakeup/v_ApplyEyeMakeup_g08_c05.avi\n",
            "./UCF101_subset/train/ApplyEyeMakeup/v_ApplyEyeMakeup_g02_c03.avi\n",
            "./UCF101_subset/train/ApplyEyeMakeup/v_ApplyEyeMakeup_g22_c01.avi\n",
            "./UCF101_subset/train/ApplyEyeMakeup/v_ApplyEyeMakeup_g18_c03.avi\n",
            "./UCF101_subset/train/ApplyEyeMakeup/v_ApplyEyeMakeup_g05_c06.avi\n",
            "./UCF101_subset/train/ApplyEyeMakeup/v_ApplyEyeMakeup_g10_c03.avi\n",
            "./UCF101_subset/train/ApplyEyeMakeup/v_ApplyEyeMakeup_g12_c01.avi\n",
            "./UCF101_subset/train/ApplyEyeMakeup/v_ApplyEyeMakeup_g08_c03.avi\n",
            "./UCF101_subset/train/ApplyEyeMakeup/v_ApplyEyeMakeup_g04_c07.avi\n",
            "./UCF101_subset/train/ApplyEyeMakeup/v_ApplyEyeMakeup_g19_c02.avi\n",
            "./UCF101_subset/train/ApplyEyeMakeup/v_ApplyEyeMakeup_g16_c01.avi\n",
            "./UCF101_subset/train/ApplyEyeMakeup/v_ApplyEyeMakeup_g01_c01.avi\n",
            "./UCF101_subset/train/ApplyEyeMakeup/v_ApplyEyeMakeup_g23_c02.avi\n",
            "./UCF101_subset/train/ApplyEyeMakeup/v_ApplyEyeMakeup_g16_c03.avi\n",
            "./UCF101_subset/train/ApplyEyeMakeup/v_ApplyEyeMakeup_g06_c03.avi\n",
            "./UCF101_subset/train/ApplyEyeMakeup/v_ApplyEyeMakeup_g04_c01.avi\n",
            "./UCF101_subset/train/ApplyEyeMakeup/v_ApplyEyeMakeup_g16_c05.avi\n",
            "./UCF101_subset/train/ApplyEyeMakeup/v_ApplyEyeMakeup_g23_c06.avi\n",
            "./UCF101_subset/train/ApplyEyeMakeup/v_ApplyEyeMakeup_g06_c01.avi\n",
            "./UCF101_subset/train/ApplyEyeMakeup/v_ApplyEyeMakeup_g20_c02.avi\n",
            "./UCF101_subset/train/BaseballPitch\n",
            "./UCF101_subset/train/BaseballPitch/v_BaseballPitch_g10_c03.avi\n",
            "./UCF101_subset/train/BaseballPitch/v_BaseballPitch_g21_c02.avi\n",
            "./UCF101_subset/train/BaseballPitch/UCF101\n",
            "./UCF101_subset/train/BaseballPitch/v_BaseballPitch_g15_c02.avi\n",
            "./UCF101_subset/train/BaseballPitch/v_BaseballPitch_g18_c02.avi\n",
            "./UCF101_subset/train/BaseballPitch/v_BaseballPitch_g19_c03.avi\n",
            "./UCF101_subset/train/BaseballPitch/v_BaseballPitch_g08_c07.avi\n",
            "./UCF101_subset/train/BaseballPitch/v_BaseballPitch_g15_c04.avi\n",
            "./UCF101_subset/train/BaseballPitch/v_BaseballPitch_g07_c06.avi\n",
            "./UCF101_subset/train/BaseballPitch/v_BaseballPitch_g12_c03.avi\n",
            "./UCF101_subset/train/BaseballPitch/v_BaseballPitch_g07_c02.avi\n",
            "./UCF101_subset/train/BaseballPitch/v_BaseballPitch_g21_c04.avi\n",
            "./UCF101_subset/train/BaseballPitch/v_BaseballPitch_g03_c02.avi\n",
            "./UCF101_subset/train/BaseballPitch/v_BaseballPitch_g25_c05.avi\n",
            "./UCF101_subset/train/BaseballPitch/v_BaseballPitch_g22_c06.avi\n",
            "./UCF101_subset/train/BaseballPitch/v_BaseballPitch_g06_c07.avi\n",
            "./UCF101_subset/train/BaseballPitch/v_BaseballPitch_g23_c07.avi\n",
            "./UCF101_subset/train/BaseballPitch/v_BaseballPitch_g16_c05.avi\n",
            "./UCF101_subset/train/BaseballPitch/v_BaseballPitch_g06_c05.avi\n",
            "./UCF101_subset/train/BaseballPitch/v_BaseballPitch_g09_c02.avi\n",
            "./UCF101_subset/train/BaseballPitch/v_BaseballPitch_g14_c02.avi\n",
            "./UCF101_subset/train/BaseballPitch/v_BaseballPitch_g17_c01.avi\n",
            "./UCF101_subset/train/BaseballPitch/v_BaseballPitch_g13_c05.avi\n",
            "./UCF101_subset/train/BaseballPitch/v_BaseballPitch_g01_c06.avi\n",
            "./UCF101_subset/train/BaseballPitch/v_BaseballPitch_g09_c04.avi\n",
            "./UCF101_subset/train/BaseballPitch/v_BaseballPitch_g13_c03.avi\n",
            "./UCF101_subset/train/BaseballPitch/v_BaseballPitch_g12_c01.avi\n",
            "./UCF101_subset/train/BaseballPitch/v_BaseballPitch_g15_c06.avi\n",
            "./UCF101_subset/train/BaseballPitch/v_BaseballPitch_g19_c05.avi\n",
            "./UCF101_subset/train/BaseballPitch/v_BaseballPitch_g04_c03.avi\n",
            "./UCF101_subset/train/BaseballPitch/v_BaseballPitch_g02_c04.avi\n",
            "./UCF101_subset/val\n",
            "./UCF101_subset/val/BasketballDunk\n",
            "./UCF101_subset/val/BasketballDunk/UCF101\n",
            "./UCF101_subset/val/BasketballDunk/v_BasketballDunk_g22_c01.avi\n",
            "./UCF101_subset/val/BasketballDunk/v_BasketballDunk_g13_c02.avi\n",
            "./UCF101_subset/val/BasketballDunk/v_BasketballDunk_g11_c04.avi\n",
            "./UCF101_subset/val/BasketballDunk/v_BasketballDunk_g16_c04.avi\n",
            "./UCF101_subset/val/BasketballDunk/v_BasketballDunk_g19_c03.avi\n",
            "./UCF101_subset/val/BasketballDunk/v_BasketballDunk_g08_c01.avi\n",
            "./UCF101_subset/val/BasketballDunk/v_BasketballDunk_g12_c05.avi\n",
            "./UCF101_subset/val/BasketballDunk/v_BasketballDunk_g15_c07.avi\n",
            "./UCF101_subset/val/BasketballDunk/v_BasketballDunk_g24_c02.avi\n",
            "./UCF101_subset/val/BasketballDunk/v_BasketballDunk_g08_c03.avi\n",
            "./UCF101_subset/val/BalanceBeam\n",
            "./UCF101_subset/val/BalanceBeam/UCF101\n",
            "./UCF101_subset/val/BalanceBeam/v_BalanceBeam_g12_c04.avi\n",
            "./UCF101_subset/val/BalanceBeam/v_BalanceBeam_g05_c01.avi\n",
            "./UCF101_subset/val/BalanceBeam/v_BalanceBeam_g22_c02.avi\n",
            "./UCF101_subset/val/BalanceBeam/v_BalanceBeam_g01_c01.avi\n",
            "./UCF101_subset/val/BalanceBeam/v_BalanceBeam_g21_c03.avi\n",
            "./UCF101_subset/val/BalanceBeam/v_BalanceBeam_g07_c02.avi\n",
            "./UCF101_subset/val/BalanceBeam/v_BalanceBeam_g21_c01.avi\n",
            "./UCF101_subset/val/BalanceBeam/v_BalanceBeam_g11_c04.avi\n",
            "./UCF101_subset/val/BalanceBeam/v_BalanceBeam_g03_c03.avi\n",
            "./UCF101_subset/val/BalanceBeam/v_BalanceBeam_g06_c03.avi\n",
            "./UCF101_subset/val/Archery\n",
            "./UCF101_subset/val/Archery/UCF101\n",
            "./UCF101_subset/val/Archery/v_Archery_g23_c07.avi\n",
            "./UCF101_subset/val/Archery/v_Archery_g20_c07.avi\n",
            "./UCF101_subset/val/Archery/v_Archery_g03_c02.avi\n",
            "./UCF101_subset/val/Archery/v_Archery_g10_c05.avi\n",
            "./UCF101_subset/val/Archery/v_Archery_g07_c03.avi\n",
            "./UCF101_subset/val/Archery/v_Archery_g19_c01.avi\n",
            "./UCF101_subset/val/Archery/v_Archery_g11_c04.avi\n",
            "./UCF101_subset/val/Archery/v_Archery_g25_c06.avi\n",
            "./UCF101_subset/val/Archery/v_Archery_g11_c06.avi\n",
            "./UCF101_subset/val/Archery/v_Archery_g06_c03.avi\n",
            "./UCF101_subset/val/BenchPress\n",
            "./UCF101_subset/val/BenchPress/UCF101\n",
            "./UCF101_subset/val/BenchPress/v_BenchPress_g25_c04.avi\n",
            "./UCF101_subset/val/BenchPress/v_BenchPress_g22_c05.avi\n",
            "./UCF101_subset/val/BenchPress/v_BenchPress_g11_c03.avi\n",
            "./UCF101_subset/val/BenchPress/v_BenchPress_g06_c05.avi\n",
            "./UCF101_subset/val/BenchPress/v_BenchPress_g25_c02.avi\n",
            "./UCF101_subset/val/BenchPress/v_BenchPress_g07_c02.avi\n",
            "./UCF101_subset/val/BenchPress/v_BenchPress_g13_c03.avi\n",
            "./UCF101_subset/val/BenchPress/v_BenchPress_g16_c03.avi\n",
            "./UCF101_subset/val/BenchPress/v_BenchPress_g17_c02.avi\n",
            "./UCF101_subset/val/BenchPress/v_BenchPress_g15_c03.avi\n",
            "./UCF101_subset/val/Basketball\n",
            "./UCF101_subset/val/Basketball/UCF101\n",
            "./UCF101_subset/val/Basketball/v_Basketball_g20_c02.avi\n",
            "./UCF101_subset/val/Basketball/v_Basketball_g18_c02.avi\n",
            "./UCF101_subset/val/Basketball/v_Basketball_g20_c04.avi\n",
            "./UCF101_subset/val/Basketball/v_Basketball_g21_c01.avi\n",
            "./UCF101_subset/val/Basketball/v_Basketball_g20_c06.avi\n",
            "./UCF101_subset/val/Basketball/v_Basketball_g19_c07.avi\n",
            "./UCF101_subset/val/Basketball/v_Basketball_g01_c07.avi\n",
            "./UCF101_subset/val/Basketball/v_Basketball_g25_c04.avi\n",
            "./UCF101_subset/val/Basketball/v_Basketball_g16_c04.avi\n",
            "./UCF101_subset/val/Basketball/v_Basketball_g16_c06.avi\n",
            "./UCF101_subset/val/BabyCrawling\n",
            "./UCF101_subset/val/BabyCrawling/v_BabyCrawling_g14_c01.avi\n",
            "./UCF101_subset/val/BabyCrawling/UCF101\n",
            "./UCF101_subset/val/BabyCrawling/v_BabyCrawling_g07_c06.avi\n",
            "./UCF101_subset/val/BabyCrawling/v_BabyCrawling_g11_c01.avi\n",
            "./UCF101_subset/val/BabyCrawling/v_BabyCrawling_g13_c03.avi\n",
            "./UCF101_subset/val/BabyCrawling/v_BabyCrawling_g15_c03.avi\n",
            "./UCF101_subset/val/BabyCrawling/v_BabyCrawling_g03_c01.avi\n",
            "./UCF101_subset/val/BabyCrawling/v_BabyCrawling_g09_c02.avi\n",
            "./UCF101_subset/val/BabyCrawling/v_BabyCrawling_g22_c04.avi\n",
            "./UCF101_subset/val/BabyCrawling/v_BabyCrawling_g18_c06.avi\n",
            "./UCF101_subset/val/BabyCrawling/v_BabyCrawling_g05_c05.avi\n",
            "./UCF101_subset/val/ApplyLipstick\n",
            "./UCF101_subset/val/ApplyLipstick/UCF101\n",
            "./UCF101_subset/val/ApplyLipstick/v_ApplyLipstick_g06_c03.avi\n",
            "./UCF101_subset/val/ApplyLipstick/v_ApplyLipstick_g21_c01.avi\n",
            "./UCF101_subset/val/ApplyLipstick/v_ApplyLipstick_g15_c05.avi\n",
            "./UCF101_subset/val/ApplyLipstick/v_ApplyLipstick_g22_c02.avi\n",
            "./UCF101_subset/val/ApplyLipstick/v_ApplyLipstick_g07_c04.avi\n",
            "./UCF101_subset/val/ApplyLipstick/v_ApplyLipstick_g02_c03.avi\n",
            "./UCF101_subset/val/ApplyLipstick/v_ApplyLipstick_g03_c01.avi\n",
            "./UCF101_subset/val/ApplyLipstick/v_ApplyLipstick_g20_c04.avi\n",
            "./UCF101_subset/val/ApplyLipstick/v_ApplyLipstick_g21_c05.avi\n",
            "./UCF101_subset/val/ApplyLipstick/v_ApplyLipstick_g19_c02.avi\n",
            "./UCF101_subset/val/BandMarching\n",
            "./UCF101_subset/val/BandMarching/UCF101\n",
            "./UCF101_subset/val/BandMarching/v_BandMarching_g15_c03.avi\n",
            "./UCF101_subset/val/BandMarching/v_BandMarching_g03_c03.avi\n",
            "./UCF101_subset/val/BandMarching/v_BandMarching_g22_c04.avi\n",
            "./UCF101_subset/val/BandMarching/v_BandMarching_g02_c06.avi\n",
            "./UCF101_subset/val/BandMarching/v_BandMarching_g04_c02.avi\n",
            "./UCF101_subset/val/BandMarching/v_BandMarching_g12_c02.avi\n",
            "./UCF101_subset/val/BandMarching/v_BandMarching_g23_c05.avi\n",
            "./UCF101_subset/val/BandMarching/v_BandMarching_g13_c02.avi\n",
            "./UCF101_subset/val/BandMarching/v_BandMarching_g06_c03.avi\n",
            "./UCF101_subset/val/BandMarching/v_BandMarching_g10_c06.avi\n",
            "./UCF101_subset/val/ApplyEyeMakeup\n",
            "./UCF101_subset/val/ApplyEyeMakeup/UCF101\n",
            "./UCF101_subset/val/ApplyEyeMakeup/v_ApplyEyeMakeup_g12_c03.avi\n",
            "./UCF101_subset/val/ApplyEyeMakeup/v_ApplyEyeMakeup_g09_c06.avi\n",
            "./UCF101_subset/val/ApplyEyeMakeup/v_ApplyEyeMakeup_g20_c06.avi\n",
            "./UCF101_subset/val/ApplyEyeMakeup/v_ApplyEyeMakeup_g20_c04.avi\n",
            "./UCF101_subset/val/ApplyEyeMakeup/v_ApplyEyeMakeup_g08_c05.avi\n",
            "./UCF101_subset/val/ApplyEyeMakeup/v_ApplyEyeMakeup_g22_c01.avi\n",
            "./UCF101_subset/val/ApplyEyeMakeup/v_ApplyEyeMakeup_g18_c03.avi\n",
            "./UCF101_subset/val/ApplyEyeMakeup/v_ApplyEyeMakeup_g04_c07.avi\n",
            "./UCF101_subset/val/ApplyEyeMakeup/v_ApplyEyeMakeup_g01_c01.avi\n",
            "./UCF101_subset/val/ApplyEyeMakeup/v_ApplyEyeMakeup_g06_c03.avi\n",
            "./UCF101_subset/val/BaseballPitch\n",
            "./UCF101_subset/val/BaseballPitch/v_BaseballPitch_g21_c02.avi\n",
            "./UCF101_subset/val/BaseballPitch/UCF101\n",
            "./UCF101_subset/val/BaseballPitch/v_BaseballPitch_g19_c03.avi\n",
            "./UCF101_subset/val/BaseballPitch/v_BaseballPitch_g21_c04.avi\n",
            "./UCF101_subset/val/BaseballPitch/v_BaseballPitch_g03_c02.avi\n",
            "./UCF101_subset/val/BaseballPitch/v_BaseballPitch_g06_c07.avi\n",
            "./UCF101_subset/val/BaseballPitch/v_BaseballPitch_g23_c07.avi\n",
            "./UCF101_subset/val/BaseballPitch/v_BaseballPitch_g09_c02.avi\n",
            "./UCF101_subset/val/BaseballPitch/v_BaseballPitch_g13_c05.avi\n",
            "./UCF101_subset/val/BaseballPitch/v_BaseballPitch_g13_c03.avi\n",
            "./UCF101_subset/val/BaseballPitch/v_BaseballPitch_g19_c05.avi\n",
            "./UCF101_subset/test\n",
            "./UCF101_subset/test/BasketballDunk\n",
            "./UCF101_subset/test/BasketballDunk/UCF101\n",
            "./UCF101_subset/test/BasketballDunk/v_BasketballDunk_g22_c01.avi\n",
            "./UCF101_subset/test/BasketballDunk/v_BasketballDunk_g13_c02.avi\n",
            "./UCF101_subset/test/BasketballDunk/v_BasketballDunk_g11_c04.avi\n",
            "./UCF101_subset/test/BasketballDunk/v_BasketballDunk_g16_c04.avi\n",
            "./UCF101_subset/test/BasketballDunk/v_BasketballDunk_g19_c03.avi\n",
            "./UCF101_subset/test/BasketballDunk/v_BasketballDunk_g08_c01.avi\n",
            "./UCF101_subset/test/BasketballDunk/v_BasketballDunk_g12_c05.avi\n",
            "./UCF101_subset/test/BasketballDunk/v_BasketballDunk_g15_c07.avi\n",
            "./UCF101_subset/test/BasketballDunk/v_BasketballDunk_g24_c02.avi\n",
            "./UCF101_subset/test/BasketballDunk/v_BasketballDunk_g08_c03.avi\n",
            "./UCF101_subset/test/BalanceBeam\n",
            "./UCF101_subset/test/BalanceBeam/UCF101\n",
            "./UCF101_subset/test/BalanceBeam/v_BalanceBeam_g12_c04.avi\n",
            "./UCF101_subset/test/BalanceBeam/v_BalanceBeam_g05_c01.avi\n",
            "./UCF101_subset/test/BalanceBeam/v_BalanceBeam_g22_c02.avi\n",
            "./UCF101_subset/test/BalanceBeam/v_BalanceBeam_g01_c01.avi\n",
            "./UCF101_subset/test/BalanceBeam/v_BalanceBeam_g21_c03.avi\n",
            "./UCF101_subset/test/BalanceBeam/v_BalanceBeam_g07_c02.avi\n",
            "./UCF101_subset/test/BalanceBeam/v_BalanceBeam_g21_c01.avi\n",
            "./UCF101_subset/test/BalanceBeam/v_BalanceBeam_g11_c04.avi\n",
            "./UCF101_subset/test/BalanceBeam/v_BalanceBeam_g03_c03.avi\n",
            "./UCF101_subset/test/BalanceBeam/v_BalanceBeam_g06_c03.avi\n",
            "./UCF101_subset/test/Archery\n",
            "./UCF101_subset/test/Archery/UCF101\n",
            "./UCF101_subset/test/Archery/v_Archery_g23_c07.avi\n",
            "./UCF101_subset/test/Archery/v_Archery_g20_c07.avi\n",
            "./UCF101_subset/test/Archery/v_Archery_g03_c02.avi\n",
            "./UCF101_subset/test/Archery/v_Archery_g10_c05.avi\n",
            "./UCF101_subset/test/Archery/v_Archery_g07_c03.avi\n",
            "./UCF101_subset/test/Archery/v_Archery_g19_c01.avi\n",
            "./UCF101_subset/test/Archery/v_Archery_g11_c04.avi\n",
            "./UCF101_subset/test/Archery/v_Archery_g25_c06.avi\n",
            "./UCF101_subset/test/Archery/v_Archery_g11_c06.avi\n",
            "./UCF101_subset/test/Archery/v_Archery_g06_c03.avi\n",
            "./UCF101_subset/test/BenchPress\n",
            "./UCF101_subset/test/BenchPress/UCF101\n",
            "./UCF101_subset/test/BenchPress/v_BenchPress_g25_c04.avi\n",
            "./UCF101_subset/test/BenchPress/v_BenchPress_g22_c05.avi\n",
            "./UCF101_subset/test/BenchPress/v_BenchPress_g11_c03.avi\n",
            "./UCF101_subset/test/BenchPress/v_BenchPress_g06_c05.avi\n",
            "./UCF101_subset/test/BenchPress/v_BenchPress_g25_c02.avi\n",
            "./UCF101_subset/test/BenchPress/v_BenchPress_g07_c02.avi\n",
            "./UCF101_subset/test/BenchPress/v_BenchPress_g13_c03.avi\n",
            "./UCF101_subset/test/BenchPress/v_BenchPress_g16_c03.avi\n",
            "./UCF101_subset/test/BenchPress/v_BenchPress_g17_c02.avi\n",
            "./UCF101_subset/test/BenchPress/v_BenchPress_g15_c03.avi\n",
            "./UCF101_subset/test/Basketball\n",
            "./UCF101_subset/test/Basketball/UCF101\n",
            "./UCF101_subset/test/Basketball/v_Basketball_g20_c02.avi\n",
            "./UCF101_subset/test/Basketball/v_Basketball_g18_c02.avi\n",
            "./UCF101_subset/test/Basketball/v_Basketball_g20_c04.avi\n",
            "./UCF101_subset/test/Basketball/v_Basketball_g21_c01.avi\n",
            "./UCF101_subset/test/Basketball/v_Basketball_g20_c06.avi\n",
            "./UCF101_subset/test/Basketball/v_Basketball_g19_c07.avi\n",
            "./UCF101_subset/test/Basketball/v_Basketball_g01_c07.avi\n",
            "./UCF101_subset/test/Basketball/v_Basketball_g25_c04.avi\n",
            "./UCF101_subset/test/Basketball/v_Basketball_g16_c04.avi\n",
            "./UCF101_subset/test/Basketball/v_Basketball_g16_c06.avi\n",
            "./UCF101_subset/test/BabyCrawling\n",
            "./UCF101_subset/test/BabyCrawling/v_BabyCrawling_g14_c01.avi\n",
            "./UCF101_subset/test/BabyCrawling/UCF101\n",
            "./UCF101_subset/test/BabyCrawling/v_BabyCrawling_g07_c06.avi\n",
            "./UCF101_subset/test/BabyCrawling/v_BabyCrawling_g11_c01.avi\n",
            "./UCF101_subset/test/BabyCrawling/v_BabyCrawling_g13_c03.avi\n",
            "./UCF101_subset/test/BabyCrawling/v_BabyCrawling_g15_c03.avi\n",
            "./UCF101_subset/test/BabyCrawling/v_BabyCrawling_g03_c01.avi\n",
            "./UCF101_subset/test/BabyCrawling/v_BabyCrawling_g09_c02.avi\n",
            "./UCF101_subset/test/BabyCrawling/v_BabyCrawling_g22_c04.avi\n",
            "./UCF101_subset/test/BabyCrawling/v_BabyCrawling_g18_c06.avi\n",
            "./UCF101_subset/test/BabyCrawling/v_BabyCrawling_g05_c05.avi\n",
            "./UCF101_subset/test/ApplyLipstick\n",
            "./UCF101_subset/test/ApplyLipstick/UCF101\n",
            "./UCF101_subset/test/ApplyLipstick/v_ApplyLipstick_g06_c03.avi\n",
            "./UCF101_subset/test/ApplyLipstick/v_ApplyLipstick_g21_c01.avi\n",
            "./UCF101_subset/test/ApplyLipstick/v_ApplyLipstick_g15_c05.avi\n",
            "./UCF101_subset/test/ApplyLipstick/v_ApplyLipstick_g22_c02.avi\n",
            "./UCF101_subset/test/ApplyLipstick/v_ApplyLipstick_g07_c04.avi\n",
            "./UCF101_subset/test/ApplyLipstick/v_ApplyLipstick_g02_c03.avi\n",
            "./UCF101_subset/test/ApplyLipstick/v_ApplyLipstick_g03_c01.avi\n",
            "./UCF101_subset/test/ApplyLipstick/v_ApplyLipstick_g20_c04.avi\n",
            "./UCF101_subset/test/ApplyLipstick/v_ApplyLipstick_g21_c05.avi\n",
            "./UCF101_subset/test/ApplyLipstick/v_ApplyLipstick_g19_c02.avi\n",
            "./UCF101_subset/test/BandMarching\n",
            "./UCF101_subset/test/BandMarching/UCF101\n",
            "./UCF101_subset/test/BandMarching/v_BandMarching_g15_c03.avi\n",
            "./UCF101_subset/test/BandMarching/v_BandMarching_g03_c03.avi\n",
            "./UCF101_subset/test/BandMarching/v_BandMarching_g22_c04.avi\n",
            "./UCF101_subset/test/BandMarching/v_BandMarching_g02_c06.avi\n",
            "./UCF101_subset/test/BandMarching/v_BandMarching_g04_c02.avi\n",
            "./UCF101_subset/test/BandMarching/v_BandMarching_g12_c02.avi\n",
            "./UCF101_subset/test/BandMarching/v_BandMarching_g23_c05.avi\n",
            "./UCF101_subset/test/BandMarching/v_BandMarching_g13_c02.avi\n",
            "./UCF101_subset/test/BandMarching/v_BandMarching_g06_c03.avi\n",
            "./UCF101_subset/test/BandMarching/v_BandMarching_g10_c06.avi\n",
            "./UCF101_subset/test/ApplyEyeMakeup\n",
            "./UCF101_subset/test/ApplyEyeMakeup/UCF101\n",
            "./UCF101_subset/test/ApplyEyeMakeup/v_ApplyEyeMakeup_g12_c03.avi\n",
            "./UCF101_subset/test/ApplyEyeMakeup/v_ApplyEyeMakeup_g09_c06.avi\n",
            "./UCF101_subset/test/ApplyEyeMakeup/v_ApplyEyeMakeup_g20_c06.avi\n",
            "./UCF101_subset/test/ApplyEyeMakeup/v_ApplyEyeMakeup_g20_c04.avi\n",
            "./UCF101_subset/test/ApplyEyeMakeup/v_ApplyEyeMakeup_g08_c05.avi\n",
            "./UCF101_subset/test/ApplyEyeMakeup/v_ApplyEyeMakeup_g22_c01.avi\n",
            "./UCF101_subset/test/ApplyEyeMakeup/v_ApplyEyeMakeup_g18_c03.avi\n",
            "./UCF101_subset/test/ApplyEyeMakeup/v_ApplyEyeMakeup_g04_c07.avi\n",
            "./UCF101_subset/test/ApplyEyeMakeup/v_ApplyEyeMakeup_g01_c01.avi\n",
            "./UCF101_subset/test/ApplyEyeMakeup/v_ApplyEyeMakeup_g06_c03.avi\n",
            "./UCF101_subset/test/BaseballPitch\n",
            "./UCF101_subset/test/BaseballPitch/v_BaseballPitch_g21_c02.avi\n",
            "./UCF101_subset/test/BaseballPitch/UCF101\n",
            "./UCF101_subset/test/BaseballPitch/v_BaseballPitch_g19_c03.avi\n",
            "./UCF101_subset/test/BaseballPitch/v_BaseballPitch_g21_c04.avi\n",
            "./UCF101_subset/test/BaseballPitch/v_BaseballPitch_g03_c02.avi\n",
            "./UCF101_subset/test/BaseballPitch/v_BaseballPitch_g06_c07.avi\n",
            "./UCF101_subset/test/BaseballPitch/v_BaseballPitch_g23_c07.avi\n",
            "./UCF101_subset/test/BaseballPitch/v_BaseballPitch_g09_c02.avi\n",
            "./UCF101_subset/test/BaseballPitch/v_BaseballPitch_g13_c05.avi\n",
            "./UCF101_subset/test/BaseballPitch/v_BaseballPitch_g13_c03.avi\n",
            "./UCF101_subset/test/BaseballPitch/v_BaseballPitch_g19_c05.avi\n"
          ]
        }
      ]
    },
    {
      "cell_type": "markdown",
      "source": [
        "#### Create frames from each video file"
      ],
      "metadata": {
        "id": "Ano2fbm9o46G"
      }
    },
    {
      "cell_type": "markdown",
      "source": [],
      "metadata": {
        "id": "3yWopA5Xo7x4"
      }
    }
  ]
}