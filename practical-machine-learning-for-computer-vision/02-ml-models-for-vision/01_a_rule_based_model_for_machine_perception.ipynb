{
  "nbformat": 4,
  "nbformat_minor": 0,
  "metadata": {
    "colab": {
      "name": "01-a-rule-based-model-for-machine-perception.ipynb",
      "provenance": [],
      "toc_visible": true,
      "authorship_tag": "ABX9TyMQLzBFu2hIj71lnRZjwdFz",
      "include_colab_link": true
    },
    "kernelspec": {
      "name": "python3",
      "display_name": "Python 3"
    },
    "language_info": {
      "name": "python"
    },
    "accelerator": "GPU"
  },
  "cells": [
    {
      "cell_type": "markdown",
      "metadata": {
        "id": "view-in-github",
        "colab_type": "text"
      },
      "source": [
        "<a href=\"https://colab.research.google.com/github/rahiakela/computer-vision-research-and-practice/blob/main/practical-machine-learning-for-computer-vision/02-ml-models-for-vision/01_a_rule_based_model_for_machine_perception.ipynb\" target=\"_parent\"><img src=\"https://colab.research.google.com/assets/colab-badge.svg\" alt=\"Open In Colab\"/></a>"
      ]
    },
    {
      "cell_type": "markdown",
      "metadata": {
        "id": "PiFxaKVpx-KM"
      },
      "source": [
        "## A rule-based model for machine perception"
      ]
    },
    {
      "cell_type": "markdown",
      "metadata": {
        "id": "6JgffH4izxfG"
      },
      "source": [
        "In this notebook, you will learn how to represent images and train basic machine learning models to classify images. You will discover that **the performance of linear and fully connected neural networks is poor on images.** However, along the way, you will learn how to use the Keras API to implement ML primitives and train ML models."
      ]
    },
    {
      "cell_type": "markdown",
      "metadata": {
        "id": "uBOL05DG1A4d"
      },
      "source": [
        "## Setup"
      ]
    },
    {
      "cell_type": "code",
      "metadata": {
        "id": "5Rhuxxbf1CBr"
      },
      "source": [
        "import tensorflow as tf\n",
        "\n",
        "print(tf.version.VERSION)\n",
        "\n",
        "device_name = tf.test.gpu_device_name()\n",
        "if device_name != '/device:GPU:0':\n",
        "  raise SystemError('GPU device not found')\n",
        "print('Found GPU at: {}'.format(device_name))"
      ],
      "execution_count": null,
      "outputs": []
    },
    {
      "cell_type": "code",
      "metadata": {
        "id": "NCE9F4K-1HY2"
      },
      "source": [
        "import matplotlib.pylab as plt\n",
        "import matplotlib\n",
        "import numpy as np"
      ],
      "execution_count": null,
      "outputs": []
    },
    {
      "cell_type": "markdown",
      "metadata": {
        "id": "EQCW2OL41i1n"
      },
      "source": [
        "## A Dataset for Machine Perception"
      ]
    },
    {
      "cell_type": "markdown",
      "metadata": {
        "id": "Qv9MLKuv1jmF"
      },
      "source": [
        "Assume that we have collected and labeled a dataset of nearly four thousand photographs of flowers. There are five types of flowers in the `5-flowers` dataset and each image in the dataset has already been labeled with the type of flower it depicts."
      ]
    }
  ]
}