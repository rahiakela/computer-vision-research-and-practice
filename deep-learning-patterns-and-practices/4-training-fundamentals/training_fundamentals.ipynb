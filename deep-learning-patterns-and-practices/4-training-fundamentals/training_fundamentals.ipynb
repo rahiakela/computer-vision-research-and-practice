{
  "nbformat": 4,
  "nbformat_minor": 0,
  "metadata": {
    "colab": {
      "name": "training-fundamentals.ipynb",
      "provenance": [],
      "toc_visible": true,
      "authorship_tag": "ABX9TyMnnPQuuBlVHnczzRTv6Gsu",
      "include_colab_link": true
    },
    "kernelspec": {
      "name": "python3",
      "display_name": "Python 3"
    },
    "language_info": {
      "name": "python"
    }
  },
  "cells": [
    {
      "cell_type": "markdown",
      "metadata": {
        "id": "view-in-github",
        "colab_type": "text"
      },
      "source": [
        "<a href=\"https://colab.research.google.com/github/rahiakela/computer-vision-research-and-practice/blob/main/deep-learning-patterns-and-practices/4-training-fundamentals/training_fundamentals.ipynb\" target=\"_parent\"><img src=\"https://colab.research.google.com/assets/colab-badge.svg\" alt=\"Open In Colab\"/></a>"
      ]
    },
    {
      "cell_type": "markdown",
      "metadata": {
        "id": "IlFMNBrQMx4o"
      },
      "source": [
        "##Training fundamentals"
      ]
    },
    {
      "cell_type": "markdown",
      "metadata": {
        "id": "QclXMBouMyyh"
      },
      "source": [
        "Let’s start with an overview of supervised training. When training a model, you feed\n",
        "data forward through the model, and compute how incorrect the predicted results\n",
        "are—the loss. Then the loss is backward-propagated to make updates to the model’s\n",
        "parameters, which is what the model is learning—the values for the parameters.\n",
        "\n",
        "When training a model, you start with training data that’s representative of the target\n",
        "environment where the model will be deployed. That data, in other words, is a\n",
        "sampling distribution of a population distribution. The training data consists of examples.\n",
        "Each example has two parts: the features, also referred to as independent variables;\n",
        "and corresponding labels, also referred to as the dependent variable.\n",
        "\n",
        "The labels are also known as the ground truths (the “correct answers”). Our goal is\n",
        "to train a model that, once deployed and given examples without labels from the population\n",
        "(examples the model has never seen before), the model is generalized so that\n",
        "it can accurately predict the label (the “correct answer”)—supervised learning. This\n",
        "step is known as inference.\n",
        "\n",
        "During training, we feed batches (also called samples) of the training data to the\n",
        "model through the input layer (also referred to as the bottom of the model). The training\n",
        "data is then transformed by the parameters (weights and biases) in the layers of\n",
        "the model as it moves forward toward the output nodes (also referred to as the top of\n",
        "the model).\n",
        "\n",
        "At the output nodes, we measure how far away we are from the “correct”\n",
        "answers, which, again, is called the loss. We then backward-propagate the loss through\n",
        "the layers of the models and update the parameters to be closer to getting the correct\n",
        "answer on the next batch.\n",
        "\n",
        "We continue to repeat this process until we reach convergence, which could be\n",
        "described as “this is as accurate as we can get on this training run.”\n",
        "\n",
        "**Feeding**\n",
        "\n",
        "Feeding is the process of sampling batches from the training data and forward-feeding\n",
        "the batches through the model, and then calculating the loss at the output. A batch\n",
        "can be one or more examples from the training data chosen at random.\n",
        "\n",
        "The size of the batch is typically constant, which is referred to as the (mini) batch\n",
        "size. All the training data is split into batches, and typically each example will appear in\n",
        "only one batch.\n",
        "\n",
        "All of the training data is fed multiple times to the model. Each time we feed the\n",
        "entire training data, it is called an epoch.\n",
        "\n",
        "<img src='https://github.com/rahiakela/computer-vision-research-and-practice/blob/main/deep-learning-patterns-and-practices/4-training-fundamentals/images/1.png?raw=1' width='800'/>"
      ]
    },
    {
      "cell_type": "markdown",
      "metadata": {
        "id": "JLUeNQMoOZni"
      },
      "source": [
        "##Setup"
      ]
    },
    {
      "cell_type": "code",
      "metadata": {
        "id": "LW4XoIp4Oay8"
      },
      "source": [
        "from tensorflow.keras.datasets import mnist\n",
        "from tensorflow.keras.models import Sequential\n",
        "from tensorflow.keras.layers import Flatten, Dense\n",
        "from tensorflow.keras.utils import to_categorical"
      ],
      "execution_count": 17,
      "outputs": []
    },
    {
      "cell_type": "markdown",
      "metadata": {
        "id": "vokTefxkObFa"
      },
      "source": [
        "##Backward propagation"
      ]
    },
    {
      "cell_type": "markdown",
      "metadata": {
        "id": "XJFLvgFwQon9"
      },
      "source": [
        "After each batch of training data is forward-fed through the model and the loss is calculated,\n",
        "the loss is backward-propagated through the model. We go layer by layer\n",
        "updating the model’s parameters (weights and parameters), starting at the top layer\n",
        "(output) and moving toward the bottom layer (input). How the parameters are\n",
        "updated is a combination of the loss, the values of the current parameters, and the\n",
        "updates made to the proceeding layer.\n",
        "\n",
        "The general method for doing this is based on gradient descent. The optimizer is an\n",
        "implementation of gradient descent whose job is to update the parameters to minimize\n",
        "the loss (maximize getting closer to the correct answer) on subsequent batches.\n",
        "\n",
        "<img src='https://github.com/rahiakela/computer-vision-research-and-practice/blob/main/deep-learning-patterns-and-practices/4-training-fundamentals/images/2.png?raw=1' width='800'/>"
      ]
    },
    {
      "cell_type": "markdown",
      "metadata": {
        "id": "AUdKDqh4QxYT"
      },
      "source": [
        "##Dataset splitting"
      ]
    },
    {
      "cell_type": "markdown",
      "metadata": {
        "id": "vxG61fzIQyRw"
      },
      "source": [
        "A dataset is a collection of examples that are large and diverse enough to be representative\n",
        "of the population being modeled (the sampling distribution). When a dataset\n",
        "meets this definition and is cleaned (not noisy), and in a format that’s ready for machine\n",
        "learning training, we refer to it as a curated dataset.\n",
        "\n",
        "Once you have a curated dataset, the next step is to split it into examples that will\n",
        "be used for training and those that will be used for testing (also called evaluation or\n",
        "holdout). We train the model with the portion of the dataset that is the training data. If\n",
        "we assume the training data is a good sampling distribution (representative of the\n",
        "population distribution), the accuracy of the training data should reflect the accuracy\n",
        "when deployed to the real-world predictions on examples from the population not\n",
        "seen by the model during training.\n",
        "\n",
        "Historically,\n",
        "the rule of thumb has been 80/20: 80% for training and 20% for testing."
      ]
    },
    {
      "cell_type": "markdown",
      "metadata": {
        "id": "Bfr6TuLtRDBi"
      },
      "source": [
        "###Training and test sets"
      ]
    },
    {
      "cell_type": "markdown",
      "metadata": {
        "id": "Wlof0CuwRDs8"
      },
      "source": [
        "What is important is that we are able to assume our dataset is sufficiently large enough\n",
        "that if we split it into 80% and 20%, and the examples are randomly chosen so that\n",
        "both datasets will be good sampling distributions representative of the population distribution,\n",
        "the model will make predictions (inference) after it’s deployed.\n",
        "\n",
        "<img src='https://github.com/rahiakela/computer-vision-research-and-practice/blob/main/deep-learning-patterns-and-practices/4-training-fundamentals/images/3.png?raw=1' width='800'/>\n",
        "\n"
      ]
    },
    {
      "cell_type": "code",
      "metadata": {
        "id": "YZGSfjNpOwCH",
        "colab": {
          "base_uri": "https://localhost:8080/"
        },
        "outputId": "0c62ad3a-3b8a-42b7-bf55-ac0ed204be55"
      },
      "source": [
        "# Built-in dataset is automatically randomly shuffled and presplit into training and testing data.\n",
        "(x_train, y_train), (x_test, y_test) = mnist.load_data()\n",
        "print(x_train.shape, y_train.shape)\n",
        "print(x_test.shape, y_test.shape)"
      ],
      "execution_count": 18,
      "outputs": [
        {
          "output_type": "stream",
          "name": "stdout",
          "text": [
            "(60000, 28, 28) (60000,)\n",
            "(10000, 28, 28) (10000,)\n"
          ]
        }
      ]
    },
    {
      "cell_type": "markdown",
      "metadata": {
        "id": "Ktc0OztcSZ2d"
      },
      "source": [
        "###One-hot encoding"
      ]
    },
    {
      "cell_type": "markdown",
      "metadata": {
        "id": "y-q8l1D0Samz"
      },
      "source": [
        "Let’s build a simple DNN to train our curated dataset. We\n",
        "start by flattening the 28-×-28-image input into a 1D vector by using the Flatten layer,\n",
        "which is then followed by two hidden Dense() layers of 512 nodes each, each using\n",
        "the convention of a relu activation function. Finally, the output layer is a Dense layer\n",
        "with 10 nodes, one for each digit. Since this is a multiclass classifier, the activation\n",
        "function for the output layer is a softmax.\n",
        "\n",
        "Next, we compile the model for the convention for multiclass classifiers by using\n",
        "`categorical_crossentropy` for the loss and adam for the optimizer:"
      ]
    },
    {
      "cell_type": "code",
      "metadata": {
        "id": "_zlQqVlMOdmg"
      },
      "source": [
        "model = Sequential()\n",
        "# Flattens the 2D grayscale image into 1D vector for a DNN\n",
        "model.add(Flatten(input_shape=(28, 28)))\n",
        "# The actual input layer of the DNN, once the image is flattened\n",
        "model.add(Dense(512, activation=\"relu\"))\n",
        "# A hidden layer\n",
        "model.add(Dense(512, activation=\"relu\"))\n",
        "# The output layer of the DNN\n",
        "model.add(Dense(10, activation=\"softmax\"))\n",
        "\n",
        "# compile the model\n",
        "model.compile(loss=\"categorical_crossentropy\", optimizer=\"adam\", metrics=[\"accuracy\"])"
      ],
      "execution_count": 19,
      "outputs": []
    },
    {
      "cell_type": "markdown",
      "metadata": {
        "id": "VMOwJ4phResN"
      },
      "source": [
        "The most basic way to train this model with this dataset is to use the fit() method. We\n",
        "will pass as parameters the training data (x_train, y_train). We will keep the\n",
        "remaining keyword parameters set to their defaults:"
      ]
    },
    {
      "cell_type": "code",
      "metadata": {
        "id": "HMOCv44JT7bZ"
      },
      "source": [
        "#model.fit(x_train, y_train)"
      ],
      "execution_count": 20,
      "outputs": []
    },
    {
      "cell_type": "markdown",
      "metadata": {
        "id": "WDa2SP4FftTb"
      },
      "source": [
        "```\n",
        "ValueError: Shapes (32, 1) and (32, 10) are incompatible\n",
        "```"
      ]
    },
    {
      "cell_type": "code",
      "metadata": {
        "id": "L-Ipdm1Lb1Zh",
        "outputId": "a9bead57-be64-4370-9e2a-a8a0dba68175",
        "colab": {
          "base_uri": "https://localhost:8080/"
        }
      },
      "source": [
        "y_train[:5]"
      ],
      "execution_count": 21,
      "outputs": [
        {
          "output_type": "execute_result",
          "data": {
            "text/plain": [
              "array([5, 0, 4, 1, 9], dtype=uint8)"
            ]
          },
          "metadata": {},
          "execution_count": 21
        }
      ]
    },
    {
      "cell_type": "markdown",
      "metadata": {
        "id": "QDV_5hH6Y3iz"
      },
      "source": [
        "What went wrong? This is an issue with the loss function we choose. It will compare the\n",
        "difference between each output node and corresponding output expectation. For\n",
        "example, if the answer is the digit 3, we need a 10-element vector (one element per\n",
        "digit) with a 1 (100% probability) in the 3 index and 0s (0% probability) in the remaining\n",
        "indexes. In this case, we need to convert the scalar-value labels into 10-element vectors\n",
        "with a 1 in the corresponding index. This is known as one-hot encoding.\n",
        "\n",
        "Let’s fix our example by first importing the `to_categorical()` function from\n",
        "TF.Keras and then using it to convert the scalar-value labels to one-hot-encoded labels.\n",
        "\n",
        "Note that we pass the value 10 to `to_categorical()` to indicate the size of the onehot-\n",
        "encoded labels (number of classes):\n",
        "\n",
        "<img src='https://github.com/rahiakela/computer-vision-research-and-practice/blob/main/deep-learning-patterns-and-practices/4-training-fundamentals/images/4.png?raw=1' width='800'/>"
      ]
    },
    {
      "cell_type": "code",
      "metadata": {
        "id": "2eEyB7mcY-0T",
        "outputId": "440b86b3-e895-4a64-ba4f-b5a61d11c795",
        "colab": {
          "base_uri": "https://localhost:8080/"
        }
      },
      "source": [
        "# One-hot-encodes the training and testing labels\n",
        "y_train = to_categorical(y_train, 10)\n",
        "y_test = to_categorical(y_test, 10)\n",
        "print(y_train[0])"
      ],
      "execution_count": 22,
      "outputs": [
        {
          "output_type": "stream",
          "name": "stdout",
          "text": [
            "[0. 0. 0. 0. 0. 1. 0. 0. 0. 0.]\n"
          ]
        }
      ]
    },
    {
      "cell_type": "code",
      "metadata": {
        "id": "vafsYaMrcTut",
        "outputId": "91336a12-28fe-42e4-f5d6-e5d2d7f8cd5b",
        "colab": {
          "base_uri": "https://localhost:8080/"
        }
      },
      "source": [
        "model.fit(x_train, y_train)"
      ],
      "execution_count": 23,
      "outputs": [
        {
          "output_type": "stream",
          "name": "stdout",
          "text": [
            "1875/1875 [==============================] - 18s 9ms/step - loss: 1.3116 - accuracy: 0.9108\n"
          ]
        },
        {
          "output_type": "execute_result",
          "data": {
            "text/plain": [
              "<keras.callbacks.History at 0x7f21907bf1d0>"
            ]
          },
          "metadata": {},
          "execution_count": 23
        }
      ]
    },
    {
      "cell_type": "markdown",
      "metadata": {
        "id": "rrUBA_vogkSJ"
      },
      "source": [
        "That works, and we got 90% accuracy on the training data—but we can simplify this\n",
        "step. The compile() method has one-hot encoding built into it. To enable it, we just\n",
        "change the loss function from `categorical_crossentropy` to `sparse_categorical_\n",
        "crossentry`. \n",
        "\n",
        "In this mode, the loss function will receive the labels as scalar values and\n",
        "dynamically convert them to one-hot-encoded labels before performing the crossentropy\n",
        "loss calculation."
      ]
    },
    {
      "cell_type": "code",
      "metadata": {
        "id": "dNiZuowhgsoO"
      },
      "source": [
        "model = Sequential()\n",
        "# Flattens the 2D grayscale image into 1D vector for a DNN\n",
        "model.add(Flatten(input_shape=(28, 28)))\n",
        "# The actual input layer of the DNN, once the image is flattened\n",
        "model.add(Dense(512, activation=\"relu\"))\n",
        "# A hidden layer\n",
        "model.add(Dense(512, activation=\"relu\"))\n",
        "# The output layer of the DNN\n",
        "model.add(Dense(10, activation=\"softmax\"))\n",
        "\n",
        "# compile the model\n",
        "model.compile(loss=\"sparse_categorical_crossentropy\", optimizer=\"adam\", metrics=[\"accuracy\"])"
      ],
      "execution_count": 26,
      "outputs": []
    },
    {
      "cell_type": "code",
      "metadata": {
        "id": "P8elqoE5g5qk"
      },
      "source": [
        "# Loads MNIST dataset into memory\n",
        "(x_train, y_train), (x_test, y_test) = mnist.load_data()"
      ],
      "execution_count": 27,
      "outputs": []
    },
    {
      "cell_type": "code",
      "metadata": {
        "id": "-4EmQjMrhAOP",
        "outputId": "b3b66b1a-8a8f-4fa2-d290-f76f1d07e6f6",
        "colab": {
          "base_uri": "https://localhost:8080/"
        }
      },
      "source": [
        "# Trains MNIST model for 10 epochs\n",
        "model.fit(x_train, y_train, epochs=10)"
      ],
      "execution_count": 28,
      "outputs": [
        {
          "output_type": "stream",
          "name": "stdout",
          "text": [
            "Epoch 1/10\n",
            "1875/1875 [==============================] - 19s 10ms/step - loss: 1.3454 - accuracy: 0.9072\n",
            "Epoch 2/10\n",
            "1875/1875 [==============================] - 18s 10ms/step - loss: 0.1924 - accuracy: 0.9509\n",
            "Epoch 3/10\n",
            "1875/1875 [==============================] - 17s 9ms/step - loss: 0.1703 - accuracy: 0.9551\n",
            "Epoch 4/10\n",
            "1875/1875 [==============================] - 17s 9ms/step - loss: 0.1591 - accuracy: 0.9577\n",
            "Epoch 5/10\n",
            "1875/1875 [==============================] - 17s 9ms/step - loss: 0.1389 - accuracy: 0.9632\n",
            "Epoch 6/10\n",
            "1875/1875 [==============================] - 17s 9ms/step - loss: 0.1265 - accuracy: 0.9682\n",
            "Epoch 7/10\n",
            "1875/1875 [==============================] - 17s 9ms/step - loss: 0.1193 - accuracy: 0.9705\n",
            "Epoch 8/10\n",
            "1875/1875 [==============================] - 18s 10ms/step - loss: 0.1067 - accuracy: 0.9749\n",
            "Epoch 9/10\n",
            "1875/1875 [==============================] - 18s 10ms/step - loss: 0.1032 - accuracy: 0.9755\n",
            "Epoch 10/10\n",
            "1875/1875 [==============================] - 19s 10ms/step - loss: 0.0844 - accuracy: 0.9798\n"
          ]
        },
        {
          "output_type": "execute_result",
          "data": {
            "text/plain": [
              "<keras.callbacks.History at 0x7f2190612f90>"
            ]
          },
          "metadata": {},
          "execution_count": 28
        }
      ]
    },
    {
      "cell_type": "markdown",
      "metadata": {
        "id": "MhaH6Kb0R87O"
      },
      "source": [
        "##Data normalization"
      ]
    },
    {
      "cell_type": "markdown",
      "metadata": {
        "id": "GM-QS5pC-cDw"
      },
      "source": [
        "ResNet50 introduced a variation of the residual block referred to as the bottleneck\n",
        "residual block. In this version, the group of two 3 × 3 convolutional layers is replaced by\n",
        "a group of 1 × 1, then 3 × 3, and then 1 × 1 convolutional layers. \n",
        "\n",
        "The first 1 × 1 convolution\n",
        "performs a dimensionality reduction, reducing the computational complexity,\n",
        "and the last convolution restores the dimensionality, increasing the number of filters\n",
        "by a factor of 4. \n",
        "\n",
        "The middle 3 × 3 convolution is referred to as the bottleneck convolution,\n",
        "like the neck of a bottle. \n",
        "\n",
        "The bottleneck residual block, allows\n",
        "for deeper neural networks, without degradation, and further reduction in computational\n",
        "complexity.\n",
        "\n",
        "<img src='https://github.com/rahiakela/computer-vision-research-and-practice/blob/main/deep-learning-patterns-and-practices/3-convolutional-and-residual-neural-networks/images/4.png?raw=1' width='800'/>"
      ]
    },
    {
      "cell_type": "code",
      "metadata": {
        "id": "-aYs3NyTR_J_"
      },
      "source": [
        "def bottleneck_block(n_filters, x):\n",
        "  \"\"\"\n",
        "  Create a Bottleneck Residual Block of Convolutions\n",
        "  n_filters: number of filters\n",
        "  x        : input into the block\n",
        "  \"\"\"\n",
        "  shortcut = x\n",
        "  # A 1 × 1 bottleneck convolution for dimensionality reduction\n",
        "  x = Conv2D(n_filters, kernel_size=(1, 1), strides=(1, 1), padding=\"same\", activation=\"relu\")(x)\n",
        "  # A 3 × 3 convolution for feature extraction\n",
        "  x = Conv2D(n_filters, kernel_size=(3, 3), strides=(1, 1), padding=\"same\", activation=\"relu\")(x)\n",
        "  # A 1 × 1 projection convolution for dimensionality expansion\n",
        "  x = Conv2D(n_filters * 4, kernel_size=(1, 1), strides=(1, 1), padding=\"same\", activation=\"relu\")(x)\n",
        "  # Matrix addition of the input to the output\n",
        "  x = layers.add([shortcut, x])\n",
        "\n",
        "  return x"
      ],
      "execution_count": 24,
      "outputs": []
    },
    {
      "cell_type": "code",
      "metadata": {
        "id": "Lb5t4ybEtxvZ",
        "colab": {
          "base_uri": "https://localhost:8080/",
          "height": 238
        },
        "outputId": "8136beef-ba05-4ff0-fffd-2f842359ee3f"
      },
      "source": [
        "# The input tensor  \n",
        "inputs = Input(shape=(224, 224, 3))\n",
        "\n",
        "# First convolutional layer, where pooled feature maps will be reduced by 75%\n",
        "x = Conv2D(64, kernel_size=(7, 7), strides=(2, 2), padding=\"same\", activation=\"relu\")(inputs)\n",
        "x = MaxPool2D(pool_size=(3, 3), strides=(2, 2), padding=\"same\")(x)\n",
        "\n",
        "# First residual block group of 64 filters\n",
        "for _ in range(2):\n",
        "  x = residual_block(64, x)\n",
        "\n",
        "# Doubles the size of filters and reduces feature maps by 75% (stride s = 2, 2) to fit the next residual group\n",
        "x = conv_block(128, x)\n",
        "\n",
        "# Second residual block group of 128 filters\n",
        "for _ in range(3):\n",
        "  x = residual_block(128, x)\n",
        "\n",
        "x = conv_block(256, x)\n",
        "\n",
        "# Third residual block group of 256 filters\n",
        "for _ in range(5):\n",
        "  x = residual_block(256, x)\n",
        "\n",
        "x = conv_block(512, x)\n",
        "\n",
        "# Fourth residual block group of 512 filters\n",
        "x = residual_block(512, x)\n",
        "\n",
        "x = GlobalAveragePooling2D()(x)\n",
        "\n",
        "# Output layer for classification (1000 classes)\n",
        "outputs = Dense(1000, activation=\"softmax\")(x)\n",
        "\n",
        "model = Model(inputs, outputs)\n",
        "\n",
        "model.compile(loss=\"categorical_crossentropy\", optimizer=\"adam\", metrics=[\"accuracy\"])\n",
        "model.summary()"
      ],
      "execution_count": 25,
      "outputs": [
        {
          "output_type": "error",
          "ename": "NameError",
          "evalue": "ignored",
          "traceback": [
            "\u001b[0;31m---------------------------------------------------------------------------\u001b[0m",
            "\u001b[0;31mNameError\u001b[0m                                 Traceback (most recent call last)",
            "\u001b[0;32m<ipython-input-25-a6b1766d3ba9>\u001b[0m in \u001b[0;36m<module>\u001b[0;34m()\u001b[0m\n\u001b[1;32m      1\u001b[0m \u001b[0;31m# The input tensor\u001b[0m\u001b[0;34m\u001b[0m\u001b[0;34m\u001b[0m\u001b[0;34m\u001b[0m\u001b[0m\n\u001b[0;32m----> 2\u001b[0;31m \u001b[0minputs\u001b[0m \u001b[0;34m=\u001b[0m \u001b[0mInput\u001b[0m\u001b[0;34m(\u001b[0m\u001b[0mshape\u001b[0m\u001b[0;34m=\u001b[0m\u001b[0;34m(\u001b[0m\u001b[0;36m224\u001b[0m\u001b[0;34m,\u001b[0m \u001b[0;36m224\u001b[0m\u001b[0;34m,\u001b[0m \u001b[0;36m3\u001b[0m\u001b[0;34m)\u001b[0m\u001b[0;34m)\u001b[0m\u001b[0;34m\u001b[0m\u001b[0;34m\u001b[0m\u001b[0m\n\u001b[0m\u001b[1;32m      3\u001b[0m \u001b[0;34m\u001b[0m\u001b[0m\n\u001b[1;32m      4\u001b[0m \u001b[0;31m# First convolutional layer, where pooled feature maps will be reduced by 75%\u001b[0m\u001b[0;34m\u001b[0m\u001b[0;34m\u001b[0m\u001b[0;34m\u001b[0m\u001b[0m\n\u001b[1;32m      5\u001b[0m \u001b[0mx\u001b[0m \u001b[0;34m=\u001b[0m \u001b[0mConv2D\u001b[0m\u001b[0;34m(\u001b[0m\u001b[0;36m64\u001b[0m\u001b[0;34m,\u001b[0m \u001b[0mkernel_size\u001b[0m\u001b[0;34m=\u001b[0m\u001b[0;34m(\u001b[0m\u001b[0;36m7\u001b[0m\u001b[0;34m,\u001b[0m \u001b[0;36m7\u001b[0m\u001b[0;34m)\u001b[0m\u001b[0;34m,\u001b[0m \u001b[0mstrides\u001b[0m\u001b[0;34m=\u001b[0m\u001b[0;34m(\u001b[0m\u001b[0;36m2\u001b[0m\u001b[0;34m,\u001b[0m \u001b[0;36m2\u001b[0m\u001b[0;34m)\u001b[0m\u001b[0;34m,\u001b[0m \u001b[0mpadding\u001b[0m\u001b[0;34m=\u001b[0m\u001b[0;34m\"same\"\u001b[0m\u001b[0;34m,\u001b[0m \u001b[0mactivation\u001b[0m\u001b[0;34m=\u001b[0m\u001b[0;34m\"relu\"\u001b[0m\u001b[0;34m)\u001b[0m\u001b[0;34m(\u001b[0m\u001b[0minputs\u001b[0m\u001b[0;34m)\u001b[0m\u001b[0;34m\u001b[0m\u001b[0;34m\u001b[0m\u001b[0m\n",
            "\u001b[0;31mNameError\u001b[0m: name 'Input' is not defined"
          ]
        }
      ]
    },
    {
      "cell_type": "markdown",
      "metadata": {
        "id": "7sEFYuc6vUyi"
      },
      "source": [
        "Residual blocks introduced the concepts of representational power and representational\n",
        "equivalence. Representational power is a measure of how powerful a block is as a\n",
        "feature extractor. Representational equivalence is the idea that a block can be factored\n",
        "into a lower computational complexity, while maintaining representational power.\n",
        "\n",
        "The design of the residual bottleneck block was demonstrated to maintain representational\n",
        "power of the ResNet34 block, with a lower computational complexity."
      ]
    },
    {
      "cell_type": "markdown",
      "metadata": {
        "id": "jqIZIW04vrAA"
      },
      "source": [
        "##Batch normalization"
      ]
    },
    {
      "cell_type": "markdown",
      "metadata": {
        "id": "RAfW70Lovrx4"
      },
      "source": [
        "Another problem with adding deeper layers in a neural network is the vanishing gradient\n",
        "problem. This is actually about computer hardware. During training (the process\n",
        "of backward propagation and gradient descent), at each layer the weights are multiplied\n",
        "by very small numbers—specifically, numbers less than 1. As you know, two numbers\n",
        "less than 1 multiplied together make an even smaller number. When these tiny\n",
        "values are propagated through deeper layers, they continuously get smaller. At some\n",
        "point, the computer hardware can’t represent the value anymore—hence, the vanishing\n",
        "gradient.\n",
        "\n",
        "Batch normalization is a technique applied to the output of a layer (before or after\n",
        "the activation function). Without going into the statistics aspect, it normalizes the shift\n",
        "in the weights as they are being trained. This has several advantages: it smooths out\n",
        "(across a batch) the amount of change, thus slowing the possibility of getting a number\n",
        "so small that it can’t be represented by the hardware. Additionally, by narrowing\n",
        "the amount of shift between the weights, convergence can happen sooner by using a\n",
        "higher learning rate and reducing the overall amount of training time. Batch normalization\n",
        "is added to a layer in TF.Keras with the BatchNormalization class.\n",
        "\n",
        "```python\n",
        "model = Sequential()\n",
        "model.add(Conv2D(64, (3, 3), strides=(1, 1), padding='same',\n",
        "input_shape=(128, 128, 3)))\n",
        "model.add(BatchNormalization())\n",
        "# Adds batchnorm before the activation\n",
        "model.add(ReLU())\n",
        "model.add(Flatten())\n",
        "model.add(Dense(4096))\n",
        "model.add(ReLU())\n",
        "\n",
        "# Adds batchnorm after the activation\n",
        "model.add(BatchNormalization())\n",
        "```\n",
        "\n"
      ]
    },
    {
      "cell_type": "markdown",
      "metadata": {
        "id": "rPrSVZG3TgvA"
      },
      "source": [
        "##ResNet50"
      ]
    },
    {
      "cell_type": "markdown",
      "metadata": {
        "id": "Yi8wDlg5Tkbx"
      },
      "source": [
        "ResNet50 is a well-known model, which is commonly reused as a stock model, such as\n",
        "for transfer learning, as shared layers in objection detection, and for performance benchmarking.\n",
        "\n",
        "ResNet50 v1 formalized the concept of a convolutional group. This is a set of convolutional\n",
        "blocks that share a common configuration, such as the number of filters. In v1,\n",
        "the neural network is decomposed into groups, and each group doubles the number\n",
        "of filters from the previous group.\n",
        "\n",
        "Additionally, the concept of a separate convolution block to double the number of\n",
        "filters was removed and replaced by a residual block that uses linear projection. Each\n",
        "group starts with a residual block using linear projection on the identity link to double\n",
        "the number of filters, while the remaining residual blocks pass the input directly to the output for the matrix add operation. Additionally, the first 1 × 1 convolution in\n",
        "the residual block with linear projection uses a stride of 2 (feature pooling), which is\n",
        "also known as a strided convolution, reducing the feature map sizes by 75%.\n",
        "\n",
        "<img src='https://github.com/rahiakela/computer-vision-research-and-practice/blob/main/deep-learning-patterns-and-practices/3-convolutional-and-residual-neural-networks/images/5.png?raw=1' width='800'/>"
      ]
    },
    {
      "cell_type": "code",
      "metadata": {
        "id": "xFlIv794UpvV"
      },
      "source": [
        "def identity_block(x, n_filters):\n",
        "  \"\"\"\n",
        "  Create a Bottleneck Residual Block of Convolutions\n",
        "  n_filters: number of filters\n",
        "  x        : input into the block\n",
        "  \"\"\"\n",
        "  shortcut = x\n",
        "\n",
        "  x = Conv2D(n_filters, kernel_size=(1, 1), strides=(1, 1))(x)\n",
        "  x = BatchNormalization()(x)\n",
        "  x = ReLU()(x)\n",
        "\n",
        "  x = Conv2D(n_filters, kernel_size=(3, 3), strides=(1, 1), padding=\"same\")(x)\n",
        "  x = BatchNormalization()(x)\n",
        "  x = ReLU()(x)\n",
        "  \n",
        "  x = Conv2D(n_filters * 4, kernel_size=(1, 1), strides=(1, 1))(x)\n",
        "  x = BatchNormalization()(x)\n",
        "\n",
        "  # Matrix addition of the input to the output\n",
        "  x = layers.add([shortcut, x])\n",
        "  x = ReLU()(x)\n",
        "\n",
        "  return x"
      ],
      "execution_count": null,
      "outputs": []
    },
    {
      "cell_type": "code",
      "metadata": {
        "id": "v2cjR--dXK4F"
      },
      "source": [
        "def projection_block(x, n_filters, strides=(2, 2)):\n",
        "  \"\"\"\n",
        "  Create Block of Convolutions with feature pooling\n",
        "  Increase the number of filters by 4X\n",
        "  x        : input into the block\n",
        "  n_filters: number of filters\n",
        "  \"\"\"\n",
        "  # 1 × 1 projection convolution on shortcut to match size of output\n",
        "  shortcut = Conv2D(4 * n_filters, kernel_size=(1, 1), strides=strides)(x)\n",
        "  shortcut = BatchNormalization()(shortcut)\n",
        "\n",
        "  x = Conv2D(n_filters, kernel_size=(1, 1), strides=strides)(x)\n",
        "  x = BatchNormalization()(x)\n",
        "  x = ReLU()(x)\n",
        "\n",
        "  x = Conv2D(n_filters, kernel_size=(3, 3), strides=(1, 1), padding=\"same\")(x)\n",
        "  x = BatchNormalization()(x)\n",
        "  x = ReLU()(x)\n",
        "  \n",
        "  x = Conv2D(4 * n_filters, kernel_size=(1, 1), strides=(1, 1))(x)\n",
        "  x = BatchNormalization()(x)\n",
        "\n",
        "  # Matrix addition of the input to the output\n",
        "  x = layers.add([x, shortcut])\n",
        "  x = ReLU()(x)\n",
        "\n",
        "  return x"
      ],
      "execution_count": null,
      "outputs": []
    },
    {
      "cell_type": "code",
      "metadata": {
        "id": "WbvtBv9UYRDA"
      },
      "source": [
        "# The input tensor  \n",
        "inputs = Input(shape=(224, 224, 3))\n",
        "\n",
        "# First convolutional layer, where pooled feature maps will be reduced by 75%\n",
        "x = ZeroPadding2D(padding=(3, 3))(inputs)\n",
        "x = Conv2D(64, kernel_size=(7, 7), strides=(2, 2), padding=\"valid\")(x)\n",
        "x = BatchNormalization()(x)\n",
        "x = ReLU()(x)\n",
        "x = ZeroPadding2D(padding=(1, 1))(x)\n",
        "x = MaxPool2D(pool_size=(3, 3), strides=(2, 2))(x)\n",
        "\n",
        "# Each convolutional group after the first group starts with a projection block.\n",
        "x = projection_block(64, x, strides=(1, 1))\n",
        "\n",
        "# First identity block group of 64 filters\n",
        "for _ in range(2):\n",
        "  x = identity_block(64, x)\n",
        "x = projection_block(128, x)\n",
        "\n",
        "# Second identity block group of 128 filters\n",
        "for _ in range(3):\n",
        "  x = identity_block(128, x)\n",
        "x = projection_block(256, x)\n",
        "\n",
        "# Third identity block group of 256 filters\n",
        "for _ in range(5):\n",
        "  x = identity_block(256, x)\n",
        "x = projection_block(512, x)\n",
        "\n",
        "# Fourth identity block group of 512 filters\n",
        "for _ in range(2):\n",
        "  x = identity_block(512, x)\n",
        "\n",
        "x = GlobalAveragePooling2D()(x)\n",
        "\n",
        "# Output layer for classification (1000 classes)\n",
        "outputs = Dense(1000, activation=\"softmax\")(x)\n",
        "\n",
        "model = Model(inputs, outputs)\n",
        "\n",
        "model.compile(loss=\"categorical_crossentropy\", optimizer=\"adam\", metrics=[\"accuracy\"])\n",
        "\n",
        "model.summary()"
      ],
      "execution_count": null,
      "outputs": []
    },
    {
      "cell_type": "markdown",
      "metadata": {
        "id": "K0U-X4JBizTz"
      },
      "source": [
        "v1.5 introduced a refactoring of the bottleneck design and\n",
        "further reducing of computational complexity, while maintaining representational\n",
        "power. The feature pooling (strides = 2) in the residual block with linear projection is\n",
        "moved from the first 1 × 1 convolution to the 3 × 3 convolution, reducing computational\n",
        "complexity and increasing results on ImageNet by 0.5%.\n",
        "\n",
        "<img src='https://github.com/rahiakela/computer-vision-research-and-practice/blob/main/deep-learning-patterns-and-practices/3-convolutional-and-residual-neural-networks/images/6.png?raw=1' width='800'/>"
      ]
    },
    {
      "cell_type": "code",
      "metadata": {
        "id": "SbF8fQcDjhjV"
      },
      "source": [
        "def projection_block(x, n_filters, strides=(2, 2)):\n",
        "  \"\"\"\n",
        "  Create Block of Convolutions with feature pooling\n",
        "  Increase the number of filters by 4X\n",
        "  x        : input into the block\n",
        "  n_filters: number of filters\n",
        "  \"\"\"\n",
        "  # 1 × 1 projection convolution on shortcut to match size of output\n",
        "  shortcut = Conv2D(4 * n_filters, kernel_size=(1, 1), strides=strides)(x)\n",
        "  shortcut = BatchNormalization()(shortcut)\n",
        "\n",
        "  x = Conv2D(n_filters, kernel_size=(1, 1), strides=(1, 1))(x)\n",
        "  x = BatchNormalization()(x)\n",
        "  x = ReLU()(x)\n",
        "\n",
        "  x = Conv2D(n_filters, kernel_size=(3, 3), strides=(1, 1), padding=\"same\")(x)\n",
        "  x = BatchNormalization()(x)\n",
        "  x = ReLU()(x)\n",
        "  \n",
        "  x = Conv2D(4 * n_filters, kernel_size=(1, 1), strides=(1, 1))(x)\n",
        "  x = BatchNormalization()(x)\n",
        "\n",
        "  # Matrix addition of the input to the output\n",
        "  x = layers.add([x, shortcut])\n",
        "  x = ReLU()(x)\n",
        "\n",
        "  return x"
      ],
      "execution_count": null,
      "outputs": []
    },
    {
      "cell_type": "markdown",
      "metadata": {
        "id": "rQZTplvum1Qu"
      },
      "source": [
        "ResNet50 v2 introduced preactivation batch normalization (BN-RE-Conv), in which the batch normalization and activation functions are placed before (instead of after) the corresponding convolution or dense layer. \n",
        "\n",
        "This has now become a common practice, as depicted here for implementation of the residual block with the identity link in v2:"
      ]
    },
    {
      "cell_type": "code",
      "metadata": {
        "id": "p8PK93y0m0ey"
      },
      "source": [
        "def identity_block(x, n_filters):\n",
        "  \"\"\"\n",
        "  Create a Bottleneck Residual Block of Convolutions\n",
        "  n_filters: number of filters\n",
        "  x        : input into the block\n",
        "  \"\"\"\n",
        "  shortcut = x\n",
        "\n",
        "  # Batchnorm before the convolution\n",
        "  x = BatchNormalization()(x)\n",
        "  x = ReLU()(x)\n",
        "  x = Conv2D(n_filters, kernel_size=(1, 1), strides=(1, 1))(x)\n",
        "\n",
        "  x = BatchNormalization()(x)\n",
        "  x = ReLU()(x)\n",
        "  x = Conv2D(n_filters, kernel_size=(3, 3), strides=(1, 1), padding=\"same\")(x)\n",
        "\n",
        "  x = BatchNormalization()(x)\n",
        "  x = ReLU()(x)\n",
        "  x = Conv2D(n_filters * 4, kernel_size=(1, 1), strides=(1, 1))(x)\n",
        "\n",
        "  # Matrix addition of the input to the output\n",
        "  x = layers.add([shortcut, x])\n",
        "  x = ReLU()(x)\n",
        "\n",
        "  return x"
      ],
      "execution_count": null,
      "outputs": []
    }
  ]
}