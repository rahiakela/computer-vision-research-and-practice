{
  "nbformat": 4,
  "nbformat_minor": 0,
  "metadata": {
    "colab": {
      "name": "1-convnet-design-for-cnn.ipynb",
      "provenance": [],
      "toc_visible": true,
      "authorship_tag": "ABX9TyORyf/EkBs5v8kRfR+7iNjd",
      "include_colab_link": true
    },
    "kernelspec": {
      "name": "python3",
      "display_name": "Python 3"
    },
    "language_info": {
      "name": "python"
    }
  },
  "cells": [
    {
      "cell_type": "markdown",
      "metadata": {
        "id": "view-in-github",
        "colab_type": "text"
      },
      "source": [
        "<a href=\"https://colab.research.google.com/github/rahiakela/computer-vision-research-and-practice/blob/main/deep-learning-patterns-and-practices/3-convolutional-and-residual-neural-networks/1_convnet_design_for_cnn.ipynb\" target=\"_parent\"><img src=\"https://colab.research.google.com/assets/colab-badge.svg\" alt=\"Open In Colab\"/></a>"
      ]
    },
    {
      "cell_type": "markdown",
      "metadata": {
        "id": "IlFMNBrQMx4o"
      },
      "source": [
        "##The ConvNet design for a CNN"
      ]
    },
    {
      "cell_type": "markdown",
      "metadata": {
        "id": "QclXMBouMyyh"
      },
      "source": [
        "To make our model not learn color (the noise), we will train it in grayscale mode.\n",
        "We will design the model to learn and predict, a process also referred to as inference, in\n",
        "grayscale. What we do want the model to learn are contours of the hand. We will\n",
        "design the model in two parts, the convolutional frontend and the DNN backend.\n",
        "\n",
        "<img src='https://github.com/rahiakela/computer-vision-research-and-practice/blob/main/deep-learning-patterns-and-practices/3-convolutional-and-residual-neural-networks/images/1.png?raw=1' width='800'/>\n",
        "\n",
        "The following code sample is written in the sequential API method and in long\n",
        "form; activation functions are specified using the corresponding method (instead of\n",
        "specifying them as a parameter when adding the corresponding layer)."
      ]
    },
    {
      "cell_type": "markdown",
      "metadata": {
        "id": "JLUeNQMoOZni"
      },
      "source": [
        "##Setup"
      ]
    },
    {
      "cell_type": "code",
      "metadata": {
        "id": "LW4XoIp4Oay8"
      },
      "source": [
        "from tensorflow.keras.models import Sequential\n",
        "from tensorflow.keras import Input, Model\n",
        "from tensorflow.keras.layers import Dense, ReLU, Activation\n",
        "from tensorflow.keras.layers import Conv2D, MaxPooling2D, Flatten"
      ],
      "execution_count": 1,
      "outputs": []
    },
    {
      "cell_type": "markdown",
      "metadata": {
        "id": "vokTefxkObFa"
      },
      "source": [
        "##Sequential API method"
      ]
    },
    {
      "cell_type": "code",
      "metadata": {
        "id": "_zlQqVlMOdmg",
        "outputId": "b1d23076-6519-4ada-c4ad-2891d8898ed2",
        "colab": {
          "base_uri": "https://localhost:8080/"
        }
      },
      "source": [
        "model = Sequential()\n",
        "model.add(Conv2D(16, kernel_size=(3, 3), strides=(2, 2), padding=\"same\", input_shape=(128, 128, 1)))\n",
        "model.add(ReLU())\n",
        "# The size the feature maps is reduced by pooling.\n",
        "model.add(MaxPooling2D(pool_size=(2, 2), strides=(2, 2)))\n",
        "# The 2D feature maps are flattened into a 1D vector before the output layer.\n",
        "model.add(Flatten())\n",
        "model.add(Dense(512))\n",
        "model.add(ReLU())\n",
        "model.add(Dense(26))\n",
        "model.add(Activation(\"softmax\"))\n",
        "\n",
        "model.compile(loss=\"categorical_crossentropy\", optimizer=\"adam\", metrics=[\"accuracy\"])\n",
        "model.summary()"
      ],
      "execution_count": 3,
      "outputs": [
        {
          "output_type": "stream",
          "name": "stdout",
          "text": [
            "Model: \"sequential_1\"\n",
            "_________________________________________________________________\n",
            "Layer (type)                 Output Shape              Param #   \n",
            "=================================================================\n",
            "conv2d (Conv2D)              (None, 64, 64, 16)        160       \n",
            "_________________________________________________________________\n",
            "re_lu (ReLU)                 (None, 64, 64, 16)        0         \n",
            "_________________________________________________________________\n",
            "max_pooling2d (MaxPooling2D) (None, 32, 32, 16)        0         \n",
            "_________________________________________________________________\n",
            "flatten (Flatten)            (None, 16384)             0         \n",
            "_________________________________________________________________\n",
            "dense (Dense)                (None, 512)               8389120   \n",
            "_________________________________________________________________\n",
            "re_lu_1 (ReLU)               (None, 512)               0         \n",
            "_________________________________________________________________\n",
            "dense_1 (Dense)              (None, 26)                13338     \n",
            "_________________________________________________________________\n",
            "activation (Activation)      (None, 26)                0         \n",
            "=================================================================\n",
            "Total params: 8,402,618\n",
            "Trainable params: 8,402,618\n",
            "Non-trainable params: 0\n",
            "_________________________________________________________________\n"
          ]
        }
      ]
    },
    {
      "cell_type": "markdown",
      "metadata": {
        "id": "MhaH6Kb0R87O"
      },
      "source": [
        "##The variation of the sequential method"
      ]
    },
    {
      "cell_type": "code",
      "metadata": {
        "id": "-aYs3NyTR_J_",
        "outputId": "bd91462d-fbd5-4872-9fb4-6a57fbbba553",
        "colab": {
          "base_uri": "https://localhost:8080/"
        }
      },
      "source": [
        "model = Sequential()\n",
        "model.add(Conv2D(16, kernel_size=(3, 3), strides=(2, 2), padding=\"same\", activation=\"relu\", input_shape=(128, 128, 1)))\n",
        "# The size the feature maps is reduced by pooling.\n",
        "model.add(MaxPooling2D(pool_size=(2, 2), strides=(2, 2)))\n",
        "# The 2D feature maps are flattened into a 1D vector before the output layer.\n",
        "model.add(Flatten())\n",
        "model.add(Dense(512, activation=\"relu\"))\n",
        "model.add(Dense(26, activation=\"softmax\"))\n",
        "\n",
        "model.compile(loss=\"categorical_crossentropy\", optimizer=\"adam\", metrics=[\"accuracy\"])\n",
        "model.summary()"
      ],
      "execution_count": 6,
      "outputs": [
        {
          "output_type": "stream",
          "name": "stdout",
          "text": [
            "Model: \"sequential_3\"\n",
            "_________________________________________________________________\n",
            "Layer (type)                 Output Shape              Param #   \n",
            "=================================================================\n",
            "conv2d_2 (Conv2D)            (None, 64, 64, 16)        160       \n",
            "_________________________________________________________________\n",
            "max_pooling2d_2 (MaxPooling2 (None, 32, 32, 16)        0         \n",
            "_________________________________________________________________\n",
            "flatten_2 (Flatten)          (None, 16384)             0         \n",
            "_________________________________________________________________\n",
            "dense_3 (Dense)              (None, 512)               8389120   \n",
            "_________________________________________________________________\n",
            "dense_4 (Dense)              (None, 26)                13338     \n",
            "=================================================================\n",
            "Total params: 8,402,618\n",
            "Trainable params: 8,402,618\n",
            "Non-trainable params: 0\n",
            "_________________________________________________________________\n"
          ]
        }
      ]
    },
    {
      "cell_type": "markdown",
      "metadata": {
        "id": "QTSIhzMNSfIF"
      },
      "source": [
        "##Functional API method"
      ]
    },
    {
      "cell_type": "markdown",
      "metadata": {
        "id": "IlcLLXeZSn7A"
      },
      "source": [
        "In this approach, we separately define each layer, starting with the input vector\n",
        "and proceeding to the output layer. \n",
        "\n",
        "At each layer, we use polymorphism to invoke the instantiated class (layer) object as a callable and pass in the object of the previous\n",
        "layer to connect it to."
      ]
    },
    {
      "cell_type": "code",
      "metadata": {
        "id": "16LOCZLrSiOo",
        "outputId": "2442bcf3-c39a-47ea-8990-ea5a5a6a3c16",
        "colab": {
          "base_uri": "https://localhost:8080/"
        }
      },
      "source": [
        "# The input vector for a convolutional layer requires specifying the number of channels.\n",
        "inputs = Input(shape=(128, 128, 1))\n",
        "# Constructs the convolutional layer\n",
        "layer = Conv2D(16, kernel_size=(3, 3), strides=(2, 2), padding=\"same\", activation=\"relu\", input_shape=(128, 128, 1))(inputs)\n",
        "# Reduces the size of feature maps by pooling\n",
        "layer= MaxPooling2D(pool_size=(2, 2), strides=(2, 2))(layer)\n",
        "# The 2D feature maps are flattened into a 1D vector before the output layer.\n",
        "layer = Flatten()(layer)\n",
        "layer = Dense(512, activation=\"relu\")(layer)\n",
        "outputs = Dense(26, activation=\"softmax\")(layer)\n",
        "\n",
        "model = Model(inputs, outputs)\n",
        "\n",
        "model.compile(loss=\"categorical_crossentropy\", optimizer=\"adam\", metrics=[\"accuracy\"])\n",
        "model.summary()"
      ],
      "execution_count": 7,
      "outputs": [
        {
          "output_type": "stream",
          "name": "stdout",
          "text": [
            "Model: \"model\"\n",
            "_________________________________________________________________\n",
            "Layer (type)                 Output Shape              Param #   \n",
            "=================================================================\n",
            "input_1 (InputLayer)         [(None, 128, 128, 1)]     0         \n",
            "_________________________________________________________________\n",
            "conv2d_3 (Conv2D)            (None, 64, 64, 16)        160       \n",
            "_________________________________________________________________\n",
            "max_pooling2d_3 (MaxPooling2 (None, 32, 32, 16)        0         \n",
            "_________________________________________________________________\n",
            "flatten_3 (Flatten)          (None, 16384)             0         \n",
            "_________________________________________________________________\n",
            "dense_5 (Dense)              (None, 512)               8389120   \n",
            "_________________________________________________________________\n",
            "dense_6 (Dense)              (None, 26)                13338     \n",
            "=================================================================\n",
            "Total params: 8,402,618\n",
            "Trainable params: 8,402,618\n",
            "Non-trainable params: 0\n",
            "_________________________________________________________________\n"
          ]
        }
      ]
    }
  ]
}