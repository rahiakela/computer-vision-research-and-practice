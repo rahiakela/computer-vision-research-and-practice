{
  "nbformat": 4,
  "nbformat_minor": 0,
  "metadata": {
    "colab": {
      "name": "2-vgg-networks.ipynb",
      "provenance": [],
      "toc_visible": true,
      "authorship_tag": "ABX9TyM1o/6IZ8VqSwMycQbS0OQH",
      "include_colab_link": true
    },
    "kernelspec": {
      "name": "python3",
      "display_name": "Python 3"
    },
    "language_info": {
      "name": "python"
    }
  },
  "cells": [
    {
      "cell_type": "markdown",
      "metadata": {
        "id": "view-in-github",
        "colab_type": "text"
      },
      "source": [
        "<a href=\"https://colab.research.google.com/github/rahiakela/computer-vision-research-and-practice/blob/main/deep-learning-patterns-and-practices/3-convolutional-and-residual-neural-networks/2_vgg_networks.ipynb\" target=\"_parent\"><img src=\"https://colab.research.google.com/assets/colab-badge.svg\" alt=\"Open In Colab\"/></a>"
      ]
    },
    {
      "cell_type": "markdown",
      "metadata": {
        "id": "IlFMNBrQMx4o"
      },
      "source": [
        "##VGG networks"
      ]
    },
    {
      "cell_type": "markdown",
      "metadata": {
        "id": "QclXMBouMyyh"
      },
      "source": [
        "While AlexNet (and its corresponding ConvNet design pattern) is considered the\n",
        "granddaddy of convolutional networks, the VGGNet (and its corresponding VGG\n",
        "design pattern) is considered the father of formalizing a design pattern based on\n",
        "groups of convolutions. Like its AlexNet predecessors, it continued to view the convolutional\n",
        "layers as a frontend, and to retain a large DNN backend for the classification\n",
        "task. The fundamental principles behind the VGG design pattern are as follows:\n",
        "- Grouping multiple convolutions into blocks, with the same number of filters\n",
        "- Progressively doubling the number of filters across blocks\n",
        "- Delaying pooling to the end of a block\n",
        "\n",
        "It is designed using a handful of principles that are easy to learn. The convolutional\n",
        "frontend consists of a sequence of pairs (and later triples) of convolutions of\n",
        "the same size, followed by a max pooling. The max pooling layer downsamples the\n",
        "generated feature maps by 75%, and the next pair (or triple) of convolutional layers\n",
        "then doubles the number of learned filters. The principle behind the convolution\n",
        "design was that the early layers learn coarse features, and subsequent layers, by\n",
        "increasing the filters, learn finer and finer features, and the max pooling is used\n",
        "between the layers to minimize growth in size (and subsequently parameters to learn)\n",
        "of the feature maps.\n",
        "\n",
        "Finally, the DNN backend consists of two identically-sized dense\n",
        "hidden layers of 4096 nodes each, and a final dense output layer of 1000 nodes for classification.\n",
        "\n",
        "<img src='images/2.png?raw=1' width='800'/>\n",
        "\n",
        "As they have been frequently used in transfer learning,\n",
        "others have kept the convolutional frontend of an ImageNet pretrained VGG16 or\n",
        "VGG19, and corresponding weights, and attached a new DNN backend for retraining\n",
        "for new classes of images.\n",
        "\n",
        "<img src='images/3.png?raw=1' width='800'/>\n",
        "\n",
        "So, let’s go ahead and code a VGG16 in two coding styles: the first in a sequential flow,\n",
        "and the second procedurally using reuse functions for duplicating the common blocks\n",
        "of layers, and parameters for their specific settings."
      ]
    },
    {
      "cell_type": "markdown",
      "metadata": {
        "id": "JLUeNQMoOZni"
      },
      "source": [
        "##Setup"
      ]
    },
    {
      "cell_type": "code",
      "metadata": {
        "id": "LW4XoIp4Oay8"
      },
      "source": [
        "from tensorflow.keras.models import Sequential\n",
        "from tensorflow.keras import Input, Model\n",
        "from tensorflow.keras.layers import Dense, ReLU, Activation\n",
        "from tensorflow.keras.layers import Conv2D, MaxPooling2D, Flatten"
      ],
      "execution_count": 1,
      "outputs": []
    },
    {
      "cell_type": "markdown",
      "metadata": {
        "id": "vokTefxkObFa"
      },
      "source": [
        "##VGG using sequential flow style"
      ]
    },
    {
      "cell_type": "code",
      "metadata": {
        "id": "_zlQqVlMOdmg",
        "colab": {
          "base_uri": "https://localhost:8080/"
        },
        "outputId": "4c66e4bd-0786-49d0-c5bd-cdc56c767171"
      },
      "source": [
        "model = Sequential()\n",
        "\n",
        "# First convolutional block\n",
        "model.add(Conv2D(64, kernel_size=(3, 3), strides=(1, 1), padding=\"same\", activation=\"relu\", input_shape=(224, 224, 3)))\n",
        "model.add(Conv2D(64, kernel_size=(3, 3), strides=(1, 1), padding=\"same\", activation=\"relu\"))\n",
        "model.add(MaxPooling2D(pool_size=(2, 2), strides=(2, 2)))\n",
        "\n",
        "# Second convolutional block—double the number of filters\n",
        "model.add(Conv2D(128, kernel_size=(3, 3), strides=(1, 1), padding=\"same\", activation=\"relu\"))\n",
        "model.add(Conv2D(128, kernel_size=(3, 3), strides=(1, 1), padding=\"same\", activation=\"relu\"))\n",
        "model.add(MaxPooling2D(pool_size=(2, 2), strides=(2, 2)))\n",
        "\n",
        "# Third convolutional block—double the number of filters\n",
        "model.add(Conv2D(256, kernel_size=(3, 3), strides=(1, 1), padding=\"same\", activation=\"relu\"))\n",
        "model.add(Conv2D(256, kernel_size=(3, 3), strides=(1, 1), padding=\"same\", activation=\"relu\"))\n",
        "model.add(Conv2D(256, kernel_size=(3, 3), strides=(1, 1), padding=\"same\", activation=\"relu\"))\n",
        "model.add(MaxPooling2D(pool_size=(2, 2), strides=(2, 2)))\n",
        "\n",
        "# Fourth convolutional block—double the number of filters\n",
        "model.add(Conv2D(512, kernel_size=(3, 3), strides=(1, 1), padding=\"same\", activation=\"relu\"))\n",
        "model.add(Conv2D(512, kernel_size=(3, 3), strides=(1, 1), padding=\"same\", activation=\"relu\"))\n",
        "model.add(Conv2D(512, kernel_size=(3, 3), strides=(1, 1), padding=\"same\", activation=\"relu\"))\n",
        "model.add(MaxPooling2D(pool_size=(2, 2), strides=(2, 2)))\n",
        "\n",
        "# Fifth (final) convolutional block—double the number of filters\n",
        "model.add(Conv2D(512, kernel_size=(3, 3), strides=(1, 1), padding=\"same\", activation=\"relu\"))\n",
        "model.add(Conv2D(512, kernel_size=(3, 3), strides=(1, 1), padding=\"same\", activation=\"relu\"))\n",
        "model.add(Conv2D(512, kernel_size=(3, 3), strides=(1, 1), padding=\"same\", activation=\"relu\"))\n",
        "model.add(MaxPooling2D(pool_size=(2, 2), strides=(2, 2)))\n",
        "\n",
        "# DNN backend\n",
        "model.add(Flatten())\n",
        "model.add(Dense(4096, activation=\"relu\"))\n",
        "model.add(Dense(4096, activation=\"relu\"))\n",
        "\n",
        "# Output layer for classification (1000 classes)\n",
        "model.add(Dense(1000, activation=\"softmax\"))\n",
        "\n",
        "model.compile(loss=\"categorical_crossentropy\", optimizer=\"adam\", metrics=[\"accuracy\"])\n",
        "model.summary()"
      ],
      "execution_count": 6,
      "outputs": [
        {
          "output_type": "stream",
          "name": "stdout",
          "text": [
            "Model: \"sequential_3\"\n",
            "_________________________________________________________________\n",
            "Layer (type)                 Output Shape              Param #   \n",
            "=================================================================\n",
            "conv2d_36 (Conv2D)           (None, 224, 224, 64)      1792      \n",
            "_________________________________________________________________\n",
            "conv2d_37 (Conv2D)           (None, 224, 224, 64)      36928     \n",
            "_________________________________________________________________\n",
            "max_pooling2d_15 (MaxPooling (None, 112, 112, 64)      0         \n",
            "_________________________________________________________________\n",
            "conv2d_38 (Conv2D)           (None, 112, 112, 128)     73856     \n",
            "_________________________________________________________________\n",
            "conv2d_39 (Conv2D)           (None, 112, 112, 128)     147584    \n",
            "_________________________________________________________________\n",
            "max_pooling2d_16 (MaxPooling (None, 56, 56, 128)       0         \n",
            "_________________________________________________________________\n",
            "conv2d_40 (Conv2D)           (None, 56, 56, 256)       295168    \n",
            "_________________________________________________________________\n",
            "conv2d_41 (Conv2D)           (None, 56, 56, 256)       590080    \n",
            "_________________________________________________________________\n",
            "conv2d_42 (Conv2D)           (None, 56, 56, 256)       590080    \n",
            "_________________________________________________________________\n",
            "max_pooling2d_17 (MaxPooling (None, 28, 28, 256)       0         \n",
            "_________________________________________________________________\n",
            "conv2d_43 (Conv2D)           (None, 28, 28, 512)       1180160   \n",
            "_________________________________________________________________\n",
            "conv2d_44 (Conv2D)           (None, 28, 28, 512)       2359808   \n",
            "_________________________________________________________________\n",
            "conv2d_45 (Conv2D)           (None, 28, 28, 512)       2359808   \n",
            "_________________________________________________________________\n",
            "max_pooling2d_18 (MaxPooling (None, 14, 14, 512)       0         \n",
            "_________________________________________________________________\n",
            "conv2d_46 (Conv2D)           (None, 14, 14, 512)       2359808   \n",
            "_________________________________________________________________\n",
            "conv2d_47 (Conv2D)           (None, 14, 14, 512)       2359808   \n",
            "_________________________________________________________________\n",
            "conv2d_48 (Conv2D)           (None, 14, 14, 512)       2359808   \n",
            "_________________________________________________________________\n",
            "max_pooling2d_19 (MaxPooling (None, 7, 7, 512)         0         \n",
            "_________________________________________________________________\n",
            "flatten_3 (Flatten)          (None, 25088)             0         \n",
            "_________________________________________________________________\n",
            "dense_9 (Dense)              (None, 4096)              102764544 \n",
            "_________________________________________________________________\n",
            "dense_10 (Dense)             (None, 4096)              16781312  \n",
            "_________________________________________________________________\n",
            "dense_11 (Dense)             (None, 1000)              4097000   \n",
            "=================================================================\n",
            "Total params: 138,357,544\n",
            "Trainable params: 138,357,544\n",
            "Non-trainable params: 0\n",
            "_________________________________________________________________\n"
          ]
        }
      ]
    },
    {
      "cell_type": "markdown",
      "metadata": {
        "id": "MhaH6Kb0R87O"
      },
      "source": [
        "##VGG using procedural style"
      ]
    },
    {
      "cell_type": "markdown",
      "metadata": {
        "id": "GM-QS5pC-cDw"
      },
      "source": [
        "Let’s now code the same using a procedural reuse\n",
        "style. In this example, we create a procedure (function) conv_block(), which builds\n",
        "the convolutional blocks and takes as parameters the number of layers in the block (2 or 3), and number of filters (64, 128, 256, or 512). \n",
        "\n",
        "Note that we keep the first convolutional\n",
        "layer outside conv_block. The first layer needs the input_shape parameter. We\n",
        "could have coded this as a flag to conv_block, but since it would occur only one time,\n",
        "that’s not reuse."
      ]
    },
    {
      "cell_type": "code",
      "metadata": {
        "id": "-aYs3NyTR_J_",
        "colab": {
          "base_uri": "https://localhost:8080/"
        },
        "outputId": "363a5dd7-4440-4216-8521-b65db8f4d355"
      },
      "source": [
        "def conv_block(n_layers, n_filters):\n",
        "  \"\"\"\n",
        "  n_layers : number of convolutional layers\n",
        "  n_filters: number of filters\n",
        "  \"\"\"\n",
        "  for n in range(n_layers):\n",
        "    model.add(Conv2D(n_filters, kernel_size=(3, 3), strides=(1, 1), padding=\"same\", activation=\"relu\"))\n",
        "  model.add(MaxPooling2D(pool_size=(2, 2), strides=(2, 2)))\n",
        "\n",
        "model = Sequential()\n",
        "\n",
        "# First convolutional specified separately since it requires the input_shape parameter\n",
        "model.add(Conv2D(64, kernel_size=(3, 3), strides=(1, 1), padding=\"same\", activation=\"relu\", input_shape=(224, 224, 3)))\n",
        "\n",
        "# Remainder of first convolutional block\n",
        "conv_block(1, 64)\n",
        "# Second through fifth convolutional blocks\n",
        "conv_block(2, 128)\n",
        "conv_block(3, 256)\n",
        "conv_block(3, 512)\n",
        "conv_block(3, 512)\n",
        "\n",
        "# DNN backend\n",
        "model.add(Flatten())\n",
        "model.add(Dense(4096, activation=\"relu\"))\n",
        "model.add(Dense(4096, activation=\"relu\"))\n",
        "\n",
        "# Output layer for classification (1000 classes)\n",
        "model.add(Dense(1000, activation=\"softmax\"))\n",
        "\n",
        "model.compile(loss=\"categorical_crossentropy\", optimizer=\"adam\", metrics=[\"accuracy\"])\n",
        "model.summary()"
      ],
      "execution_count": 5,
      "outputs": [
        {
          "output_type": "stream",
          "name": "stdout",
          "text": [
            "Model: \"sequential_2\"\n",
            "_________________________________________________________________\n",
            "Layer (type)                 Output Shape              Param #   \n",
            "=================================================================\n",
            "conv2d_23 (Conv2D)           (None, 224, 224, 64)      1792      \n",
            "_________________________________________________________________\n",
            "conv2d_24 (Conv2D)           (None, 224, 224, 64)      36928     \n",
            "_________________________________________________________________\n",
            "max_pooling2d_10 (MaxPooling (None, 112, 112, 64)      0         \n",
            "_________________________________________________________________\n",
            "conv2d_25 (Conv2D)           (None, 112, 112, 128)     73856     \n",
            "_________________________________________________________________\n",
            "conv2d_26 (Conv2D)           (None, 112, 112, 128)     147584    \n",
            "_________________________________________________________________\n",
            "max_pooling2d_11 (MaxPooling (None, 56, 56, 128)       0         \n",
            "_________________________________________________________________\n",
            "conv2d_27 (Conv2D)           (None, 56, 56, 256)       295168    \n",
            "_________________________________________________________________\n",
            "conv2d_28 (Conv2D)           (None, 56, 56, 256)       590080    \n",
            "_________________________________________________________________\n",
            "conv2d_29 (Conv2D)           (None, 56, 56, 256)       590080    \n",
            "_________________________________________________________________\n",
            "max_pooling2d_12 (MaxPooling (None, 28, 28, 256)       0         \n",
            "_________________________________________________________________\n",
            "conv2d_30 (Conv2D)           (None, 28, 28, 512)       1180160   \n",
            "_________________________________________________________________\n",
            "conv2d_31 (Conv2D)           (None, 28, 28, 512)       2359808   \n",
            "_________________________________________________________________\n",
            "conv2d_32 (Conv2D)           (None, 28, 28, 512)       2359808   \n",
            "_________________________________________________________________\n",
            "max_pooling2d_13 (MaxPooling (None, 14, 14, 512)       0         \n",
            "_________________________________________________________________\n",
            "conv2d_33 (Conv2D)           (None, 14, 14, 512)       2359808   \n",
            "_________________________________________________________________\n",
            "conv2d_34 (Conv2D)           (None, 14, 14, 512)       2359808   \n",
            "_________________________________________________________________\n",
            "conv2d_35 (Conv2D)           (None, 14, 14, 512)       2359808   \n",
            "_________________________________________________________________\n",
            "max_pooling2d_14 (MaxPooling (None, 7, 7, 512)         0         \n",
            "_________________________________________________________________\n",
            "flatten_2 (Flatten)          (None, 25088)             0         \n",
            "_________________________________________________________________\n",
            "dense_6 (Dense)              (None, 4096)              102764544 \n",
            "_________________________________________________________________\n",
            "dense_7 (Dense)              (None, 4096)              16781312  \n",
            "_________________________________________________________________\n",
            "dense_8 (Dense)              (None, 1000)              4097000   \n",
            "=================================================================\n",
            "Total params: 138,357,544\n",
            "Trainable params: 138,357,544\n",
            "Non-trainable params: 0\n",
            "_________________________________________________________________\n"
          ]
        }
      ]
    }
  ]
}