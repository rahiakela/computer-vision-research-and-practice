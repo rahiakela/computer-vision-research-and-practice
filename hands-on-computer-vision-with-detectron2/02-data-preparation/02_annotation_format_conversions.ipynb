{
  "nbformat": 4,
  "nbformat_minor": 0,
  "metadata": {
    "colab": {
      "provenance": [],
      "toc_visible": true,
      "authorship_tag": "ABX9TyP1nagmRDNwp9HuzcvMDLko",
      "include_colab_link": true
    },
    "kernelspec": {
      "name": "python3",
      "display_name": "Python 3"
    },
    "language_info": {
      "name": "python"
    }
  },
  "cells": [
    {
      "cell_type": "markdown",
      "metadata": {
        "id": "view-in-github",
        "colab_type": "text"
      },
      "source": [
        "<a href=\"https://colab.research.google.com/github/rahiakela/computer-vision-research-and-practice/blob/main/hands-on-computer-vision-with-detectron2/02-data-preparation/02_annotation_format_conversions.ipynb\" target=\"_parent\"><img src=\"https://colab.research.google.com/assets/colab-badge.svg\" alt=\"Open In Colab\"/></a>"
      ]
    },
    {
      "cell_type": "markdown",
      "source": [
        "##Annotation format conversions"
      ],
      "metadata": {
        "id": "ErF4cxikBD37"
      }
    },
    {
      "cell_type": "code",
      "source": [
        "!pip install pylabel"
      ],
      "metadata": {
        "id": "22sSHO30BM1W"
      },
      "execution_count": null,
      "outputs": []
    },
    {
      "cell_type": "code",
      "source": [
        "# Download the dataset and unzip it\n",
        "!wget https://github.com/PacktPublishing/Hands-On-Computer-Vision-with-Detectron2/raw/main/datasets/yolo.zip\n",
        "!unzip yolo.zip"
      ],
      "metadata": {
        "id": "Ub_QfdObarmj"
      },
      "execution_count": null,
      "outputs": []
    },
    {
      "cell_type": "code",
      "source": [
        "!sudo apt-get install tree"
      ],
      "metadata": {
        "id": "2SOQM_mla4od"
      },
      "execution_count": null,
      "outputs": []
    },
    {
      "cell_type": "code",
      "source": [
        "!tree yolo"
      ],
      "metadata": {
        "colab": {
          "base_uri": "https://localhost:8080/"
        },
        "id": "xpbBMx3xa8M-",
        "outputId": "fc66cc82-626b-4a3a-f68d-92575eec8dbe"
      },
      "execution_count": 4,
      "outputs": [
        {
          "output_type": "stream",
          "name": "stdout",
          "text": [
            "\u001b[01;34myolo\u001b[0m\n",
            "├── \u001b[00mclasses.txt\u001b[0m\n",
            "├── \u001b[01;34mimages\u001b[0m\n",
            "│   └── \u001b[01;34mtest\u001b[0m\n",
            "│       ├── \u001b[01;35m00000_102.jpg\u001b[0m\n",
            "│       └── \u001b[01;35m00003_154.jpg\u001b[0m\n",
            "└── \u001b[01;34mlabels\u001b[0m\n",
            "    └── \u001b[01;34mtest\u001b[0m\n",
            "        ├── \u001b[00m00000_102.txt\u001b[0m\n",
            "        └── \u001b[00m00003_154.txt\u001b[0m\n",
            "\n",
            "4 directories, 5 files\n"
          ]
        }
      ]
    },
    {
      "cell_type": "code",
      "source": [
        "import os\n",
        "import shutil\n",
        "from glob import glob\n",
        "from tqdm import tqdm\n",
        "\n",
        "from pylabel import importer"
      ],
      "metadata": {
        "id": "mrTd8BAGBXCt"
      },
      "execution_count": 5,
      "outputs": []
    },
    {
      "cell_type": "markdown",
      "source": [
        "##Converting YOLO to COCO datasets"
      ],
      "metadata": {
        "id": "vxEOKuPdbmU_"
      }
    },
    {
      "cell_type": "code",
      "source": [
        "annotations_path = \"yolo/labels/test\"\n",
        "images_path = \"yolo/images/test\"\n",
        "coco_dir = \"coco/test\"\n",
        "os.makedirs(coco_dir, exist_ok=True)"
      ],
      "metadata": {
        "id": "Vmq4LaKFBb99"
      },
      "execution_count": 6,
      "outputs": []
    },
    {
      "cell_type": "code",
      "source": [
        "txt_files = glob(os.path.join(annotations_path, \"*.txt\"))\n",
        "img_files = glob(os.path.join(images_path, \"*.jpg\"))\n",
        "\n",
        "# copy annotations\n",
        "for f in tqdm(txt_files):\n",
        "  shutil.copy(f, coco_dir)\n",
        "\n",
        "# copy images\n",
        "for f in tqdm(img_files):\n",
        "  shutil.copy(f, coco_dir)"
      ],
      "metadata": {
        "colab": {
          "base_uri": "https://localhost:8080/"
        },
        "id": "xzXT0HxlCS16",
        "outputId": "4bd5cb34-5cf4-4655-dda2-fb9b4cf3bc39"
      },
      "execution_count": 7,
      "outputs": [
        {
          "output_type": "stream",
          "name": "stderr",
          "text": [
            "100%|██████████| 2/2 [00:00<00:00, 1508.47it/s]\n",
            "100%|██████████| 2/2 [00:00<00:00, 2347.78it/s]\n"
          ]
        }
      ]
    },
    {
      "cell_type": "code",
      "source": [
        "# reads the classes from the YOLO dataset\n",
        "with open(\"yolo/classes.txt\", \"r\") as f:\n",
        "  classes = f.read().split(\"\\n\")\n",
        "\n",
        "# load dataset\n",
        "dataset = importer.ImportYoloV5(path=coco_dir, cat_names=classes, name=\"brain tumors\")"
      ],
      "metadata": {
        "colab": {
          "base_uri": "https://localhost:8080/"
        },
        "id": "agQ3kjRTCZb-",
        "outputId": "1d94a4a6-b7d7-4d6a-e3a4-11439c79a766"
      },
      "execution_count": 8,
      "outputs": [
        {
          "output_type": "stream",
          "name": "stderr",
          "text": [
            "Importing YOLO files...: 100%|██████████| 4/4 [00:00<00:00, 96.28it/s]\n"
          ]
        }
      ]
    },
    {
      "cell_type": "code",
      "source": [
        "# exports the dataset to COCO format\n",
        "coco_file = os.path.join(coco_dir, \"_annotations.coco.json\")\n",
        "# Detectron requires the label index to start with index 1\n",
        "dataset.export.ExportToCoco(coco_file, cat_id_index=1)"
      ],
      "metadata": {
        "colab": {
          "base_uri": "https://localhost:8080/"
        },
        "id": "7jVuukNaCw7P",
        "outputId": "978a7d29-56e5-4cae-f16a-d03321d1429c"
      },
      "execution_count": 9,
      "outputs": [
        {
          "output_type": "stream",
          "name": "stderr",
          "text": [
            "Exporting to COCO file...: 100%|██████████| 2/2 [00:00<00:00, 68.54it/s]\n"
          ]
        },
        {
          "output_type": "execute_result",
          "data": {
            "text/plain": [
              "['coco/test/_annotations.coco.json']"
            ]
          },
          "metadata": {},
          "execution_count": 9
        }
      ]
    },
    {
      "cell_type": "code",
      "source": [
        "# now delete yolo annotations in coco set\n",
        "for f in txt_files:\n",
        "  os.remove(f.replace(annotations_path, coco_dir))"
      ],
      "metadata": {
        "id": "II49Bokf3E35"
      },
      "execution_count": 10,
      "outputs": []
    },
    {
      "cell_type": "markdown",
      "source": [
        "Now, the conversion is completed."
      ],
      "metadata": {
        "id": "HzoK6Jbe3aWO"
      }
    },
    {
      "cell_type": "code",
      "source": [
        "!tree coco"
      ],
      "metadata": {
        "id": "rB0A1hkO3UYA",
        "outputId": "db132779-ef8b-462a-df7f-22b14aeca9e2",
        "colab": {
          "base_uri": "https://localhost:8080/"
        }
      },
      "execution_count": 11,
      "outputs": [
        {
          "output_type": "stream",
          "name": "stdout",
          "text": [
            "\u001b[01;34mcoco\u001b[0m\n",
            "└── \u001b[01;34mtest\u001b[0m\n",
            "    ├── \u001b[01;35m00000_102.jpg\u001b[0m\n",
            "    ├── \u001b[01;35m00003_154.jpg\u001b[0m\n",
            "    └── \u001b[00m_annotations.coco.json\u001b[0m\n",
            "\n",
            "1 directory, 3 files\n"
          ]
        }
      ]
    },
    {
      "cell_type": "markdown",
      "source": [
        "##Converting Pascal VOC to COCO datasets"
      ],
      "metadata": {
        "id": "zD5qIR3U3lJv"
      }
    },
    {
      "cell_type": "code",
      "source": [],
      "metadata": {
        "id": "FkuZ0AlI3nOM"
      },
      "execution_count": null,
      "outputs": []
    }
  ]
}