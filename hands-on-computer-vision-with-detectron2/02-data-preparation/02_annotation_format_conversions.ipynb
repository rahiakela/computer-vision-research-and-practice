{
  "nbformat": 4,
  "nbformat_minor": 0,
  "metadata": {
    "colab": {
      "provenance": [],
      "toc_visible": true,
      "authorship_tag": "ABX9TyOzV3mlV0bWduA+V9cwa9oK",
      "include_colab_link": true
    },
    "kernelspec": {
      "name": "python3",
      "display_name": "Python 3"
    },
    "language_info": {
      "name": "python"
    }
  },
  "cells": [
    {
      "cell_type": "markdown",
      "metadata": {
        "id": "view-in-github",
        "colab_type": "text"
      },
      "source": [
        "<a href=\"https://colab.research.google.com/github/rahiakela/computer-vision-research-and-practice/blob/main/hands-on-computer-vision-with-detectron2/02-data-preparation/02_annotation_format_conversions.ipynb\" target=\"_parent\"><img src=\"https://colab.research.google.com/assets/colab-badge.svg\" alt=\"Open In Colab\"/></a>"
      ]
    },
    {
      "cell_type": "markdown",
      "source": [
        "##Annotation format conversions"
      ],
      "metadata": {
        "id": "ErF4cxikBD37"
      }
    },
    {
      "cell_type": "code",
      "source": [
        "!pip install pylabel"
      ],
      "metadata": {
        "id": "22sSHO30BM1W"
      },
      "execution_count": null,
      "outputs": []
    },
    {
      "cell_type": "code",
      "source": [
        "# Download the dataset and unzip it\n",
        "!wget https://github.com/PacktPublishing/Hands-On-Computer-Vision-with-Detectron2/raw/main/datasets/yolo.zip\n",
        "!unzip yolo.zip"
      ],
      "metadata": {
        "id": "Ub_QfdObarmj"
      },
      "execution_count": null,
      "outputs": []
    },
    {
      "cell_type": "code",
      "source": [
        "!sudo apt-get install tree"
      ],
      "metadata": {
        "id": "2SOQM_mla4od"
      },
      "execution_count": null,
      "outputs": []
    },
    {
      "cell_type": "code",
      "source": [
        "!tree yolo"
      ],
      "metadata": {
        "colab": {
          "base_uri": "https://localhost:8080/"
        },
        "id": "xpbBMx3xa8M-",
        "outputId": "2dd7c291-79f4-4a75-f4a6-82e55339e8e1"
      },
      "execution_count": 4,
      "outputs": [
        {
          "output_type": "stream",
          "name": "stdout",
          "text": [
            "\u001b[01;34myolo\u001b[0m\n",
            "├── \u001b[00mclasses.txt\u001b[0m\n",
            "├── \u001b[01;34mimages\u001b[0m\n",
            "│   └── \u001b[01;34mtest\u001b[0m\n",
            "│       ├── \u001b[01;35m00000_102.jpg\u001b[0m\n",
            "│       └── \u001b[01;35m00003_154.jpg\u001b[0m\n",
            "└── \u001b[01;34mlabels\u001b[0m\n",
            "    └── \u001b[01;34mtest\u001b[0m\n",
            "        ├── \u001b[00m00000_102.txt\u001b[0m\n",
            "        └── \u001b[00m00003_154.txt\u001b[0m\n",
            "\n",
            "4 directories, 5 files\n"
          ]
        }
      ]
    },
    {
      "cell_type": "code",
      "source": [
        "import os\n",
        "import shutil\n",
        "from glob import glob\n",
        "from tqdm import tqdm\n",
        "\n",
        "from pylabel import importer"
      ],
      "metadata": {
        "id": "mrTd8BAGBXCt"
      },
      "execution_count": null,
      "outputs": []
    },
    {
      "cell_type": "markdown",
      "source": [
        "##Converting YOLO to COCO datasets"
      ],
      "metadata": {
        "id": "vxEOKuPdbmU_"
      }
    },
    {
      "cell_type": "code",
      "source": [
        "def _download(keyword, limit):\n",
        "  downloader = Downloader()\n",
        "  # download images\n",
        "  downloader.download(keywords=keyword, limit=limit)\n",
        "  # return the urls\n",
        "  urls = downloader.urls(keywords=keyword, limit=limit)\n",
        "  return urls\n",
        "\n",
        "def download(keywords, limit):\n",
        "  for keyword in tqdm(keywords):\n",
        "    urls = _download(keyword=keyword, limit=limit)\n",
        "    with open(f\"simple_images/{keyword}.txt\", \"w\") as f:\n",
        "      f.writelines(\"\\n\".join(urls))"
      ],
      "metadata": {
        "id": "Vmq4LaKFBb99"
      },
      "execution_count": null,
      "outputs": []
    },
    {
      "cell_type": "code",
      "source": [
        "download(keywords=[\"brain tumors x-ray\", \"heart tumors x-ray\"], limit=10)"
      ],
      "metadata": {
        "colab": {
          "base_uri": "https://localhost:8080/"
        },
        "id": "xzXT0HxlCS16",
        "outputId": "4a89fb1d-9568-42fd-d5cf-c7d043251713"
      },
      "execution_count": null,
      "outputs": [
        {
          "output_type": "stream",
          "name": "stderr",
          "text": [
            "100%|██████████| 2/2 [00:08<00:00,  4.25s/it]\n"
          ]
        }
      ]
    },
    {
      "cell_type": "code",
      "source": [
        "!cat \"simple_images/brain tumors x-ray.txt\""
      ],
      "metadata": {
        "colab": {
          "base_uri": "https://localhost:8080/"
        },
        "id": "agQ3kjRTCZb-",
        "outputId": "1589ab4b-240b-44aa-fad2-80aa3380772d"
      },
      "execution_count": null,
      "outputs": [
        {
          "output_type": "stream",
          "name": "stdout",
          "text": [
            "https://www.google.com/logos/doodles/2023/celebrating-pani-puri-6753651837110029-s.png\n",
            "https://www.gstatic.com/ui/v1/menu/light_thumbnail2.png\n",
            "https://www.gstatic.com/ui/v1/menu/dark_thumbnail2.png\n",
            "https://www.gstatic.com/ui/v1/menu/device_default_thumbnail2.png\n",
            "https://www.drugs.com/health-guide/images/3c7b18a8-c266-455c-b552-dd660d9fac50.jpg\n",
            "https://prod-images-static.radiopaedia.org/multiple_choice_questions/916/d8098866119d81f9e87d2f27b286f9_big_gallery_big_gallery.jpeg\n",
            "https://prod-images-static.radiopaedia.org/images/23495/010d7bf1d42726dc87e5bfea5a4bdb_thumb.jpeg\n",
            "https://upload.wikimedia.org/wikipedia/commons/thumb/5/5f/Hirnmetastase_MRT-T1_KM.jpg/300px-Hirnmetastase_MRT-T1_KM.jpg\n",
            "https://www.xraymedicalgroup.com/images/brain-tumors.jpg\n",
            "https://www.chistvincent.com/images/default-source/blog-images/brain-tumor-xray.jpg?sfvrsn"
          ]
        }
      ]
    },
    {
      "cell_type": "code",
      "source": [
        "!cat \"simple_images/heart tumors x-ray.txt\""
      ],
      "metadata": {
        "colab": {
          "base_uri": "https://localhost:8080/"
        },
        "id": "7jVuukNaCw7P",
        "outputId": "3cb14f61-1d20-4d94-d170-3a56b76f4daa"
      },
      "execution_count": null,
      "outputs": [
        {
          "output_type": "stream",
          "name": "stdout",
          "text": [
            "https://www.google.com/logos/doodles/2023/celebrating-pani-puri-6753651837110029-s.png\n",
            "https://www.gstatic.com/ui/v1/menu/light_thumbnail2.png\n",
            "https://www.gstatic.com/ui/v1/menu/dark_thumbnail2.png\n",
            "https://www.gstatic.com/ui/v1/menu/device_default_thumbnail2.png\n",
            "https://img.medscapestatic.com/pi/meds/ckb/33/16033tn.jpg\n",
            "https://www.acc.org/-/media/Non-Clinical/Images/Education-and-Meetings/Patient-Case-Quizes/2017/10/24Oct_Kenigsberg_Fig1.png?la\n",
            "https://www.researchgate.net/publication/6245885/figure/fig1/AS:601697671983106@1520467312079/Chest-X-ray-demonstrates-a-smooth-surfaced-welldemarcated-mass-overlapping-the-heart.png\n",
            "https://pubs.rsna.org/cms/10.1148/rg.344135163/asset/images/medium/rg.344135163.fig12a.gif\n",
            "https://radiologykey.com/wp-content/uploads/2015/12/B9781416053354000691_f5.jpg\n",
            "https://prod-images-static.radiopaedia.org/images/23283362/128cf744543eccd9b0cf7639540625_jumbo.jpeg"
          ]
        }
      ]
    }
  ]
}