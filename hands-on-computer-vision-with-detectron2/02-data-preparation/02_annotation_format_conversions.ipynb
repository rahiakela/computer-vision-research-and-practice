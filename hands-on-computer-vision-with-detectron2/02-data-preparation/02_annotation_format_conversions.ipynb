{
  "nbformat": 4,
  "nbformat_minor": 0,
  "metadata": {
    "colab": {
      "provenance": [],
      "toc_visible": true,
      "authorship_tag": "ABX9TyPhGgdBXlXu+Z+iAnVPwuSF",
      "include_colab_link": true
    },
    "kernelspec": {
      "name": "python3",
      "display_name": "Python 3"
    },
    "language_info": {
      "name": "python"
    }
  },
  "cells": [
    {
      "cell_type": "markdown",
      "metadata": {
        "id": "view-in-github",
        "colab_type": "text"
      },
      "source": [
        "<a href=\"https://colab.research.google.com/github/rahiakela/computer-vision-research-and-practice/blob/main/hands-on-computer-vision-with-detectron2/02-data-preparation/02_annotation_format_conversions.ipynb\" target=\"_parent\"><img src=\"https://colab.research.google.com/assets/colab-badge.svg\" alt=\"Open In Colab\"/></a>"
      ]
    },
    {
      "cell_type": "markdown",
      "source": [
        "##Annotation format conversions"
      ],
      "metadata": {
        "id": "ErF4cxikBD37"
      }
    },
    {
      "cell_type": "code",
      "source": [
        "!pip install pylabel"
      ],
      "metadata": {
        "id": "22sSHO30BM1W"
      },
      "execution_count": null,
      "outputs": []
    },
    {
      "cell_type": "code",
      "source": [
        "# Download the dataset and unzip it\n",
        "!wget https://github.com/PacktPublishing/Hands-On-Computer-Vision-with-Detectron2/raw/main/datasets/yolo.zip\n",
        "!unzip yolo.zip"
      ],
      "metadata": {
        "id": "Ub_QfdObarmj"
      },
      "execution_count": null,
      "outputs": []
    },
    {
      "cell_type": "code",
      "source": [
        "!sudo apt-get install tree"
      ],
      "metadata": {
        "id": "2SOQM_mla4od"
      },
      "execution_count": null,
      "outputs": []
    },
    {
      "cell_type": "code",
      "source": [
        "!tree yolo"
      ],
      "metadata": {
        "colab": {
          "base_uri": "https://localhost:8080/"
        },
        "id": "xpbBMx3xa8M-",
        "outputId": "42a43060-38b4-4cde-8e84-a833dccea12e"
      },
      "execution_count": 4,
      "outputs": [
        {
          "output_type": "stream",
          "name": "stdout",
          "text": [
            "\u001b[01;34myolo\u001b[0m\n",
            "├── \u001b[00mclasses.txt\u001b[0m\n",
            "├── \u001b[01;34mimages\u001b[0m\n",
            "│   └── \u001b[01;34mtest\u001b[0m\n",
            "│       ├── \u001b[01;35m00000_102.jpg\u001b[0m\n",
            "│       └── \u001b[01;35m00003_154.jpg\u001b[0m\n",
            "└── \u001b[01;34mlabels\u001b[0m\n",
            "    └── \u001b[01;34mtest\u001b[0m\n",
            "        ├── \u001b[00m00000_102.txt\u001b[0m\n",
            "        └── \u001b[00m00003_154.txt\u001b[0m\n",
            "\n",
            "4 directories, 5 files\n"
          ]
        }
      ]
    },
    {
      "cell_type": "code",
      "source": [
        "import os\n",
        "import shutil\n",
        "from glob import glob\n",
        "from tqdm import tqdm\n",
        "\n",
        "from pylabel import importer"
      ],
      "metadata": {
        "id": "mrTd8BAGBXCt"
      },
      "execution_count": 5,
      "outputs": []
    },
    {
      "cell_type": "markdown",
      "source": [
        "##Converting YOLO to COCO datasets"
      ],
      "metadata": {
        "id": "vxEOKuPdbmU_"
      }
    },
    {
      "cell_type": "code",
      "source": [
        "annotations_path = \"yolo/labels/test\"\n",
        "images_path = \"yolo/images/test\"\n",
        "coco_dir = \"coco/test\"\n",
        "os.makedirs(coco_dir, exist_ok=True)"
      ],
      "metadata": {
        "id": "Vmq4LaKFBb99"
      },
      "execution_count": 6,
      "outputs": []
    },
    {
      "cell_type": "code",
      "source": [
        "txt_files = glob(os.path.join(annotations_path, \"*.txt\"))\n",
        "img_files = glob(os.path.join(images_path, \"*.jpg\"))\n",
        "\n",
        "# copy annotations\n",
        "for f in tqdm(txt_files):\n",
        "  shutil.copy(f, coco_dir)\n",
        "\n",
        "# copy images\n",
        "for f in tqdm(img_files):\n",
        "  shutil.copy(f, coco_dir)"
      ],
      "metadata": {
        "colab": {
          "base_uri": "https://localhost:8080/"
        },
        "id": "xzXT0HxlCS16",
        "outputId": "54936a5d-9a55-401c-d84f-fab8c622fcf2"
      },
      "execution_count": 7,
      "outputs": [
        {
          "output_type": "stream",
          "name": "stderr",
          "text": [
            "100%|██████████| 2/2 [00:00<00:00, 1160.89it/s]\n",
            "100%|██████████| 2/2 [00:00<00:00, 2559.06it/s]\n"
          ]
        }
      ]
    },
    {
      "cell_type": "code",
      "source": [
        "# reads the classes from the YOLO dataset\n",
        "with open(\"yolo/classes.txt\", \"r\") as f:\n",
        "  classes = f.read().split(\"\\n\")\n",
        "\n",
        "# load dataset\n",
        "dataset = importer.ImportYoloV5(path=coco_dir, cat_names=classes, name=\"brain tumors\")"
      ],
      "metadata": {
        "colab": {
          "base_uri": "https://localhost:8080/"
        },
        "id": "agQ3kjRTCZb-",
        "outputId": "c7cde33d-9492-417d-952f-d776bb319228"
      },
      "execution_count": 8,
      "outputs": [
        {
          "output_type": "stream",
          "name": "stderr",
          "text": [
            "Importing YOLO files...: 100%|██████████| 4/4 [00:00<00:00, 87.48it/s]\n"
          ]
        }
      ]
    },
    {
      "cell_type": "code",
      "source": [
        "# exports the dataset to COCO format\n",
        "coco_file = os.path.join(coco_dir, \"_annotations.coco.json\")\n",
        "# Detectron requires the label index to start with index 1\n",
        "dataset.export.ExportToCoco(coco_file, cat_id_index=1)"
      ],
      "metadata": {
        "colab": {
          "base_uri": "https://localhost:8080/"
        },
        "id": "7jVuukNaCw7P",
        "outputId": "fba22e3d-d5e0-43b9-9d34-b4d8b17d250a"
      },
      "execution_count": 9,
      "outputs": [
        {
          "output_type": "stream",
          "name": "stderr",
          "text": [
            "Exporting to COCO file...: 100%|██████████| 2/2 [00:00<00:00, 324.74it/s]\n"
          ]
        },
        {
          "output_type": "execute_result",
          "data": {
            "text/plain": [
              "['coco/test/_annotations.coco.json']"
            ]
          },
          "metadata": {},
          "execution_count": 9
        }
      ]
    },
    {
      "cell_type": "code",
      "source": [
        "# now delete yolo annotations in coco set\n",
        "for f in txt_files:\n",
        "  os.remove(f.replace(annotations_path, coco_dir))"
      ],
      "metadata": {
        "id": "II49Bokf3E35"
      },
      "execution_count": 10,
      "outputs": []
    },
    {
      "cell_type": "markdown",
      "source": [
        "Now, the conversion is completed."
      ],
      "metadata": {
        "id": "HzoK6Jbe3aWO"
      }
    },
    {
      "cell_type": "code",
      "source": [
        "!tree coco"
      ],
      "metadata": {
        "id": "rB0A1hkO3UYA",
        "outputId": "2c84f64f-40a3-4e34-9363-2cfe86090b56",
        "colab": {
          "base_uri": "https://localhost:8080/"
        }
      },
      "execution_count": 11,
      "outputs": [
        {
          "output_type": "stream",
          "name": "stdout",
          "text": [
            "\u001b[01;34mcoco\u001b[0m\n",
            "└── \u001b[01;34mtest\u001b[0m\n",
            "    ├── \u001b[01;35m00000_102.jpg\u001b[0m\n",
            "    ├── \u001b[01;35m00003_154.jpg\u001b[0m\n",
            "    └── \u001b[00m_annotations.coco.json\u001b[0m\n",
            "\n",
            "1 directory, 3 files\n"
          ]
        }
      ]
    },
    {
      "cell_type": "markdown",
      "source": [
        "##Converting Pascal VOC to COCO datasets"
      ],
      "metadata": {
        "id": "zD5qIR3U3lJv"
      }
    },
    {
      "cell_type": "code",
      "source": [
        "# Download the dataset and unzip it\n",
        "!wget https://github.com/PacktPublishing/Hands-On-Computer-Vision-with-Detectron2/raw/main/datasets/voc.zip\n",
        "!unzip voc.zip"
      ],
      "metadata": {
        "id": "FkuZ0AlI3nOM"
      },
      "execution_count": null,
      "outputs": []
    },
    {
      "cell_type": "code",
      "source": [
        "!tree voc"
      ],
      "metadata": {
        "id": "k-ool4yWaIy7",
        "outputId": "a97860ad-35d5-41a4-b804-e3a7114ff74b",
        "colab": {
          "base_uri": "https://localhost:8080/"
        }
      },
      "execution_count": 13,
      "outputs": [
        {
          "output_type": "stream",
          "name": "stdout",
          "text": [
            "\u001b[01;34mvoc\u001b[0m\n",
            "└── \u001b[01;34mtest\u001b[0m\n",
            "    ├── \u001b[01;35m00000_102.jpg\u001b[0m\n",
            "    ├── \u001b[00m00000_102.xml\u001b[0m\n",
            "    ├── \u001b[01;35m00003_154.jpg\u001b[0m\n",
            "    └── \u001b[00m00003_154.xml\u001b[0m\n",
            "\n",
            "1 directory, 4 files\n"
          ]
        }
      ]
    },
    {
      "cell_type": "code",
      "source": [
        "voc_dir = \"voc/test\"\n",
        "coco_dir = \"coco/test\"\n",
        "os.makedirs(coco_dir, exist_ok=True)"
      ],
      "metadata": {
        "id": "NvkFo9IGaevD"
      },
      "execution_count": 14,
      "outputs": []
    },
    {
      "cell_type": "code",
      "source": [
        "xml_files = glob(os.path.join(voc_dir, \"*.xml\"))\n",
        "img_files = glob(os.path.join(voc_dir, \"*.jpg\"))\n",
        "\n",
        "# copy annotations\n",
        "for f in tqdm(xml_files):\n",
        "  shutil.copy(f, coco_dir)\n",
        "\n",
        "# copy images\n",
        "for f in tqdm(img_files):\n",
        "  shutil.copy(f, coco_dir)"
      ],
      "metadata": {
        "id": "OGe5rbLKafJC",
        "outputId": "b8294281-4d49-4b7d-c301-7ebc6f56fb56",
        "colab": {
          "base_uri": "https://localhost:8080/"
        }
      },
      "execution_count": 16,
      "outputs": [
        {
          "output_type": "stream",
          "name": "stderr",
          "text": [
            "100%|██████████| 2/2 [00:00<00:00, 3470.67it/s]\n",
            "100%|██████████| 2/2 [00:00<00:00, 2611.65it/s]\n"
          ]
        }
      ]
    },
    {
      "cell_type": "code",
      "source": [
        "# load dataset\n",
        "dataset = importer.ImportVOC(coco_dir, name=\"brain tumors\")"
      ],
      "metadata": {
        "id": "Bg_aAhJzbNFO",
        "outputId": "9d375d00-ef6b-4426-90f1-a730865cf29b",
        "colab": {
          "base_uri": "https://localhost:8080/"
        }
      },
      "execution_count": 17,
      "outputs": [
        {
          "output_type": "stream",
          "name": "stderr",
          "text": [
            "Importing VOC files...: 100%|██████████| 7/7 [00:00<00:00, 813.44it/s]\n"
          ]
        }
      ]
    },
    {
      "cell_type": "code",
      "source": [
        "# export the loaded dataset to a COCO style\n",
        "coco_file = os.path.join(coco_dir, \"_annotations.coco.json\")\n",
        "\n",
        "# Detectron requires the label index to start with index 1\n",
        "dataset.export.ExportToCoco(coco_file, cat_id_index=1)"
      ],
      "metadata": {
        "id": "Vki7FY8XbYHy",
        "outputId": "81487230-c3e9-4c2a-c964-18bb4eba926b",
        "colab": {
          "base_uri": "https://localhost:8080/"
        }
      },
      "execution_count": 18,
      "outputs": [
        {
          "output_type": "stream",
          "name": "stderr",
          "text": [
            "Exporting to COCO file...: 100%|██████████| 2/2 [00:00<00:00, 280.72it/s]\n"
          ]
        },
        {
          "output_type": "execute_result",
          "data": {
            "text/plain": [
              "['coco/test/_annotations.coco.json']"
            ]
          },
          "metadata": {},
          "execution_count": 18
        }
      ]
    },
    {
      "cell_type": "code",
      "source": [
        "# now delete yolo annotations in coco set\n",
        "for f in xml_files:\n",
        "  os.remove(f.replace(voc_dir, coco_dir))"
      ],
      "metadata": {
        "id": "k6UpA--1b1UX"
      },
      "execution_count": 19,
      "outputs": []
    },
    {
      "cell_type": "code",
      "source": [
        "!tree coco"
      ],
      "metadata": {
        "id": "XTPaSaaBcIWZ",
        "outputId": "644dd825-d651-4ae1-9d52-923fbbfda072",
        "colab": {
          "base_uri": "https://localhost:8080/"
        }
      },
      "execution_count": 20,
      "outputs": [
        {
          "output_type": "stream",
          "name": "stdout",
          "text": [
            "\u001b[01;34mcoco\u001b[0m\n",
            "└── \u001b[01;34mtest\u001b[0m\n",
            "    ├── \u001b[01;35m00000_102.jpg\u001b[0m\n",
            "    ├── \u001b[00m00000_102.txt\u001b[0m\n",
            "    ├── \u001b[01;35m00003_154.jpg\u001b[0m\n",
            "    ├── \u001b[00m00003_154.txt\u001b[0m\n",
            "    └── \u001b[00m_annotations.coco.json\u001b[0m\n",
            "\n",
            "1 directory, 5 files\n"
          ]
        }
      ]
    }
  ]
}