{
  "nbformat": 4,
  "nbformat_minor": 0,
  "metadata": {
    "colab": {
      "provenance": [],
      "toc_visible": true,
      "authorship_tag": "ABX9TyOuD6DHkMp5abdzgUs8dGix",
      "include_colab_link": true
    },
    "kernelspec": {
      "name": "python3",
      "display_name": "Python 3"
    },
    "language_info": {
      "name": "python"
    }
  },
  "cells": [
    {
      "cell_type": "markdown",
      "metadata": {
        "id": "view-in-github",
        "colab_type": "text"
      },
      "source": [
        "<a href=\"https://colab.research.google.com/github/rahiakela/computer-vision-research-and-practice/blob/main/hands-on-computer-vision-with-detectron2/04-custom-object-detection/01_data_processing.ipynb\" target=\"_parent\"><img src=\"https://colab.research.google.com/assets/colab-badge.svg\" alt=\"Open In Colab\"/></a>"
      ]
    },
    {
      "cell_type": "markdown",
      "source": [
        "##Data Processing"
      ],
      "metadata": {
        "id": "X4aqooRa0WwP"
      }
    },
    {
      "cell_type": "markdown",
      "source": [
        "The dataset used is the brain tumor object detection dataset available from [Kaggle](https://www.kaggle.com/datasets/davidbroberts/brain-tumor-object-detectiondatasets).\n",
        "\n",
        "This dataset is chosen because medical image processing is a critical subfield in computer vision. At the same\n",
        "time, the task is challenging, and the number of images is appropriate for demonstration purposes.\n",
        "\n"
      ],
      "metadata": {
        "id": "ENJEZSze0n3b"
      }
    },
    {
      "cell_type": "markdown",
      "source": [
        "##Setup"
      ],
      "metadata": {
        "id": "Ws6uMtirxsL4"
      }
    },
    {
      "cell_type": "code",
      "source": [
        "!python -m pip install \"git+https://github.com/facebookresearch/detectron2.git\"\n",
        "!sudo apt-get install tree\n",
        "!pip install -q pylabel"
      ],
      "metadata": {
        "id": "XvSM45Nvxsc2"
      },
      "execution_count": null,
      "outputs": []
    },
    {
      "cell_type": "code",
      "source": [
        "import detectron2\n",
        "from detectron2.data.datasets import register_coco_instances\n",
        "from detectron2.data import DatasetCatalog, MetadataCatalog\n",
        "from detectron2.utils.visualizer import Visualizer\n",
        "\n",
        "import os\n",
        "from glob import glob\n",
        "import shutil\n",
        "from tqdm import tqdm\n",
        "import yaml\n",
        "from yaml.loader import SafeLoader\n",
        "from pylabel import importer\n",
        "\n",
        "import torch\n",
        "import cv2\n",
        "\n",
        "import numpy as np\n",
        "import matplotlib.pyplot as plt\n",
        "\n",
        "# Suppress some user warnings\n",
        "import warnings\n",
        "warnings.simplefilter(action='ignore', category=UserWarning)"
      ],
      "metadata": {
        "id": "fVtmSc7Cyjra"
      },
      "execution_count": 2,
      "outputs": []
    },
    {
      "cell_type": "code",
      "source": [
        "print(detectron2.__version__)"
      ],
      "metadata": {
        "colab": {
          "base_uri": "https://localhost:8080/"
        },
        "id": "oI7nUOMpyQqA",
        "outputId": "283d0c05-4e75-4831-8eb9-094a6f79fb6f"
      },
      "execution_count": 3,
      "outputs": [
        {
          "output_type": "stream",
          "name": "stdout",
          "text": [
            "0.6\n"
          ]
        }
      ]
    },
    {
      "cell_type": "code",
      "source": [
        "!wget https://github.com/PacktPublishing/Hands-On-Computer-Vision-with-Detectron2/blob/main/datasets/braintumors.zip?raw=true -O braintumors.zip\n",
        "!unzip braintumors.zip -d braintumors"
      ],
      "metadata": {
        "id": "vu_gkcKR_cpV"
      },
      "execution_count": null,
      "outputs": []
    },
    {
      "cell_type": "markdown",
      "source": [
        "##Dataset"
      ],
      "metadata": {
        "id": "c-HtucAUy9JU"
      }
    },
    {
      "cell_type": "code",
      "source": [
        "data_folder = \"braintumors\"\n",
        "data_folder_yolo = data_folder + \"_yolo\"\n",
        "data_folder_coco = data_folder + \"_coco\"\n",
        "\n",
        "folders = os.listdir(\"braintumors\")\n",
        "print(folders)"
      ],
      "metadata": {
        "colab": {
          "base_uri": "https://localhost:8080/"
        },
        "id": "Af-r9SR2y_g5",
        "outputId": "9755eb7e-84fc-4ad1-eab1-858dca33e992"
      },
      "execution_count": 5,
      "outputs": [
        {
          "output_type": "stream",
          "name": "stdout",
          "text": [
            "['coronal_t1wce_2_class', 'sagittal_t1wce_2_class', 'axial_t1wce_2_class']\n"
          ]
        }
      ]
    },
    {
      "cell_type": "code",
      "source": [
        "!tree braintumors/ -d"
      ],
      "metadata": {
        "colab": {
          "base_uri": "https://localhost:8080/"
        },
        "id": "FqC0kIGCMiS3",
        "outputId": "cd5610f0-f7f9-456d-b3e5-8be26057ce3c"
      },
      "execution_count": 6,
      "outputs": [
        {
          "output_type": "stream",
          "name": "stdout",
          "text": [
            "\u001b[01;34mbraintumors/\u001b[0m\n",
            "├── \u001b[01;34maxial_t1wce_2_class\u001b[0m\n",
            "│   ├── \u001b[01;34mimages\u001b[0m\n",
            "│   │   ├── \u001b[01;34mtest\u001b[0m\n",
            "│   │   └── \u001b[01;34mtrain\u001b[0m\n",
            "│   └── \u001b[01;34mlabels\u001b[0m\n",
            "│       ├── \u001b[01;34mtest\u001b[0m\n",
            "│       └── \u001b[01;34mtrain\u001b[0m\n",
            "├── \u001b[01;34mcoronal_t1wce_2_class\u001b[0m\n",
            "│   ├── \u001b[01;34mimages\u001b[0m\n",
            "│   │   ├── \u001b[01;34mtest\u001b[0m\n",
            "│   │   └── \u001b[01;34mtrain\u001b[0m\n",
            "│   └── \u001b[01;34mlabels\u001b[0m\n",
            "│       ├── \u001b[01;34mtest\u001b[0m\n",
            "│       └── \u001b[01;34mtrain\u001b[0m\n",
            "└── \u001b[01;34msagittal_t1wce_2_class\u001b[0m\n",
            "    ├── \u001b[01;34mimages\u001b[0m\n",
            "    │   ├── \u001b[01;34mtest\u001b[0m\n",
            "    │   └── \u001b[01;34mtrain\u001b[0m\n",
            "    └── \u001b[01;34mlabels\u001b[0m\n",
            "        ├── \u001b[01;34mtest\u001b[0m\n",
            "        └── \u001b[01;34mtrain\u001b[0m\n",
            "\n",
            "21 directories\n"
          ]
        }
      ]
    },
    {
      "cell_type": "code",
      "source": [
        "# let's count the number of images and labels from a dataset with the YOLO annotation format\n",
        "def count_yolo_data(folder):\n",
        "  for images_labels in [\"images\", \"labels\"]:\n",
        "    for train_test in [\"train\", \"test\"]:\n",
        "      file_ext = \"*.jpg\" if images_labels == \"images\" else \"*.txt\"\n",
        "      p = os.path.join(folder, images_labels, train_test, file_ext)\n",
        "      files = glob(p)\n",
        "      print(train_test, images_labels, len(files))"
      ],
      "metadata": {
        "id": "FR3bC-H9N8k6"
      },
      "execution_count": 7,
      "outputs": []
    },
    {
      "cell_type": "code",
      "source": [
        "for folder in folders:\n",
        "  print(\"-\"*8 + folder + \"-\"*8)\n",
        "  folder = os.path.join(data_folder, folder)\n",
        "  count_yolo_data(folder)"
      ],
      "metadata": {
        "id": "iiRHDD4he-LD",
        "outputId": "42b27bbd-b3ed-4ce2-d6e4-32fdf527c087",
        "colab": {
          "base_uri": "https://localhost:8080/"
        }
      },
      "execution_count": 8,
      "outputs": [
        {
          "output_type": "stream",
          "name": "stdout",
          "text": [
            "--------coronal_t1wce_2_class--------\n",
            "train images 319\n",
            "test images 78\n",
            "train labels 318\n",
            "test labels 78\n",
            "--------sagittal_t1wce_2_class--------\n",
            "train images 264\n",
            "test images 70\n",
            "train labels 264\n",
            "test labels 70\n",
            "--------axial_t1wce_2_class--------\n",
            "train images 310\n",
            "test images 75\n",
            "train labels 296\n",
            "test labels 75\n"
          ]
        }
      ]
    },
    {
      "cell_type": "code",
      "source": [
        "# due to the small number of images, it might be more reasonable to combine images from these folders into one folder\n",
        "def copy_yolo_files(from_folder, to_folder, images_labels, train_set):\n",
        "  from_path = os.path.join(from_folder, images_labels, train_set)\n",
        "  to_path = os.path.join(to_folder, images_labels, train_set)\n",
        "  os.makedirs(to_path, exist_ok=True)\n",
        "\n",
        "  # get files\n",
        "  file_ext = \"*.jpg\" if images_labels == \"images\" else \"*.txt\"\n",
        "  files = glob(os.path.join(from_path, file_ext))\n",
        "  # move files\n",
        "  for file in tqdm(files):\n",
        "    shutil.copy(file, to_path)"
      ],
      "metadata": {
        "id": "VmJpNo3RfEfa"
      },
      "execution_count": 9,
      "outputs": []
    },
    {
      "cell_type": "code",
      "source": [
        "# now, combines images from three folders into one\n",
        "for from_folder in folders:\n",
        "  from_folder = os.path.join(data_folder, from_folder)\n",
        "  to_folder = data_folder_yolo\n",
        "  for images_labels in [\"images\", \"labels\"]:\n",
        "    for train_set in [\"train\", \"test\"]:\n",
        "      copy_yolo_files(from_folder, to_folder, images_labels, train_set)"
      ],
      "metadata": {
        "id": "_fRtYN-FIZFg",
        "outputId": "3f148ef9-2196-4741-8b93-2377c3878626",
        "colab": {
          "base_uri": "https://localhost:8080/"
        }
      },
      "execution_count": 10,
      "outputs": [
        {
          "output_type": "stream",
          "name": "stderr",
          "text": [
            "100%|██████████| 319/319 [00:00<00:00, 4176.92it/s]\n",
            "100%|██████████| 78/78 [00:00<00:00, 3376.53it/s]\n",
            "100%|██████████| 318/318 [00:00<00:00, 5706.39it/s]\n",
            "100%|██████████| 78/78 [00:00<00:00, 5498.23it/s]\n",
            "100%|██████████| 264/264 [00:00<00:00, 5039.19it/s]\n",
            "100%|██████████| 70/70 [00:00<00:00, 3838.83it/s]\n",
            "100%|██████████| 264/264 [00:00<00:00, 7666.66it/s]\n",
            "100%|██████████| 70/70 [00:00<00:00, 7385.64it/s]\n",
            "100%|██████████| 310/310 [00:00<00:00, 8001.59it/s]\n",
            "100%|██████████| 75/75 [00:00<00:00, 6672.17it/s]\n",
            "100%|██████████| 296/296 [00:00<00:00, 7513.72it/s]\n",
            "100%|██████████| 75/75 [00:00<00:00, 6012.25it/s]\n"
          ]
        }
      ]
    },
    {
      "cell_type": "code",
      "source": [
        "# Now the folder should look like\n",
        "!tree -d {data_folder_yolo}"
      ],
      "metadata": {
        "id": "Xre1nz0cJEVC",
        "outputId": "8143ab53-71f5-4158-9835-955cedef489f",
        "colab": {
          "base_uri": "https://localhost:8080/"
        }
      },
      "execution_count": 11,
      "outputs": [
        {
          "output_type": "stream",
          "name": "stdout",
          "text": [
            "\u001b[01;34mbraintumors_yolo\u001b[0m\n",
            "├── \u001b[01;34mimages\u001b[0m\n",
            "│   ├── \u001b[01;34mtest\u001b[0m\n",
            "│   └── \u001b[01;34mtrain\u001b[0m\n",
            "└── \u001b[01;34mlabels\u001b[0m\n",
            "    ├── \u001b[01;34mtest\u001b[0m\n",
            "    └── \u001b[01;34mtrain\u001b[0m\n",
            "\n",
            "6 directories\n"
          ]
        }
      ]
    },
    {
      "cell_type": "code",
      "source": [
        "# do the counting just to make sure\n",
        "count_yolo_data(data_folder_yolo)"
      ],
      "metadata": {
        "id": "ip0sAf6HJbGD",
        "outputId": "5d7ccd11-6414-46f5-ae4a-18001e75226b",
        "colab": {
          "base_uri": "https://localhost:8080/"
        }
      },
      "execution_count": 12,
      "outputs": [
        {
          "output_type": "stream",
          "name": "stdout",
          "text": [
            "train images 893\n",
            "test images 223\n",
            "train labels 878\n",
            "test labels 223\n"
          ]
        }
      ]
    },
    {
      "cell_type": "code",
      "source": [
        "# let's read the yaml file and write the class file\n",
        "with open(os.path.join(data_folder, folders[0], folders[0] + \".yaml\")) as f:\n",
        "  classes = yaml.load(f, Loader=SafeLoader)[\"names\"]\n",
        "# Write classes.txt\n",
        "with open(os.path.join(data_folder_yolo, \"classes.txt\"), \"w\") as f:\n",
        "  f.write(\"\\n\".join(classes))"
      ],
      "metadata": {
        "id": "ve_JICl4KaKn"
      },
      "execution_count": 13,
      "outputs": []
    },
    {
      "cell_type": "markdown",
      "source": [
        "##Data format conversion"
      ],
      "metadata": {
        "id": "iWtpY4zb1uZ-"
      }
    },
    {
      "cell_type": "code",
      "source": [
        "def yolo_to_coco(input_folder, output_folder, train_test):\n",
        "  labels_path = os.path.join(input_folder, \"labels\", train_test)\n",
        "  images_path = os.path.join(input_folder, \"images\", train_test)\n",
        "  coco_dir = os.path.join(output_folder, train_test)\n",
        "  os.makedirs(coco_dir, exist_ok=True)\n",
        "\n",
        "  txt_files = glob(os.path.join(labels_path, \"*.txt\"))\n",
        "  img_files = glob(os.path.join(images_path, \"*.jpg\"))\n",
        "\n",
        "  # copy annotations\n",
        "  for f in tqdm(txt_files):\n",
        "    shutil.copy(f, coco_dir)\n",
        "  # copy images\n",
        "  for f in tqdm(img_files):\n",
        "    shutil.copy(f, coco_dir)\n",
        "\n",
        "  # get the classes\n",
        "  with open(os.path.join(input_folder, \"classes.txt\"), \"r\") as f:\n",
        "    classes = f.read().split(\"\\n\")\n",
        "\n",
        "  # load dataset\n",
        "  dataset = importer.ImportYoloV5(path=coco_dir, cat_names=classes, name=\"brain tumors\")\n",
        "  # export\n",
        "  coco_file = os.path.join(coco_dir, \"_annotations.coco.json\")\n",
        "  # Detectron requires starting index from 1\n",
        "  dataset.export.ExportToCoco(coco_file, cat_id_index=1)\n",
        "\n",
        "  # now delete yolo annotations in coco set\n",
        "  for f in txt_files:\n",
        "    os.remove(f.replace(labels_path, coco_dir))"
      ],
      "metadata": {
        "id": "A5lbFmqtwmgu"
      },
      "execution_count": 14,
      "outputs": []
    },
    {
      "cell_type": "code",
      "source": [
        "yolo_to_coco(data_folder_yolo, data_folder_coco, \"train\")\n",
        "yolo_to_coco(data_folder_yolo, data_folder_coco, \"test\")"
      ],
      "metadata": {
        "id": "AbRIH-u8GAaV",
        "outputId": "6a932ea3-69f8-458a-9376-52b2af75e1dd",
        "colab": {
          "base_uri": "https://localhost:8080/"
        }
      },
      "execution_count": 15,
      "outputs": [
        {
          "output_type": "stream",
          "name": "stderr",
          "text": [
            "100%|██████████| 878/878 [00:00<00:00, 8862.16it/s]\n",
            "100%|██████████| 893/893 [00:00<00:00, 7633.00it/s]\n",
            "Importing YOLO files...: 100%|██████████| 1771/1771 [00:02<00:00, 861.10it/s]\n",
            "Exporting to COCO file...: 100%|██████████| 925/925 [00:00<00:00, 1012.56it/s]\n",
            "100%|██████████| 223/223 [00:00<00:00, 5110.70it/s]\n",
            "100%|██████████| 223/223 [00:00<00:00, 4432.99it/s]\n",
            "Importing YOLO files...: 100%|██████████| 446/446 [00:00<00:00, 827.79it/s]\n",
            "Exporting to COCO file...: 100%|██████████| 241/241 [00:00<00:00, 1923.05it/s]\n"
          ]
        }
      ]
    },
    {
      "cell_type": "code",
      "source": [
        "!tree -d {data_folder_coco}"
      ],
      "metadata": {
        "id": "orKE-M7tGFxP",
        "outputId": "81f77d8c-8b27-40ad-94a3-a0260c34f184",
        "colab": {
          "base_uri": "https://localhost:8080/"
        }
      },
      "execution_count": 16,
      "outputs": [
        {
          "output_type": "stream",
          "name": "stdout",
          "text": [
            "\u001b[01;34mbraintumors_coco\u001b[0m\n",
            "├── \u001b[01;34mtest\u001b[0m\n",
            "└── \u001b[01;34mtrain\u001b[0m\n",
            "\n",
            "2 directories\n"
          ]
        }
      ]
    },
    {
      "cell_type": "markdown",
      "source": [
        "##Displaying Samples"
      ],
      "metadata": {
        "id": "Bv351Nt1GPs-"
      }
    },
    {
      "cell_type": "code",
      "source": [],
      "metadata": {
        "id": "wts2DJgaGQXj"
      },
      "execution_count": null,
      "outputs": []
    }
  ]
}