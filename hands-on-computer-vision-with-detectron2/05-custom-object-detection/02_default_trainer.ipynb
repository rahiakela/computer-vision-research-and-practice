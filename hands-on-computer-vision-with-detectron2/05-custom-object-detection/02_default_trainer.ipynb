{
  "nbformat": 4,
  "nbformat_minor": 0,
  "metadata": {
    "colab": {
      "provenance": [],
      "toc_visible": true,
      "gpuType": "T4",
      "authorship_tag": "ABX9TyOQyP3s9WSUJhG6RYZDNdG8",
      "include_colab_link": true
    },
    "kernelspec": {
      "name": "python3",
      "display_name": "Python 3"
    },
    "language_info": {
      "name": "python"
    },
    "accelerator": "GPU"
  },
  "cells": [
    {
      "cell_type": "markdown",
      "metadata": {
        "id": "view-in-github",
        "colab_type": "text"
      },
      "source": [
        "<a href=\"https://colab.research.google.com/github/rahiakela/computer-vision-research-and-practice/blob/main/hands-on-computer-vision-with-detectron2/05-custom-object-detection/02_default_trainer.ipynb\" target=\"_parent\"><img src=\"https://colab.research.google.com/assets/colab-badge.svg\" alt=\"Open In Colab\"/></a>"
      ]
    },
    {
      "cell_type": "markdown",
      "source": [
        "##Default_Trainer"
      ],
      "metadata": {
        "id": "X4aqooRa0WwP"
      }
    },
    {
      "cell_type": "markdown",
      "source": [
        "Detectron2 provides a default trainer class, which helps to train Detectron2 models on custom datasets\n",
        "conveniently"
      ],
      "metadata": {
        "id": "ENJEZSze0n3b"
      }
    },
    {
      "cell_type": "markdown",
      "source": [
        "##Setup"
      ],
      "metadata": {
        "id": "Ws6uMtirxsL4"
      }
    },
    {
      "cell_type": "code",
      "source": [
        "%%capture\n",
        "\n",
        "!python -m pip install \"git+https://github.com/facebookresearch/detectron2.git\"\n",
        "#!sudo apt-get install tree\n",
        "#!pip install -q pylabel"
      ],
      "metadata": {
        "id": "XvSM45Nvxsc2"
      },
      "execution_count": 1,
      "outputs": []
    },
    {
      "cell_type": "code",
      "source": [
        "import detectron2\n",
        "from detectron2.data.datasets import register_coco_instances\n",
        "from detectron2.data import DatasetCatalog, MetadataCatalog\n",
        "from detectron2.utils.visualizer import Visualizer\n",
        "from detectron2.engine import DefaultTrainer\n",
        "from detectron2.engine import DefaultPredictor\n",
        "from detectron2.evaluation import COCOEvaluator\n",
        "from detectron2.config import get_cfg\n",
        "from detectron2 import model_zoo\n",
        "\n",
        "import os\n",
        "import pickle\n",
        "import shutil\n",
        "import random\n",
        "import logging\n",
        "import math\n",
        "from glob import glob\n",
        "from tqdm import tqdm\n",
        "#import yaml\n",
        "#from yaml.loader import SafeLoader\n",
        "#from pylabel import importer\n",
        "\n",
        "import torch\n",
        "import cv2\n",
        "\n",
        "import numpy as np\n",
        "import matplotlib.pyplot as plt\n",
        "\n",
        "from detectron2.utils.logger import setup_logger\n",
        "\n",
        "# Suppress some user warnings\n",
        "import warnings\n",
        "warnings.simplefilter(action='ignore', category=UserWarning)"
      ],
      "metadata": {
        "id": "fVtmSc7Cyjra"
      },
      "execution_count": 2,
      "outputs": []
    },
    {
      "cell_type": "code",
      "source": [
        "print(detectron2.__version__)"
      ],
      "metadata": {
        "colab": {
          "base_uri": "https://localhost:8080/"
        },
        "id": "oI7nUOMpyQqA",
        "outputId": "38dfe6c2-52a3-4e1b-856f-2413e3401f48"
      },
      "execution_count": 3,
      "outputs": [
        {
          "output_type": "stream",
          "name": "stdout",
          "text": [
            "0.6\n"
          ]
        }
      ]
    },
    {
      "cell_type": "code",
      "source": [
        "!wget https://github.com/rahiakela/computer-vision-research-and-practice/blob/main/hands-on-computer-vision-with-detectron2/05-custom-object-detection/dataset/braintumors_coco.zip?raw=true -O braintumors_coco.zip\n",
        "!unzip -q braintumors_coco.zip"
      ],
      "metadata": {
        "id": "vu_gkcKR_cpV"
      },
      "execution_count": null,
      "outputs": []
    },
    {
      "cell_type": "code",
      "source": [
        "# Some configurations\n",
        "name_ds = \"braintumors_coco\"\n",
        "name_ds_train = name_ds + \"_train\"\n",
        "name_ds_test = name_ds + \"_test\"\n",
        "image_root_train = name_ds + \"/train\"\n",
        "image_root_test = name_ds + \"/test\"\n",
        "af = \"_annotations.coco.json\"\n",
        "json_file_train = name_ds + \"/train/\" + af\n",
        "json_file_test = name_ds + \"/test/\" + af\n",
        "\n",
        "# Register datasets\n",
        "## train dataset\n",
        "register_coco_instances(\n",
        "    name=name_ds_train,\n",
        "    metadata={},\n",
        "    json_file=json_file_train,\n",
        "    image_root=image_root_train\n",
        ")\n",
        "## test dataset\n",
        "register_coco_instances(\n",
        "    name=name_ds_test,\n",
        "    metadata={},\n",
        "    json_file=json_file_test,\n",
        "    image_root=image_root_test\n",
        ")"
      ],
      "metadata": {
        "id": "accdZXApPFv1"
      },
      "execution_count": 5,
      "outputs": []
    },
    {
      "cell_type": "markdown",
      "source": [
        "##Training configuration"
      ],
      "metadata": {
        "id": "c-HtucAUy9JU"
      }
    },
    {
      "cell_type": "code",
      "source": [
        "# let's prepare a logger that Detectron2 uses to log training/inferencing information\n",
        "logger = setup_logger()"
      ],
      "metadata": {
        "id": "Af-r9SR2y_g5"
      },
      "execution_count": 6,
      "outputs": []
    },
    {
      "cell_type": "code",
      "source": [
        "# getting a training configuration\n",
        "output_dir = \"output/object_detector\"\n",
        "os.makedirs(output_dir, exist_ok=True)\n",
        "\n",
        "output_cfg_path = os.path.join(output_dir, \"cfg.pickle\")\n",
        "\n",
        "nc = 2\n",
        "device = \"cuda\"\n",
        "\n",
        "config_file_url = \"COCO-Detection/faster_rcnn_R_50_FPN_3x.yaml\"\n",
        "checkpoint_url = \"COCO-Detection/faster_rcnn_R_50_FPN_3x.yaml\""
      ],
      "metadata": {
        "id": "FqC0kIGCMiS3"
      },
      "execution_count": 7,
      "outputs": []
    },
    {
      "cell_type": "code",
      "source": [
        "# let's create a configuration file\n",
        "cfg = get_cfg()\n",
        "config_file = model_zoo.get_config_file(config_file_url)\n",
        "cfg.merge_from_file(config_file)\n",
        "\n",
        "# Download weights\n",
        "cfg.MODEL.WEIGHTS = model_zoo.get_checkpoint_url(checkpoint_url)\n",
        "\n",
        "# Set datasets\n",
        "cfg.DATASETS.TRAIN = (name_ds_train,)\n",
        "cfg.DATASETS.TEST = (name_ds_test,)\n",
        "\n",
        "# Workers\n",
        "cfg.DATALOADER.NUM_WORKERS = 2\n",
        "\n",
        "# Images per batch\n",
        "cfg.SOLVER.IMS_PER_BATCH = 4  # 8\n",
        "\n",
        "# Learning rate\n",
        "cfg.SOLVER.BASE_LR = 0.00025\n",
        "\n",
        "# Iterations\n",
        "cfg.SOLVER.MAX_ITER  = 5000\n",
        "cfg.SOLVER.CHECKPOINT_PERIOD  = 500\n",
        "\n",
        "# Classes\n",
        "cfg.MODEL.ROI_HEADS.NUM_CLASSES = nc\n",
        "cfg.MODEL.DEVICE = device\n",
        "\n",
        "cfg.OUTPUT_DIR = output_dir"
      ],
      "metadata": {
        "id": "FR3bC-H9N8k6"
      },
      "execution_count": 8,
      "outputs": []
    },
    {
      "cell_type": "code",
      "source": [
        "# save configuration file for future use\n",
        "with open(output_cfg_path, \"wb\") as f:\n",
        "  pickle.dump(cfg, f, protocol=pickle.HIGHEST_PROTOCOL)"
      ],
      "metadata": {
        "id": "iiRHDD4he-LD"
      },
      "execution_count": 9,
      "outputs": []
    },
    {
      "cell_type": "markdown",
      "source": [
        "##Model Training"
      ],
      "metadata": {
        "id": "iWtpY4zb1uZ-"
      }
    },
    {
      "cell_type": "code",
      "source": [
        "trainer = DefaultTrainer(cfg)\n",
        "trainer.train()"
      ],
      "metadata": {
        "id": "A5lbFmqtwmgu"
      },
      "execution_count": null,
      "outputs": []
    },
    {
      "cell_type": "code",
      "source": [
        "import locale\n",
        "def getpreferredencoding(do_setlocale = True):\n",
        "    return \"UTF-8\"\n",
        "locale.getpreferredencoding = getpreferredencoding"
      ],
      "metadata": {
        "id": "z64CknOIzLAz"
      },
      "execution_count": 13,
      "outputs": []
    },
    {
      "cell_type": "code",
      "source": [
        "# let's see the log events\n",
        "!ls -1 {cfg.OUTPUT_DIR}"
      ],
      "metadata": {
        "id": "uvhEKduVjU9a",
        "colab": {
          "base_uri": "https://localhost:8080/"
        },
        "outputId": "74625712-4452-4259-91bd-110b60b426d6"
      },
      "execution_count": 14,
      "outputs": [
        {
          "output_type": "stream",
          "name": "stdout",
          "text": [
            "cfg.pickle\n",
            "events.out.tfevents.1699858952.3d498df26564.859.0\n",
            "last_checkpoint\n",
            "metrics.json\n",
            "model_0000499.pth\n",
            "model_0000999.pth\n",
            "model_0001499.pth\n",
            "model_0001999.pth\n",
            "model_0002499.pth\n",
            "model_0002999.pth\n",
            "model_0003499.pth\n",
            "model_0003999.pth\n",
            "model_0004499.pth\n",
            "model_0004999.pth\n",
            "model_final.pth\n"
          ]
        }
      ]
    },
    {
      "cell_type": "markdown",
      "source": [
        "##Best model"
      ],
      "metadata": {
        "id": "G83IOG8CkUwV"
      }
    },
    {
      "cell_type": "code",
      "source": [
        "# let's lists all the models saved at every checkpoint period over the training process\n",
        "model_names = []\n",
        "max_iter = cfg.SOLVER.MAX_ITER\n",
        "checkpoint = cfg.SOLVER.CHECKPOINT_PERIOD\n",
        "\n",
        "for i in range(1, max_iter//checkpoint):\n",
        "  model_names.append(f\"model_{str(i * checkpoint - 1).zfill(7)}.pth\")\n",
        "model_names.append(\"model_final.pth\")\n",
        "print(model_names)"
      ],
      "metadata": {
        "id": "7KZqrW5xjhvS",
        "colab": {
          "base_uri": "https://localhost:8080/"
        },
        "outputId": "6dbbd97e-6690-49cc-d4b6-e497c4e5d54f"
      },
      "execution_count": 15,
      "outputs": [
        {
          "output_type": "stream",
          "name": "stdout",
          "text": [
            "['model_0000499.pth', 'model_0000999.pth', 'model_0001499.pth', 'model_0001999.pth', 'model_0002499.pth', 'model_0002999.pth', 'model_0003499.pth', 'model_0003999.pth', 'model_0004499.pth', 'model_final.pth']\n"
          ]
        }
      ]
    },
    {
      "cell_type": "code",
      "source": [
        "# let's prepares an evaluator to evaluate how each of these models performs\n",
        "evaluator = COCOEvaluator(\n",
        "    dataset_name=name_ds_test,\n",
        "    tasks=(\"bbox\",),\n",
        "    distributed=False,\n",
        "    output_dir=os.path.join(output_dir, \"test_results\")\n",
        ")"
      ],
      "metadata": {
        "id": "XFpbY8PmlBYD"
      },
      "execution_count": 16,
      "outputs": []
    },
    {
      "cell_type": "code",
      "source": [
        "# let's performs the evaluations on each of the generated models\n",
        "logger.setLevel(logging.CRITICAL)\n",
        "model_eval_results = []\n",
        "\n",
        "for model_name in model_names:\n",
        "  # load weights\n",
        "  cfg.MODEL.WEIGHTS = os.path.join(cfg.OUTPUT_DIR, model_name)\n",
        "  cfg.MODEL.ROI_HEADS.SCORE_THRESH_TEST = 0.5\n",
        "  # predictor\n",
        "  predictor = DefaultPredictor(cfg)\n",
        "  # evaluate\n",
        "  x = trainer.test(cfg, predictor.model, evaluators=[evaluator])\n",
        "  model_eval_results.append(x[\"bbox\"])"
      ],
      "metadata": {
        "colab": {
          "base_uri": "https://localhost:8080/"
        },
        "id": "KXhv80TEl_gj",
        "outputId": "46e67196-5427-4825-ee61-f4bcec4a20d9"
      },
      "execution_count": 17,
      "outputs": [
        {
          "output_type": "stream",
          "name": "stdout",
          "text": [
            "Loading and preparing results...\n",
            "DONE (t=0.00s)\n",
            "creating index...\n",
            "index created!\n",
            " Average Precision  (AP) @[ IoU=0.50:0.95 | area=   all | maxDets=100 ] = 0.003\n",
            " Average Precision  (AP) @[ IoU=0.50      | area=   all | maxDets=100 ] = 0.011\n",
            " Average Precision  (AP) @[ IoU=0.75      | area=   all | maxDets=100 ] = 0.000\n",
            " Average Precision  (AP) @[ IoU=0.50:0.95 | area= small | maxDets=100 ] = 0.000\n",
            " Average Precision  (AP) @[ IoU=0.50:0.95 | area=medium | maxDets=100 ] = 0.005\n",
            " Average Precision  (AP) @[ IoU=0.50:0.95 | area= large | maxDets=100 ] = 0.000\n",
            " Average Recall     (AR) @[ IoU=0.50:0.95 | area=   all | maxDets=  1 ] = 0.014\n",
            " Average Recall     (AR) @[ IoU=0.50:0.95 | area=   all | maxDets= 10 ] = 0.023\n",
            " Average Recall     (AR) @[ IoU=0.50:0.95 | area=   all | maxDets=100 ] = 0.023\n",
            " Average Recall     (AR) @[ IoU=0.50:0.95 | area= small | maxDets=100 ] = 0.000\n",
            " Average Recall     (AR) @[ IoU=0.50:0.95 | area=medium | maxDets=100 ] = 0.026\n",
            " Average Recall     (AR) @[ IoU=0.50:0.95 | area= large | maxDets=100 ] = 0.000\n",
            "Loading and preparing results...\n",
            "DONE (t=0.00s)\n",
            "creating index...\n",
            "index created!\n",
            " Average Precision  (AP) @[ IoU=0.50:0.95 | area=   all | maxDets=100 ] = 0.026\n",
            " Average Precision  (AP) @[ IoU=0.50      | area=   all | maxDets=100 ] = 0.085\n",
            " Average Precision  (AP) @[ IoU=0.75      | area=   all | maxDets=100 ] = 0.005\n",
            " Average Precision  (AP) @[ IoU=0.50:0.95 | area= small | maxDets=100 ] = 0.002\n",
            " Average Precision  (AP) @[ IoU=0.50:0.95 | area=medium | maxDets=100 ] = 0.036\n",
            " Average Precision  (AP) @[ IoU=0.50:0.95 | area= large | maxDets=100 ] = 0.017\n",
            " Average Recall     (AR) @[ IoU=0.50:0.95 | area=   all | maxDets=  1 ] = 0.065\n",
            " Average Recall     (AR) @[ IoU=0.50:0.95 | area=   all | maxDets= 10 ] = 0.104\n",
            " Average Recall     (AR) @[ IoU=0.50:0.95 | area=   all | maxDets=100 ] = 0.104\n",
            " Average Recall     (AR) @[ IoU=0.50:0.95 | area= small | maxDets=100 ] = 0.042\n",
            " Average Recall     (AR) @[ IoU=0.50:0.95 | area=medium | maxDets=100 ] = 0.119\n",
            " Average Recall     (AR) @[ IoU=0.50:0.95 | area= large | maxDets=100 ] = 0.050\n",
            "Loading and preparing results...\n",
            "DONE (t=0.00s)\n",
            "creating index...\n",
            "index created!\n",
            " Average Precision  (AP) @[ IoU=0.50:0.95 | area=   all | maxDets=100 ] = 0.026\n",
            " Average Precision  (AP) @[ IoU=0.50      | area=   all | maxDets=100 ] = 0.092\n",
            " Average Precision  (AP) @[ IoU=0.75      | area=   all | maxDets=100 ] = 0.008\n",
            " Average Precision  (AP) @[ IoU=0.50:0.95 | area= small | maxDets=100 ] = 0.000\n",
            " Average Precision  (AP) @[ IoU=0.50:0.95 | area=medium | maxDets=100 ] = 0.033\n",
            " Average Precision  (AP) @[ IoU=0.50:0.95 | area= large | maxDets=100 ] = 0.095\n",
            " Average Recall     (AR) @[ IoU=0.50:0.95 | area=   all | maxDets=  1 ] = 0.072\n",
            " Average Recall     (AR) @[ IoU=0.50:0.95 | area=   all | maxDets= 10 ] = 0.127\n",
            " Average Recall     (AR) @[ IoU=0.50:0.95 | area=   all | maxDets=100 ] = 0.127\n",
            " Average Recall     (AR) @[ IoU=0.50:0.95 | area= small | maxDets=100 ] = 0.000\n",
            " Average Recall     (AR) @[ IoU=0.50:0.95 | area=medium | maxDets=100 ] = 0.145\n",
            " Average Recall     (AR) @[ IoU=0.50:0.95 | area= large | maxDets=100 ] = 0.167\n",
            "Loading and preparing results...\n",
            "DONE (t=0.00s)\n",
            "creating index...\n",
            "index created!\n",
            " Average Precision  (AP) @[ IoU=0.50:0.95 | area=   all | maxDets=100 ] = 0.051\n",
            " Average Precision  (AP) @[ IoU=0.50      | area=   all | maxDets=100 ] = 0.157\n",
            " Average Precision  (AP) @[ IoU=0.75      | area=   all | maxDets=100 ] = 0.011\n",
            " Average Precision  (AP) @[ IoU=0.50:0.95 | area= small | maxDets=100 ] = 0.032\n",
            " Average Precision  (AP) @[ IoU=0.50:0.95 | area=medium | maxDets=100 ] = 0.056\n",
            " Average Precision  (AP) @[ IoU=0.50:0.95 | area= large | maxDets=100 ] = 0.025\n",
            " Average Recall     (AR) @[ IoU=0.50:0.95 | area=   all | maxDets=  1 ] = 0.104\n",
            " Average Recall     (AR) @[ IoU=0.50:0.95 | area=   all | maxDets= 10 ] = 0.105\n",
            " Average Recall     (AR) @[ IoU=0.50:0.95 | area=   all | maxDets=100 ] = 0.105\n",
            " Average Recall     (AR) @[ IoU=0.50:0.95 | area= small | maxDets=100 ] = 0.031\n",
            " Average Recall     (AR) @[ IoU=0.50:0.95 | area=medium | maxDets=100 ] = 0.118\n",
            " Average Recall     (AR) @[ IoU=0.50:0.95 | area= large | maxDets=100 ] = 0.050\n",
            "Loading and preparing results...\n",
            "DONE (t=0.00s)\n",
            "creating index...\n",
            "index created!\n",
            " Average Precision  (AP) @[ IoU=0.50:0.95 | area=   all | maxDets=100 ] = 0.052\n",
            " Average Precision  (AP) @[ IoU=0.50      | area=   all | maxDets=100 ] = 0.131\n",
            " Average Precision  (AP) @[ IoU=0.75      | area=   all | maxDets=100 ] = 0.020\n",
            " Average Precision  (AP) @[ IoU=0.50:0.95 | area= small | maxDets=100 ] = 0.001\n",
            " Average Precision  (AP) @[ IoU=0.50:0.95 | area=medium | maxDets=100 ] = 0.065\n",
            " Average Precision  (AP) @[ IoU=0.50:0.95 | area= large | maxDets=100 ] = 0.118\n",
            " Average Recall     (AR) @[ IoU=0.50:0.95 | area=   all | maxDets=  1 ] = 0.128\n",
            " Average Recall     (AR) @[ IoU=0.50:0.95 | area=   all | maxDets= 10 ] = 0.139\n",
            " Average Recall     (AR) @[ IoU=0.50:0.95 | area=   all | maxDets=100 ] = 0.139\n",
            " Average Recall     (AR) @[ IoU=0.50:0.95 | area= small | maxDets=100 ] = 0.006\n",
            " Average Recall     (AR) @[ IoU=0.50:0.95 | area=medium | maxDets=100 ] = 0.167\n",
            " Average Recall     (AR) @[ IoU=0.50:0.95 | area= large | maxDets=100 ] = 0.117\n",
            "Loading and preparing results...\n",
            "DONE (t=0.00s)\n",
            "creating index...\n",
            "index created!\n",
            " Average Precision  (AP) @[ IoU=0.50:0.95 | area=   all | maxDets=100 ] = 0.085\n",
            " Average Precision  (AP) @[ IoU=0.50      | area=   all | maxDets=100 ] = 0.201\n",
            " Average Precision  (AP) @[ IoU=0.75      | area=   all | maxDets=100 ] = 0.040\n",
            " Average Precision  (AP) @[ IoU=0.50:0.95 | area= small | maxDets=100 ] = 0.037\n",
            " Average Precision  (AP) @[ IoU=0.50:0.95 | area=medium | maxDets=100 ] = 0.095\n",
            " Average Precision  (AP) @[ IoU=0.50:0.95 | area= large | maxDets=100 ] = 0.143\n",
            " Average Recall     (AR) @[ IoU=0.50:0.95 | area=   all | maxDets=  1 ] = 0.193\n",
            " Average Recall     (AR) @[ IoU=0.50:0.95 | area=   all | maxDets= 10 ] = 0.195\n",
            " Average Recall     (AR) @[ IoU=0.50:0.95 | area=   all | maxDets=100 ] = 0.195\n",
            " Average Recall     (AR) @[ IoU=0.50:0.95 | area= small | maxDets=100 ] = 0.054\n",
            " Average Recall     (AR) @[ IoU=0.50:0.95 | area=medium | maxDets=100 ] = 0.220\n",
            " Average Recall     (AR) @[ IoU=0.50:0.95 | area= large | maxDets=100 ] = 0.167\n",
            "Loading and preparing results...\n",
            "DONE (t=0.00s)\n",
            "creating index...\n",
            "index created!\n",
            " Average Precision  (AP) @[ IoU=0.50:0.95 | area=   all | maxDets=100 ] = 0.094\n",
            " Average Precision  (AP) @[ IoU=0.50      | area=   all | maxDets=100 ] = 0.241\n",
            " Average Precision  (AP) @[ IoU=0.75      | area=   all | maxDets=100 ] = 0.042\n",
            " Average Precision  (AP) @[ IoU=0.50:0.95 | area= small | maxDets=100 ] = 0.083\n",
            " Average Precision  (AP) @[ IoU=0.50:0.95 | area=medium | maxDets=100 ] = 0.096\n",
            " Average Precision  (AP) @[ IoU=0.50:0.95 | area= large | maxDets=100 ] = 0.149\n",
            " Average Recall     (AR) @[ IoU=0.50:0.95 | area=   all | maxDets=  1 ] = 0.203\n",
            " Average Recall     (AR) @[ IoU=0.50:0.95 | area=   all | maxDets= 10 ] = 0.216\n",
            " Average Recall     (AR) @[ IoU=0.50:0.95 | area=   all | maxDets=100 ] = 0.216\n",
            " Average Recall     (AR) @[ IoU=0.50:0.95 | area= small | maxDets=100 ] = 0.113\n",
            " Average Recall     (AR) @[ IoU=0.50:0.95 | area=medium | maxDets=100 ] = 0.226\n",
            " Average Recall     (AR) @[ IoU=0.50:0.95 | area= large | maxDets=100 ] = 0.300\n",
            "Loading and preparing results...\n",
            "DONE (t=0.00s)\n",
            "creating index...\n",
            "index created!\n",
            " Average Precision  (AP) @[ IoU=0.50:0.95 | area=   all | maxDets=100 ] = 0.084\n",
            " Average Precision  (AP) @[ IoU=0.50      | area=   all | maxDets=100 ] = 0.182\n",
            " Average Precision  (AP) @[ IoU=0.75      | area=   all | maxDets=100 ] = 0.056\n",
            " Average Precision  (AP) @[ IoU=0.50:0.95 | area= small | maxDets=100 ] = 0.032\n",
            " Average Precision  (AP) @[ IoU=0.50:0.95 | area=medium | maxDets=100 ] = 0.100\n",
            " Average Precision  (AP) @[ IoU=0.50:0.95 | area= large | maxDets=100 ] = 0.000\n",
            " Average Recall     (AR) @[ IoU=0.50:0.95 | area=   all | maxDets=  1 ] = 0.179\n",
            " Average Recall     (AR) @[ IoU=0.50:0.95 | area=   all | maxDets= 10 ] = 0.180\n",
            " Average Recall     (AR) @[ IoU=0.50:0.95 | area=   all | maxDets=100 ] = 0.180\n",
            " Average Recall     (AR) @[ IoU=0.50:0.95 | area= small | maxDets=100 ] = 0.036\n",
            " Average Recall     (AR) @[ IoU=0.50:0.95 | area=medium | maxDets=100 ] = 0.208\n",
            " Average Recall     (AR) @[ IoU=0.50:0.95 | area= large | maxDets=100 ] = 0.000\n",
            "Loading and preparing results...\n",
            "DONE (t=0.00s)\n",
            "creating index...\n",
            "index created!\n",
            " Average Precision  (AP) @[ IoU=0.50:0.95 | area=   all | maxDets=100 ] = 0.114\n",
            " Average Precision  (AP) @[ IoU=0.50      | area=   all | maxDets=100 ] = 0.245\n",
            " Average Precision  (AP) @[ IoU=0.75      | area=   all | maxDets=100 ] = 0.078\n",
            " Average Precision  (AP) @[ IoU=0.50:0.95 | area= small | maxDets=100 ] = 0.065\n",
            " Average Precision  (AP) @[ IoU=0.50:0.95 | area=medium | maxDets=100 ] = 0.118\n",
            " Average Precision  (AP) @[ IoU=0.50:0.95 | area= large | maxDets=100 ] = 0.128\n",
            " Average Recall     (AR) @[ IoU=0.50:0.95 | area=   all | maxDets=  1 ] = 0.227\n",
            " Average Recall     (AR) @[ IoU=0.50:0.95 | area=   all | maxDets= 10 ] = 0.231\n",
            " Average Recall     (AR) @[ IoU=0.50:0.95 | area=   all | maxDets=100 ] = 0.231\n",
            " Average Recall     (AR) @[ IoU=0.50:0.95 | area= small | maxDets=100 ] = 0.074\n",
            " Average Recall     (AR) @[ IoU=0.50:0.95 | area=medium | maxDets=100 ] = 0.250\n",
            " Average Recall     (AR) @[ IoU=0.50:0.95 | area= large | maxDets=100 ] = 0.233\n",
            "Loading and preparing results...\n",
            "DONE (t=0.00s)\n",
            "creating index...\n",
            "index created!\n",
            " Average Precision  (AP) @[ IoU=0.50:0.95 | area=   all | maxDets=100 ] = 0.108\n",
            " Average Precision  (AP) @[ IoU=0.50      | area=   all | maxDets=100 ] = 0.263\n",
            " Average Precision  (AP) @[ IoU=0.75      | area=   all | maxDets=100 ] = 0.062\n",
            " Average Precision  (AP) @[ IoU=0.50:0.95 | area= small | maxDets=100 ] = 0.034\n",
            " Average Precision  (AP) @[ IoU=0.50:0.95 | area=medium | maxDets=100 ] = 0.125\n",
            " Average Precision  (AP) @[ IoU=0.50:0.95 | area= large | maxDets=100 ] = 0.233\n",
            " Average Recall     (AR) @[ IoU=0.50:0.95 | area=   all | maxDets=  1 ] = 0.213\n",
            " Average Recall     (AR) @[ IoU=0.50:0.95 | area=   all | maxDets= 10 ] = 0.230\n",
            " Average Recall     (AR) @[ IoU=0.50:0.95 | area=   all | maxDets=100 ] = 0.230\n",
            " Average Recall     (AR) @[ IoU=0.50:0.95 | area= small | maxDets=100 ] = 0.064\n",
            " Average Recall     (AR) @[ IoU=0.50:0.95 | area=medium | maxDets=100 ] = 0.262\n",
            " Average Recall     (AR) @[ IoU=0.50:0.95 | area= large | maxDets=100 ] = 0.233\n"
          ]
        }
      ]
    },
    {
      "cell_type": "code",
      "source": [
        "# let's extracts these values for all models, gets the best one, and plots these values\n",
        "aps = [x[\"AP50\"] if not math.isnan(x[\"AP50\"]) else 0 for x in model_eval_results]\n",
        "best_model_idx = np.argmax(aps)\n",
        "best_model_name = model_names[best_model_idx]\n",
        "best_ap = aps[best_model_idx]\n",
        "anno_text = f\"The best model {best_model_name} has mAP@0.5={round(best_ap, 2)}\"\n",
        "\n",
        "plt.figure(figsize=(12, 6))\n",
        "x = [i for i in range(len(aps))]\n",
        "y = aps\n",
        "plt.xticks(ticks=x, labels=model_names, rotation=45)\n",
        "plt.plot(x, y)\n",
        "plt.scatter(x, y)\n",
        "plt.plot([best_model_idx, best_model_idx], [0, best_ap], \"--\")\n",
        "plt.ylabel(\"mAP@0.5\")\n",
        "plt.text(best_model_idx + 0.1, best_ap, anno_text, ha=\"left\", va=\"center\")\n",
        "plt.show()"
      ],
      "metadata": {
        "colab": {
          "base_uri": "https://localhost:8080/",
          "height": 403
        },
        "id": "KA6BLyZRnnNK",
        "outputId": "28bea38a-92c4-4272-a7e9-297858369145"
      },
      "execution_count": 18,
      "outputs": [
        {
          "output_type": "display_data",
          "data": {
            "text/plain": [
              "<Figure size 1200x600 with 1 Axes>"
            ],
            "image/png": "[encoded data removed]"
          },
          "metadata": {}
        }
      ]
    },
    {
      "cell_type": "markdown",
      "source": [
        "##Confidence threshold"
      ],
      "metadata": {
        "id": "YkrTXH45qpmS"
      }
    },
    {
      "cell_type": "code",
      "source": [],
      "metadata": {
        "id": "GE62ZZdLqrLC"
      },
      "execution_count": null,
      "outputs": []
    },
    {
      "cell_type": "markdown",
      "source": [
        "##Displaying Samples"
      ],
      "metadata": {
        "id": "Bv351Nt1GPs-"
      }
    },
    {
      "cell_type": "code",
      "source": [
        "# Some configurations\n",
        "name_ds = \"braintumors_coco\"\n",
        "name_ds_train = name_ds + \"_train\"\n",
        "name_ds_test = name_ds + \"_test\"\n",
        "image_root_train = name_ds + \"/train\"\n",
        "image_root_test = name_ds + \"/test\"\n",
        "af = \"_annotations.coco.json\"\n",
        "json_file_train = name_ds + \"/train/\" + af\n",
        "json_file_test = name_ds + \"/test/\" + af\n",
        "\n",
        "# Register datasets\n",
        "## train dataset\n",
        "register_coco_instances(\n",
        "    name=name_ds_train,\n",
        "    metadata={},\n",
        "    json_file=json_file_train,\n",
        "    image_root=image_root_train\n",
        ")\n",
        "##test dataset\n",
        "register_coco_instances(\n",
        "    name=name_ds_test,\n",
        "    metadata={},\n",
        "    json_file=json_file_test,\n",
        "    image_root=image_root_test\n",
        ")"
      ],
      "metadata": {
        "id": "wts2DJgaGQXj"
      },
      "execution_count": null,
      "outputs": []
    },
    {
      "cell_type": "code",
      "source": [
        "random.seed(42)\n",
        "\n",
        "def plot_random_samples(name_ds, n=3):\n",
        "  # access\n",
        "  dataset = DatasetCatalog.get(name_ds)\n",
        "  metadata = MetadataCatalog.get(name_ds)\n",
        "  # plot (arrange in 3x3)\n",
        "  nrows = int(-(-n/3)) # ceil\n",
        "  ncols = 3\n",
        "  fig, axs = plt.subplots(nrows=nrows, ncols=ncols, figsize=(15, 5))\n",
        "  for i,s in enumerate(random.sample(dataset, n)):\n",
        "    ax = axs[i//ncols][i%ncols] if len(axs.shape) == 2 else axs[i]\n",
        "    img = cv2.imread(s[\"file_name\"])\n",
        "    v = Visualizer(img[:,:, ::-1], metadata=metadata, scale=0.5)\n",
        "    v = v.draw_dataset_dict(s)\n",
        "    ax.imshow(v.get_image())\n",
        "    ax.axis(\"off\")\n",
        "  plt.tight_layout()\n",
        "  plt.show()"
      ],
      "metadata": {
        "id": "qzQ54KG4Jsgz"
      },
      "execution_count": null,
      "outputs": []
    },
    {
      "cell_type": "code",
      "source": [
        "# let's displays three sample images and their corresponding labels from the train dataset\n",
        "plot_random_samples(name_ds_train, n=3)"
      ],
      "metadata": {
        "id": "ScUhh7YZKkui"
      },
      "execution_count": null,
      "outputs": []
    },
    {
      "cell_type": "code",
      "source": [
        "# let's displays three sample images and their corresponding labels from the test dataset\n",
        "plot_random_samples(name_ds_test, n=3)"
      ],
      "metadata": {
        "id": "CbvKHeYVKzui"
      },
      "execution_count": null,
      "outputs": []
    },
    {
      "cell_type": "code",
      "source": [
        "# zip converted dataset\n",
        "!zip braintumors_coco.zip braintumors_coco/train/* braintumors_coco/test/*"
      ],
      "metadata": {
        "id": "aZoKxcw9MhgW"
      },
      "execution_count": null,
      "outputs": []
    }
  ]
}