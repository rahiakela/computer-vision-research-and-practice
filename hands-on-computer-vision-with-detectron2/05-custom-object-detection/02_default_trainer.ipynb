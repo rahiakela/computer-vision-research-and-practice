{
  "nbformat": 4,
  "nbformat_minor": 0,
  "metadata": {
    "colab": {
      "provenance": [],
      "toc_visible": true,
      "authorship_tag": "ABX9TyNYM+EchyDrktAqpOM0iwo3",
      "include_colab_link": true
    },
    "kernelspec": {
      "name": "python3",
      "display_name": "Python 3"
    },
    "language_info": {
      "name": "python"
    }
  },
  "cells": [
    {
      "cell_type": "markdown",
      "metadata": {
        "id": "view-in-github",
        "colab_type": "text"
      },
      "source": [
        "<a href=\"https://colab.research.google.com/github/rahiakela/computer-vision-research-and-practice/blob/main/hands-on-computer-vision-with-detectron2/05-custom-object-detection/02_default_trainer.ipynb\" target=\"_parent\"><img src=\"https://colab.research.google.com/assets/colab-badge.svg\" alt=\"Open In Colab\"/></a>"
      ]
    },
    {
      "cell_type": "markdown",
      "source": [
        "##Default_Trainer"
      ],
      "metadata": {
        "id": "X4aqooRa0WwP"
      }
    },
    {
      "cell_type": "markdown",
      "source": [
        "Detectron2 provides a default trainer class, which helps to train Detectron2 models on custom datasets\n",
        "conveniently"
      ],
      "metadata": {
        "id": "ENJEZSze0n3b"
      }
    },
    {
      "cell_type": "markdown",
      "source": [
        "##Setup"
      ],
      "metadata": {
        "id": "Ws6uMtirxsL4"
      }
    },
    {
      "cell_type": "code",
      "source": [
        "%%capture\n",
        "\n",
        "!python -m pip install \"git+https://github.com/facebookresearch/detectron2.git\"\n",
        "#!sudo apt-get install tree\n",
        "#!pip install -q pylabel"
      ],
      "metadata": {
        "id": "XvSM45Nvxsc2"
      },
      "execution_count": null,
      "outputs": []
    },
    {
      "cell_type": "code",
      "source": [
        "import detectron2\n",
        "from detectron2.data.datasets import register_coco_instances\n",
        "from detectron2.data import DatasetCatalog, MetadataCatalog\n",
        "from detectron2.utils.visualizer import Visualizer\n",
        "from detectron2.engine import DefaultTrainer\n",
        "from detectron2.engine import DefaultPredictor\n",
        "from detectron2.evaluation import COCOEvaluator\n",
        "from detectron2.config import get_cfg\n",
        "from detectron2 import model_zoo\n",
        "\n",
        "import os\n",
        "import pickle\n",
        "import shutil\n",
        "import random\n",
        "import logging\n",
        "import math\n",
        "from glob import glob\n",
        "from tqdm import tqdm\n",
        "#import yaml\n",
        "#from yaml.loader import SafeLoader\n",
        "#from pylabel import importer\n",
        "\n",
        "import torch\n",
        "import cv2\n",
        "\n",
        "import numpy as np\n",
        "import matplotlib.pyplot as plt\n",
        "\n",
        "from detectron2.utils.logger import setup_logger\n",
        "\n",
        "# Suppress some user warnings\n",
        "import warnings\n",
        "warnings.simplefilter(action='ignore', category=UserWarning)"
      ],
      "metadata": {
        "id": "fVtmSc7Cyjra"
      },
      "execution_count": 2,
      "outputs": []
    },
    {
      "cell_type": "code",
      "source": [
        "print(detectron2.__version__)"
      ],
      "metadata": {
        "colab": {
          "base_uri": "https://localhost:8080/"
        },
        "id": "oI7nUOMpyQqA",
        "outputId": "31a81abf-7692-4d85-ddab-dae4443cc439"
      },
      "execution_count": 3,
      "outputs": [
        {
          "output_type": "stream",
          "name": "stdout",
          "text": [
            "0.6\n"
          ]
        }
      ]
    },
    {
      "cell_type": "code",
      "source": [
        "!wget https://github.com/rahiakela/computer-vision-research-and-practice/blob/main/hands-on-computer-vision-with-detectron2/05-custom-object-detection/dataset/braintumors_coco.zip?raw=true -O braintumors_coco.zip\n",
        "!unzip -q braintumors_coco.zip"
      ],
      "metadata": {
        "id": "vu_gkcKR_cpV"
      },
      "execution_count": null,
      "outputs": []
    },
    {
      "cell_type": "code",
      "source": [
        "# Some configurations\n",
        "name_ds = \"braintumors_coco\"\n",
        "name_ds_train = name_ds + \"_train\"\n",
        "name_ds_test = name_ds + \"_test\"\n",
        "image_root_train = name_ds + \"/train\"\n",
        "image_root_test = name_ds + \"/test\"\n",
        "af = \"_annotations.coco.json\"\n",
        "json_file_train = name_ds + \"/train/\" + af\n",
        "json_file_test = name_ds + \"/test/\" + af\n",
        "\n",
        "# Register datasets\n",
        "## train dataset\n",
        "register_coco_instances(\n",
        "    name=name_ds_train,\n",
        "    metadata={},\n",
        "    json_file=json_file_train,\n",
        "    image_root=image_root_train\n",
        ")\n",
        "## test dataset\n",
        "register_coco_instances(\n",
        "    name=name_ds_test,\n",
        "    metadata={},\n",
        "    json_file=json_file_test,\n",
        "    image_root=image_root_test\n",
        ")"
      ],
      "metadata": {
        "id": "accdZXApPFv1"
      },
      "execution_count": 5,
      "outputs": []
    },
    {
      "cell_type": "markdown",
      "source": [
        "##Training configuration"
      ],
      "metadata": {
        "id": "c-HtucAUy9JU"
      }
    },
    {
      "cell_type": "code",
      "source": [
        "# let's prepare a logger that Detectron2 uses to log training/inferencing information\n",
        "logger = setup_logger()"
      ],
      "metadata": {
        "id": "Af-r9SR2y_g5"
      },
      "execution_count": 6,
      "outputs": []
    },
    {
      "cell_type": "code",
      "source": [
        "# getting a training configuration\n",
        "output_dir = \"output/object_detector\"\n",
        "os.makedirs(output_dir, exist_ok=True)\n",
        "\n",
        "output_cfg_path = os.path.join(output_dir, \"cfg.pickle\")\n",
        "\n",
        "nc = 2\n",
        "device = \"cuda\"\n",
        "\n",
        "config_file_url = \"COCO-Detection/faster_rcnn_R_50_FPN_3x.yaml\"\n",
        "checkpoint_url = \"COCO-Detection/faster_rcnn_R_50_FPN_3x.yaml\""
      ],
      "metadata": {
        "id": "FqC0kIGCMiS3"
      },
      "execution_count": 7,
      "outputs": []
    },
    {
      "cell_type": "code",
      "source": [
        "# let's create a configuration file\n",
        "cfg = get_cfg()\n",
        "config_file = model_zoo.get_config_file(config_file_url)\n",
        "cfg.merge_from_file(config_file)\n",
        "\n",
        "# Download weights\n",
        "cfg.MODEL.WEIGHTS = model_zoo.get_checkpoint_url(checkpoint_url)\n",
        "\n",
        "# Set datasets\n",
        "cfg.DATASETS.TRAIN = (name_ds_train,)\n",
        "cfg.DATASETS.TEST = (name_ds_test,)\n",
        "\n",
        "# Workers\n",
        "cfg.DATALOADER.NUM_WORKERS = 2\n",
        "\n",
        "# Images per batch\n",
        "cfg.SOLVER.IMS_PER_BATCH = 4  # 8\n",
        "\n",
        "# Learning rate\n",
        "cfg.SOLVER.BASE_LR = 0.00025\n",
        "\n",
        "# Iterations\n",
        "cfg.SOLVER.MAX_ITER  = 5000\n",
        "cfg.SOLVER.CHECKPOINT_PERIOD  = 500\n",
        "\n",
        "# Classes\n",
        "cfg.MODEL.ROI_HEADS.NUM_CLASSES = nc\n",
        "cfg.MODEL.DEVICE = device\n",
        "\n",
        "cfg.OUTPUT_DIR = output_dir"
      ],
      "metadata": {
        "id": "FR3bC-H9N8k6"
      },
      "execution_count": 8,
      "outputs": []
    },
    {
      "cell_type": "code",
      "source": [
        "# save configuration file for future use\n",
        "with open(output_cfg_path, \"wb\") as f:\n",
        "  pickle.dump(cfg, f, protocol=pickle.HIGHEST_PROTOCOL)"
      ],
      "metadata": {
        "id": "iiRHDD4he-LD"
      },
      "execution_count": 9,
      "outputs": []
    },
    {
      "cell_type": "markdown",
      "source": [
        "##Model Training"
      ],
      "metadata": {
        "id": "iWtpY4zb1uZ-"
      }
    },
    {
      "cell_type": "code",
      "source": [
        "trainer = DefaultTrainer(cfg)\n",
        "trainer.train()"
      ],
      "metadata": {
        "id": "A5lbFmqtwmgu"
      },
      "execution_count": null,
      "outputs": []
    },
    {
      "cell_type": "code",
      "source": [
        "# let's see the log events\n",
        "!ls -1 {cfg.OUTPUT_DIR}"
      ],
      "metadata": {
        "id": "uvhEKduVjU9a"
      },
      "execution_count": null,
      "outputs": []
    },
    {
      "cell_type": "markdown",
      "source": [
        "##Best model"
      ],
      "metadata": {
        "id": "G83IOG8CkUwV"
      }
    },
    {
      "cell_type": "code",
      "source": [],
      "metadata": {
        "id": "7KZqrW5xjhvS"
      },
      "execution_count": null,
      "outputs": []
    },
    {
      "cell_type": "markdown",
      "source": [
        "##Displaying Samples"
      ],
      "metadata": {
        "id": "Bv351Nt1GPs-"
      }
    },
    {
      "cell_type": "code",
      "source": [
        "# Some configurations\n",
        "name_ds = \"braintumors_coco\"\n",
        "name_ds_train = name_ds + \"_train\"\n",
        "name_ds_test = name_ds + \"_test\"\n",
        "image_root_train = name_ds + \"/train\"\n",
        "image_root_test = name_ds + \"/test\"\n",
        "af = \"_annotations.coco.json\"\n",
        "json_file_train = name_ds + \"/train/\" + af\n",
        "json_file_test = name_ds + \"/test/\" + af\n",
        "\n",
        "# Register datasets\n",
        "## train dataset\n",
        "register_coco_instances(\n",
        "    name=name_ds_train,\n",
        "    metadata={},\n",
        "    json_file=json_file_train,\n",
        "    image_root=image_root_train\n",
        ")\n",
        "##test dataset\n",
        "register_coco_instances(\n",
        "    name=name_ds_test,\n",
        "    metadata={},\n",
        "    json_file=json_file_test,\n",
        "    image_root=image_root_test\n",
        ")"
      ],
      "metadata": {
        "id": "wts2DJgaGQXj"
      },
      "execution_count": null,
      "outputs": []
    },
    {
      "cell_type": "code",
      "source": [
        "random.seed(42)\n",
        "\n",
        "def plot_random_samples(name_ds, n=3):\n",
        "  # access\n",
        "  dataset = DatasetCatalog.get(name_ds)\n",
        "  metadata = MetadataCatalog.get(name_ds)\n",
        "  # plot (arrange in 3x3)\n",
        "  nrows = int(-(-n/3)) # ceil\n",
        "  ncols = 3\n",
        "  fig, axs = plt.subplots(nrows=nrows, ncols=ncols, figsize=(15, 5))\n",
        "  for i,s in enumerate(random.sample(dataset, n)):\n",
        "    ax = axs[i//ncols][i%ncols] if len(axs.shape) == 2 else axs[i]\n",
        "    img = cv2.imread(s[\"file_name\"])\n",
        "    v = Visualizer(img[:,:, ::-1], metadata=metadata, scale=0.5)\n",
        "    v = v.draw_dataset_dict(s)\n",
        "    ax.imshow(v.get_image())\n",
        "    ax.axis(\"off\")\n",
        "  plt.tight_layout()\n",
        "  plt.show()"
      ],
      "metadata": {
        "id": "qzQ54KG4Jsgz"
      },
      "execution_count": null,
      "outputs": []
    },
    {
      "cell_type": "code",
      "source": [
        "# let's displays three sample images and their corresponding labels from the train dataset\n",
        "plot_random_samples(name_ds_train, n=3)"
      ],
      "metadata": {
        "id": "ScUhh7YZKkui"
      },
      "execution_count": null,
      "outputs": []
    },
    {
      "cell_type": "code",
      "source": [
        "# let's displays three sample images and their corresponding labels from the test dataset\n",
        "plot_random_samples(name_ds_test, n=3)"
      ],
      "metadata": {
        "id": "CbvKHeYVKzui"
      },
      "execution_count": null,
      "outputs": []
    },
    {
      "cell_type": "code",
      "source": [
        "# zip converted dataset\n",
        "!zip braintumors_coco.zip braintumors_coco/train/* braintumors_coco/test/*"
      ],
      "metadata": {
        "id": "aZoKxcw9MhgW"
      },
      "execution_count": null,
      "outputs": []
    }
  ]
}