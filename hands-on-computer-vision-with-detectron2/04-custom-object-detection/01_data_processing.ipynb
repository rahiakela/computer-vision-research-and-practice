{
  "nbformat": 4,
  "nbformat_minor": 0,
  "metadata": {
    "colab": {
      "provenance": [],
      "toc_visible": true,
      "authorship_tag": "ABX9TyMcg/zvNLh2MwmqLrsoc+SS",
      "include_colab_link": true
    },
    "kernelspec": {
      "name": "python3",
      "display_name": "Python 3"
    },
    "language_info": {
      "name": "python"
    }
  },
  "cells": [
    {
      "cell_type": "markdown",
      "metadata": {
        "id": "view-in-github",
        "colab_type": "text"
      },
      "source": [
        "<a href=\"https://colab.research.google.com/github/rahiakela/computer-vision-research-and-practice/blob/main/hands-on-computer-vision-with-detectron2/04-custom-object-detection/01_data_processing.ipynb\" target=\"_parent\"><img src=\"https://colab.research.google.com/assets/colab-badge.svg\" alt=\"Open In Colab\"/></a>"
      ]
    },
    {
      "cell_type": "markdown",
      "source": [
        "##Data Processing"
      ],
      "metadata": {
        "id": "X4aqooRa0WwP"
      }
    },
    {
      "cell_type": "markdown",
      "source": [
        "The dataset used is the brain tumor object detection dataset available from [Kaggle](https://www.kaggle.com/datasets/davidbroberts/brain-tumor-object-detectiondatasets).\n",
        "\n",
        "This dataset is chosen because medical image processing is a critical subfield in computer vision. At the same\n",
        "time, the task is challenging, and the number of images is appropriate for demonstration purposes.\n",
        "\n"
      ],
      "metadata": {
        "id": "ENJEZSze0n3b"
      }
    },
    {
      "cell_type": "markdown",
      "source": [
        "##Setup"
      ],
      "metadata": {
        "id": "Ws6uMtirxsL4"
      }
    },
    {
      "cell_type": "code",
      "source": [
        "!python -m pip install \"git+https://github.com/facebookresearch/detectron2.git\"\n",
        "!sudo apt-get install tree\n",
        "!pip install -q pylabel"
      ],
      "metadata": {
        "id": "XvSM45Nvxsc2"
      },
      "execution_count": null,
      "outputs": []
    },
    {
      "cell_type": "code",
      "source": [
        "import detectron2\n",
        "from detectron2.data.datasets import register_coco_instances\n",
        "from detectron2.data import DatasetCatalog, MetadataCatalog\n",
        "from detectron2.utils.visualizer import Visualizer\n",
        "\n",
        "import os\n",
        "from glob import glob\n",
        "import shutil\n",
        "from tqdm import tqdm\n",
        "import yaml\n",
        "from yaml.loader import SafeLoader\n",
        "from pylabel import importer\n",
        "\n",
        "import torch\n",
        "import cv2\n",
        "\n",
        "import numpy as np\n",
        "import matplotlib.pyplot as plt\n",
        "\n",
        "# Suppress some user warnings\n",
        "import warnings\n",
        "warnings.simplefilter(action='ignore', category=UserWarning)"
      ],
      "metadata": {
        "id": "fVtmSc7Cyjra"
      },
      "execution_count": 2,
      "outputs": []
    },
    {
      "cell_type": "code",
      "source": [
        "print(detectron2.__version__)"
      ],
      "metadata": {
        "colab": {
          "base_uri": "https://localhost:8080/"
        },
        "id": "oI7nUOMpyQqA",
        "outputId": "38607b41-1798-4917-c68c-bae540e4c81c"
      },
      "execution_count": 3,
      "outputs": [
        {
          "output_type": "stream",
          "name": "stdout",
          "text": [
            "0.6\n"
          ]
        }
      ]
    },
    {
      "cell_type": "code",
      "source": [
        "!wget https://github.com/PacktPublishing/Hands-On-Computer-Vision-with-Detectron2/blob/main/datasets/braintumors.zip?raw=true -O braintumors.zip\n",
        "!unzip braintumors.zip -d braintumors"
      ],
      "metadata": {
        "id": "vu_gkcKR_cpV"
      },
      "execution_count": null,
      "outputs": []
    },
    {
      "cell_type": "markdown",
      "source": [
        "##Dataset"
      ],
      "metadata": {
        "id": "c-HtucAUy9JU"
      }
    },
    {
      "cell_type": "code",
      "source": [
        "data_folder = \"braintumors\"\n",
        "data_folder_yolo = data_folder + \"_yolo\"\n",
        "data_folder_coco = data_folder + \"_coco\"\n",
        "\n",
        "folders = os.listdir(\"braintumors\")\n",
        "print(folders)"
      ],
      "metadata": {
        "colab": {
          "base_uri": "https://localhost:8080/"
        },
        "id": "Af-r9SR2y_g5",
        "outputId": "b28cbc27-4e7e-4997-ea18-9e3cca1ec07e"
      },
      "execution_count": 5,
      "outputs": [
        {
          "output_type": "stream",
          "name": "stdout",
          "text": [
            "['sagittal_t1wce_2_class', 'coronal_t1wce_2_class', 'axial_t1wce_2_class']\n"
          ]
        }
      ]
    },
    {
      "cell_type": "code",
      "source": [
        "!tree braintumors/ -d"
      ],
      "metadata": {
        "colab": {
          "base_uri": "https://localhost:8080/"
        },
        "id": "FqC0kIGCMiS3",
        "outputId": "6f403f94-6023-4d65-ecdd-aba84f186a07"
      },
      "execution_count": 6,
      "outputs": [
        {
          "output_type": "stream",
          "name": "stdout",
          "text": [
            "\u001b[01;34mbraintumors/\u001b[0m\n",
            "├── \u001b[01;34maxial_t1wce_2_class\u001b[0m\n",
            "│   ├── \u001b[01;34mimages\u001b[0m\n",
            "│   │   ├── \u001b[01;34mtest\u001b[0m\n",
            "│   │   └── \u001b[01;34mtrain\u001b[0m\n",
            "│   └── \u001b[01;34mlabels\u001b[0m\n",
            "│       ├── \u001b[01;34mtest\u001b[0m\n",
            "│       └── \u001b[01;34mtrain\u001b[0m\n",
            "├── \u001b[01;34mcoronal_t1wce_2_class\u001b[0m\n",
            "│   ├── \u001b[01;34mimages\u001b[0m\n",
            "│   │   ├── \u001b[01;34mtest\u001b[0m\n",
            "│   │   └── \u001b[01;34mtrain\u001b[0m\n",
            "│   └── \u001b[01;34mlabels\u001b[0m\n",
            "│       ├── \u001b[01;34mtest\u001b[0m\n",
            "│       └── \u001b[01;34mtrain\u001b[0m\n",
            "└── \u001b[01;34msagittal_t1wce_2_class\u001b[0m\n",
            "    ├── \u001b[01;34mimages\u001b[0m\n",
            "    │   ├── \u001b[01;34mtest\u001b[0m\n",
            "    │   └── \u001b[01;34mtrain\u001b[0m\n",
            "    └── \u001b[01;34mlabels\u001b[0m\n",
            "        ├── \u001b[01;34mtest\u001b[0m\n",
            "        └── \u001b[01;34mtrain\u001b[0m\n",
            "\n",
            "21 directories\n"
          ]
        }
      ]
    },
    {
      "cell_type": "code",
      "source": [
        "# let's count the number of images and labels from a dataset with the YOLO annotation format\n",
        "def count_yolo_data(folder):\n",
        "  for images_labels in [\"images\", \"labels\"]:\n",
        "    for train_test in [\"train\", \"test\"]:\n",
        "      file_ext = \"*.jpg\" if images_labels == \"images\" else \"*.txt\"\n",
        "      p = os.path.join(folder, images_labels, train_test, file_ext)\n",
        "      files = glob(p)\n",
        "      print(train_test, images_labels, len(files))"
      ],
      "metadata": {
        "id": "FR3bC-H9N8k6"
      },
      "execution_count": 7,
      "outputs": []
    },
    {
      "cell_type": "code",
      "source": [
        "for folder in folders:\n",
        "  print(\"-\"*8 + folder + \"-\"*8)\n",
        "  folder = os.path.join(data_folder, folder)\n",
        "  count_yolo_data(folder)"
      ],
      "metadata": {
        "id": "iiRHDD4he-LD",
        "outputId": "00ecc106-2d18-4bd4-fa98-2f74eb6fc895",
        "colab": {
          "base_uri": "https://localhost:8080/"
        }
      },
      "execution_count": 8,
      "outputs": [
        {
          "output_type": "stream",
          "name": "stdout",
          "text": [
            "--------sagittal_t1wce_2_class--------\n",
            "train images 264\n",
            "test images 70\n",
            "train labels 264\n",
            "test labels 70\n",
            "--------coronal_t1wce_2_class--------\n",
            "train images 319\n",
            "test images 78\n",
            "train labels 318\n",
            "test labels 78\n",
            "--------axial_t1wce_2_class--------\n",
            "train images 310\n",
            "test images 75\n",
            "train labels 296\n",
            "test labels 75\n"
          ]
        }
      ]
    },
    {
      "cell_type": "code",
      "source": [
        "# due to the small number of images, it might be more reasonable to combine images from these folders into one folder\n",
        "def copy_yolo_files(from_folder, to_folder, images_labels, train_set):\n",
        "  from_path = os.path.join(from_folder, images_labels, train_set)\n",
        "  to_path = os.path.join(to_folder, images_labels, train_set)\n",
        "  os.makedirs(to_path, exist_ok=True)\n",
        "\n",
        "  # get files\n",
        "  file_ext = \"*.jpg\" if images_labels == \"images\" else \"*.txt\"\n",
        "  files = glob(os.path.join(from_path, file_ext))\n",
        "  # move files\n",
        "  for file in tqdm(files):\n",
        "    shutil.copy(file, to_path)"
      ],
      "metadata": {
        "id": "VmJpNo3RfEfa"
      },
      "execution_count": 11,
      "outputs": []
    },
    {
      "cell_type": "code",
      "source": [
        "# now, combines images from three folders into one\n",
        "for from_folder in folders:\n",
        "  from_folder = os.path.join(data_folder, from_folder)\n",
        "  to_folder = data_folder_yolo\n",
        "  for images_labels in [\"images\", \"labels\"]:\n",
        "    for train_set in [\"train\", \"test\"]:\n",
        "      copy_yolo_files(from_folder, to_folder, images_labels, train_set)"
      ],
      "metadata": {
        "id": "_fRtYN-FIZFg",
        "outputId": "95e4e48c-78ed-4203-b8fb-f8b19e0fdbb9",
        "colab": {
          "base_uri": "https://localhost:8080/"
        }
      },
      "execution_count": 12,
      "outputs": [
        {
          "output_type": "stream",
          "name": "stderr",
          "text": [
            "100%|██████████| 264/264 [00:00<00:00, 6283.53it/s]\n",
            "100%|██████████| 70/70 [00:00<00:00, 5507.33it/s]\n",
            "100%|██████████| 264/264 [00:00<00:00, 3170.25it/s]\n",
            "100%|██████████| 70/70 [00:00<00:00, 4005.47it/s]\n",
            "100%|██████████| 319/319 [00:00<00:00, 4520.63it/s]\n",
            "100%|██████████| 78/78 [00:00<00:00, 4570.81it/s]\n",
            "100%|██████████| 318/318 [00:00<00:00, 5986.48it/s]\n",
            "100%|██████████| 78/78 [00:00<00:00, 5998.12it/s]\n",
            "100%|██████████| 310/310 [00:00<00:00, 4434.80it/s]\n",
            "100%|██████████| 75/75 [00:00<00:00, 4611.22it/s]\n",
            "100%|██████████| 296/296 [00:00<00:00, 7809.54it/s]\n",
            "100%|██████████| 75/75 [00:00<00:00, 5934.10it/s]\n"
          ]
        }
      ]
    },
    {
      "cell_type": "code",
      "source": [
        "# Now the folder should look like\n",
        "!tree -d {data_folder_yolo}"
      ],
      "metadata": {
        "id": "Xre1nz0cJEVC",
        "outputId": "26cec119-1fcf-4b53-9d5d-711ad2a886f8",
        "colab": {
          "base_uri": "https://localhost:8080/"
        }
      },
      "execution_count": 13,
      "outputs": [
        {
          "output_type": "stream",
          "name": "stdout",
          "text": [
            "\u001b[01;34mbraintumors_yolo\u001b[0m\n",
            "├── \u001b[01;34mimages\u001b[0m\n",
            "│   ├── \u001b[01;34mtest\u001b[0m\n",
            "│   └── \u001b[01;34mtrain\u001b[0m\n",
            "└── \u001b[01;34mlabels\u001b[0m\n",
            "    ├── \u001b[01;34mtest\u001b[0m\n",
            "    └── \u001b[01;34mtrain\u001b[0m\n",
            "\n",
            "6 directories\n"
          ]
        }
      ]
    },
    {
      "cell_type": "code",
      "source": [
        "# do the counting just to make sure\n",
        "count_yolo_data(data_folder_yolo)"
      ],
      "metadata": {
        "id": "ip0sAf6HJbGD",
        "outputId": "e7f1f0cf-a26e-4955-e3c3-b7f6d1883816",
        "colab": {
          "base_uri": "https://localhost:8080/"
        }
      },
      "execution_count": 14,
      "outputs": [
        {
          "output_type": "stream",
          "name": "stdout",
          "text": [
            "train images 893\n",
            "test images 223\n",
            "train labels 878\n",
            "test labels 223\n"
          ]
        }
      ]
    },
    {
      "cell_type": "code",
      "source": [
        "# let's read the yaml file and write the class file\n",
        "with open(os.path.join(data_folder, folders[0], folders[0] + \".yaml\")) as f:\n",
        "  classes = yaml.load(f, Loader=SafeLoader)[\"names\"]\n",
        "# Write classes.txt\n",
        "with open(os.path.join(data_folder_yolo, \"classes.txt\"), \"w\") as f:\n",
        "  f.write(\"\\n\".join(classes))"
      ],
      "metadata": {
        "id": "ve_JICl4KaKn"
      },
      "execution_count": 15,
      "outputs": []
    },
    {
      "cell_type": "markdown",
      "source": [
        "##Data format conversion"
      ],
      "metadata": {
        "id": "iWtpY4zb1uZ-"
      }
    },
    {
      "cell_type": "code",
      "source": [],
      "metadata": {
        "id": "A5lbFmqtwmgu"
      },
      "execution_count": null,
      "outputs": []
    }
  ]
}