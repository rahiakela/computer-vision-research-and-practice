{
  "nbformat": 4,
  "nbformat_minor": 0,
  "metadata": {
    "colab": {
      "name": "video-classification-with-keras-and-deep-learning.ipynb",
      "provenance": [],
      "authorship_tag": "ABX9TyNgIR0y3mYdtlePpfgkLjNX",
      "include_colab_link": true
    },
    "kernelspec": {
      "name": "python3",
      "display_name": "Python 3"
    },
    "accelerator": "GPU"
  },
  "cells": [
    {
      "cell_type": "markdown",
      "metadata": {
        "id": "view-in-github",
        "colab_type": "text"
      },
      "source": [
        "<a href=\"https://colab.research.google.com/github/rahiakela/computer-vision-video-analytics/blob/master/video_classification_with_keras_and_deep_learning.ipynb\" target=\"_parent\"><img src=\"https://colab.research.google.com/assets/colab-badge.svg\" alt=\"Open In Colab\"/></a>"
      ]
    },
    {
      "cell_type": "markdown",
      "metadata": {
        "id": "aI2beeAOEHd4",
        "colab_type": "text"
      },
      "source": [
        "# Video classification with Keras and Deep Learning"
      ]
    },
    {
      "cell_type": "markdown",
      "metadata": {
        "id": "wzoqxK8fEcoZ",
        "colab_type": "text"
      },
      "source": [
        "In this tutorial, you will learn how to perform video classification using Keras, Python, and Deep Learning.\n",
        "\n",
        "Specifically, you will learn:\n",
        "\n",
        "- The difference between video classification and standard image classification\n",
        "- How to train a Convolutional Neural Network using Keras for image classification\n",
        "- How to take that CNN and then use it for video classification\n",
        "- How to use **rolling prediction averaging to reduce “flickering” in results**\n",
        "\n",
        "This tutorial will serve as an introduction to the concept of working with deep learning in a temporal nature, paving the way for when we discuss Long Short-term Memory networks (LSTMs) and eventually human activity recognition."
      ]
    },
    {
      "cell_type": "markdown",
      "metadata": {
        "id": "BOceBqT_E4yL",
        "colab_type": "text"
      },
      "source": [
        "## Overview"
      ]
    },
    {
      "cell_type": "markdown",
      "metadata": {
        "id": "bfGZ7QjJE6dD",
        "colab_type": "text"
      },
      "source": [
        "Videos can be understood as a series of individual images; and therefore, many deep learning practitioners would be quick to treat video classification as performing image classification a total of N times, where N is the total number of frames in a video.\n",
        "\n",
        "**There’s a problem with that approach though.**\n",
        "\n",
        "Video classification is more than just simple image classification — **with video we can typically make the assumption that subsequent frames in a video are correlated with respect to their semantic contents.**\n",
        "\n",
        "If we are able to take advantage of the temporal nature of videos, we can improve our actual video classification results.\n",
        "\n",
        "Neural network architectures such as Long short-term memory (LSTMs) and Recurrent Neural Networks (RNNs) are suited for time series data — two topics that we’ll be covering in later tutorials — but in some cases, they may be overkill. They are also resource-hungry and time-consuming when it comes to training over thousands of video files as you can imagine.\n",
        "\n",
        "**Instead, for some applications, all you may need is rolling averaging over predictions.**\n",
        "\n",
        "In the remainder of this tutorial, you’ll learn how to train a CNN for image classification (specifically sports classification) and then turn it into a more accurate video classifier by employing rolling averaging."
      ]
    },
    {
      "cell_type": "markdown",
      "metadata": {
        "id": "ADH3RuGGFdL6",
        "colab_type": "text"
      },
      "source": [
        "### How is video classification different than image classification?"
      ]
    },
    {
      "cell_type": "markdown",
      "metadata": {
        "id": "xm72iaBKFemt",
        "colab_type": "text"
      },
      "source": [
        "When performing image classification, we:\n",
        "\n",
        "1. Input an image to our CNN\n",
        "2. Obtain the predictions from the CNN\n",
        "3. Choose the label with the largest corresponding probability\n",
        "\n",
        "Since a video is just a series of frames, a naive video classification method would be to:\n",
        "\n",
        "1. Loop over all frames in the video file\n",
        "2. For each frame, pass the frame through the CNN\n",
        "3. Classify each frame individually and independently of each other\n",
        "4. Choose the label with the largest corresponding probability\n",
        "5. Label the frame and write the output frame to disk\n",
        "\n",
        "There’s a problem with this approach though — if you’ve ever tried to apply simple image classification to video classification you likely encountered a sort of “prediction flickering” [as seen in the video at the top of this section](https://www.pyimagesearch.com/2019/07/15/video-classification-with-keras-and-deep-learning/). Notice how in this visualization we see our CNN shifting between two predictions: “football” and the correct label, “weight_lifting”.\n",
        "\n",
        "The video is clearly of weightlifting and we would like our entire video to be labeled as such — but how we can prevent the CNN “flickering” between these two labels?\n",
        "\n",
        "**A simple, yet elegant solution, is to utilize a rolling prediction average.**\n",
        "\n",
        "Our algorithm now becomes:\n",
        "\n",
        "1. Loop over all frames in the video file\n",
        "2. For each frame, pass the frame through the CNN\n",
        "3. Obtain the predictions from the CNN\n",
        "4. Maintain a list of the last K predictions\n",
        "5. Compute the average of the last K predictions and choose the label with the largest corresponding probability\n",
        "6. Label the frame and write the output frame to disk\n",
        "\n",
        "The results of this algorithm can be seen in the video at the very top of this post — notice how the prediction flickering is gone and the entire video clip is correctly labeled!\n",
        "\n"
      ]
    },
    {
      "cell_type": "markdown",
      "metadata": {
        "id": "3KAGWYdLISqp",
        "colab_type": "text"
      },
      "source": [
        "### The Sports Classification Dataset"
      ]
    },
    {
      "cell_type": "markdown",
      "metadata": {
        "id": "VFlcjd7mIXKY",
        "colab_type": "text"
      },
      "source": [
        "<img src='https://pyimagesearch.com/wp-content/uploads/2019/07/keras_video_classification_sports_dataset.jpg?raw=1' width='800'/>\n",
        "\n",
        "The dataset we’ll be using here today is for sport/activity classification. The dataset was curated by [Anubhav Maity](https://github.com/anubhavmaity) by downloading photos from [Google Images (you could also use Bing)](https://www.pyimagesearch.com/2017/12/04/how-to-create-a-deep-learning-dataset-using-google-images/) for the following categories:\n",
        "\n",
        "<img src='https://github.com/rahiakela/img-repo/blob/master/listing.png?raw=1' width='800'/>\n",
        "\n",
        "To save time, computational resources, and to demonstrate the actual video classification algorithm (the actual point of this tutorial), we’ll be training on a subset of the sports type dataset:\n",
        "\n",
        "- **Football** (i.e., soccer): 799 images\n",
        "- **Tennis**: 718 images\n",
        "- **Weightlifting**: 577 images\n",
        "\n",
        "Let’s go ahead and download our dataset!"
      ]
    },
    {
      "cell_type": "markdown",
      "metadata": {
        "id": "lIOdNrhwJoAy",
        "colab_type": "text"
      },
      "source": [
        "### Downloading the Sports Classification Dataset"
      ]
    },
    {
      "cell_type": "markdown",
      "metadata": {
        "id": "cuWnoCEZK0nS",
        "colab_type": "text"
      },
      "source": [
        "I’ve decided to include a subset of the dataset because Anubhav Maity’s original dataset is no longer available on GitHub (a near-identical sports dataset is available [here](https://github.com/jurjsorinliviu/Sports-Type-Classifier)).\n",
        "\n"
      ]
    },
    {
      "cell_type": "code",
      "metadata": {
        "id": "wmtN35khLdSs",
        "colab_type": "code",
        "colab": {
          "base_uri": "https://localhost:8080/",
          "height": 124
        },
        "outputId": "f6db4d54-0cdd-4f92-b627-3957074f2725"
      },
      "source": [
        "# download dataset from github\n",
        "!git clone https://github.com/jurjsorinliviu/Sports-Type-Classifier"
      ],
      "execution_count": 1,
      "outputs": [
        {
          "output_type": "stream",
          "text": [
            "Cloning into 'Sports-Type-Classifier'...\n",
            "remote: Enumerating objects: 14521, done.\u001b[K\n",
            "remote: Total 14521 (delta 0), reused 0 (delta 0), pack-reused 14521\u001b[K\n",
            "Receiving objects: 100% (14521/14521), 592.88 MiB | 6.23 MiB/s, done.\n",
            "Resolving deltas: 100% (6/6), done.\n",
            "Checking out files: 100% (14619/14619), done.\n"
          ],
          "name": "stdout"
        }
      ]
    },
    {
      "cell_type": "code",
      "metadata": {
        "id": "XSr53buHMAYG",
        "colab_type": "code",
        "colab": {}
      },
      "source": [
        "# creating directory for subset of dataset\n",
        "!mkdir sports-type-classifier\n",
        "!mkdir sports-type-classifier/data\n",
        "!mkdir sports-type-classifier/data/football\n",
        "!mkdir sports-type-classifier/data/tennis\n",
        "!mkdir sports-type-classifier/data/weightlifting\n",
        "\n",
        "# copy the subset of dataset(Football, Tennis and Weightlifting)\n",
        "! cp Sports-Type-Classifier/data/football/* sports-type-classifier/data/football\n",
        "! cp Sports-Type-Classifier/data/tennis/* sports-type-classifier/data/tennis\n",
        "! cp Sports-Type-Classifier/data/weight_lifting/* sports-type-classifier/data/weightlifting"
      ],
      "execution_count": 2,
      "outputs": []
    },
    {
      "cell_type": "code",
      "metadata": {
        "id": "zZFEjtoYLluQ",
        "colab_type": "code",
        "colab": {
          "base_uri": "https://localhost:8080/",
          "height": 70
        },
        "outputId": "f3614b8a-c6d3-4a78-bb89-c2c15d8f64c0"
      },
      "source": [
        "!ls sports-type-classifier/data | grep -Ev \"urls|models|csv|pkl\""
      ],
      "execution_count": 3,
      "outputs": [
        {
          "output_type": "stream",
          "text": [
            "football\n",
            "tennis\n",
            "weightlifting\n"
          ],
          "name": "stdout"
        }
      ]
    },
    {
      "cell_type": "markdown",
      "metadata": {
        "id": "XFXtGd3-OebC",
        "colab_type": "text"
      },
      "source": [
        "## Implementing video classification"
      ]
    },
    {
      "cell_type": "markdown",
      "metadata": {
        "id": "z7FpMztEOmEB",
        "colab_type": "text"
      },
      "source": [
        "We have divided the implementation into two section:\n",
        "\n",
        "- **Training Keras model**: that grabs the dataset class images that we care about,[ loads the ResNet50 CNN, and applies transfer learning](https://www.pyimagesearch.com/2019/06/03/fine-tuning-with-keras-and-deep-learning/)/fine-tuning of ImageNet weights to train our model. The training script generates/outputs three files:\n",
        "  - `model/activity.model` : A fine-tuned classifier based on ResNet50 for recognizing sports.\n",
        "  - `model/lb.pickle` : A serialized label binarizer containing our unique class labels.\n",
        "  - `plot.png` : The accuracy/loss training history plot.\n",
        "\n",
        "- **Predicting**: Loads an input video from the example_clips/ and proceeds to classify the video ideally using today’s rolling average method.\n"
      ]
    },
    {
      "cell_type": "markdown",
      "metadata": {
        "id": "9gDg-VovPscm",
        "colab_type": "text"
      },
      "source": [
        "### Training Keras model"
      ]
    },
    {
      "cell_type": "markdown",
      "metadata": {
        "id": "I2DXk9EQPxF9",
        "colab_type": "text"
      },
      "source": [
        "Let’s go ahead and train a Keras CNN to recognize each of the sports activities."
      ]
    },
    {
      "cell_type": "code",
      "metadata": {
        "id": "E5wSDhqJL4lw",
        "colab_type": "code",
        "colab": {}
      },
      "source": [
        "# set the matplotlib backend so figures can be saved in the background\n",
        "import matplotlib\n",
        "matplotlib.use(\"Agg\")\n",
        "\n",
        "# import the necessary packages\n",
        "from tensorflow.keras.preprocessing.image import ImageDataGenerator\n",
        "from tensorflow.keras.layers import AveragePooling2D\n",
        "from tensorflow.keras.applications import ResNet50\n",
        "from tensorflow.keras.layers import Dropout\n",
        "from tensorflow.keras.layers import Flatten\n",
        "from tensorflow.keras.layers import Dense\n",
        "from tensorflow.keras.layers import Input\n",
        "from tensorflow.keras.models import Model\n",
        "from tensorflow.keras.optimizers import SGD\n",
        "from sklearn.preprocessing import LabelBinarizer\n",
        "from sklearn.model_selection import train_test_split\n",
        "from sklearn.metrics import classification_report\n",
        "from imutils import paths\n",
        "import matplotlib.pyplot as plt\n",
        "import numpy as np\n",
        "import argparse\n",
        "import pickle\n",
        "import cv2\n",
        "import os\n",
        "\n",
        "%matplotlib inline"
      ],
      "execution_count": 21,
      "outputs": []
    },
    {
      "cell_type": "markdown",
      "metadata": {
        "id": "enNydfGXRQ71",
        "colab_type": "text"
      },
      "source": [
        "Let’s proceed to initialize our LABELS and load our data :\n",
        "\n",
        "The set of class LABELS for which our dataset will consist of. All labels not present in this set will be excluded from being part of our dataset. To save on training time, our dataset will only consist of weight lifting, tennis, and football/soccer. Feel free to work with other classes by making changes to the LABELS set."
      ]
    },
    {
      "cell_type": "code",
      "metadata": {
        "id": "Z1VgPQwHRS9a",
        "colab_type": "code",
        "colab": {}
      },
      "source": [
        "# initialize the set of labels from the spots activity dataset we are going to train our network on\n",
        "LABELS = set([\"weightlifting\", \"tennis\", \"football\"])"
      ],
      "execution_count": 5,
      "outputs": []
    },
    {
      "cell_type": "markdown",
      "metadata": {
        "id": "6Zq3Nv3cUz_-",
        "colab_type": "text"
      },
      "source": [
        "Load and preprocess an image . Preprocessing includes swapping color channels for OpenCV to Keras compatibility and resizing to 224×224px."
      ]
    },
    {
      "cell_type": "code",
      "metadata": {
        "id": "pWLOq-77R55N",
        "colab_type": "code",
        "colab": {
          "base_uri": "https://localhost:8080/",
          "height": 35
        },
        "outputId": "18b4294f-1c24-4b4f-c591-8a39e5e6c4ad"
      },
      "source": [
        "image_paths = \"sports-type-classifier/data\"\n",
        "data = []\n",
        "labels = []\n",
        "\n",
        "# loop over the image paths\n",
        "for entry in os.scandir(image_paths):\n",
        "  img_path = entry.path\n",
        "  # extract the class label from the filename\n",
        "  label = img_path.split(os.path.sep)[-1]\n",
        "  # if the label of the current image is not part of of the labels are interested in, then ignore the image\n",
        "  if label not in LABELS:\n",
        "    continue\n",
        "\n",
        "  for filename in os.listdir(entry.path):\n",
        "    # load the image, convert it to RGB channel ordering, and resize it to be a fixed 224x224 pixels, ignoring aspect ratio\n",
        "    if filename.endswith(\".jpg\"):\n",
        "      image = cv2.imread(os.path.join(img_path, filename))\n",
        "      image = cv2.cvtColor(image, cv2.COLOR_BGR2RGB)\n",
        "      image = cv2.resize(image, (224, 224))\n",
        "\n",
        "      # update the data and labels lists, respectively\n",
        "      data.append(image)\n",
        "      labels.append(label)\n",
        "print(len(data), len(labels))"
      ],
      "execution_count": 6,
      "outputs": [
        {
          "output_type": "stream",
          "text": [
            "1779 1779\n"
          ],
          "name": "stdout"
        }
      ]
    },
    {
      "cell_type": "markdown",
      "metadata": {
        "id": "ETC_-0qobLpG",
        "colab_type": "text"
      },
      "source": [
        "One-hot encoding is a way of marking an active class label via binary array elements. For example “football” may be array([1, 0, 0]) whereas “weightlifting” may be array([0, 0, 1]) . Notice how only one class is “hot” at any given time."
      ]
    },
    {
      "cell_type": "code",
      "metadata": {
        "id": "NhPTUSFlaNhG",
        "colab_type": "code",
        "colab": {
          "base_uri": "https://localhost:8080/",
          "height": 88
        },
        "outputId": "02b8f946-f5c3-4c6a-c0ea-7718367c3635"
      },
      "source": [
        "# convert the data and labels to NumPy arrays\n",
        "data = np.array(data)\n",
        "labels = np.array(labels)\n",
        "\n",
        "print(labels.shape)\n",
        "print(data.shape)\n",
        "\n",
        "# perform one-hot encoding on the labels\n",
        "label_encoder = LabelBinarizer()\n",
        "labels = label_encoder.fit_transform(labels)\n",
        "\n",
        "# partition the data into training and testing splits using 75% of\n",
        "# the data for training and the remaining 25% for testing\n",
        "# (trainX, testX, trainY, testY) = train_test_split(data, labels, test_size=0.25, stratify=labels, random_state=42)\n",
        "trainX = data[:1200]\n",
        "testX = data[1200:]\n",
        "trainY = labels[:1200]\n",
        "testY = labels[1200:]\n",
        "print(trainX.shape, testX.shape)\n",
        "print(trainY.shape, testY.shape)"
      ],
      "execution_count": 7,
      "outputs": [
        {
          "output_type": "stream",
          "text": [
            "(1779,)\n",
            "(1779, 224, 224, 3)\n",
            "(1200, 224, 224, 3) (579, 224, 224, 3)\n",
            "(1200, 3) (579, 3)\n"
          ],
          "name": "stdout"
        }
      ]
    },
    {
      "cell_type": "markdown",
      "metadata": {
        "id": "8DyLEkwD1vUF",
        "colab_type": "text"
      },
      "source": [
        "Let's initialize two data augmentation objects — one for training and one for validation. Data augmentation is nearly always recommended in deep learning for computer vision to increase model generalization.\n",
        "\n",
        "The trainAug object performs random rotations, zooms, shifts, shears, and flips on our data. You can [read more about the ImageDataGenerator and fit here](https://www.pyimagesearch.com/2018/12/24/how-to-use-keras-fit-and-fit_generator-a-hands-on-tutorial/). As we reinforced last week, keep in mind that [with Keras, images will be generated on-the-fly](https://www.pyimagesearch.com/2019/07/08/keras-imagedatagenerator-and-data-augmentation/) (it is not an additive operation).\n",
        "\n",
        "No augmentation will be conducted for validation data (valAug ), but we will perform mean subtraction."
      ]
    },
    {
      "cell_type": "code",
      "metadata": {
        "id": "7WU2JHWJcNI2",
        "colab_type": "code",
        "colab": {}
      },
      "source": [
        "# initialize the training data augmentation object\n",
        "train_aug = ImageDataGenerator(\n",
        "\trotation_range=30,\n",
        "\tzoom_range=0.15,\n",
        "\twidth_shift_range=0.2,\n",
        "\theight_shift_range=0.2,\n",
        "\tshear_range=0.15,\n",
        "\thorizontal_flip=True,\n",
        "\tfill_mode=\"nearest\")\n",
        "\n",
        "# initialize the validation/testing data augmentation object (which we'll be adding mean subtraction to)\n",
        "val_aug = ImageDataGenerator()\n",
        "\n",
        "# define the ImageNet mean subtraction (in RGB order) and set the\n",
        "# the mean subtraction value for each of the data augmentation objects\n",
        "mean = np.array([123.68, 116.779, 103.939], dtype=\"float32\")\n",
        "train_aug.mean = mean\n",
        "val_aug.mean = mean"
      ],
      "execution_count": 8,
      "outputs": []
    },
    {
      "cell_type": "markdown",
      "metadata": {
        "id": "rJFLQFRj3NB2",
        "colab_type": "text"
      },
      "source": [
        "Now we’re going to perform what I like to call “network surgery” as part of fine-tuning:"
      ]
    },
    {
      "cell_type": "code",
      "metadata": {
        "id": "Ku7iKEHh3Bgn",
        "colab_type": "code",
        "colab": {
          "base_uri": "https://localhost:8080/",
          "height": 72
        },
        "outputId": "43a40333-a136-459a-8237-2c97789c3579"
      },
      "source": [
        "# load the ResNet-50 network, ensuring the head FC layer sets are left off\n",
        "baseModel = ResNet50(weights=\"imagenet\", include_top=False, input_tensor=Input(shape=(224, 224, 3)))\n",
        "\n",
        "# construct the head of the model that will be placed on top of the the base model\n",
        "headModel = baseModel.output\n",
        "headModel = AveragePooling2D(pool_size=(7, 7))(headModel)\n",
        "headModel = Flatten(name=\"flatten\")(headModel)\n",
        "headModel = Dense(512, activation=\"relu\")(headModel)\n",
        "headModel = Dropout(0.5)(headModel)\n",
        "headModel = Dense(len(label_encoder.classes_), activation=\"softmax\")(headModel)\n",
        "\n",
        "# place the head FC model on top of the base model (this will become the actual model we will train)\n",
        "model = Model(inputs=baseModel.input, outputs=headModel)\n",
        "\n",
        "# loop over all layers in the base model and freeze them so they will *not* be updated during the training process\n",
        "for layer in baseModel.layers:\n",
        "\tlayer.trainable = False"
      ],
      "execution_count": 9,
      "outputs": [
        {
          "output_type": "stream",
          "text": [
            "Downloading data from https://storage.googleapis.com/tensorflow/keras-applications/resnet/resnet50_weights_tf_dim_ordering_tf_kernels_notop.h5\n",
            "94773248/94765736 [==============================] - 2s 0us/step\n"
          ],
          "name": "stdout"
        }
      ]
    },
    {
      "cell_type": "markdown",
      "metadata": {
        "id": "S_SE5r1B32Zy",
        "colab_type": "text"
      },
      "source": [
        "Let’s go ahead and compile + train our model"
      ]
    },
    {
      "cell_type": "code",
      "metadata": {
        "id": "pdgfaeLZ3qRt",
        "colab_type": "code",
        "colab": {
          "base_uri": "https://localhost:8080/",
          "height": 1000
        },
        "outputId": "74ac20f7-6b15-4fc8-a852-5b10509f907e"
      },
      "source": [
        "# compile our model (this needs to be done after our setting our layers to being non-trainable)\n",
        "print(\"[INFO] compiling model...\")\n",
        "opt = SGD(lr=1e-4, momentum=0.9, decay=1e-4 / 50)\n",
        "model.compile(loss=\"categorical_crossentropy\", optimizer=opt, metrics=[\"accuracy\"])\n",
        "\n",
        "# train the head of the network for a few epochs (all other layers\n",
        "# are frozen) -- this will allow the new FC layers to start to become\n",
        "# initialized with actual \"learned\" values versus pure random\n",
        "print(\"[INFO] training head...\")\n",
        "H = model.fit(\n",
        "\tx=train_aug.flow(trainX, trainY, batch_size=32),\n",
        "\tsteps_per_epoch=len(trainX) // 32,\n",
        "\tvalidation_data=val_aug.flow(testX, testY),\n",
        "\tvalidation_steps=len(testX) // 32,\n",
        "\tepochs=50)"
      ],
      "execution_count": 10,
      "outputs": [
        {
          "output_type": "stream",
          "text": [
            "[INFO] compiling model...\n",
            "[INFO] training head...\n",
            "Epoch 1/50\n",
            "37/37 [==============================] - 15s 392ms/step - loss: 1.2313 - accuracy: 0.5009 - val_loss: 3.4295 - val_accuracy: 0.0000e+00\n",
            "Epoch 2/50\n",
            "37/37 [==============================] - 14s 371ms/step - loss: 0.8149 - accuracy: 0.6592 - val_loss: 2.6547 - val_accuracy: 0.0069\n",
            "Epoch 3/50\n",
            "37/37 [==============================] - 14s 372ms/step - loss: 0.6801 - accuracy: 0.7269 - val_loss: 2.2893 - val_accuracy: 0.0243\n",
            "Epoch 4/50\n",
            "37/37 [==============================] - 14s 372ms/step - loss: 0.6304 - accuracy: 0.7466 - val_loss: 2.0748 - val_accuracy: 0.0556\n",
            "Epoch 5/50\n",
            "37/37 [==============================] - 14s 371ms/step - loss: 0.5269 - accuracy: 0.7928 - val_loss: 1.9384 - val_accuracy: 0.0799\n",
            "Epoch 6/50\n",
            "37/37 [==============================] - 14s 375ms/step - loss: 0.4772 - accuracy: 0.8202 - val_loss: 1.5850 - val_accuracy: 0.2101\n",
            "Epoch 7/50\n",
            "37/37 [==============================] - 14s 373ms/step - loss: 0.4569 - accuracy: 0.8219 - val_loss: 1.5583 - val_accuracy: 0.2205\n",
            "Epoch 8/50\n",
            "37/37 [==============================] - 14s 374ms/step - loss: 0.4526 - accuracy: 0.8142 - val_loss: 1.5138 - val_accuracy: 0.2413\n",
            "Epoch 9/50\n",
            "37/37 [==============================] - 14s 374ms/step - loss: 0.4259 - accuracy: 0.8228 - val_loss: 1.3334 - val_accuracy: 0.3333\n",
            "Epoch 10/50\n",
            "37/37 [==============================] - 14s 375ms/step - loss: 0.3775 - accuracy: 0.8536 - val_loss: 1.2995 - val_accuracy: 0.3715\n",
            "Epoch 11/50\n",
            "37/37 [==============================] - 14s 377ms/step - loss: 0.3885 - accuracy: 0.8476 - val_loss: 1.1511 - val_accuracy: 0.4792\n",
            "Epoch 12/50\n",
            "37/37 [==============================] - 14s 376ms/step - loss: 0.3615 - accuracy: 0.8767 - val_loss: 1.0975 - val_accuracy: 0.5139\n",
            "Epoch 13/50\n",
            "37/37 [==============================] - 14s 375ms/step - loss: 0.3724 - accuracy: 0.8519 - val_loss: 1.0691 - val_accuracy: 0.5365\n",
            "Epoch 14/50\n",
            "37/37 [==============================] - 14s 375ms/step - loss: 0.3386 - accuracy: 0.8622 - val_loss: 1.0755 - val_accuracy: 0.5347\n",
            "Epoch 15/50\n",
            "37/37 [==============================] - 14s 375ms/step - loss: 0.3149 - accuracy: 0.8741 - val_loss: 1.0198 - val_accuracy: 0.5677\n",
            "Epoch 16/50\n",
            "37/37 [==============================] - 14s 373ms/step - loss: 0.3582 - accuracy: 0.8664 - val_loss: 1.0821 - val_accuracy: 0.5278\n",
            "Epoch 17/50\n",
            "37/37 [==============================] - 14s 376ms/step - loss: 0.3102 - accuracy: 0.8793 - val_loss: 0.9848 - val_accuracy: 0.5747\n",
            "Epoch 18/50\n",
            "37/37 [==============================] - 14s 379ms/step - loss: 0.2943 - accuracy: 0.8955 - val_loss: 0.9433 - val_accuracy: 0.6042\n",
            "Epoch 19/50\n",
            "37/37 [==============================] - 14s 375ms/step - loss: 0.3136 - accuracy: 0.8733 - val_loss: 0.9204 - val_accuracy: 0.6267\n",
            "Epoch 20/50\n",
            "37/37 [==============================] - 14s 378ms/step - loss: 0.2897 - accuracy: 0.8801 - val_loss: 0.8658 - val_accuracy: 0.6667\n",
            "Epoch 21/50\n",
            "37/37 [==============================] - 14s 374ms/step - loss: 0.2813 - accuracy: 0.8973 - val_loss: 0.9118 - val_accuracy: 0.6337\n",
            "Epoch 22/50\n",
            "37/37 [==============================] - 14s 376ms/step - loss: 0.2857 - accuracy: 0.8921 - val_loss: 0.8975 - val_accuracy: 0.6493\n",
            "Epoch 23/50\n",
            "37/37 [==============================] - 14s 377ms/step - loss: 0.2864 - accuracy: 0.8947 - val_loss: 0.8731 - val_accuracy: 0.6615\n",
            "Epoch 24/50\n",
            "37/37 [==============================] - 14s 376ms/step - loss: 0.2560 - accuracy: 0.8998 - val_loss: 0.9344 - val_accuracy: 0.6198\n",
            "Epoch 25/50\n",
            "37/37 [==============================] - 14s 377ms/step - loss: 0.2746 - accuracy: 0.8887 - val_loss: 0.8666 - val_accuracy: 0.6684\n",
            "Epoch 26/50\n",
            "37/37 [==============================] - 14s 376ms/step - loss: 0.2559 - accuracy: 0.8998 - val_loss: 0.8881 - val_accuracy: 0.6510\n",
            "Epoch 27/50\n",
            "37/37 [==============================] - 14s 374ms/step - loss: 0.2502 - accuracy: 0.9084 - val_loss: 0.8120 - val_accuracy: 0.6910\n",
            "Epoch 28/50\n",
            "37/37 [==============================] - 14s 376ms/step - loss: 0.2650 - accuracy: 0.8955 - val_loss: 0.7807 - val_accuracy: 0.7083\n",
            "Epoch 29/50\n",
            "37/37 [==============================] - 14s 378ms/step - loss: 0.2308 - accuracy: 0.9092 - val_loss: 0.7834 - val_accuracy: 0.7153\n",
            "Epoch 30/50\n",
            "37/37 [==============================] - 14s 374ms/step - loss: 0.2348 - accuracy: 0.9110 - val_loss: 0.7507 - val_accuracy: 0.7205\n",
            "Epoch 31/50\n",
            "37/37 [==============================] - 14s 382ms/step - loss: 0.2346 - accuracy: 0.9152 - val_loss: 0.7926 - val_accuracy: 0.7083\n",
            "Epoch 32/50\n",
            "37/37 [==============================] - 14s 375ms/step - loss: 0.2497 - accuracy: 0.8955 - val_loss: 0.7419 - val_accuracy: 0.7240\n",
            "Epoch 33/50\n",
            "37/37 [==============================] - 14s 375ms/step - loss: 0.2094 - accuracy: 0.9229 - val_loss: 0.7006 - val_accuracy: 0.7448\n",
            "Epoch 34/50\n",
            "37/37 [==============================] - 14s 377ms/step - loss: 0.2319 - accuracy: 0.9110 - val_loss: 0.7240 - val_accuracy: 0.7309\n",
            "Epoch 35/50\n",
            "37/37 [==============================] - 14s 375ms/step - loss: 0.2285 - accuracy: 0.9144 - val_loss: 0.6837 - val_accuracy: 0.7500\n",
            "Epoch 36/50\n",
            "37/37 [==============================] - 14s 380ms/step - loss: 0.2180 - accuracy: 0.9206 - val_loss: 0.7050 - val_accuracy: 0.7361\n",
            "Epoch 37/50\n",
            "37/37 [==============================] - 14s 374ms/step - loss: 0.2167 - accuracy: 0.9187 - val_loss: 0.6917 - val_accuracy: 0.7361\n",
            "Epoch 38/50\n",
            "37/37 [==============================] - 14s 377ms/step - loss: 0.2109 - accuracy: 0.9221 - val_loss: 0.6375 - val_accuracy: 0.7604\n",
            "Epoch 39/50\n",
            "37/37 [==============================] - 14s 378ms/step - loss: 0.2077 - accuracy: 0.9221 - val_loss: 0.6837 - val_accuracy: 0.7465\n",
            "Epoch 40/50\n",
            "37/37 [==============================] - 14s 380ms/step - loss: 0.1999 - accuracy: 0.9264 - val_loss: 0.6762 - val_accuracy: 0.7517\n",
            "Epoch 41/50\n",
            "37/37 [==============================] - 14s 377ms/step - loss: 0.2102 - accuracy: 0.9264 - val_loss: 0.6778 - val_accuracy: 0.7535\n",
            "Epoch 42/50\n",
            "37/37 [==============================] - 14s 376ms/step - loss: 0.2191 - accuracy: 0.9187 - val_loss: 0.6427 - val_accuracy: 0.7622\n",
            "Epoch 43/50\n",
            "37/37 [==============================] - 14s 375ms/step - loss: 0.2206 - accuracy: 0.9195 - val_loss: 0.6667 - val_accuracy: 0.7535\n",
            "Epoch 44/50\n",
            "37/37 [==============================] - 14s 377ms/step - loss: 0.1876 - accuracy: 0.9298 - val_loss: 0.7176 - val_accuracy: 0.7309\n",
            "Epoch 45/50\n",
            "37/37 [==============================] - 14s 382ms/step - loss: 0.1920 - accuracy: 0.9257 - val_loss: 0.6720 - val_accuracy: 0.7517\n",
            "Epoch 46/50\n",
            "37/37 [==============================] - 14s 377ms/step - loss: 0.2112 - accuracy: 0.9272 - val_loss: 0.6283 - val_accuracy: 0.7691\n",
            "Epoch 47/50\n",
            "37/37 [==============================] - 14s 375ms/step - loss: 0.1855 - accuracy: 0.9272 - val_loss: 0.6325 - val_accuracy: 0.7708\n",
            "Epoch 48/50\n",
            "37/37 [==============================] - 14s 375ms/step - loss: 0.1967 - accuracy: 0.9195 - val_loss: 0.6019 - val_accuracy: 0.7760\n",
            "Epoch 49/50\n",
            "37/37 [==============================] - 14s 375ms/step - loss: 0.1926 - accuracy: 0.9401 - val_loss: 0.6287 - val_accuracy: 0.7708\n",
            "Epoch 50/50\n",
            "37/37 [==============================] - 14s 376ms/step - loss: 0.1904 - accuracy: 0.9281 - val_loss: 0.5959 - val_accuracy: 0.7795\n"
          ],
          "name": "stdout"
        }
      ]
    },
    {
      "cell_type": "markdown",
      "metadata": {
        "id": "ZCpQFKRQ7K-o",
        "colab_type": "text"
      },
      "source": [
        "We’ll begin to wrap up by evaluating our network and plotting the training history:"
      ]
    },
    {
      "cell_type": "code",
      "metadata": {
        "id": "bjRvpFKU7a3k",
        "colab_type": "code",
        "colab": {
          "base_uri": "https://localhost:8080/",
          "height": 268
        },
        "outputId": "bc135d0b-a01c-4f16-e41b-4b3954c1bb33"
      },
      "source": [
        "# evaluate the network\n",
        "print(\"[INFO] evaluating network...\")\n",
        "predictions = model.predict(x=testX.astype(\"float32\"), batch_size=32)\n",
        "print(classification_report(testY.argmax(axis=1), predictions.argmax(axis=1), target_names=label_encoder.classes_))"
      ],
      "execution_count": 13,
      "outputs": [
        {
          "output_type": "stream",
          "text": [
            "[INFO] evaluating network...\n",
            "               precision    recall  f1-score   support\n",
            "\n",
            "     football       1.00      0.78      0.88       579\n",
            "       tennis       0.00      0.00      0.00         0\n",
            "weightlifting       0.00      0.00      0.00         0\n",
            "\n",
            "     accuracy                           0.78       579\n",
            "    macro avg       0.33      0.26      0.29       579\n",
            " weighted avg       1.00      0.78      0.88       579\n",
            "\n"
          ],
          "name": "stdout"
        },
        {
          "output_type": "stream",
          "text": [
            "/usr/local/lib/python3.6/dist-packages/sklearn/metrics/_classification.py:1272: UndefinedMetricWarning: Recall and F-score are ill-defined and being set to 0.0 in labels with no true samples. Use `zero_division` parameter to control this behavior.\n",
            "  _warn_prf(average, modifier, msg_start, len(result))\n"
          ],
          "name": "stderr"
        }
      ]
    },
    {
      "cell_type": "code",
      "metadata": {
        "id": "V5lHjphIDYi6",
        "colab_type": "code",
        "colab": {
          "base_uri": "https://localhost:8080/",
          "height": 35
        },
        "outputId": "43c7d8ec-1fd0-43ba-af85-7c17c815bc71"
      },
      "source": [
        "!mkdir model\n",
        "!mkdir output"
      ],
      "execution_count": 17,
      "outputs": [
        {
          "output_type": "stream",
          "text": [
            "mkdir: cannot create directory ‘model’: File exists\n"
          ],
          "name": "stdout"
        }
      ]
    },
    {
      "cell_type": "code",
      "metadata": {
        "id": "hzdShBeV4SvV",
        "colab_type": "code",
        "colab": {
          "base_uri": "https://localhost:8080/",
          "height": 299
        },
        "outputId": "0d3de115-bd6b-44a1-8509-bac3018cff71"
      },
      "source": [
        "# plot the training loss and accuracy\n",
        "N = 50\n",
        "plt.style.use(\"ggplot\")\n",
        "plt.figure()\n",
        "plt.plot(np.arange(0, N), H.history[\"loss\"], label=\"train_loss\")\n",
        "plt.plot(np.arange(0, N), H.history[\"val_loss\"], label=\"val_loss\")\n",
        "plt.plot(np.arange(0, N), H.history[\"accuracy\"], label=\"train_acc\")\n",
        "plt.plot(np.arange(0, N), H.history[\"val_accuracy\"], label=\"val_acc\")\n",
        "plt.title(\"Training Loss and Accuracy on Dataset\")\n",
        "plt.xlabel(\"Epoch #\")\n",
        "plt.ylabel(\"Loss/Accuracy\")\n",
        "plt.legend(loc=\"lower left\")\n",
        "plt.show()"
      ],
      "execution_count": 22,
      "outputs": [
        {
          "output_type": "display_data",
          "data": {
            "image/png": "[encoded data removed]",
            "text/plain": [
              "<Figure size 432x288 with 1 Axes>"
            ]
          },
          "metadata": {
            "tags": []
          }
        }
      ]
    },
    {
      "cell_type": "code",
      "metadata": {
        "id": "qWyURmZ1D1tj",
        "colab_type": "code",
        "colab": {}
      },
      "source": [
        "# serialize the model to disk\n",
        "print(\"[INFO] serializing network...\")\n",
        "model.save(\"model/activity.model\", save_format=\"h5\")\n",
        "\n",
        "# serialize the label binarizer to disk\n",
        "f = open(\"output/lb.pickle\", \"wb\")\n",
        "f.write(pickle.dumps(label_encoder))\n",
        "f.close()"
      ],
      "execution_count": null,
      "outputs": []
    },
    {
      "cell_type": "markdown",
      "metadata": {
        "id": "6-EpMZ2L9VAk",
        "colab_type": "text"
      },
      "source": [
        "As you can see, we’re obtaining ~94% accuracy after fine-tuning ResNet50 on the sports dataset."
      ]
    },
    {
      "cell_type": "markdown",
      "metadata": {
        "id": "76sE9v9Y9elF",
        "colab_type": "text"
      },
      "source": [
        "### Video classification with Keras and rolling prediction averaging"
      ]
    },
    {
      "cell_type": "markdown",
      "metadata": {
        "id": "edZO_icb9h_f",
        "colab_type": "text"
      },
      "source": [
        "We are now ready to implement video classification with Keras via rolling prediction accuracy!\n",
        "\n",
        "**To create this script we’ll take advantage of the temporal nature of videos, specifically the assumption that subsequent frames in a video will have similar semantic contents.**\n",
        "\n",
        "By performing rolling prediction accuracy we’ll be able to “smoothen out” the predictions and avoid “prediction flickering”.\n",
        "\n",
        "Now let's do some predition."
      ]
    },
    {
      "cell_type": "code",
      "metadata": {
        "id": "pw2JE475-INg",
        "colab_type": "code",
        "colab": {}
      },
      "source": [
        ""
      ],
      "execution_count": null,
      "outputs": []
    }
  ]
}